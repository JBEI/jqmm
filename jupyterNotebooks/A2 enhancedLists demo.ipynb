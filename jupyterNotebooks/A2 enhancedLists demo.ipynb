{
 "cells": [
  {
   "cell_type": "markdown",
   "metadata": {},
   "source": [
    "# A2: enhancedLists demo"
   ]
  },
  {
   "cell_type": "markdown",
   "metadata": {},
   "source": [
    "# Introduction"
   ]
  },
  {
   "cell_type": "markdown",
   "metadata": {},
   "source": [
    "This notebook describes the enhancedLists module, which is comprised of a series of lists of core objects (metabolites, reactions, emus, emu transitions, atom transitions) that have been enhanced with useful functions. "
   ]
  },
  {
   "cell_type": "markdown",
   "metadata": {},
   "source": [
    "# Setup"
   ]
  },
  {
   "cell_type": "markdown",
   "metadata": {},
   "source": [
    "First, we need to set the path and environment variable properly:"
   ]
  },
  {
   "cell_type": "code",
   "execution_count": 1,
   "metadata": {
    "collapsed": true
   },
   "outputs": [],
   "source": [
    "quantmodelDir = '/users/hgmartin/libraries/quantmodel'"
   ]
  },
  {
   "cell_type": "markdown",
   "metadata": {},
   "source": [
    "This is the only place where the jQMM library path needs to be set."
   ]
  },
  {
   "cell_type": "code",
   "execution_count": 2,
   "metadata": {
    "collapsed": true
   },
   "outputs": [],
   "source": [
    "%matplotlib inline\n",
    "\n",
    "import sys, os\n",
    "pythonPath = quantmodelDir+\"/code/core\"\n",
    "if pythonPath not in sys.path:\n",
    "    sys.path.append(pythonPath)\n",
    "os.environ[\"QUANTMODELPATH\"] = quantmodelDir"
   ]
  },
  {
   "cell_type": "markdown",
   "metadata": {},
   "source": [
    "Importing necessary modules:"
   ]
  },
  {
   "cell_type": "code",
   "execution_count": 3,
   "metadata": {
    "collapsed": false
   },
   "outputs": [],
   "source": [
    "import enhancedLists,core\n",
    "import ToyaData as TD"
   ]
  },
  {
   "cell_type": "markdown",
   "metadata": {},
   "source": [
    "# Classes description"
   ]
  },
  {
   "cell_type": "markdown",
   "metadata": {},
   "source": [
    "## metaboliteList class\n"
   ]
  },
  {
   "cell_type": "markdown",
   "metadata": {},
   "source": [
    "The *metaboliteList* class is a list of metabolites with some functions attached to it. \n",
    "\n",
    "Let's demonstrate them by getting a metabolite list from the Toya *et al* 2010 data:"
   ]
  },
  {
   "cell_type": "code",
   "execution_count": 4,
   "metadata": {
    "collapsed": false
   },
   "outputs": [],
   "source": [
    "TSmodel = TD.getTSmodel('wt5h')\n",
    "metaboliteList = TSmodel.reactionNetwork.C13ReacNet.metList"
   ]
  },
  {
   "cell_type": "markdown",
   "metadata": {},
   "source": [
    "This is the metabolite list for the core (i.e. the reactions with carbon transitions):"
   ]
  },
  {
   "cell_type": "code",
   "execution_count": 5,
   "metadata": {
    "collapsed": false,
    "scrolled": true
   },
   "outputs": [
    {
     "name": "stdout",
     "output_type": "stream",
     "text": [
      "13dpg_c\n",
      "1pyr5c_c\n",
      "23dhmb_c\n",
      "23dhmp_c\n",
      "25aics_c\n",
      "2ahbut_c\n",
      "2dda7p_c\n",
      "2ddg6p_c\n",
      "2obut_c\n",
      "2pg_c\n",
      "34hpp_c\n",
      "3dhq_c\n",
      "3dhsk_c\n",
      "3mob_c\n",
      "3mop_c\n",
      "3pg_c\n",
      "3php_c\n",
      "3psme_c\n",
      "4abut_c\n",
      "4abutn_c\n",
      "4mop_c\n",
      "4pasp_c\n",
      "5aizc_c\n",
      "5caiz_c\n",
      "6pgc_c\n",
      "6pgl_c\n",
      "TAC3_c\n",
      "TKC2_c\n",
      "ac_c\n",
      "acald_c\n",
      "accoa_c\n",
      "acg5p_c\n",
      "acg5sa_c\n",
      "acglu_c\n",
      "acorn_c\n",
      "actp_c\n",
      "agm_c\n",
      "aicar_c\n",
      "air_c\n",
      "akg_c\n",
      "ala_L_c\n",
      "alac_S_c\n",
      "arg_L_c\n",
      "argsuc_c\n",
      "asp_L_c\n",
      "aspsa_c\n",
      "cbp_c\n",
      "chor_c\n",
      "cit_c\n",
      "citr_L_c\n",
      "co2_c\n",
      "dcamp_c\n",
      "dha_c\n",
      "dhap_c\n",
      "e4p_c\n",
      "etoh_c\n",
      "etoh_e\n",
      "f6p_c\n",
      "fdp_c\n",
      "fgam_c\n",
      "for_c\n",
      "fpram_c\n",
      "fum_c\n",
      "g3p_c\n",
      "g6p_c\n",
      "gar_c\n",
      "glc_D_c\n",
      "glc_D_e\n",
      "gln_L_c\n",
      "glu5p_c\n",
      "glu5sa_c\n",
      "glu_L_c\n",
      "glx_c\n",
      "gly_c\n",
      "hco3_c\n",
      "hom_L_c\n",
      "icit_c\n",
      "ile_L_c\n",
      "lac_L_c\n",
      "lac_L_e\n",
      "leu_L_c\n",
      "mal_L_c\n",
      "mlthf_c\n",
      "oaa_c\n",
      "orn_c\n",
      "pep_c\n",
      "phe_L_c\n",
      "phom_c\n",
      "phpyr_c\n",
      "pphn_c\n",
      "pram_c\n",
      "pro_L_c\n",
      "prpp_c\n",
      "pser_L_c\n",
      "ptrc_c\n",
      "pyr_c\n",
      "r5p_c\n",
      "ru5p_D_c\n",
      "s7p_c\n",
      "ser_L_c\n",
      "skm5p_c\n",
      "skm_c\n",
      "sl26da_c\n",
      "sl2a6o_c\n",
      "succ_c\n",
      "succoa_c\n",
      "sucsal_c\n",
      "thr_L_c\n",
      "tyr_L_c\n",
      "urea_c\n",
      "val_L_c\n",
      "xu5p_D_c\n"
     ]
    }
   ],
   "source": [
    "print metaboliteList"
   ]
  },
  {
   "cell_type": "markdown",
   "metadata": {},
   "source": [
    "We can use **getCarbonDict** to obtain a dictionary with the carbon atoms in each metabolite obtained from the atom transitions:"
   ]
  },
  {
   "cell_type": "code",
   "execution_count": 6,
   "metadata": {
    "collapsed": false,
    "scrolled": true
   },
   "outputs": [
    {
     "name": "stdout",
     "output_type": "stream",
     "text": [
      "{'phom_c': 4, 'fum_c': 4, 'val_L_c': 5, 'sl2a6o_c': 11, '2dda7p_c': 7, 'g3p_c': 3, '23dhmp_c': 6, 'pphn_c': 10, '2ahbut_c': 6, 'r5p_c': 5, '3mob_c': 5, '3php_c': 3, 'pyr_c': 3, 'icit_c': 6, 'dha_c': 3, '23dhmb_c': 5, 'hom_L_c': 4, 'arg_L_c': 6, 'g6p_c': 6, 'glu_L_c': 5, '4abut_c': 4, '25aics_c': 13, 'agm_c': 5, 'TAC3_c': 3, 'fpram_c': 8, 'mal_L_c': 4, 'acald_c': 2, '3dhq_c': 7, 'air_c': 8, 'pro_L_c': 5, 'prpp_c': 5, 'ile_L_c': 6, 'pram_c': 5, 'pser_L_c': 3, 'fgam_c': 8, 'e4p_c': 4, 'etoh_e': 2, 'co2_c': 1, 'etoh_c': 2, 'glu5sa_c': 5, 'f6p_c': 6, 'glx_c': 2, 'accoa_c': 2, 'gar_c': 7, 'urea_c': 1, 'phe_L_c': 9, 'glc_D_c': 6, 'gln_L_c': 5, 'glc_D_e': 6, 'acg5p_c': 7, 'phpyr_c': 9, '4mop_c': 6, 'mlthf_c': 1, 'hco3_c': 1, 'thr_L_c': 4, 'TKC2_c': 2, 'ptrc_c': 4, 'glu5p_c': 5, '5caiz_c': 9, '3mop_c': 6, '2obut_c': 4, 'leu_L_c': 6, '3dhsk_c': 7, 'sl26da_c': 11, 'asp_L_c': 4, '6pgl_c': 6, 'succ_c': 4, 'oaa_c': 4, 'citr_L_c': 6, 'gly_c': 2, 'akg_c': 5, 'alac_S_c': 5, 'for_c': 1, 'dhap_c': 3, 'tyr_L_c': 9, 'acg5sa_c': 7, 'pep_c': 3, '13dpg_c': 3, 'xu5p_D_c': 5, '34hpp_c': 9, 'cbp_c': 1, 'skm5p_c': 7, '6pgc_c': 6, 'sucsal_c': 4, 'skm_c': 7, '4pasp_c': 4, '5aizc_c': 9, 'aicar_c': 9, 'chor_c': 10, 'lac_L_e': 3, 'lac_L_c': 3, 'cit_c': 6, 'ru5p_D_c': 5, 'actp_c': 2, 's7p_c': 7, 'fdp_c': 6, 'dcamp_c': 4, 'aspsa_c': 4, '2pg_c': 3, '3pg_c': 3, 'acglu_c': 7, 'orn_c': 5, 'acorn_c': 7, 'ala_L_c': 3, 'ac_c': 2, '4abutn_c': 4, 'succoa_c': 4, '2ddg6p_c': 6, 'argsuc_c': 10, '3psme_c': 10, '1pyr5c_c': 5, 'ser_L_c': 3}\n"
     ]
    }
   ],
   "source": [
    "print metaboliteList.getCarbonDict()"
   ]
  },
  {
   "cell_type": "markdown",
   "metadata": {},
   "source": [
    "The function **getSource** provides a list of source metabolites (i.e. labeled feed metabolites):"
   ]
  },
  {
   "cell_type": "code",
   "execution_count": 7,
   "metadata": {
    "collapsed": false
   },
   "outputs": [
    {
     "name": "stdout",
     "output_type": "stream",
     "text": [
      "['glc_D_e']\n"
     ]
    }
   ],
   "source": [
    "print metaboliteList.getSource()"
   ]
  },
  {
   "cell_type": "markdown",
   "metadata": {},
   "source": [
    "The function **getFeedDict** provides a dictionary with feed labeling information:"
   ]
  },
  {
   "cell_type": "code",
   "execution_count": 8,
   "metadata": {
    "collapsed": false
   },
   "outputs": [
    {
     "name": "stdout",
     "output_type": "stream",
     "text": [
      "{'glc_D_e': ' 0.4% Glucose: 30% 1-C 20% U 50% UN '}\n"
     ]
    }
   ],
   "source": [
    "print metaboliteList.getFeedDict()"
   ]
  },
  {
   "cell_type": "markdown",
   "metadata": {},
   "source": [
    "And **getDestinationMets** provides all the destination metabolites (i.e. all metabolites for which labeling is going to be measured and fit):"
   ]
  },
  {
   "cell_type": "code",
   "execution_count": 9,
   "metadata": {
    "collapsed": false
   },
   "outputs": [
    {
     "name": "stdout",
     "output_type": "stream",
     "text": [
      "['3pg_c', 'dhap_c', 'etoh_e', 'fdp_c', 'lac_L_e', 'mal_L_c', 'pep_c', 'r5p_c', 'ru5p_D_c', 's7p_c']\n"
     ]
    }
   ],
   "source": [
    "print metaboliteList.getDestinationMets()"
   ]
  },
  {
   "cell_type": "markdown",
   "metadata": {},
   "source": [
    "The function **getDestinationEMUs** provides all the emus that will be fit:"
   ]
  },
  {
   "cell_type": "code",
   "execution_count": 10,
   "metadata": {
    "collapsed": false
   },
   "outputs": [
    {
     "name": "stdout",
     "output_type": "stream",
     "text": [
      "['3pg_c_1_2_3', 'dhap_c_1_2_3', 'etoh_e_1_2', 'fdp_c_1_2_3_4_5_6', 'lac_L_e_1_2_3', 'mal_L_c_1_2_3_4', 'pep_c_1_2_3', 'r5p_c_1_2_3_4_5', 'ru5p_D_c_1_2_3_4_5', 's7p_c_1_2_3_4_5_6_7']\n"
     ]
    }
   ],
   "source": [
    "print metaboliteList.getDestinationEMUs()"
   ]
  },
  {
   "cell_type": "markdown",
   "metadata": {},
   "source": [
    "and the b vector for FBA ($S*v=b$) using the function **getBvec**:"
   ]
  },
  {
   "cell_type": "code",
   "execution_count": 11,
   "metadata": {
    "collapsed": false
   },
   "outputs": [
    {
     "name": "stdout",
     "output_type": "stream",
     "text": [
      "bvec\n",
      "{('urea_c',): 0, ('13dpg_c',): 0, ('gly_c',): 0, ('2obut_c',): 0, ('2ahbut_c',): 0, ('acg5sa_c',): 0, ('3dhq_c',): 0, ('thr_L_c',): 0, ('23dhmb_c',): 0, ('6pgc_c',): 0, ('3php_c',): 0, ('23dhmp_c',): 0, ('e4p_c',): 0, ('arg_L_c',): 0, ('TAC3_c',): 0, ('cit_c',): 0, ('ac_c',): 0, ('mlthf_c',): 0, ('glx_c',): 0, ('phom_c',): 0, ('co2_c',): 0, ('oaa_c',): 0, ('pser_L_c',): 0, ('pyr_c',): 0, ('gln_L_c',): 0, ('pep_c',): 0, ('TKC2_c',): 0, ('phe_L_c',): 0, ('prpp_c',): 0, ('sl2a6o_c',): 0, ('fgam_c',): 0, ('xu5p_D_c',): 0, ('r5p_c',): 0, ('akg_c',): 0, ('icit_c',): 0, ('glc_D_e',): 0, ('succoa_c',): 0, ('5aizc_c',): 0, ('pphn_c',): 0, ('ptrc_c',): 0, ('cbp_c',): 0, ('34hpp_c',): 0, ('glc_D_c',): 0, ('acglu_c',): 0, ('mal_L_c',): 0, ('leu_L_c',): 0, ('accoa_c',): 0, ('ala_L_c',): 0, ('air_c',): 0, ('hco3_c',): 0, ('phpyr_c',): 0, ('sucsal_c',): 0, ('2ddg6p_c',): 0, ('citr_L_c',): 0, ('orn_c',): 0, ('asp_L_c',): 0, ('ser_L_c',): 0, ('aicar_c',): 0, ('ru5p_D_c',): 0, ('lac_L_e',): 0, ('pram_c',): 0, ('acald_c',): 0, ('fum_c',): 0, ('etoh_c',): 0, ('3dhsk_c',): 0, ('glu_L_c',): 0, ('skm_c',): 0, ('chor_c',): 0, ('pro_L_c',): 0, ('fpram_c',): 0, ('4pasp_c',): 0, ('acg5p_c',): 0, ('dhap_c',): 0, ('4abutn_c',): 0, ('2dda7p_c',): 0, ('f6p_c',): 0, ('succ_c',): 0, ('actp_c',): 0, ('glu5p_c',): 0, ('for_c',): 0, ('3psme_c',): 0, ('alac_S_c',): 0, ('4abut_c',): 0, ('1pyr5c_c',): 0, ('dha_c',): 0, ('gar_c',): 0, ('3mob_c',): 0, ('acorn_c',): 0, ('g6p_c',): 0, ('fdp_c',): 0, ('3mop_c',): 0, ('skm5p_c',): 0, ('g3p_c',): 0, ('etoh_e',): 0, ('s7p_c',): 0, ('5caiz_c',): 0, ('lac_L_c',): 0, ('aspsa_c',): 0, ('val_L_c',): 0, ('2pg_c',): 0, ('sl26da_c',): 0, ('hom_L_c',): 0, ('glu5sa_c',): 0, ('6pgl_c',): 0, ('dcamp_c',): 0, ('25aics_c',): 0, ('argsuc_c',): 0, ('tyr_L_c',): 0, ('ile_L_c',): 0, ('4mop_c',): 0, ('3pg_c',): 0, ('agm_c',): 0}\n"
     ]
    }
   ],
   "source": [
    "Bvec =  metaboliteList.getBvec()\n",
    "print Bvec.name\n",
    "print Bvec.elements"
   ]
  },
  {
   "cell_type": "markdown",
   "metadata": {},
   "source": [
    "## reactionList class"
   ]
  },
  {
   "cell_type": "markdown",
   "metadata": {},
   "source": [
    "The reactionList class is a list of reactions enhanced by extra functions. \n",
    "\n",
    "One can iterate reactions from the class:"
   ]
  },
  {
   "cell_type": "code",
   "execution_count": 12,
   "metadata": {
    "collapsed": false
   },
   "outputs": [],
   "source": [
    "reactionList = TSmodel.reactionNetwork.C13ReacNet.reactionList"
   ]
  },
  {
   "cell_type": "code",
   "execution_count": 13,
   "metadata": {
    "collapsed": false
   },
   "outputs": [
    {
     "name": "stdout",
     "output_type": "stream",
     "text": [
      "ABTA: Forward: NA\n",
      "Backward: NA\n",
      "Net: [0:0:999999.0]\n",
      "Exchange: NA\n",
      "\n",
      "ABUTD: Forward: NA\n",
      "Backward: NA\n",
      "Net: [0:0:999999.0]\n",
      "Exchange: NA\n",
      "\n",
      "ACACCT: Forward: NA\n",
      "Backward: NA\n",
      "Net: [0:0:999999.0]\n",
      "Exchange: NA\n",
      "\n",
      "ACALDi: Forward: NA\n",
      "Backward: NA\n",
      "Net: [0:0:999999.0]\n",
      "Exchange: NA\n",
      "\n",
      "ACGK: Forward: NA\n",
      "Backward: NA\n",
      "Net: [0:0:999999.0]\n",
      "Exchange: NA\n",
      "\n",
      "ACGS: Forward: NA\n",
      "Backward: NA\n",
      "Net: [0:0:999999.0]\n",
      "Exchange: NA\n",
      "\n",
      "ACHBS: Forward: NA\n",
      "Backward: NA\n",
      "Net: [0:0:999999.0]\n",
      "Exchange: NA\n",
      "\n",
      "ACKr: Forward: [0:0:999999.0]\n",
      "Backward: [0:0:999999.0]\n",
      "Net: [-999999.0:-999999.0:999999.0]\n",
      "Exchange: NA\n",
      "\n",
      "ACLS: Forward: NA\n",
      "Backward: NA\n",
      "Net: [0:0:999999.0]\n",
      "Exchange: NA\n",
      "\n",
      "ACODA: Forward: NA\n",
      "Backward: NA\n",
      "Net: [0:0:999999.0]\n",
      "Exchange: NA\n",
      "\n",
      "ACONT: Forward: [0:0:999999.0]\n",
      "Backward: [0:0:999999.0]\n",
      "Net: [-999999.0:-999999.0:999999.0]\n",
      "Exchange: NA\n",
      "\n",
      "ACOTA: Forward: [0:0:999999.0]\n",
      "Backward: [0:0:999999.0]\n",
      "Net: [-999999.0:-999999.0:999999.0]\n",
      "Exchange: NA\n",
      "\n",
      "ADHEr: Forward: [0:0:999999.0]\n",
      "Backward: [0:0:999999.0]\n",
      "Net: [-999999.0:-999999.0:999999.0]\n",
      "Exchange: NA\n",
      "\n",
      "ADSL1r: Forward: [0:0:999999.0]\n",
      "Backward: [0:0:999999.0]\n",
      "Net: [-999999.0:-999999.0:999999.0]\n",
      "Exchange: NA\n",
      "\n",
      "ADSL2r: Forward: [0:0:999999.0]\n",
      "Backward: [0:0:999999.0]\n",
      "Net: [-999999.0:-999999.0:999999.0]\n",
      "Exchange: NA\n",
      "\n",
      "ADSS: Forward: NA\n",
      "Backward: NA\n",
      "Net: [0:0:999999.0]\n",
      "Exchange: NA\n",
      "\n",
      "AGMT: Forward: NA\n",
      "Backward: NA\n",
      "Net: [0:0:999999.0]\n",
      "Exchange: NA\n",
      "\n",
      "AGPR: Forward: [0:0:999999.0]\n",
      "Backward: [0:0:999999.0]\n",
      "Net: [-999999.0:-999999.0:999999.0]\n",
      "Exchange: NA\n",
      "\n",
      "AIRC2: Forward: NA\n",
      "Backward: NA\n",
      "Net: [0:0:999999.0]\n",
      "Exchange: NA\n",
      "\n",
      "AIRC3: Forward: [0:0:999999.0]\n",
      "Backward: [0:0:999999.0]\n",
      "Net: [-999999.0:-999999.0:999999.0]\n",
      "Exchange: NA\n",
      "\n",
      "AKGDH: Forward: NA\n",
      "Backward: NA\n",
      "Net: [0:0:999999.0]\n",
      "Exchange: NA\n",
      "\n",
      "ALATA_L: Forward: [0:0:999999.0]\n",
      "Backward: [0:0:999999.0]\n",
      "Net: [-999999.0:-999999.0:999999.0]\n",
      "Exchange: NA\n",
      "\n",
      "ARGDC: Forward: NA\n",
      "Backward: NA\n",
      "Net: [0:0:999999.0]\n",
      "Exchange: NA\n",
      "\n",
      "ARGSL: Forward: [0:0:999999.0]\n",
      "Backward: [0:0:999999.0]\n",
      "Net: [-999999.0:-999999.0:999999.0]\n",
      "Exchange: NA\n",
      "\n",
      "ARGSS: Forward: NA\n",
      "Backward: NA\n",
      "Net: [0:0:999999.0]\n",
      "Exchange: NA\n",
      "\n",
      "ASAD: Forward: [0:0:999999.0]\n",
      "Backward: [0:0:999999.0]\n",
      "Net: [-999999.0:-999999.0:999999.0]\n",
      "Exchange: NA\n",
      "\n",
      "ASPK: Forward: [0:0:999999.0]\n",
      "Backward: [0:0:999999.0]\n",
      "Net: [-999999.0:-999999.0:999999.0]\n",
      "Exchange: NA\n",
      "\n",
      "ASPTA: Forward: [0:0:999999.0]\n",
      "Backward: [0:0:999999.0]\n",
      "Net: [-999999.0:-999999.0:999999.0]\n",
      "Exchange: NA\n",
      "\n",
      "CBMK: Forward: NA\n",
      "Backward: NA\n",
      "Net: [0:0:999999.0]\n",
      "Exchange: NA\n",
      "\n",
      "CBPS: Forward: NA\n",
      "Backward: NA\n",
      "Net: [0:0:999999.0]\n",
      "Exchange: NA\n",
      "\n",
      "CHORM: Forward: NA\n",
      "Backward: NA\n",
      "Net: [0:0:999999.0]\n",
      "Exchange: NA\n",
      "\n",
      "CHORS: Forward: NA\n",
      "Backward: NA\n",
      "Net: [0:0:999999.0]\n",
      "Exchange: NA\n",
      "\n",
      "CS: Forward: NA\n",
      "Backward: NA\n",
      "Net: [0:0:999999.0]\n",
      "Exchange: NA\n",
      "\n",
      "DDPA: Forward: NA\n",
      "Backward: NA\n",
      "Net: [0:0:999999.0]\n",
      "Exchange: NA\n",
      "\n",
      "DHAD1: Forward: NA\n",
      "Backward: NA\n",
      "Net: [0:0:999999.0]\n",
      "Exchange: NA\n",
      "\n",
      "DHAD2: Forward: NA\n",
      "Backward: NA\n",
      "Net: [0:0:999999.0]\n",
      "Exchange: NA\n",
      "\n",
      "DHAPT: Forward: NA\n",
      "Backward: NA\n",
      "Net: [0:0:999999.0]\n",
      "Exchange: NA\n",
      "\n",
      "DHQD: Forward: [0:0:999999.0]\n",
      "Backward: [0:0:999999.0]\n",
      "Net: [-999999.0:-999999.0:999999.0]\n",
      "Exchange: NA\n",
      "\n",
      "DHQS: Forward: NA\n",
      "Backward: NA\n",
      "Net: [0:0:999999.0]\n",
      "Exchange: NA\n",
      "\n",
      "EDA: Forward: NA\n",
      "Backward: NA\n",
      "Net: [0:0:999999.0]\n",
      "Exchange: NA\n",
      "\n",
      "EDD: Forward: NA\n",
      "Backward: NA\n",
      "Net: [0:0:999999.0]\n",
      "Exchange: NA\n",
      "\n",
      "ENO: Forward: [0:0:999999.0]\n",
      "Backward: [0:0:999999.0]\n",
      "Net: [-999999.0:-999999.0:999999.0]\n",
      "Exchange: NA\n",
      "\n",
      "ETOHt2r: Forward: [0:0:999999.0]\n",
      "Backward: [0:0:999999.0]\n",
      "Net: [-999999.0:-999999.0:999999.0]\n",
      "Exchange: NA\n",
      "\n",
      "EX_etoh_e_: Forward: [0:0:999999.0]\n",
      "Backward: [0:0:0]\n",
      "Net: [0:0:999999.0]\n",
      "Exchange: NA\n",
      "\n",
      "EX_glc_e_: Forward: [0:0:999999.0]\n",
      "Backward: [0:0:6.0]\n",
      "Net: [-6.0:-6.0:999999.0]\n",
      "Exchange: NA\n",
      "\n",
      "EX_lac_L_e_: Forward: [0:0:999999.0]\n",
      "Backward: [0:0:0]\n",
      "Net: [0:0:999999.0]\n",
      "Exchange: NA\n",
      "\n",
      "F6PA: Forward: [0:0:999999.0]\n",
      "Backward: [0:0:999999.0]\n",
      "Net: [-999999.0:-999999.0:999999.0]\n",
      "Exchange: NA\n",
      "\n",
      "FBA: Forward: [0:0:999999.0]\n",
      "Backward: [0:0:999999.0]\n",
      "Net: [-999999.0:-999999.0:999999.0]\n",
      "Exchange: NA\n",
      "\n",
      "FUM: Forward: [0:0:999999.0]\n",
      "Backward: [0:0:999999.0]\n",
      "Net: [-999999.0:-999999.0:999999.0]\n",
      "Exchange: NA\n",
      "\n",
      "G5SADs: Forward: NA\n",
      "Backward: NA\n",
      "Net: [0:0:999999.0]\n",
      "Exchange: NA\n",
      "\n",
      "G5SD: Forward: NA\n",
      "Backward: NA\n",
      "Net: [0:0:999999.0]\n",
      "Exchange: NA\n",
      "\n",
      "G6PDH2r: Forward: [0:0:999999.0]\n",
      "Backward: [0:0:999999.0]\n",
      "Net: [-999999.0:-999999.0:999999.0]\n",
      "Exchange: NA\n",
      "\n",
      "GAPD: Forward: [0:0:999999.0]\n",
      "Backward: [0:0:999999.0]\n",
      "Net: [-999999.0:-999999.0:999999.0]\n",
      "Exchange: NA\n",
      "\n",
      "GART: Forward: NA\n",
      "Backward: NA\n",
      "Net: [0:0:999999.0]\n",
      "Exchange: NA\n",
      "\n",
      "GHMT2: Forward: NA\n",
      "Backward: NA\n",
      "Net: [0:0:999999.0]\n",
      "Exchange: NA\n",
      "\n",
      "GLCpts: Forward: NA\n",
      "Backward: NA\n",
      "Net: [0:0:999999.0]\n",
      "Exchange: NA\n",
      "\n",
      "GLCt2: Forward: NA\n",
      "Backward: NA\n",
      "Net: [0:0:999999.0]\n",
      "Exchange: NA\n",
      "\n",
      "GLNS: Forward: NA\n",
      "Backward: NA\n",
      "Net: [0:0:999999.0]\n",
      "Exchange: NA\n",
      "\n",
      "GLU5K: Forward: NA\n",
      "Backward: NA\n",
      "Net: [0:0:999999.0]\n",
      "Exchange: NA\n",
      "\n",
      "GLUDy: Forward: [0:0:999999.0]\n",
      "Backward: [0:0:999999.0]\n",
      "Net: [-999999.0:-999999.0:999999.0]\n",
      "Exchange: NA\n",
      "\n",
      "GLUPRT: Forward: NA\n",
      "Backward: NA\n",
      "Net: [0:0:999999.0]\n",
      "Exchange: NA\n",
      "\n",
      "GLYCL: Forward: NA\n",
      "Backward: NA\n",
      "Net: [0:0:999999.0]\n",
      "Exchange: NA\n",
      "\n",
      "GMPS2: Forward: NA\n",
      "Backward: NA\n",
      "Net: [0:0:999999.0]\n",
      "Exchange: NA\n",
      "\n",
      "GND: Forward: NA\n",
      "Backward: NA\n",
      "Net: [0:0:999999.0]\n",
      "Exchange: NA\n",
      "\n",
      "HCO3E: Forward: [0:0:999999.0]\n",
      "Backward: [0:0:999999.0]\n",
      "Net: [-999999.0:-999999.0:999999.0]\n",
      "Exchange: NA\n",
      "\n",
      "HEX1: Forward: NA\n",
      "Backward: NA\n",
      "Net: [0:0:999999.0]\n",
      "Exchange: NA\n",
      "\n",
      "HSDy: Forward: [0:0:999999.0]\n",
      "Backward: [0:0:999999.0]\n",
      "Net: [-999999.0:-999999.0:999999.0]\n",
      "Exchange: NA\n",
      "\n",
      "HSK: Forward: NA\n",
      "Backward: NA\n",
      "Net: [0:0:999999.0]\n",
      "Exchange: NA\n",
      "\n",
      "ICDHyr: Forward: [0:0:999999.0]\n",
      "Backward: [0:0:999999.0]\n",
      "Net: [-999999.0:-999999.0:999999.0]\n",
      "Exchange: NA\n",
      "\n",
      "ICL: Forward: NA\n",
      "Backward: NA\n",
      "Net: [0:0:999999.0]\n",
      "Exchange: NA\n",
      "\n",
      "ILETA: Forward: [0:0:999999.0]\n",
      "Backward: [0:0:999999.0]\n",
      "Net: [-999999.0:-999999.0:999999.0]\n",
      "Exchange: NA\n",
      "\n",
      "KARA1i: Forward: NA\n",
      "Backward: NA\n",
      "Net: [0:0:999999.0]\n",
      "Exchange: NA\n",
      "\n",
      "KARA2i: Forward: NA\n",
      "Backward: NA\n",
      "Net: [0:0:999999.0]\n",
      "Exchange: NA\n",
      "\n",
      "LEUTAi: Forward: NA\n",
      "Backward: NA\n",
      "Net: [0:0:999999.0]\n",
      "Exchange: NA\n",
      "\n",
      "L_LACD2: Forward: NA\n",
      "Backward: NA\n",
      "Net: [0:0:999999.0]\n",
      "Exchange: NA\n",
      "\n",
      "L_LACD3: Forward: NA\n",
      "Backward: NA\n",
      "Net: [0:0:999999.0]\n",
      "Exchange: NA\n",
      "\n",
      "L_LACt2r: Forward: [0:0:999999.0]\n",
      "Backward: [0:0:999999.0]\n",
      "Net: [-999999.0:-999999.0:999999.0]\n",
      "Exchange: NA\n",
      "\n",
      "MALS: Forward: NA\n",
      "Backward: NA\n",
      "Net: [0:0:999999.0]\n",
      "Exchange: NA\n",
      "\n",
      "MDH: Forward: [0:0:999999.0]\n",
      "Backward: [0:0:999999.0]\n",
      "Net: [-999999.0:-999999.0:999999.0]\n",
      "Exchange: NA\n",
      "\n",
      "ME1: Forward: NA\n",
      "Backward: NA\n",
      "Net: [0:0:999999.0]\n",
      "Exchange: NA\n",
      "\n",
      "ME2: Forward: NA\n",
      "Backward: NA\n",
      "Net: [0:0:999999.0]\n",
      "Exchange: NA\n",
      "\n",
      "OCBT: Forward: [0:0:999999.0]\n",
      "Backward: [0:0:999999.0]\n",
      "Net: [-999999.0:-999999.0:999999.0]\n",
      "Exchange: NA\n",
      "\n",
      "P5CR: Forward: NA\n",
      "Backward: NA\n",
      "Net: [0:0:999999.0]\n",
      "Exchange: NA\n",
      "\n",
      "PDH: Forward: NA\n",
      "Backward: NA\n",
      "Net: [0:0:999999.0]\n",
      "Exchange: NA\n",
      "\n",
      "PFK: Forward: NA\n",
      "Backward: NA\n",
      "Net: [0:0:999999.0]\n",
      "Exchange: NA\n",
      "\n",
      "PGCD: Forward: NA\n",
      "Backward: NA\n",
      "Net: [0:0:999999.0]\n",
      "Exchange: NA\n",
      "\n",
      "PGI: Forward: [0:0:999999.0]\n",
      "Backward: [0:0:999999.0]\n",
      "Net: [-999999.0:-999999.0:999999.0]\n",
      "Exchange: NA\n",
      "\n",
      "PGK: Forward: [0:0:999999.0]\n",
      "Backward: [0:0:999999.0]\n",
      "Net: [-999999.0:-999999.0:999999.0]\n",
      "Exchange: NA\n",
      "\n",
      "PGL: Forward: NA\n",
      "Backward: NA\n",
      "Net: [0:0:999999.0]\n",
      "Exchange: NA\n",
      "\n",
      "PGM: Forward: [0:0:999999.0]\n",
      "Backward: [0:0:999999.0]\n",
      "Net: [-999999.0:-999999.0:999999.0]\n",
      "Exchange: NA\n",
      "\n",
      "PHETA1: Forward: [0:0:999999.0]\n",
      "Backward: [0:0:999999.0]\n",
      "Net: [-999999.0:-999999.0:999999.0]\n",
      "Exchange: NA\n",
      "\n",
      "POX: Forward: NA\n",
      "Backward: NA\n",
      "Net: [0:0:999999.0]\n",
      "Exchange: NA\n",
      "\n",
      "PPC: Forward: NA\n",
      "Backward: NA\n",
      "Net: [0:0:999999.0]\n",
      "Exchange: NA\n",
      "\n",
      "PPCK: Forward: NA\n",
      "Backward: NA\n",
      "Net: [0:0:999999.0]\n",
      "Exchange: NA\n",
      "\n",
      "PPND: Forward: NA\n",
      "Backward: NA\n",
      "Net: [0:0:999999.0]\n",
      "Exchange: NA\n",
      "\n",
      "PPNDH: Forward: NA\n",
      "Backward: NA\n",
      "Net: [0:0:999999.0]\n",
      "Exchange: NA\n",
      "\n",
      "PRAGSr: Forward: [0:0:999999.0]\n",
      "Backward: [0:0:999999.0]\n",
      "Net: [-999999.0:-999999.0:999999.0]\n",
      "Exchange: NA\n",
      "\n",
      "PRAIS: Forward: NA\n",
      "Backward: NA\n",
      "Net: [0:0:999999.0]\n",
      "Exchange: NA\n",
      "\n",
      "PRASCS: Forward: [0:0:999999.0]\n",
      "Backward: [0:0:999999.0]\n",
      "Net: [-999999.0:-999999.0:999999.0]\n",
      "Exchange: NA\n",
      "\n",
      "PRFGS: Forward: NA\n",
      "Backward: NA\n",
      "Net: [0:0:999999.0]\n",
      "Exchange: NA\n",
      "\n",
      "PRPPS: Forward: [0:0:999999.0]\n",
      "Backward: [0:0:999999.0]\n",
      "Net: [-999999.0:-999999.0:999999.0]\n",
      "Exchange: NA\n",
      "\n",
      "PSCVT: Forward: [0:0:999999.0]\n",
      "Backward: [0:0:999999.0]\n",
      "Net: [-999999.0:-999999.0:999999.0]\n",
      "Exchange: NA\n",
      "\n",
      "PSERT: Forward: NA\n",
      "Backward: NA\n",
      "Net: [0:0:999999.0]\n",
      "Exchange: NA\n",
      "\n",
      "PSP_L: Forward: NA\n",
      "Backward: NA\n",
      "Net: [0:0:999999.0]\n",
      "Exchange: NA\n",
      "\n",
      "PTAr: Forward: [0:0:999999.0]\n",
      "Backward: [0:0:999999.0]\n",
      "Net: [-999999.0:-999999.0:999999.0]\n",
      "Exchange: NA\n",
      "\n",
      "PTRCTA: Forward: NA\n",
      "Backward: NA\n",
      "Net: [0:0:999999.0]\n",
      "Exchange: NA\n",
      "\n",
      "PYK: Forward: NA\n",
      "Backward: NA\n",
      "Net: [0:0:999999.0]\n",
      "Exchange: NA\n",
      "\n",
      "RPE: Forward: [0:0:999999.0]\n",
      "Backward: [0:0:999999.0]\n",
      "Net: [-999999.0:-999999.0:999999.0]\n",
      "Exchange: NA\n",
      "\n",
      "RPI: Forward: [0:0:999999.0]\n",
      "Backward: [0:0:999999.0]\n",
      "Net: [-999999.0:-999999.0:999999.0]\n",
      "Exchange: NA\n",
      "\n",
      "SDPTA: Forward: [0:0:999999.0]\n",
      "Backward: [0:0:999999.0]\n",
      "Net: [-999999.0:-999999.0:999999.0]\n",
      "Exchange: NA\n",
      "\n",
      "SHK3Dr: Forward: [0:0:999999.0]\n",
      "Backward: [0:0:999999.0]\n",
      "Net: [-999999.0:-999999.0:999999.0]\n",
      "Exchange: NA\n",
      "\n",
      "SHKK: Forward: NA\n",
      "Backward: NA\n",
      "Net: [0:0:999999.0]\n",
      "Exchange: NA\n",
      "\n",
      "SSALx: Forward: NA\n",
      "Backward: NA\n",
      "Net: [0:0:999999.0]\n",
      "Exchange: NA\n",
      "\n",
      "SSALy: Forward: NA\n",
      "Backward: NA\n",
      "Net: [0:0:999999.0]\n",
      "Exchange: NA\n",
      "\n",
      "SUCD1i: Forward: NA\n",
      "Backward: NA\n",
      "Net: [0:0:999999.0]\n",
      "Exchange: NA\n",
      "\n",
      "SUCOAS: Forward: [0:0:999999.0]\n",
      "Backward: [0:0:999999.0]\n",
      "Net: [-999999.0:-999999.0:999999.0]\n",
      "Exchange: NA\n",
      "\n",
      "TA1: Forward: [0:0:999999.0]\n",
      "Backward: [0:0:999999.0]\n",
      "Net: [-999999.0:-999999.0:999999.0]\n",
      "Exchange: NA\n",
      "\n",
      "TA2: Forward: [0:0:999999.0]\n",
      "Backward: [0:0:999999.0]\n",
      "Net: [-999999.0:-999999.0:999999.0]\n",
      "Exchange: NA\n",
      "\n",
      "THRAr: Forward: [0:0:999999.0]\n",
      "Backward: [0:0:999999.0]\n",
      "Net: [-999999.0:-999999.0:999999.0]\n",
      "Exchange: NA\n",
      "\n",
      "THRD_L: Forward: NA\n",
      "Backward: NA\n",
      "Net: [0:0:999999.0]\n",
      "Exchange: NA\n",
      "\n",
      "THRS: Forward: NA\n",
      "Backward: NA\n",
      "Net: [0:0:999999.0]\n",
      "Exchange: NA\n",
      "\n",
      "TK1: Forward: [0:0:999999.0]\n",
      "Backward: [0:0:999999.0]\n",
      "Net: [-999999.0:-999999.0:999999.0]\n",
      "Exchange: NA\n",
      "\n",
      "TK2: Forward: [0:0:999999.0]\n",
      "Backward: [0:0:999999.0]\n",
      "Net: [-999999.0:-999999.0:999999.0]\n",
      "Exchange: NA\n",
      "\n",
      "TK3: Forward: [0:0:999999.0]\n",
      "Backward: [0:0:999999.0]\n",
      "Net: [-999999.0:-999999.0:999999.0]\n",
      "Exchange: NA\n",
      "\n",
      "TPI: Forward: [0:0:999999.0]\n",
      "Backward: [0:0:999999.0]\n",
      "Net: [-999999.0:-999999.0:999999.0]\n",
      "Exchange: NA\n",
      "\n",
      "TYRTA: Forward: [0:0:999999.0]\n",
      "Backward: [0:0:999999.0]\n",
      "Net: [-999999.0:-999999.0:999999.0]\n",
      "Exchange: NA\n",
      "\n",
      "VALTA: Forward: [0:0:999999.0]\n",
      "Backward: [0:0:999999.0]\n",
      "Net: [-999999.0:-999999.0:999999.0]\n",
      "Exchange: NA\n",
      "\n"
     ]
    }
   ],
   "source": [
    "for reaction in reactionList:\n",
    "    print reaction"
   ]
  },
  {
   "cell_type": "markdown",
   "metadata": {},
   "source": [
    "The function **getStoichMatrix** provides the stoichiometry matrix:"
   ]
  },
  {
   "cell_type": "code",
   "execution_count": 14,
   "metadata": {
    "collapsed": false
   },
   "outputs": [],
   "source": [
    "StM = reactionList.getStoichMatrix()"
   ]
  },
  {
   "cell_type": "code",
   "execution_count": 15,
   "metadata": {
    "collapsed": false
   },
   "outputs": [
    {
     "name": "stdout",
     "output_type": "stream",
     "text": [
      "['phom_c', 'fum_c', 'val_L_c', 'sl2a6o_c', '2dda7p_c', 'g3p_c', '23dhmp_c', 'pphn_c', '2ahbut_c', 'r5p_c', 'cit_c', '3php_c', 'pyr_c', 'icit_c', 'dha_c', 'for_c', 'hom_L_c', 'glx_c', 'g6p_c', 'glu_L_c', '4abut_c', '25aics_c', 'agm_c', 'TAC3_c', 'fpram_c', 'mal_L_c', 'acald_c', '3dhq_c', 'air_c', 'pro_L_c', 'prpp_c', 'ile_L_c', 'glc_D_c', 'pser_L_c', 'fgam_c', 'e4p_c', 'etoh_e', 'co2_c', 'etoh_c', 'glu5sa_c', 'f6p_c', 'arg_L_c', 'accoa_c', 'gar_c', 'urea_c', 'phe_L_c', 'pram_c', 'gln_L_c', 'glc_D_e', 'acg5p_c', 'phpyr_c', '4mop_c', 'mlthf_c', 'hco3_c', '34hpp_c', 'thr_L_c', 'TKC2_c', 'ptrc_c', 'glu5p_c', '5caiz_c', '3mop_c', '2obut_c', 'leu_L_c', '3dhsk_c', 'sl26da_c', 'asp_L_c', '6pgl_c', 'succ_c', 'oaa_c', 'citr_L_c', 'gly_c', 'akg_c', 'alac_S_c', '23dhmb_c', 'dhap_c', 'tyr_L_c', 'acg5sa_c', 'pep_c', '13dpg_c', 'xu5p_D_c', 'ac_c', 'cbp_c', 'skm5p_c', '6pgc_c', 'sucsal_c', 'skm_c', '4pasp_c', '5aizc_c', 'aicar_c', 'chor_c', 'lac_L_e', 'lac_L_c', '3mob_c', 'ru5p_D_c', 'actp_c', 's7p_c', 'fdp_c', 'dcamp_c', 'aspsa_c', '2pg_c', '3pg_c', 'acglu_c', 'orn_c', 'acorn_c', 'ala_L_c', '4abutn_c', 'succoa_c', '2ddg6p_c', 'argsuc_c', '3psme_c', '1pyr5c_c', 'ser_L_c']\n"
     ]
    }
   ],
   "source": [
    "print StM.mets   # metabolites in the stoichiometry matrix"
   ]
  },
  {
   "cell_type": "code",
   "execution_count": 16,
   "metadata": {
    "collapsed": false
   },
   "outputs": [
    {
     "name": "stdout",
     "output_type": "stream",
     "text": [
      "['L_LACD2', 'G6PDH2r', 'AKGDH', 'PSERT', 'GLNS', 'DDPA', 'PRAIS', 'HSK', 'ACOTA', 'EX_glc_e_', 'P5CR', 'PGCD', 'THRS', 'GAPD', 'TA1', 'TA2', 'SUCOAS', 'G5SADs', 'ACALDi', 'ICDHyr', 'GLCt2', 'PHETA1', 'PRFGS', 'PSCVT', 'AGMT', 'THRD_L', 'GHMT2', 'ACODA', 'DHQS', 'ACGS', 'ACLS', 'DHQD', 'ACGK', 'FUM', 'MALS', 'PYK', 'ILETA', 'GLU5K', 'SHKK', 'PPND', 'ADSL2r', 'ENO', 'TK2', 'TK3', 'TK1', 'ACHBS', 'GART', 'ACACCT', 'CHORM', 'CHORS', 'ACONT', 'HCO3E', 'EX_etoh_e_', 'ABTA', 'L_LACD3', 'AGPR', 'ADSS', 'LEUTAi', 'ASPTA', 'ME1', 'PSP_L', 'ME2', 'G5SD', 'ASPK', 'L_LACt2r', 'MDH', 'ARGSL', 'GLUDy', 'PTAr', 'ETOHt2r', 'SHK3Dr', 'TYRTA', 'ALATA_L', 'F6PA', 'THRAr', 'ARGSS', 'AIRC2', 'AIRC3', 'CBPS', 'PRASCS', 'GLYCL', 'PDH', 'CS', 'DHAD1', 'DHAD2', 'EDA', 'PPCK', 'EDD', 'SSALx', 'SSALy', 'FBA', 'KARA1i', 'PTRCTA', 'PRPPS', 'KARA2i', 'CBMK', 'ARGDC', 'GLCpts', 'ASAD', 'VALTA', 'GND', 'ACKr', 'HEX1', 'EX_lac_L_e_', 'PPC', 'POX', 'PPNDH', 'SUCD1i', 'PGL', 'PGM', 'PGK', 'PGI', 'RPE', 'GLUPRT', 'RPI', 'DHAPT', 'PRAGSr', 'ADHEr', 'ABUTD', 'ICL', 'OCBT', 'HSDy', 'TPI', 'GMPS2', 'SDPTA', 'PFK', 'ADSL1r']\n"
     ]
    }
   ],
   "source": [
    "print StM.rxns   # reactions in the stoichiometry matrix"
   ]
  },
  {
   "cell_type": "markdown",
   "metadata": {},
   "source": [
    "The function **getRevReacs** produces a list of names of reversible reactions:"
   ]
  },
  {
   "cell_type": "code",
   "execution_count": 17,
   "metadata": {
    "collapsed": false
   },
   "outputs": [
    {
     "name": "stdout",
     "output_type": "stream",
     "text": [
      "['ACKr', 'ACOTA', 'AGPR', 'AIRC3', 'ALATA_L', 'ARGSL', 'ASAD', 'ASPK', 'ASPTA', 'DHQD', 'ENO', 'ETOHt2r', 'EX_etoh_e_', 'EX_glc_e_', 'EX_lac_L_e_', 'FBA', 'GLUDy', 'GLYCL', 'HCO3E', 'HSDy', 'ILETA', 'L_LACD2', 'L_LACD3', 'L_LACt2r', 'MDH', 'OCBT', 'PGI', 'PGK', 'PGM', 'PHETA1', 'PRAGSr', 'PRASCS', 'PRPPS', 'RPE', 'RPI', 'SDPTA', 'SHK3Dr', 'SUCOAS', 'TA1', 'TA2', 'THRAr', 'TK1', 'TK2', 'TK3', 'TPI', 'TYRTA', 'VALTA']\n"
     ]
    }
   ],
   "source": [
    "print reactionList.getRevReacs()"
   ]
  },
  {
   "cell_type": "markdown",
   "metadata": {},
   "source": [
    "The function **getMeasuredFluxes** produces a list of reactions for which fluxes are measured: "
   ]
  },
  {
   "cell_type": "code",
   "execution_count": 18,
   "metadata": {
    "collapsed": false,
    "scrolled": true
   },
   "outputs": [
    {
     "name": "stdout",
     "output_type": "stream",
     "text": [
      "{'L_LACD2': <core.rangedNumber instance at 0x7f2577d24050>, 'G6PDH2r': <core.rangedNumber instance at 0x7f2577da4d88>, 'AKGDH': <core.rangedNumber instance at 0x7f2577dc0f38>, 'AGMT': <core.rangedNumber instance at 0x7f2577dbcfc8>, 'GLNS': <core.rangedNumber instance at 0x7f2577d47998>, 'DDPA': <core.rangedNumber instance at 0x7f2577dd8bd8>, 'PRAIS': <core.rangedNumber instance at 0x7f2577c97200>, 'HSK': <core.rangedNumber instance at 0x7f2577d01290>, 'ACOTA': <core.rangedNumber instance at 0x7f2577db8950>, 'EX_glc_e_': <core.rangedNumber instance at 0x7f2577d83cf8>, 'PGCD': <core.rangedNumber instance at 0x7f2577cd9560>, 'THRS': <core.rangedNumber instance at 0x7f2577c0a128>, 'GAPD': <core.rangedNumber instance at 0x7f2577daba70>, 'TA1': <core.rangedNumber instance at 0x7f2577bf70e0>, 'TA2': <core.rangedNumber instance at 0x7f2577bf7d88>, 'SUCOAS': <core.rangedNumber instance at 0x7f2577bf1488>, 'G5SADs': <core.rangedNumber instance at 0x7f2577d9d758>, 'ACALDi': <core.rangedNumber instance at 0x7f2577f577e8>, 'ICDHyr': <core.rangedNumber instance at 0x7f2577d01e60>, 'PHETA1': <core.rangedNumber instance at 0x7f2577cedef0>, 'PRFGS': <core.rangedNumber instance at 0x7f2577c9fdd0>, 'PYK': <core.rangedNumber instance at 0x7f2577c41c20>, 'PSCVT': <core.rangedNumber instance at 0x7f2577cad5a8>, 'ACLS': <core.rangedNumber instance at 0x7f25780ec758>, 'THRD_L': <core.rangedNumber instance at 0x7f2577c03638>, 'GHMT2': <core.rangedNumber instance at 0x7f2577d39290>, 'TPI': <core.rangedNumber instance at 0x7f2577c1d170>, 'ACODA': <core.rangedNumber instance at 0x7f2577db4290>, 'DHQS': <core.rangedNumber instance at 0x7f2577d701b8>, 'ACGS': <core.rangedNumber instance at 0x7f2577f33d40>, 'DHQD': <core.rangedNumber instance at 0x7f2577deb7e8>, 'ACGK': <core.rangedNumber instance at 0x7f2577f33200>, 'FUM': <core.rangedNumber instance at 0x7f2577d97dd0>, 'MALS': <core.rangedNumber instance at 0x7f2577cb1560>, 'KARA1i': <core.rangedNumber instance at 0x7f2577d0eef0>, 'ILETA': <core.rangedNumber instance at 0x7f2577d0e4d0>, 'GLU5K': <core.rangedNumber instance at 0x7f2577d4f3f8>, 'SHKK': <core.rangedNumber instance at 0x7f2577c5a7e8>, 'PPND': <core.rangedNumber instance at 0x7f2577c82e60>, 'ADSL2r': <core.rangedNumber instance at 0x7f2577dbb998>, 'ENO': <core.rangedNumber instance at 0x7f2577d76fc8>, 'TK2': <core.rangedNumber instance at 0x7f2577c11950>, 'TK3': <core.rangedNumber instance at 0x7f2577c176c8>, 'TK1': <core.rangedNumber instance at 0x7f2577c0acf8>, 'ASPTA': <core.rangedNumber instance at 0x7f2577dc83b0>, 'GART': <core.rangedNumber instance at 0x7f2577d32758>, 'ACACCT': <core.rangedNumber instance at 0x7f2577e10cb0>, 'CHORM': <core.rangedNumber instance at 0x7f2577dca8c0>, 'DHAPT': <core.rangedNumber instance at 0x7f2577de4e18>, 'ACONT': <core.rangedNumber instance at 0x7f2577db4c68>, 'HCO3E': <core.rangedNumber instance at 0x7f2577d6bfc8>, 'ABTA': <core.rangedNumber instance at 0x7f257808f878>, 'L_LACD3': <core.rangedNumber instance at 0x7f2577d24ab8>, 'AGPR': <core.rangedNumber instance at 0x7f2577dbeb90>, 'ADSS': <core.rangedNumber instance at 0x7f2577dbc518>, 'LEUTAi': <core.rangedNumber instance at 0x7f2577d1b638>, 'TYRTA': <core.rangedNumber instance at 0x7f2577c1def0>, 'ACHBS': <core.rangedNumber instance at 0x7f2577e48c20>, 'ME1': <core.rangedNumber instance at 0x7f2577cb7d88>, 'PSP_L': <core.rangedNumber instance at 0x7f2577c34a70>, 'ME2': <core.rangedNumber instance at 0x7f2577cbd950>, 'G5SD': <core.rangedNumber instance at 0x7f2577da4290>, 'ASPK': <core.rangedNumber instance at 0x7f2577dc7638>, 'L_LACt2r': <core.rangedNumber instance at 0x7f2577d29758>, 'MDH': <core.rangedNumber instance at 0x7f2577cb7170>, 'ARGSL': <core.rangedNumber instance at 0x7f2577dc4128>, 'GLUDy': <core.rangedNumber instance at 0x7f2577d57098>, 'PTAr': <core.rangedNumber instance at 0x7f2577c3a5f0>, 'ETOHt2r': <core.rangedNumber instance at 0x7f2577d7ea70>, 'SHK3Dr': <core.rangedNumber instance at 0x7f2577c54bd8>, 'P5CR': <core.rangedNumber instance at 0x7f2577ccb128>, 'ALATA_L': <core.rangedNumber instance at 0x7f2577dc1a70>, 'F6PA': <core.rangedNumber instance at 0x7f2577d8f320>, 'THRAr': <core.rangedNumber instance at 0x7f2577bfe9e0>, 'ARGSS': <core.rangedNumber instance at 0x7f2577dc4d88>, 'AIRC2': <core.rangedNumber instance at 0x7f2577dbf878>, 'AIRC3': <core.rangedNumber instance at 0x7f2577dc0200>, 'CBPS': <core.rangedNumber instance at 0x7f2577dc9f80>, 'PRASCS': <core.rangedNumber instance at 0x7f2577c97f38>, 'GLYCL': <core.rangedNumber instance at 0x7f2577d5db90>, 'PDH': <core.rangedNumber instance at 0x7f2577ccbe18>, 'CS': <core.rangedNumber instance at 0x7f2577dcee60>, 'DHAD1': <core.rangedNumber instance at 0x7f2577dde5a8>, 'DHAD2': <core.rangedNumber instance at 0x7f2577ddeef0>, 'EDA': <core.rangedNumber instance at 0x7f2577d70bd8>, 'PPCK': <core.rangedNumber instance at 0x7f2577c82368>, 'EDD': <core.rangedNumber instance at 0x7f2577d76518>, 'SSALx': <core.rangedNumber instance at 0x7f2577c62248>, 'SSALy': <core.rangedNumber instance at 0x7f2577c62d40>, 'FBA': <core.rangedNumber instance at 0x7f2577d97128>, 'GLCt2': <core.rangedNumber instance at 0x7f2577d40cf8>, 'PTRCTA': <core.rangedNumber instance at 0x7f2577c410e0>, 'PRPPS': <core.rangedNumber instance at 0x7f2577ca6950>, 'KARA2i': <core.rangedNumber instance at 0x7f2577d14998>, 'CBMK': <core.rangedNumber instance at 0x7f2577dc9050>, 'ARGDC': <core.rangedNumber instance at 0x7f2577dc25f0>, 'GLCpts': <core.rangedNumber instance at 0x7f2577d40320>, 'ASAD': <core.rangedNumber instance at 0x7f2577dc5950>, 'VALTA': <core.rangedNumber instance at 0x7f2577c24b90>, 'GND': <core.rangedNumber instance at 0x7f2577d6b488>, 'ACKr': <core.rangedNumber instance at 0x7f2577e6c8c0>, 'HEX1': <core.rangedNumber instance at 0x7f2577cf3b00>, 'EX_lac_L_e_': <core.rangedNumber instance at 0x7f2577d896c8>, 'PPC': <core.rangedNumber instance at 0x7f2577c7a7a0>, 'POX': <core.rangedNumber instance at 0x7f2577c75b48>, 'PPNDH': <core.rangedNumber instance at 0x7f2577c89998>, 'SUCD1i': <core.rangedNumber instance at 0x7f2577c69830>, 'PGL': <core.rangedNumber instance at 0x7f2577ce63f8>, 'PGM': <core.rangedNumber instance at 0x7f2577ce6fc8>, 'PGK': <core.rangedNumber instance at 0x7f2577ce0ab8>, 'PGI': <core.rangedNumber instance at 0x7f2577cd9ef0>, 'RPE': <core.rangedNumber instance at 0x7f2577c477a0>, 'GLUPRT': <core.rangedNumber instance at 0x7f2577d57d88>, 'RPI': <core.rangedNumber instance at 0x7f2577c4c3f8>, 'CHORS': <core.rangedNumber instance at 0x7f2577dce290>, 'PRAGSr': <core.rangedNumber instance at 0x7f2577c906c8>, 'ADHEr': <core.rangedNumber instance at 0x7f2577db94d0>, 'ABUTD': <core.rangedNumber instance at 0x7f2577e10290>, 'ICL': <core.rangedNumber instance at 0x7f2577d08878>, 'OCBT': <core.rangedNumber instance at 0x7f2577cc4638>, 'HSDy': <core.rangedNumber instance at 0x7f2577cfa758>, 'EX_etoh_e_': <core.rangedNumber instance at 0x7f2577d833f8>, 'GMPS2': <core.rangedNumber instance at 0x7f2577d64878>, 'SDPTA': <core.rangedNumber instance at 0x7f2577c4cfc8>, 'PFK': <core.rangedNumber instance at 0x7f2577cd49e0>, 'PSERT': <core.rangedNumber instance at 0x7f2577c34128>, 'ADSL1r': <core.rangedNumber instance at 0x7f2577db9ea8>}\n"
     ]
    }
   ],
   "source": [
    "print reactionList.getMeasuredFluxes()"
   ]
  },
  {
   "cell_type": "markdown",
   "metadata": {},
   "source": [
    "While the function **getReactionNameList** provies a list for all reactions, "
   ]
  },
  {
   "cell_type": "code",
   "execution_count": 19,
   "metadata": {
    "collapsed": false
   },
   "outputs": [
    {
     "name": "stdout",
     "output_type": "stream",
     "text": [
      "['ABTA', 'ABUTD', 'ACACCT', 'ACALDi', 'ACGK', 'ACGS', 'ACHBS', 'ACKr', 'ACLS', 'ACODA', 'ACONT', 'ACOTA', 'ADHEr', 'ADSL1r', 'ADSL2r', 'ADSS', 'AGMT', 'AGPR', 'AIRC2', 'AIRC3', 'AKGDH', 'ALATA_L', 'ARGDC', 'ARGSL', 'ARGSS', 'ASAD', 'ASPK', 'ASPTA', 'CBMK', 'CBPS', 'CHORM', 'CHORS', 'CS', 'DDPA', 'DHAD1', 'DHAD2', 'DHAPT', 'DHQD', 'DHQS', 'EDA', 'EDD', 'ENO', 'ETOHt2r', 'EX_etoh_e_', 'EX_glc_e_', 'EX_lac_L_e_', 'F6PA', 'FBA', 'FUM', 'G5SADs', 'G5SD', 'G6PDH2r', 'GAPD', 'GART', 'GHMT2', 'GLCpts', 'GLCt2', 'GLNS', 'GLU5K', 'GLUDy', 'GLUPRT', 'GLYCL', 'GMPS2', 'GND', 'HCO3E', 'HEX1', 'HSDy', 'HSK', 'ICDHyr', 'ICL', 'ILETA', 'KARA1i', 'KARA2i', 'LEUTAi', 'L_LACD2', 'L_LACD3', 'L_LACt2r', 'MALS', 'MDH', 'ME1', 'ME2', 'OCBT', 'P5CR', 'PDH', 'PFK', 'PGCD', 'PGI', 'PGK', 'PGL', 'PGM', 'PHETA1', 'POX', 'PPC', 'PPCK', 'PPND', 'PPNDH', 'PRAGSr', 'PRAIS', 'PRASCS', 'PRFGS', 'PRPPS', 'PSCVT', 'PSERT', 'PSP_L', 'PTAr', 'PTRCTA', 'PYK', 'RPE', 'RPI', 'SDPTA', 'SHK3Dr', 'SHKK', 'SSALx', 'SSALy', 'SUCD1i', 'SUCOAS', 'TA1', 'TA2', 'THRAr', 'THRD_L', 'THRS', 'TK1', 'TK2', 'TK3', 'TPI', 'TYRTA', 'VALTA']\n"
     ]
    }
   ],
   "source": [
    "print reactionList.getReactionNameList(level=1)     # first resolution level (for FBA)"
   ]
  },
  {
   "cell_type": "code",
   "execution_count": 20,
   "metadata": {
    "collapsed": false
   },
   "outputs": [
    {
     "name": "stdout",
     "output_type": "stream",
     "text": [
      "['ABTA', 'ABUTD', 'ACACCT', 'ACALDi', 'ACGK', 'ACGS', 'ACHBS', 'ACKr_b', 'ACKr_f', 'ACLS', 'ACODA', 'ACONT', 'ACOTA_b', 'ACOTA_f', 'ADHEr', 'ADSL1r', 'ADSL2r', 'ADSS', 'AGMT', 'AGPR_b', 'AGPR_f', 'AIRC2', 'AIRC3_b', 'AIRC3_f', 'AKGDH', 'ALATA_L_b', 'ALATA_L_f', 'ARGDC', 'ARGSL_b', 'ARGSL_f', 'ARGSS', 'ASAD_b', 'ASAD_f', 'ASPK_b', 'ASPK_f', 'ASPTA_b', 'ASPTA_f', 'CBMK', 'CBPS', 'CHORM', 'CHORS', 'CS', 'DDPA', 'DHAD1', 'DHAD2', 'DHAPT', 'DHQD_b', 'DHQD_f', 'DHQS', 'EDA', 'EDD', 'ENO_b', 'ENO_f', 'ETOHt2r_b', 'ETOHt2r_f', 'EX_etoh_e__b', 'EX_etoh_e__f', 'EX_glc_e__b', 'EX_glc_e__f', 'EX_lac_L_e__b', 'EX_lac_L_e__f', 'F6PA', 'FBA_b', 'FBA_f', 'FUM', 'G5SADs', 'G5SD', 'G6PDH2r', 'GAPD', 'GART', 'GHMT2', 'GLCpts', 'GLCt2', 'GLNS', 'GLU5K', 'GLUDy_b', 'GLUDy_f', 'GLUPRT', 'GLYCL_b', 'GLYCL_f', 'GMPS2', 'GND', 'HCO3E_b', 'HCO3E_f', 'HEX1', 'HSDy_b', 'HSDy_f', 'HSK', 'ICDHyr', 'ICL', 'ILETA_b', 'ILETA_f', 'KARA1i', 'KARA2i', 'LEUTAi', 'L_LACD2_b', 'L_LACD2_f', 'L_LACD3_b', 'L_LACD3_f', 'L_LACt2r_b', 'L_LACt2r_f', 'MALS', 'MDH_b', 'MDH_f', 'ME1', 'ME2', 'OCBT_b', 'OCBT_f', 'P5CR', 'PDH', 'PFK', 'PGCD', 'PGI_b', 'PGI_f', 'PGK_b', 'PGK_f', 'PGL', 'PGM_b', 'PGM_f', 'PHETA1_b', 'PHETA1_f', 'POX', 'PPC', 'PPCK', 'PPND', 'PPNDH', 'PRAGSr_b', 'PRAGSr_f', 'PRAIS', 'PRASCS_b', 'PRASCS_f', 'PRFGS', 'PRPPS_b', 'PRPPS_f', 'PSCVT', 'PSERT', 'PSP_L', 'PTAr', 'PTRCTA', 'PYK', 'RPE_b', 'RPE_f', 'RPI_b', 'RPI_f', 'SDPTA_b', 'SDPTA_f', 'SHK3Dr_b', 'SHK3Dr_f', 'SHKK', 'SSALx', 'SSALy', 'SUCD1i', 'SUCOAS_b', 'SUCOAS_f', 'TA1_b', 'TA1_f', 'TA2_b', 'TA2_f', 'THRAr_b', 'THRAr_f', 'THRD_L', 'THRS', 'TK1_b', 'TK1_f', 'TK2_b', 'TK2_f', 'TK3_b', 'TK3_f', 'TPI_b', 'TPI_f', 'TYRTA_b', 'TYRTA_f', 'VALTA_b', 'VALTA_f']\n"
     ]
    }
   ],
   "source": [
    "print reactionList.getReactionNameList(level=2)   # second resolution level (with reversible reactions separated) "
   ]
  },
  {
   "cell_type": "markdown",
   "metadata": {},
   "source": [
    "The function **getFluxBoundsDictionary** provides a dictionary of flux bounds:"
   ]
  },
  {
   "cell_type": "code",
   "execution_count": 21,
   "metadata": {
    "collapsed": false,
    "scrolled": true
   },
   "outputs": [
    {
     "name": "stdout",
     "output_type": "stream",
     "text": [
      "{'L_LACD2': <core.flux instance at 0x7f2577d1bf80>, 'G6PDH2r': <core.flux instance at 0x7f2577da4d40>, 'AKGDH': <core.flux instance at 0x7f2577dc0ef0>, 'AGMT': <core.flux instance at 0x7f2577dbcf80>, 'GLNS': <core.flux instance at 0x7f2577d47950>, 'DDPA': <core.flux instance at 0x7f2577dd8b90>, 'PRAIS': <core.flux instance at 0x7f2577c971b8>, 'HSK': <core.flux instance at 0x7f2577d01248>, 'ACOTA': <core.flux instance at 0x7f2577db88c0>, 'EX_glc_e_': <core.flux instance at 0x7f2577d83c68>, 'PGCD': <core.flux instance at 0x7f2577cd9518>, 'THRS': <core.flux instance at 0x7f2577c0a0e0>, 'GAPD': <core.flux instance at 0x7f2577daba28>, 'TA1': <core.flux instance at 0x7f2577bf7050>, 'TA2': <core.flux instance at 0x7f2577bf7cf8>, 'SUCOAS': <core.flux instance at 0x7f2577bf13f8>, 'G5SADs': <core.flux instance at 0x7f2577d9d710>, 'ACALDi': <core.flux instance at 0x7f2577f577a0>, 'ICDHyr': <core.flux instance at 0x7f2577d01e18>, 'PHETA1': <core.flux instance at 0x7f2577cede60>, 'PRFGS': <core.flux instance at 0x7f2577c9fd88>, 'PYK': <core.flux instance at 0x7f2577c41bd8>, 'PSCVT': <core.flux instance at 0x7f2577cad560>, 'ACLS': <core.flux instance at 0x7f25780ec710>, 'THRD_L': <core.flux instance at 0x7f2577c035f0>, 'GHMT2': <core.flux instance at 0x7f2577d39248>, 'TPI': <core.flux instance at 0x7f2577c1d0e0>, 'ACODA': <core.flux instance at 0x7f2577db4248>, 'DHQS': <core.flux instance at 0x7f2577d70170>, 'ACGS': <core.flux instance at 0x7f2577f33cf8>, 'DHQD': <core.flux instance at 0x7f2577deb758>, 'ACGK': <core.flux instance at 0x7f2577f331b8>, 'FUM': <core.flux instance at 0x7f2577d97d88>, 'MALS': <core.flux instance at 0x7f2577cb1518>, 'KARA1i': <core.flux instance at 0x7f2577d0eea8>, 'ILETA': <core.flux instance at 0x7f2577d0e440>, 'GLU5K': <core.flux instance at 0x7f2577d4f3b0>, 'SHKK': <core.flux instance at 0x7f2577c5a7a0>, 'PPND': <core.flux instance at 0x7f2577c82e18>, 'ADSL2r': <core.flux instance at 0x7f2577dbb950>, 'ENO': <core.flux instance at 0x7f2577d76f38>, 'TK2': <core.flux instance at 0x7f2577c118c0>, 'TK3': <core.flux instance at 0x7f2577c17638>, 'TK1': <core.flux instance at 0x7f2577c0ac68>, 'ASPTA': <core.flux instance at 0x7f2577dc8320>, 'GART': <core.flux instance at 0x7f2577d32710>, 'ACACCT': <core.flux instance at 0x7f2577e10c68>, 'CHORM': <core.flux instance at 0x7f2577dca878>, 'DHAPT': <core.flux instance at 0x7f2577de4dd0>, 'ACONT': <core.flux instance at 0x7f2577db4c20>, 'HCO3E': <core.flux instance at 0x7f2577d6bf38>, 'ABTA': <core.flux instance at 0x7f257808f830>, 'L_LACD3': <core.flux instance at 0x7f2577d24a28>, 'AGPR': <core.flux instance at 0x7f2577dbeb00>, 'ADSS': <core.flux instance at 0x7f2577dbc4d0>, 'LEUTAi': <core.flux instance at 0x7f2577d1b5f0>, 'TYRTA': <core.flux instance at 0x7f2577c1de60>, 'ACHBS': <core.flux instance at 0x7f2577e48bd8>, 'ME1': <core.flux instance at 0x7f2577cb7d40>, 'PSP_L': <core.flux instance at 0x7f2577c34a28>, 'ME2': <core.flux instance at 0x7f2577cbd908>, 'G5SD': <core.flux instance at 0x7f2577da4248>, 'ASPK': <core.flux instance at 0x7f2577dc75a8>, 'L_LACt2r': <core.flux instance at 0x7f2577d296c8>, 'MDH': <core.flux instance at 0x7f2577cb70e0>, 'ARGSL': <core.flux instance at 0x7f2577dc4098>, 'GLUDy': <core.flux instance at 0x7f2577d4ffc8>, 'PTAr': <core.flux instance at 0x7f2577c3a5a8>, 'ETOHt2r': <core.flux instance at 0x7f2577d7e9e0>, 'SHK3Dr': <core.flux instance at 0x7f2577c54b48>, 'P5CR': <core.flux instance at 0x7f2577ccb0e0>, 'ALATA_L': <core.flux instance at 0x7f2577dc19e0>, 'F6PA': <core.flux instance at 0x7f2577d8f2d8>, 'THRAr': <core.flux instance at 0x7f2577bfe950>, 'ARGSS': <core.flux instance at 0x7f2577dc4d40>, 'AIRC2': <core.flux instance at 0x7f2577dbf830>, 'AIRC3': <core.flux instance at 0x7f2577dc0170>, 'CBPS': <core.flux instance at 0x7f2577dc9f38>, 'PRASCS': <core.flux instance at 0x7f2577c97ea8>, 'GLYCL': <core.flux instance at 0x7f2577d5db00>, 'PDH': <core.flux instance at 0x7f2577ccbdd0>, 'CS': <core.flux instance at 0x7f2577dcee18>, 'DHAD1': <core.flux instance at 0x7f2577dde560>, 'DHAD2': <core.flux instance at 0x7f2577ddeea8>, 'EDA': <core.flux instance at 0x7f2577d70b90>, 'PPCK': <core.flux instance at 0x7f2577c82320>, 'EDD': <core.flux instance at 0x7f2577d764d0>, 'SSALx': <core.flux instance at 0x7f2577c62200>, 'SSALy': <core.flux instance at 0x7f2577c62cf8>, 'FBA': <core.flux instance at 0x7f2577d97098>, 'GLCt2': <core.flux instance at 0x7f2577d40cb0>, 'PTRCTA': <core.flux instance at 0x7f2577c41098>, 'PRPPS': <core.flux instance at 0x7f2577ca68c0>, 'KARA2i': <core.flux instance at 0x7f2577d14950>, 'CBMK': <core.flux instance at 0x7f2577dc8fc8>, 'ARGDC': <core.flux instance at 0x7f2577dc25a8>, 'GLCpts': <core.flux instance at 0x7f2577d402d8>, 'ASAD': <core.flux instance at 0x7f2577dc58c0>, 'VALTA': <core.flux instance at 0x7f2577c24b00>, 'GND': <core.flux instance at 0x7f2577d6b440>, 'ACKr': <core.flux instance at 0x7f2577e6c830>, 'HEX1': <core.flux instance at 0x7f2577cf3ab8>, 'EX_lac_L_e_': <core.flux instance at 0x7f2577d89638>, 'PPC': <core.flux instance at 0x7f2577c7a758>, 'POX': <core.flux instance at 0x7f2577c75b00>, 'PPNDH': <core.flux instance at 0x7f2577c89950>, 'SUCD1i': <core.flux instance at 0x7f2577c697e8>, 'PGL': <core.flux instance at 0x7f2577ce63b0>, 'PGM': <core.flux instance at 0x7f2577ce6f38>, 'PGK': <core.flux instance at 0x7f2577ce0a28>, 'PGI': <core.flux instance at 0x7f2577cd9e60>, 'RPE': <core.flux instance at 0x7f2577c47710>, 'GLUPRT': <core.flux instance at 0x7f2577d57d40>, 'RPI': <core.flux instance at 0x7f2577c4c368>, 'CHORS': <core.flux instance at 0x7f2577dce248>, 'PRAGSr': <core.flux instance at 0x7f2577c90638>, 'ADHEr': <core.flux instance at 0x7f2577db9488>, 'ABUTD': <core.flux instance at 0x7f2577e10248>, 'ICL': <core.flux instance at 0x7f2577d08830>, 'OCBT': <core.flux instance at 0x7f2577cc45a8>, 'HSDy': <core.flux instance at 0x7f2577cfa6c8>, 'EX_etoh_e_': <core.flux instance at 0x7f2577d83368>, 'GMPS2': <core.flux instance at 0x7f2577d64830>, 'SDPTA': <core.flux instance at 0x7f2577c4cf38>, 'PFK': <core.flux instance at 0x7f2577cd4998>, 'PSERT': <core.flux instance at 0x7f2577c340e0>, 'ADSL1r': <core.flux instance at 0x7f2577db9e60>}\n"
     ]
    }
   ],
   "source": [
    "FBDict = reactionList.getFluxBoundsDictionary()\n",
    "print FBDict"
   ]
  },
  {
   "cell_type": "code",
   "execution_count": 22,
   "metadata": {
    "collapsed": false
   },
   "outputs": [
    {
     "name": "stdout",
     "output_type": "stream",
     "text": [
      "[0:0:42.735042735]\n"
     ]
    }
   ],
   "source": [
    "print FBDict['EX_etoh_e_'].net"
   ]
  },
  {
   "cell_type": "markdown",
   "metadata": {},
   "source": [
    "The function **getReactionDictionary** produces a dictionary of reactions:"
   ]
  },
  {
   "cell_type": "code",
   "execution_count": 23,
   "metadata": {
    "collapsed": false,
    "scrolled": true
   },
   "outputs": [
    {
     "name": "stdout",
     "output_type": "stream",
     "text": [
      "{'L_LACD2': <core.Reaction instance at 0x7f2577d14bd8>, 'G6PDH2r': <core.Reaction instance at 0x7f2577d9d8c0>, 'AKGDH': <core.Reaction instance at 0x7f2577dbf950>, 'AGMT': <core.Reaction instance at 0x7f2577dbba70>, 'GLNS': <core.Reaction instance at 0x7f2577d395f0>, 'DDPA': <core.Reaction instance at 0x7f2577dce5a8>, 'PRAIS': <core.Reaction instance at 0x7f2577c89c68>, 'HSK': <core.Reaction instance at 0x7f2577cf3c68>, 'ACOTA': <core.Reaction instance at 0x7f2577db4368>, 'EX_glc_e_': <core.Reaction instance at 0x7f2577d7ec20>, 'PGCD': <core.Reaction instance at 0x7f2577cd4050>, 'THRS': <core.Reaction instance at 0x7f2577bfeb00>, 'GAPD': <core.Reaction instance at 0x7f2577da43f8>, 'TA1': <core.Reaction instance at 0x7f2577c69b48>, 'TA2': <core.Reaction instance at 0x7f2577bf1638>, 'SUCOAS': <core.Reaction instance at 0x7f2577c62f80>, 'G5SADs': <core.Reaction instance at 0x7f2577d97248>, 'ACALDi': <core.Reaction instance at 0x7f2577e104d0>, 'ICDHyr': <core.Reaction instance at 0x7f2577cfaa28>, 'PHETA1': <core.Reaction instance at 0x7f2577ce6560>, 'PRFGS': <core.Reaction instance at 0x7f2577c97440>, 'PYK': <core.Reaction instance at 0x7f2577c3a878>, 'PSCVT': <core.Reaction instance at 0x7f2577c9ff80>, 'ACLS': <core.Reaction instance at 0x7f2577e480e0>, 'THRD_L': <core.Reaction instance at 0x7f2577bf7ea8>, 'GHMT2': <core.Reaction instance at 0x7f2577dabdd0>, 'TPI': <core.Reaction instance at 0x7f2577c11a70>, 'ACODA': <core.Reaction instance at 0x7f2577e6cbd8>, 'DHQS': <core.Reaction instance at 0x7f2577de4368>, 'ACGS': <core.Reaction instance at 0x7f2577f57950>, 'DHQD': <core.Reaction instance at 0x7f2577de4170>, 'ACGK': <core.Reaction instance at 0x7f2577e10e18>, 'FUM': <core.Reaction instance at 0x7f2577d8f3f8>, 'MALS': <core.Reaction instance at 0x7f2577d24d40>, 'KARA1i': <core.Reaction instance at 0x7f2577d08a70>, 'ILETA': <core.Reaction instance at 0x7f2577d01f38>, 'GLU5K': <core.Reaction instance at 0x7f2577d40f38>, 'SHKK': <core.Reaction instance at 0x7f2577c4c830>, 'PPND': <core.Reaction instance at 0x7f2577c7a998>, 'ADSL2r': <core.Reaction instance at 0x7f2577db9638>, 'ENO': <core.Reaction instance at 0x7f2577d70cb0>, 'TK2': <core.Reaction instance at 0x7f2577c0a290>, 'TK3': <core.Reaction instance at 0x7f2577c0ae18>, 'TK1': <core.Reaction instance at 0x7f2577c03950>, 'ASPTA': <core.Reaction instance at 0x7f2577dc5b00>, 'GART': <core.Reaction instance at 0x7f2577da4ef0>, 'ACACCT': <core.Reaction instance at 0x7f2577dafe60>, 'CHORM': <core.Reaction instance at 0x7f2577dc9488>, 'DHAPT': <core.Reaction instance at 0x7f2577dde710>, 'ACONT': <core.Reaction instance at 0x7f25780ec830>, 'HCO3E': <core.Reaction instance at 0x7f2577d649e0>, 'ABTA': <core.Reaction instance at 0x7f257810b290>, 'L_LACD3': <core.Reaction instance at 0x7f2577d14cb0>, 'AGPR': <core.Reaction instance at 0x7f2577dbc680>, 'ADSS': <core.Reaction instance at 0x7f2577dbb050>, 'LEUTAi': <core.Reaction instance at 0x7f2577d14098>, 'TYRTA': <core.Reaction instance at 0x7f2577c177e8>, 'ACHBS': <core.Reaction instance at 0x7f2577f33440>, 'ME1': <core.Reaction instance at 0x7f2577cb1638>, 'PSP_L': <core.Reaction instance at 0x7f2577cad7a0>, 'ME2': <core.Reaction instance at 0x7f2577cb7320>, 'G5SD': <core.Reaction instance at 0x7f2577d97fc8>, 'ASPK': <core.Reaction instance at 0x7f2577dc4e60>, 'L_LACt2r': <core.Reaction instance at 0x7f2577d24200>, 'MDH': <core.Reaction instance at 0x7f2577d29a28>, 'ARGSL': <core.Reaction instance at 0x7f2577dc12d8>, 'GLUDy': <core.Reaction instance at 0x7f2577d47c20>, 'PTAr': <core.Reaction instance at 0x7f2577c342d8>, 'ETOHt2r': <core.Reaction instance at 0x7f2577d76680>, 'SHK3Dr': <core.Reaction instance at 0x7f2577c4c6c8>, 'P5CR': <core.Reaction instance at 0x7f2577cbdb48>, 'ALATA_L': <core.Reaction instance at 0x7f2577dc03b0>, 'F6PA': <core.Reaction instance at 0x7f2577d83ef0>, 'THRAr': <core.Reaction instance at 0x7f2577bf7200>, 'ARGSS': <core.Reaction instance at 0x7f2577dc26c8>, 'AIRC2': <core.Reaction instance at 0x7f2577dbe0e0>, 'AIRC3': <core.Reaction instance at 0x7f2577dbeef0>, 'CBPS': <core.Reaction instance at 0x7f2577dc85a8>, 'PRASCS': <core.Reaction instance at 0x7f2577c90908>, 'GLYCL': <core.Reaction instance at 0x7f2577d573f8>, 'PDH': <core.Reaction instance at 0x7f2577cc4758>, 'CS': <core.Reaction instance at 0x7f2577dcaa70>, 'DHAD1': <core.Reaction instance at 0x7f2577dcef38>, 'DHAD2': <core.Reaction instance at 0x7f2577dd8cb0>, 'EDA': <core.Reaction instance at 0x7f2577deb998>, 'PPCK': <core.Reaction instance at 0x7f2577c75e18>, 'EDD': <core.Reaction instance at 0x7f2577d70320>, 'SSALx': <core.Reaction instance at 0x7f2577c54ea8>, 'SSALy': <core.Reaction instance at 0x7f2577c5ab48>, 'FBA': <core.Reaction instance at 0x7f2577d898c0>, 'GLCt2': <core.Reaction instance at 0x7f2577d39518>, 'PTRCTA': <core.Reaction instance at 0x7f2577c34bd8>, 'PRPPS': <core.Reaction instance at 0x7f2577c9f290>, 'KARA2i': <core.Reaction instance at 0x7f2577d08b48>, 'CBMK': <core.Reaction instance at 0x7f2577dc7950>, 'ARGDC': <core.Reaction instance at 0x7f2577dc1170>, 'GLCpts': <core.Reaction instance at 0x7f2577d32830>, 'ASAD': <core.Reaction instance at 0x7f2577dc4440>, 'VALTA': <core.Reaction instance at 0x7f2577c1d3f8>, 'GND': <core.Reaction instance at 0x7f2577d5ddd0>, 'ACKr': <core.Reaction instance at 0x7f2577f33e18>, 'HEX1': <core.Reaction instance at 0x7f2577d6b560>, 'EX_lac_L_e_': <core.Reaction instance at 0x7f2577d835f0>, 'PPC': <core.Reaction instance at 0x7f2577c751b8>, 'POX': <core.Reaction instance at 0x7f2577ced320>, 'PPNDH': <core.Reaction instance at 0x7f2577c82560>, 'SUCD1i': <core.Reaction instance at 0x7f2577c62560>, 'PGL': <core.Reaction instance at 0x7f2577ce00e0>, 'PGM': <core.Reaction instance at 0x7f2577ce0c68>, 'PGK': <core.Reaction instance at 0x7f2577cd96c8>, 'PGI': <core.Reaction instance at 0x7f2577cd4b90>, 'RPE': <core.Reaction instance at 0x7f2577c41368>, 'GLUPRT': <core.Reaction instance at 0x7f2577d4f560>, 'RPI': <core.Reaction instance at 0x7f2577c41dd0>, 'CHORS': <core.Reaction instance at 0x7f2577dc9518>, 'PRAGSr': <core.Reaction instance at 0x7f2577c89098>, 'ADHEr': <core.Reaction instance at 0x7f2577db4ef0>, 'ABUTD': <core.Reaction instance at 0x7f2577dafcf8>, 'ICL': <core.Reaction instance at 0x7f2577d013f8>, 'OCBT': <core.Reaction instance at 0x7f2577cb7e60>, 'HSDy': <core.Reaction instance at 0x7f2577cf32d8>, 'EX_etoh_e_': <core.Reaction instance at 0x7f2577d7e1b8>, 'GMPS2': <core.Reaction instance at 0x7f2577d575a8>, 'SDPTA': <core.Reaction instance at 0x7f2577c47998>, 'PFK': <core.Reaction instance at 0x7f2577ccb440>, 'PSERT': <core.Reaction instance at 0x7f2577ca6c68>, 'ADSL1r': <core.Reaction instance at 0x7f2577db8098>}\n"
     ]
    }
   ],
   "source": [
    "print reactionList.getReactionDictionary()"
   ]
  },
  {
   "cell_type": "markdown",
   "metadata": {},
   "source": [
    "The function **getTransitionLines** produces the atom transitions:"
   ]
  },
  {
   "cell_type": "code",
   "execution_count": 24,
   "metadata": {
    "collapsed": false,
    "scrolled": true
   },
   "outputs": [
    {
     "name": "stdout",
     "output_type": "stream",
     "text": [
      "['ABTA\\t4abut_c + akg_c --> sucsal_c + glu_L_c\\tbcde + ABCDE : bcde + ABCDE', 'ABUTD\\t4abutn_c --> 4abut_c\\tbcde : bcde', 'ACACCT\\taccoa_c --> ac_c\\tab : ab', 'ACALDi\\tacald_c --> accoa_c\\tab : ab', 'ACGK\\tacglu_c --> acg5p_c\\tabcdepq : abcdepq', 'ACGS\\taccoa_c + glu_L_c --> acglu_c\\tpq + abcde : abcdepq', 'ACHBS\\t2obut_c + pyr_c --> 2ahbut_c + co2_c\\tabcd + ABC : abBcCd + A', 'ACKr\\tac_c <==> actp_c \\tab : ab', 'ACLS\\tpyr_c + pyr_c --> alac_S_c + co2_c\\tcde + fgh : fgdhe + c', 'ACODA\\tacorn_c --> ac_c + orn_c\\tabcdepq : pq + abcde', 'ACONT\\tcit_c --> icit_c\\tabcdef : abcdef', 'ACOTA\\tacorn_c + akg_c <==> acg5sa_c + glu_L_c\\tabcdepq + ghijk : abcdepq + ghijk', 'ADHEr\\taccoa_c --> etoh_c\\tab : ab', 'ADSL1r\\tdcamp_c --> fum_c\\tabcd : (abcd;dcba)', 'ADSL2r\\t25aics_c --> aicar_c + fum_c\\tABCDEFGHIcdba : ABCDEFGHI + (abcd;bcda)', 'ADSS\\tasp_L_c --> dcamp_c\\tabcd : abcd', 'AGMT\\tagm_c --> ptrc_c + urea_c\\tbcdef : (bcde;edcb) + f', 'AGPR\\tacg5sa_c <==> acg5p_c\\tabcdepq : abcdepq', 'AIRC2\\tair_c + hco3_c --> 5caiz_c\\tABCDEFGH + a : ABCDEFGHa', 'AIRC3\\t5aizc_c <==> 5caiz_c\\tABCDEFGHI : ABCDEFGHI', 'AKGDH\\takg_c --> succoa_c + co2_c\\tabcde : bcde + a', 'ALATA_L\\tala_L_c + akg_c <==> pyr_c + glu_L_c\\tabc + ABCDE  : abc + ABCDE', 'ARGDC\\targ_L_c --> agm_c + co2_c\\tabcdef : bcdef + a', 'ARGSL\\targsuc_c <==> arg_L_c + fum_c\\tabcdeflmno : abcdef + (lmno;onml)', 'ARGSS\\tasp_L_c + citr_L_c --> argsuc_c\\tlmno + abcdef : abcdeflmno', 'ASAD\\taspsa_c <==> 4pasp_c\\tabcd : abcd', 'ASPK\\tasp_L_c <==> 4pasp_c\\tabcd : abcd', 'ASPTA\\takg_c + asp_L_c <==> glu_L_c + oaa_c\\tABCDE + abcd : ABCDE + abcd', 'CBMK\\tco2_c --> cbp_c\\ta : a', 'CBPS\\tgln_L_c + hco3_c --> cbp_c + glu_L_c\\t ghijk + f : f + ghijk', 'CHORM\\tchor_c --> pphn_c\\tabcdefghij : abcdefghij', 'CHORS\\t3psme_c --> chor_c\\tabcdefghij : abcdefghij', 'CS\\toaa_c + accoa_c --> cit_c\\tabcd + AB : dcbBAa', 'DDPA\\te4p_c + pep_c --> 2dda7p_c\\tABCD + abc : abcABCD', 'DHAD1\\t23dhmb_c --> 3mob_c\\tabcde : abcde', 'DHAD2\\t23dhmp_c --> 3mop_c\\tabcdef : abcdef', 'DHAPT\\tdha_c + pep_c --> dhap_c + pyr_c\\tABC + abc : ABC + abc', 'DHQD\\t3dhq_c <==> 3dhsk_c\\tabcdefg : abcdefg', 'DHQS\\t2dda7p_c --> 3dhq_c\\tabcdefg : abcdefg', 'EDA\\t2ddg6p_c --> pyr_c + g3p_c \\tabcdef : abc + def', 'EDD\\t6pgc_c --> 2ddg6p_c \\tabcdef : abcdef', 'ENO\\t2pg_c <==> pep_c\\tabc : abc', 'ETOHt2r\\tetoh_e <==> etoh_c\\tab : ab', 'EX_etoh_e_\\tetoh_e <==> etohEX_c\\tab : ab', 'EX_glc_e_\\tglc_D_e <==> glcDEx_c\\tabcdef : abcdef', 'EX_lac_L_e_\\tlac_L_e <==> lac_LEX_c\\tabc : abc', 'F6PA\\tf6p_c --> g3p_c + dha_c\\tCBAabc : abc + ABC', 'FBA\\tfdp_c <==> g3p_c + dhap_c\\tCBAabc : abc + ABC', 'FUM\\tfum_c --> mal_L_c\\tabcd : (abcd;dcba)', 'G5SADs\\tglu5sa_c --> 1pyr5c_c\\tabcde : abcde', 'G5SD\\tglu5p_c --> glu5sa_c\\tabcde : abcde', 'G6PDH2r\\tg6p_c --> 6pgl_c \\tabcdef : abcdef', 'GAPD\\tg3p_c --> 13dpg_c\\tabc : abc', 'GART\\tfor_c + gar_c --> fgam_c\\ta + ABCDEFG : ABCDEFGa', 'GHMT2\\tser_L_c --> mlthf_c + gly_c\\tabc : c + ab', 'GLCpts\\tglc_D_e + pep_c --> g6p_c + pyr_c\\tabcdef + ABC : abcdef + ABC', 'GLCt2\\tglc_D_e --> glc_D_c\\tabcdef : abcdef', 'GLNS\\tglu_L_c --> gln_L_c\\tabcde : abcde', 'GLU5K\\tglu_L_c --> glu5p_c\\tabcde : abcde', 'GLUDy\\tglu_L_c <==> akg_c\\tabcde : abcde', 'GLUPRT\\tgln_L_c + prpp_c --> glu_L_c + pram_c\\tabcde + ABCDE : abcde + ABCDE', 'GLYCL\\tgly_c <==> co2_c + mlthf_c\\tab : a + b', 'GMPS2\\tgln_L_c --> glu_L_c\\tabcde : abcde', 'GND\\t6pgc_c --> co2_c + ru5p_D_c \\tabcdef : a + bcdef', 'HCO3E\\tco2_c <==> hco3_c\\tf : f', 'HEX1\\tglc_D_c --> g6p_c\\tabcdef : abcdef', 'HSDy\\thom_L_c <==> aspsa_c\\tabcd : abcd', 'HSK\\thom_L_c --> phom_c\\tabcd : abcd', 'ICDHyr\\ticit_c --> akg_c + co2_c\\tabcdef : abcde + f', 'ICL\\ticit_c --> succ_c + glx_c\\tABCDEF : (FCDE;EDCF) + AB', 'ILETA\\takg_c + ile_L_c <==> glu_L_c + 3mop_c\\tABCDE + abcdef : ABCDE + abcdef', 'KARA1i\\talac_S_c --> 23dhmb_c\\tabcde : abcde', 'KARA2i\\t2ahbut_c --> 23dhmp_c\\tabcdef : abcdef', 'LEUTAi\\t4mop_c + glu_L_c --> akg_c + leu_L_c\\tabcdef + ABCDE : ABCDE + abcdef', 'L_LACD2\\tlac_L_c <==> pyr_c\\tabc : abc', 'L_LACD3\\tlac_L_c <==> pyr_c\\tabc : abc', 'L_LACt2r\\tlac_L_e <==> lac_L_c\\tabc : abc', 'MALS\\tglx_c + accoa_c --> mal_L_c\\tAB + CD : ABCD', 'MDH\\tmal_L_c <==> oaa_c\\tabcd : abcd', 'ME1\\tmal_L_c --> pyr_c + co2_c\\tabcd : abc + d', 'ME2\\tmal_L_c --> pyr_c + co2_c\\tabcd : abc + d', 'OCBT\\tcbp_c + orn_c <==> citr_L_c\\tf + abcde : abcdef', 'P5CR\\t1pyr5c_c --> pro_L_c\\tabcde : abcde', 'PDH\\tpyr_c --> co2_c + accoa_c\\tabc : a + bc', 'PFK\\tf6p_c --> fdp_c\\tabcdef : abcdef', 'PGCD\\t3pg_c --> 3php_c\\tabc : abc', 'PGI\\tg6p_c <==> f6p_c\\tabcdef : abcdef', 'PGK\\t3pg_c <==> 13dpg_c\\tabc : abc', 'PGL\\t6pgl_c --> 6pgc_c \\tabcdef : abcdef', 'PGM\\t2pg_c <==> 3pg_c\\tabc : abc', 'PHETA1\\takg_c + phe_L_c <==> glu_L_c + phpyr_c\\tABCDE + abcdefghi : ABCDE + abcdefghi', 'POX\\tpyr_c --> ac_c + co2_c\\tabc : bc + a', 'PPC\\tpep_c + co2_c --> oaa_c\\tabc + d : abcd', 'PPCK\\toaa_c --> pep_c + co2_c\\tabcd : abc + d', 'PPND\\tpphn_c --> 34hpp_c + co2_c\\tabcdefghij : abcdefghi + j', 'PPNDH\\tpphn_c --> phpyr_c + co2_c\\tabcdefghij : abcdefghi + j', 'PRAGSr\\tgly_c + pram_c <==> gar_c\\tab + ABCDE : ABCDEab', 'PRAIS\\tfpram_c --> air_c\\tABCDEFGH : ABCDEFGH', 'PRASCS\\t5aizc_c + asp_L_c <==> 25aics_c\\tABCDEFGHI + abcd  : ABCDEFGHIcdba', 'PRFGS\\tfgam_c + gln_L_c --> fpram_c + glu_L_c\\tABCDEFGH + abcde : ABCDEFGH + abcde', 'PRPPS\\tr5p_c <==> prpp_c\\tabcde : abcde', 'PSCVT\\tskm5p_c + pep_c --> 3psme_c\\tabcABCD + def : abcefABCDd', 'PSERT\\tglu_L_c + 3php_c --> akg_c + pser_L_c\\tABCDE + abc : ABCDE + abc', 'PSP_L\\tpser_L_c --> ser_L_c\\tabc : abc', 'PTAr\\taccoa_c --> actp_c \\tab : ab', 'PTRCTA\\tptrc_c + akg_c --> 4abutn_c + glu_L_c\\t(bcde;edcb) + ABCDE : bcde + ABCDE', 'PYK\\tpep_c --> pyr_c\\tabc : abc', 'RPE\\tru5p_D_c <==> xu5p_D_c\\tabcde : abcde', 'RPI\\tr5p_c <==> ru5p_D_c\\tabcde : abcde', 'SDPTA\\takg_c + sl26da_c <==> glu_L_c + sl2a6o_c\\tABCDE + abcdefghijk : ABCDE + abcdefghijk', 'SHK3Dr\\t3dhsk_c <==> skm_c\\tabcdefg : abcdefg', 'SHKK\\tskm_c --> skm5p_c\\tabcdefg : abcdefg', 'SSALx\\tsucsal_c --> succ_c\\tbcde : (bcde;edcb)', 'SSALy\\tsucsal_c --> succ_c\\tbcde : (bcde;edcb)', 'SUCD1i\\tsucc_c --> fum_c\\tabcd : (abcd;dcba)', 'SUCOAS\\tsucc_c <==> succoa_c \\tbcde : (bcde;edcb)', 'TA1\\tf6p_c <==> TAC3_c + g3p_c\\tabcdef : abc + def', 'TA2\\ts7p_c <==> TAC3_c + e4p_c\\tabcdefg : abc + defg', 'THRAr\\tthr_L_c <==> acald_c + gly_c\\tabcd : cd + ab', 'THRD_L\\tthr_L_c --> 2obut_c\\tABCD : ABCD', 'THRS\\tphom_c --> thr_L_c\\tabcd : abcd', 'TK1\\txu5p_D_c <==> TKC2_c + g3p_c\\tabcde : ab + cde', 'TK2\\tf6p_c <==> TKC2_c + e4p_c\\tabcdef : ab + cdef', 'TK3\\ts7p_c <==> TKC2_c + r5p_c\\tabcdefg : ab + cdefg', 'TPI\\tdhap_c <==> g3p_c\\tabc : abc', 'TYRTA\\takg_c + tyr_L_c <==> glu_L_c + 34hpp_c\\tABCDE + abcdefghi : ABCDE + abcdefghi', 'VALTA\\takg_c + val_L_c <==> glu_L_c + 3mob_c\\tABCDE + abcde : ABCDE + abcde']\n"
     ]
    }
   ],
   "source": [
    "print reactionList.getTransitionLines()"
   ]
  },
  {
   "cell_type": "markdown",
   "metadata": {},
   "source": [
    "One can write all the reactions in a text file using **writeReactionFile**:"
   ]
  },
  {
   "cell_type": "code",
   "execution_count": 25,
   "metadata": {
    "collapsed": false
   },
   "outputs": [],
   "source": [
    "reactionList.writeReactionFile('test.rxns')"
   ]
  },
  {
   "cell_type": "markdown",
   "metadata": {},
   "source": [
    "or obtain the carbon atom numbers in a dictionary using **getCarbonDict**:"
   ]
  },
  {
   "cell_type": "code",
   "execution_count": 26,
   "metadata": {
    "collapsed": false
   },
   "outputs": [
    {
     "name": "stdout",
     "output_type": "stream",
     "text": [
      "{'phom_c': 4, 'fum_c': 4, 'val_L_c': 5, 'sl2a6o_c': 11, '2dda7p_c': 7, 'g3p_c': 3, '23dhmp_c': 6, 'pphn_c': 10, '2ahbut_c': 6, 'r5p_c': 5, '3mob_c': 5, '3php_c': 3, 'pyr_c': 3, 'icit_c': 6, 'dha_c': 3, '23dhmb_c': 5, 'hom_L_c': 4, 'arg_L_c': 6, 'g6p_c': 6, 'glu_L_c': 5, '4abut_c': 4, '25aics_c': 13, 'agm_c': 5, 'TAC3_c': 3, 'fpram_c': 8, 'mal_L_c': 4, 'acald_c': 2, '3dhq_c': 7, 'air_c': 8, 'pro_L_c': 5, 'prpp_c': 5, 'ile_L_c': 6, 'pram_c': 5, 'pser_L_c': 3, 'fgam_c': 8, 'e4p_c': 4, 'etoh_e': 2, 'co2_c': 1, 'etoh_c': 2, 'glu5sa_c': 5, 'f6p_c': 6, 'glx_c': 2, 'accoa_c': 2, 'gar_c': 7, 'urea_c': 1, 'phe_L_c': 9, 'glc_D_c': 6, 'gln_L_c': 5, 'glc_D_e': 6, 'acg5p_c': 7, 'phpyr_c': 9, '4mop_c': 6, 'mlthf_c': 1, 'hco3_c': 1, 'thr_L_c': 4, 'TKC2_c': 2, 'ptrc_c': 4, 'glu5p_c': 5, '5caiz_c': 9, '3mop_c': 6, '2obut_c': 4, 'leu_L_c': 6, '3dhsk_c': 7, 'sl26da_c': 11, 'asp_L_c': 4, '6pgl_c': 6, 'succ_c': 4, 'oaa_c': 4, 'citr_L_c': 6, 'gly_c': 2, 'akg_c': 5, 'alac_S_c': 5, 'for_c': 1, 'dhap_c': 3, 'tyr_L_c': 9, 'acg5sa_c': 7, 'pep_c': 3, '13dpg_c': 3, 'xu5p_D_c': 5, '34hpp_c': 9, 'cbp_c': 1, 'skm5p_c': 7, '6pgc_c': 6, 'sucsal_c': 4, 'skm_c': 7, '4pasp_c': 4, '5aizc_c': 9, 'aicar_c': 9, 'chor_c': 10, 'lac_L_e': 3, 'lac_L_c': 3, 'cit_c': 6, 'ru5p_D_c': 5, 'actp_c': 2, 's7p_c': 7, 'fdp_c': 6, 'dcamp_c': 4, 'aspsa_c': 4, '2pg_c': 3, '3pg_c': 3, 'acglu_c': 7, 'orn_c': 5, 'acorn_c': 7, 'ala_L_c': 3, 'ac_c': 2, '4abutn_c': 4, 'succoa_c': 4, '2ddg6p_c': 6, 'argsuc_c': 10, '3psme_c': 10, '1pyr5c_c': 5, 'ser_L_c': 3}\n"
     ]
    }
   ],
   "source": [
    "print reactionList.getCarbonDict()"
   ]
  },
  {
   "cell_type": "markdown",
   "metadata": {},
   "source": [
    "The function **carbonTransitionsOK** checks that carbon transitions are ok (i.e. has the same reactants and products for the reactant and the carbon transitions):"
   ]
  },
  {
   "cell_type": "code",
   "execution_count": 27,
   "metadata": {
    "collapsed": false
   },
   "outputs": [
    {
     "name": "stdout",
     "output_type": "stream",
     "text": [
      "True\n"
     ]
    }
   ],
   "source": [
    "print reactionList.carbonTransitionsOK()"
   ]
  },
  {
   "cell_type": "markdown",
   "metadata": {},
   "source": [
    "You can get the corresponding metabolite list by using **getMetList**:"
   ]
  },
  {
   "cell_type": "code",
   "execution_count": 28,
   "metadata": {
    "collapsed": false
   },
   "outputs": [
    {
     "name": "stdout",
     "output_type": "stream",
     "text": [
      "13dpg_c\n",
      "1pyr5c_c\n",
      "23dhmb_c\n",
      "23dhmp_c\n",
      "25aics_c\n",
      "2ahbut_c\n",
      "2dda7p_c\n",
      "2ddg6p_c\n",
      "2obut_c\n",
      "2pg_c\n",
      "34hpp_c\n",
      "3dhq_c\n",
      "3dhsk_c\n",
      "3mob_c\n",
      "3mop_c\n",
      "3pg_c\n",
      "3php_c\n",
      "3psme_c\n",
      "4abut_c\n",
      "4abutn_c\n",
      "4mop_c\n",
      "4pasp_c\n",
      "5aizc_c\n",
      "5caiz_c\n",
      "6pgc_c\n",
      "6pgl_c\n",
      "TAC3_c\n",
      "TKC2_c\n",
      "ac_c\n",
      "acald_c\n",
      "accoa_c\n",
      "acg5p_c\n",
      "acg5sa_c\n",
      "acglu_c\n",
      "acorn_c\n",
      "actp_c\n",
      "agm_c\n",
      "aicar_c\n",
      "air_c\n",
      "akg_c\n",
      "ala_L_c\n",
      "alac_S_c\n",
      "arg_L_c\n",
      "argsuc_c\n",
      "asp_L_c\n",
      "aspsa_c\n",
      "cbp_c\n",
      "chor_c\n",
      "cit_c\n",
      "citr_L_c\n",
      "co2_c\n",
      "dcamp_c\n",
      "dha_c\n",
      "dhap_c\n",
      "e4p_c\n",
      "etoh_c\n",
      "etoh_e\n",
      "f6p_c\n",
      "fdp_c\n",
      "fgam_c\n",
      "for_c\n",
      "fpram_c\n",
      "fum_c\n",
      "g3p_c\n",
      "g6p_c\n",
      "gar_c\n",
      "glc_D_c\n",
      "glc_D_e\n",
      "gln_L_c\n",
      "glu5p_c\n",
      "glu5sa_c\n",
      "glu_L_c\n",
      "glx_c\n",
      "gly_c\n",
      "hco3_c\n",
      "hom_L_c\n",
      "icit_c\n",
      "ile_L_c\n",
      "lac_L_c\n",
      "lac_L_e\n",
      "leu_L_c\n",
      "mal_L_c\n",
      "mlthf_c\n",
      "oaa_c\n",
      "orn_c\n",
      "pep_c\n",
      "phe_L_c\n",
      "phom_c\n",
      "phpyr_c\n",
      "pphn_c\n",
      "pram_c\n",
      "pro_L_c\n",
      "prpp_c\n",
      "pser_L_c\n",
      "ptrc_c\n",
      "pyr_c\n",
      "r5p_c\n",
      "ru5p_D_c\n",
      "s7p_c\n",
      "ser_L_c\n",
      "skm5p_c\n",
      "skm_c\n",
      "sl26da_c\n",
      "sl2a6o_c\n",
      "succ_c\n",
      "succoa_c\n",
      "sucsal_c\n",
      "thr_L_c\n",
      "tyr_L_c\n",
      "urea_c\n",
      "val_L_c\n",
      "xu5p_D_c\n"
     ]
    }
   ],
   "source": [
    "metList = reactionList.getMetList()\n",
    "print metList"
   ]
  },
  {
   "cell_type": "markdown",
   "metadata": {},
   "source": [
    "which does the same as the metabolite list above:"
   ]
  },
  {
   "cell_type": "code",
   "execution_count": 29,
   "metadata": {
    "collapsed": false
   },
   "outputs": [
    {
     "name": "stdout",
     "output_type": "stream",
     "text": [
      "['glc_D_e']\n"
     ]
    }
   ],
   "source": [
    "print metList.getSource()"
   ]
  },
  {
   "cell_type": "markdown",
   "metadata": {},
   "source": [
    "The function **printFluxes** prints the values of fluxes in reactions:"
   ]
  },
  {
   "cell_type": "code",
   "execution_count": 30,
   "metadata": {
    "collapsed": false
   },
   "outputs": [
    {
     "name": "stdout",
     "output_type": "stream",
     "text": [
      "EX_glc_e_: \t-6.0\n"
     ]
    }
   ],
   "source": [
    "reactionList.printFluxes(names='exchange',nonZero=False)"
   ]
  },
  {
   "cell_type": "markdown",
   "metadata": {},
   "source": [
    "And the function **getBiomassReaction** automatically finds the biomass reaction for a genome-scale model:"
   ]
  },
  {
   "cell_type": "code",
   "execution_count": 31,
   "metadata": {
    "collapsed": false
   },
   "outputs": [
    {
     "name": "stdout",
     "output_type": "stream",
     "text": [
      "BiomassEcoli: Forward: NA\n",
      "Backward: NA\n",
      "Net: [0:0:999999.0]\n",
      "Exchange: NA\n",
      "\n"
     ]
    }
   ],
   "source": [
    "reactionList = TSmodel.reactionNetwork.reactionList\n",
    "print reactionList.getBiomassReaction()"
   ]
  },
  {
   "cell_type": "markdown",
   "metadata": {},
   "source": [
    "## emuList"
   ]
  },
  {
   "cell_type": "markdown",
   "metadata": {},
   "source": [
    "The *emuList* class is a list of emus with extra functions: "
   ]
  },
  {
   "cell_type": "code",
   "execution_count": 32,
   "metadata": {
    "collapsed": false
   },
   "outputs": [],
   "source": [
    "emuListA = TSmodel.reactionNetwork.C13ReacNet.reactionList.emuList"
   ]
  },
  {
   "cell_type": "markdown",
   "metadata": {},
   "source": [
    "The function **getMetEMUPar** obtains the correspondance between emus and metabolites in a GAMS parameter format:"
   ]
  },
  {
   "cell_type": "code",
   "execution_count": 33,
   "metadata": {
    "collapsed": false
   },
   "outputs": [
    {
     "name": "stdout",
     "output_type": "stream",
     "text": [
      "metemu\n",
      "{('s7p_c', 's7p_c_3'): 1.0, ('aspsa_c', 'aspsa_c_2_3'): 1.0, ('g3p_c', 'g3p_c_2_3'): 1.0, ('asp_L_c', 'asp_L_c_1'): 1.0, ('citr_L_c', 'citr_L_c_2_5'): 1.0, ('akg_c', 'akg_c_3_4'): 1.0, ('oaa_c', 'oaa_c_3'): 1.0, ('succoa_c', 'succoa_c_1_3'): 1.0, ('fum_c', 'fum_c_2_3'): 1.0, ('aspsa_c', 'aspsa_c_2_3_4'): 1.0, ('6pgl_c', '6pgl_c_4_6'): 1.0, ('acg5sa_c', 'acg5sa_c_4_5'): 1.0, ('g6p_c', 'g6p_c_4'): 1.0, ('acg5p_c', 'acg5p_c_2_3_4'): 1.0, ('argsuc_c', 'argsuc_c_10'): 1.0, ('2ddg6p_c', '2ddg6p_c_4'): 1.0, ('acg5sa_c', 'acg5sa_c_2_4_5'): 1.0, ('fum_c', 'fum_c_4'): 1.0, ('glc_D_c', 'glc_D_c_5'): 1.0, ('glu_L_c', 'glu_L_c_4_5'): 1.0, ('acg5p_c', 'acg5p_c_2_3'): 1.0, ('succ_c', 'succ_c_3'): 1.0, ('mal_L_c', 'mal_L_c_1_3_4'): 1.0, ('r5p_c', 'r5p_c_1'): 1.0, ('fum_c', 'fum_c_2_3_4'): 1.0, ('cit_c', 'cit_c_3_4'): 1.0, ('fum_c', 'fum_c_1_4'): 1.0, ('hom_L_c', 'hom_L_c_3_4'): 1.0, ('glu_L_c', 'glu_L_c_3'): 1.0, ('icit_c', 'icit_c_2_4_5'): 1.0, ('glu_L_c', 'glu_L_c_2_3'): 1.0, ('ptrc_c', 'ptrc_c_1_2_4'): 1.0, ('glc_D_e', 'glc_D_e_1_2_3'): 1.0, ('orn_c', 'orn_c_2_4'): 1.0, ('arg_L_c', 'arg_L_c_2_3_5'): 1.0, ('hom_L_c', 'hom_L_c_1_2_4'): 1.0, ('2pg_c', '2pg_c_3'): 1.0, ('acg5sa_c', 'acg5sa_c_3_4_5'): 1.0, ('acglu_c', 'acglu_c_4'): 1.0, ('6pgc_c', '6pgc_c_5'): 1.0, ('glc_D_e', 'glc_D_e_1_2'): 1.0, ('6pgl_c', '6pgl_c_4'): 1.0, ('oaa_c', 'oaa_c_1_3_4'): 1.0, ('mal_L_c', 'mal_L_c_3_4'): 1.0, ('acg5p_c', 'acg5p_c_5'): 1.0, ('acglu_c', 'acglu_c_2_5'): 1.0, ('aspsa_c', 'aspsa_c_1_3'): 1.0, ('argsuc_c', 'argsuc_c_4'): 1.0, ('oaa_c', 'oaa_c_3_4'): 1.0, ('4abut_c', '4abut_c_1'): 1.0, ('ru5p_D_c', 'ru5p_D_c_4_5'): 1.0, ('6pgl_c', '6pgl_c_5_6'): 1.0, ('TKC2_c', 'TKC2_c_1'): 1.0, ('citr_L_c', 'citr_L_c_3_4'): 1.0, ('6pgl_c', '6pgl_c_1_2_3'): 1.0, ('icit_c', 'icit_c_1_2'): 1.0, ('TAC3_c', 'TAC3_c_1_3'): 1.0, ('aspsa_c', 'aspsa_c_4'): 1.0, ('oaa_c', 'oaa_c_1_3'): 1.0, ('prpp_c', 'prpp_c_3'): 1.0, ('6pgl_c', '6pgl_c_4_5_6'): 1.0, ('13dpg_c', '13dpg_c_1_2_3'): 1.0, ('pyr_c', 'pyr_c_3'): 1.0, ('succoa_c', 'succoa_c_2'): 1.0, ('akg_c', 'akg_c_4'): 1.0, ('hom_L_c', 'hom_L_c_1_2_3'): 1.0, ('icit_c', 'icit_c_3_4'): 1.0, ('acg5sa_c', 'acg5sa_c_2'): 1.0, ('aspsa_c', 'aspsa_c_1_2_3_4'): 1.0, ('fdp_c', 'fdp_c_1'): 1.0, ('2ddg6p_c', '2ddg6p_c_1_2_3'): 1.0, ('icit_c', 'icit_c_4_6'): 1.0, ('25aics_c', '25aics_c_10_11_13'): 1.0, ('arg_L_c', 'arg_L_c_3_5'): 1.0, ('succoa_c', 'succoa_c_1_2_4'): 1.0, ('acg5p_c', 'acg5p_c_2'): 1.0, ('orn_c', 'orn_c_3_5'): 1.0, ('acorn_c', 'acorn_c_3'): 1.0, ('acorn_c', 'acorn_c_2'): 1.0, ('glc_D_c', 'glc_D_c_6'): 1.0, ('asp_L_c', 'asp_L_c_1_2_4'): 1.0, ('argsuc_c', 'argsuc_c_2_5'): 1.0, ('succ_c', 'succ_c_1_4'): 1.0, ('hom_L_c', 'hom_L_c_2_3_4'): 1.0, ('prpp_c', 'prpp_c_3_5'): 1.0, ('acg5sa_c', 'acg5sa_c_5'): 1.0, ('akg_c', 'akg_c_2_3'): 1.0, ('arg_L_c', 'arg_L_c_1'): 1.0, ('acald_c', 'acald_c_1_2'): 1.0, ('r5p_c', 'r5p_c_4_5'): 1.0, ('citr_L_c', 'citr_L_c_3_4_5'): 1.0, ('prpp_c', 'prpp_c_4_5'): 1.0, ('citr_L_c', 'citr_L_c_3'): 1.0, ('cit_c', 'cit_c_4_6'): 1.0, ('agm_c', 'agm_c_1_4'): 1.0, ('6pgc_c', '6pgc_c_5_6'): 1.0, ('s7p_c', 's7p_c_4'): 1.0, ('3pg_c', '3pg_c_3'): 1.0, ('pep_c', 'pep_c_1_2_3'): 1.0, ('glc_D_e', 'glc_D_e_4_5_6'): 1.0, ('succoa_c', 'succoa_c_1_2_3'): 1.0, ('dcamp_c', 'dcamp_c_1_2_3_4'): 1.0, ('orn_c', 'orn_c_3_4_5'): 1.0, ('mal_L_c', 'mal_L_c_1_2_4'): 1.0, ('succoa_c', 'succoa_c_1_4'): 1.0, ('glu_L_c', 'glu_L_c_3_5'): 1.0, ('glc_D_c', 'glc_D_c_1_2_3'): 1.0, ('4pasp_c', '4pasp_c_1'): 1.0, ('gln_L_c', 'gln_L_c_2_3_4'): 1.0, ('fum_c', 'fum_c_1'): 1.0, ('mal_L_c', 'mal_L_c_1_4'): 1.0, ('2ddg6p_c', '2ddg6p_c_2_3'): 1.0, ('4abutn_c', '4abutn_c_1_2_3_4'): 1.0, ('ptrc_c', 'ptrc_c_1_3'): 1.0, ('dhap_c', 'dhap_c_1_2_3'): 1.0, ('glc_D_c', 'glc_D_c_1_2'): 1.0, ('hom_L_c', 'hom_L_c_2_3'): 1.0, ('dcamp_c', 'dcamp_c_1_4'): 1.0, ('pphn_c', 'pphn_c_10'): 1.0, ('oaa_c', 'oaa_c_1_2_4'): 1.0, ('dha_c', 'dha_c_3'): 1.0, ('arg_L_c', 'arg_L_c_2'): 1.0, ('gln_L_c', 'gln_L_c_5'): 1.0, ('fum_c', 'fum_c_1_2_3_4'): 1.0, ('ptrc_c', 'ptrc_c_2_4'): 1.0, ('orn_c', 'orn_c_2_3'): 1.0, ('sucsal_c', 'sucsal_c_1_4'): 1.0, ('fum_c', 'fum_c_1_2'): 1.0, ('cit_c', 'cit_c_3_4_5_6'): 1.0, ('r5p_c', 'r5p_c_3_4'): 1.0, ('pep_c', 'pep_c_3'): 1.0, ('25aics_c', '25aics_c_12'): 1.0, ('mal_L_c', 'mal_L_c_1_2_3'): 1.0, ('s7p_c', 's7p_c_7'): 1.0, ('oaa_c', 'oaa_c_1'): 1.0, ('agm_c', 'agm_c_4'): 1.0, ('6pgl_c', '6pgl_c_1'): 1.0, ('prpp_c', 'prpp_c_1_2_3_4_5'): 1.0, ('hom_L_c', 'hom_L_c_2_4'): 1.0, ('glx_c', 'glx_c_1'): 1.0, ('g6p_c', 'g6p_c_2'): 1.0, ('argsuc_c', 'argsuc_c_9'): 1.0, ('2ddg6p_c', '2ddg6p_c_6'): 1.0, ('succoa_c', 'succoa_c_3_4'): 1.0, ('4pasp_c', '4pasp_c_1_3'): 1.0, ('pyr_c', 'pyr_c_2'): 1.0, ('acg5p_c', 'acg5p_c_2_5'): 1.0, ('pep_c', 'pep_c_1'): 1.0, ('cit_c', 'cit_c_3_6'): 1.0, ('icit_c', 'icit_c_3_4_6'): 1.0, ('acg5sa_c', 'acg5sa_c_3'): 1.0, ('glu_L_c', 'glu_L_c_1'): 1.0, ('g6p_c', 'g6p_c_5_6'): 1.0, ('succoa_c', 'succoa_c_2_3_4'): 1.0, ('oaa_c', 'oaa_c_1_2_3'): 1.0, ('mal_L_c', 'mal_L_c_3'): 1.0, ('r5p_c', 'r5p_c_1_2'): 1.0, ('gln_L_c', 'gln_L_c_2'): 1.0, ('ru5p_D_c', 'ru5p_D_c_3_4'): 1.0, ('2pg_c', '2pg_c_1'): 1.0, ('succ_c', 'succ_c_1_2'): 1.0, ('ptrc_c', 'ptrc_c_1_2_3_4'): 1.0, ('acorn_c', 'acorn_c_3_4_5'): 1.0, ('6pgl_c', '6pgl_c_6'): 1.0, ('phom_c', 'phom_c_3'): 1.0, ('ptrc_c', 'ptrc_c_2_3_4'): 1.0, ('lac_L_c', 'lac_L_c_2'): 1.0, ('2ddg6p_c', '2ddg6p_c_4_6'): 1.0, ('acg5p_c', 'acg5p_c_3_4_5'): 1.0, ('akg_c', 'akg_c_2_4_5'): 1.0, ('4abut_c', '4abut_c_3'): 1.0, ('glc_D_c', 'glc_D_c_5_6'): 1.0, ('glc_D_c', 'glc_D_c_3_4_5_6'): 1.0, ('agm_c', 'agm_c_2_4'): 1.0, ('dhap_c', 'dhap_c_2'): 1.0, ('ser_L_c', 'ser_L_c_1'): 1.0, ('succ_c', 'succ_c_1_2_4'): 1.0, ('s7p_c', 's7p_c_5_6'): 1.0, ('acglu_c', 'acglu_c_3_4_5'): 1.0, ('acorn_c', 'acorn_c_2_3'): 1.0, ('lac_L_e', 'lac_L_e_2'): 1.0, ('citr_L_c', 'citr_L_c_4'): 1.0, ('dcamp_c', 'dcamp_c_1_2_4'): 1.0, ('f6p_c', 'f6p_c_5_6'): 1.0, ('g6p_c', 'g6p_c_4_5'): 1.0, ('acald_c', 'acald_c_2'): 1.0, ('acg5sa_c', 'acg5sa_c_2_3_4_5'): 1.0, ('25aics_c', '25aics_c_11_12'): 1.0, ('icit_c', 'icit_c_4_5_6'): 1.0, ('fdp_c', 'fdp_c_4_6'): 1.0, ('fdp_c', 'fdp_c_3'): 1.0, ('glc_D_c', 'glc_D_c_2_3_4_5_6'): 1.0, ('ptrc_c', 'ptrc_c_1'): 1.0, ('agm_c', 'agm_c_2_3_4'): 1.0, ('4abut_c', '4abut_c_2_3'): 1.0, ('acg5sa_c', 'acg5sa_c_2_3_4'): 1.0, ('dha_c', 'dha_c_1_2'): 1.0, ('4abutn_c', '4abutn_c_2_3'): 1.0, ('mal_L_c', 'mal_L_c_2_4'): 1.0, ('acg5p_c', 'acg5p_c_2_3_5'): 1.0, ('gln_L_c', 'gln_L_c_3_4_5'): 1.0, ('aspsa_c', 'aspsa_c_2'): 1.0, ('succ_c', 'succ_c_2_4'): 1.0, ('dcamp_c', 'dcamp_c_4'): 1.0, ('orn_c', 'orn_c_4'): 1.0, ('cit_c', 'cit_c_3_5_6'): 1.0, ('glc_D_e', 'glc_D_e_5'): 1.0, ('4abutn_c', '4abutn_c_1_3'): 1.0, ('succ_c', 'succ_c_1_2_3'): 1.0, ('akg_c', 'akg_c_2_4'): 1.0, ('cit_c', 'cit_c_2_3_4_5'): 1.0, ('argsuc_c', 'argsuc_c_4_5'): 1.0, ('icit_c', 'icit_c_3_5'): 1.0, ('f6p_c', 'f6p_c_2_3_4_5_6'): 1.0, ('3pg_c', '3pg_c_1_2'): 1.0, ('dcamp_c', 'dcamp_c_1_2_3'): 1.0, ('4abut_c', '4abut_c_2_4'): 1.0, ('sucsal_c', 'sucsal_c_1_2_4'): 1.0, ('2pg_c', '2pg_c_1_2'): 1.0, ('acg5sa_c', 'acg5sa_c_3_5'): 1.0, ('succoa_c', 'succoa_c_3'): 1.0, ('ru5p_D_c', 'ru5p_D_c_4'): 1.0, ('s7p_c', 's7p_c_6'): 1.0, ('g3p_c', 'g3p_c_1_3'): 1.0, ('hom_L_c', 'hom_L_c_2'): 1.0, ('asp_L_c', 'asp_L_c_4'): 1.0, ('6pgc_c', '6pgc_c_4_5'): 1.0, ('akg_c', 'akg_c_2_3_5'): 1.0, ('4pasp_c', '4pasp_c_3'): 1.0, ('acorn_c', 'acorn_c_3_4'): 1.0, ('argsuc_c', 'argsuc_c_7_8_9_10'): 1.0, ('fum_c', 'fum_c_3'): 1.0, ('hom_L_c', 'hom_L_c_1_3_4'): 1.0, ('acorn_c', 'acorn_c_2_3_4'): 1.0, ('glc_D_e', 'glc_D_e_3_4_5_6'): 1.0, ('succoa_c', 'succoa_c_2_3'): 1.0, ('cit_c', 'cit_c_2'): 1.0, ('icit_c', 'icit_c_2_3_5'): 1.0, ('g6p_c', 'g6p_c_2_3_4_5_6'): 1.0, ('e4p_c', 'e4p_c_2_3_4'): 1.0, ('e4p_c', 'e4p_c_3'): 1.0, ('dha_c', 'dha_c_1'): 1.0, ('xu5p_D_c', 'xu5p_D_c_5'): 1.0, ('glu_L_c', 'glu_L_c_2_4'): 1.0, ('s7p_c', 's7p_c_1_2_3'): 1.0, ('glu_L_c', 'glu_L_c_2_3_5'): 1.0, ('sucsal_c', 'sucsal_c_1_2'): 1.0, ('pyr_c', 'pyr_c_1_2_3'): 1.0, ('gln_L_c', 'gln_L_c_2_4'): 1.0, ('ptrc_c', 'ptrc_c_1_4'): 1.0, ('acglu_c', 'acglu_c_3'): 1.0, ('25aics_c', '25aics_c_10'): 1.0, ('succoa_c', 'succoa_c_1_2_3_4'): 1.0, ('agm_c', 'agm_c_2'): 1.0, ('gar_c', 'gar_c_6'): 1.0, ('ala_L_c', 'ala_L_c_1_2_3'): 1.0, ('sucsal_c', 'sucsal_c_2_4'): 1.0, ('glu_L_c', 'glu_L_c_3_4_5'): 1.0, ('s7p_c', 's7p_c_3_4'): 1.0, ('6pgc_c', '6pgc_c_3'): 1.0, ('fum_c', 'fum_c_1_2_4'): 1.0, ('6pgc_c', '6pgc_c_1_2_3'): 1.0, ('f6p_c', 'f6p_c_4_5'): 1.0, ('ala_L_c', 'ala_L_c_2_3'): 1.0, ('gln_L_c', 'gln_L_c_2_5'): 1.0, ('icit_c', 'icit_c_2_3_4'): 1.0, ('ru5p_D_c', 'ru5p_D_c_2'): 1.0, ('hom_L_c', 'hom_L_c_1_2'): 1.0, ('gln_L_c', 'gln_L_c_3_5'): 1.0, ('mal_L_c', 'mal_L_c_1'): 1.0, ('xu5p_D_c', 'xu5p_D_c_3_5'): 1.0, ('pyr_c', 'pyr_c_2_3'): 1.0, ('xu5p_D_c', 'xu5p_D_c_2'): 1.0, ('4abut_c', '4abut_c_1_3'): 1.0, ('25aics_c', '25aics_c_10_11'): 1.0, ('4abutn_c', '4abutn_c_1_2_4'): 1.0, ('argsuc_c', 'argsuc_c_8_9'): 1.0, ('TAC3_c', 'TAC3_c_2'): 1.0, ('aspsa_c', 'aspsa_c_1_2_3'): 1.0, ('succ_c', 'succ_c_2_3_4'): 1.0, ('fdp_c', 'fdp_c_4'): 1.0, ('akg_c', 'akg_c_4_5'): 1.0, ('fum_c', 'fum_c_1_3_4'): 1.0, ('phom_c', 'phom_c_1'): 1.0, ('xu5p_D_c', 'xu5p_D_c_3_4_5'): 1.0, ('ru5p_D_c', 'ru5p_D_c_1_2_3_4_5'): 1.0, ('25aics_c', '25aics_c_12_13'): 1.0, ('acg5p_c', 'acg5p_c_1'): 1.0, ('acorn_c', 'acorn_c_5'): 1.0, ('argsuc_c', 'argsuc_c_7_10'): 1.0, ('prpp_c', 'prpp_c_1_2'): 1.0, ('asp_L_c', 'asp_L_c_1_2'): 1.0, ('xu5p_D_c', 'xu5p_D_c_2_3_4_5'): 1.0, ('xu5p_D_c', 'xu5p_D_c_4_5'): 1.0, ('sucsal_c', 'sucsal_c_2_3_4'): 1.0, ('akg_c', 'akg_c_2'): 1.0, ('arg_L_c', 'arg_L_c_4'): 1.0, ('glc_D_e', 'glc_D_e_2_3_4_5_6'): 1.0, ('acg5p_c', 'acg5p_c_2_4_5'): 1.0, ('s7p_c', 's7p_c_5_6_7'): 1.0, ('pep_c', 'pep_c_1_2'): 1.0, ('cit_c', 'cit_c_2_4'): 1.0, ('4abutn_c', '4abutn_c_1_2_3'): 1.0, ('sucsal_c', 'sucsal_c_1_2_3'): 1.0, ('gln_L_c', 'gln_L_c_4'): 1.0, ('acorn_c', 'acorn_c_2_5'): 1.0, ('agm_c', 'agm_c_1_3'): 1.0, ('acglu_c', 'acglu_c_4_5'): 1.0, ('f6p_c', 'f6p_c_1_2'): 1.0, ('oaa_c', 'oaa_c_2_3_4'): 1.0, ('13dpg_c', '13dpg_c_3'): 1.0, ('ptrc_c', 'ptrc_c_3'): 1.0, ('s7p_c', 's7p_c_1_2'): 1.0, ('g6p_c', 'g6p_c_1_3'): 1.0, ('pser_L_c', 'pser_L_c_1'): 1.0, ('acg5sa_c', 'acg5sa_c_2_5'): 1.0, ('dcamp_c', 'dcamp_c_2_3_4'): 1.0, ('4pasp_c', '4pasp_c_2_4'): 1.0, ('glc_D_e', 'glc_D_e_4_5'): 1.0, ('citr_L_c', 'citr_L_c_2_3_4_5'): 1.0, ('glc_D_c', 'glc_D_c_2'): 1.0, ('citr_L_c', 'citr_L_c_4_5'): 1.0, ('4pasp_c', '4pasp_c_4'): 1.0, ('icit_c', 'icit_c_4'): 1.0, ('glc_D_c', 'glc_D_c_4_5'): 1.0, ('glc_D_e', 'glc_D_e_3'): 1.0, ('mal_L_c', 'mal_L_c_1_3'): 1.0, ('f6p_c', 'f6p_c_2_3'): 1.0, ('glc_D_e', 'glc_D_e_2_3'): 1.0, ('icit_c', 'icit_c_2_3'): 1.0, ('gln_L_c', 'gln_L_c_4_5'): 1.0, ('asp_L_c', 'asp_L_c_1_4'): 1.0, ('dcamp_c', 'dcamp_c_1_3'): 1.0, ('ru5p_D_c', 'ru5p_D_c_1_2'): 1.0, ('r5p_c', 'r5p_c_1_2_3_4_5'): 1.0, ('succoa_c', 'succoa_c_1'): 1.0, ('orn_c', 'orn_c_2'): 1.0, ('asp_L_c', 'asp_L_c_2'): 1.0, ('citr_L_c', 'citr_L_c_2_4'): 1.0, ('akg_c', 'akg_c_3_5'): 1.0, ('oaa_c', 'oaa_c_4'): 1.0, ('f6p_c', 'f6p_c_1'): 1.0, ('oaa_c', 'oaa_c_1_4'): 1.0, ('argsuc_c', 'argsuc_c_7_8_10'): 1.0, ('s7p_c', 's7p_c_6_7'): 1.0, ('xu5p_D_c', 'xu5p_D_c_1_2'): 1.0, ('g6p_c', 'g6p_c_5'): 1.0, ('asp_L_c', 'asp_L_c_1_3'): 1.0, ('25aics_c', '25aics_c_10_11_12_13'): 1.0, ('4abut_c', '4abut_c_1_2_4'): 1.0, ('2ddg6p_c', '2ddg6p_c_5'): 1.0, ('fum_c', 'fum_c_1_2_3'): 1.0, ('succ_c', 'succ_c_4'): 1.0, ('agm_c', 'agm_c_3'): 1.0, ('cit_c', 'cit_c_4'): 1.0, ('g3p_c', 'g3p_c_2'): 1.0, ('thr_L_c', 'thr_L_c_3'): 1.0, ('glu_L_c', 'glu_L_c_4'): 1.0, ('succ_c', 'succ_c_1_2_3_4'): 1.0, ('e4p_c', 'e4p_c_1'): 1.0, ('dha_c', 'dha_c_1_2_3'): 1.0, ('gln_L_c', 'gln_L_c_1'): 1.0, ('sucsal_c', 'sucsal_c_2'): 1.0, ('6pgl_c', '6pgl_c_3_4_5_6'): 1.0, ('akg_c', 'akg_c_3_4_5'): 1.0, ('cit_c', 'cit_c_2_4_5'): 1.0, ('xu5p_D_c', 'xu5p_D_c_3_4'): 1.0, ('ru5p_D_c', 'ru5p_D_c_5'): 1.0, ('argsuc_c', 'argsuc_c_2_3_4'): 1.0, ('glc_D_e', 'glc_D_e_1_3'): 1.0, ('f6p_c', 'f6p_c_6'): 1.0, ('6pgl_c', '6pgl_c_5'): 1.0, ('succ_c', 'succ_c_1_3_4'): 1.0, ('co2_c', 'co2_c_1'): 1.0, ('gln_L_c', 'gln_L_c_2_4_5'): 1.0, ('acglu_c', 'acglu_c_2_4'): 1.0, ('citr_L_c', 'citr_L_c_2_3_5'): 1.0, ('aspsa_c', 'aspsa_c_1_4'): 1.0, ('argsuc_c', 'argsuc_c_5'): 1.0, ('2ddg6p_c', '2ddg6p_c_2'): 1.0, ('6pgc_c', '6pgc_c_1'): 1.0, ('TKC2_c', 'TKC2_c_2'): 1.0, ('aspsa_c', 'aspsa_c_1_3_4'): 1.0, ('citr_L_c', 'citr_L_c_3_5'): 1.0, ('dhap_c', 'dhap_c_1'): 1.0, ('fdp_c', 'fdp_c_5_6'): 1.0, ('cit_c', 'cit_c_4_5_6'): 1.0, ('g6p_c', 'g6p_c_3_4_5_6'): 1.0, ('argsuc_c', 'argsuc_c_2_3_5'): 1.0, ('gly_c', 'gly_c_1'): 1.0, ('fum_c', 'fum_c_3_4'): 1.0, ('argsuc_c', 'argsuc_c_2_4_5'): 1.0, ('ala_L_c', 'ala_L_c_3'): 1.0, ('acorn_c', 'acorn_c_2_3_4_5'): 1.0, ('4pasp_c', '4pasp_c_1_2_3'): 1.0, ('asp_L_c', 'asp_L_c_1_3_4'): 1.0, ('25aics_c', '25aics_c_10_13'): 1.0, ('akg_c', 'akg_c_5'): 1.0, ('orn_c', 'orn_c_2_3_4_5'): 1.0, ('glc_D_e', 'glc_D_e_5_6'): 1.0, ('fdp_c', 'fdp_c_1_2'): 1.0, ('acg5p_c', 'acg5p_c_3_5'): 1.0, ('ru5p_D_c', 'ru5p_D_c_2_3_4_5'): 1.0, ('fdp_c', 'fdp_c_6'): 1.0, ('ptrc_c', 'ptrc_c_4'): 1.0, ('3psme_c', '3psme_c_10'): 1.0, ('25aics_c', '25aics_c_10_11_12'): 1.0, ('acg5p_c', 'acg5p_c_3'): 1.0, ('glc_D_c', 'glc_D_c_4_5_6'): 1.0, ('cit_c', 'cit_c_2_3_5'): 1.0, ('4abutn_c', '4abutn_c_2_4'): 1.0, ('argsuc_c', 'argsuc_c_2'): 1.0, ('argsuc_c', 'argsuc_c_7_9'): 1.0, ('arg_L_c', 'arg_L_c_2_5'): 1.0, ('icit_c', 'icit_c_1'): 1.0, ('argsuc_c', 'argsuc_c_2_4'): 1.0, ('fdp_c', 'fdp_c_2_3'): 1.0, ('4abutn_c', '4abutn_c_2_3_4'): 1.0, ('prpp_c', 'prpp_c_2_3_4_5'): 1.0, ('4pasp_c', '4pasp_c_3_4'): 1.0, ('etoh_e', 'etoh_e_1_2'): 1.0, ('agm_c', 'agm_c_1_3_4'): 1.0, ('oaa_c', 'oaa_c_2'): 1.0, ('cit_c', 'cit_c_4_5'): 1.0, ('ala_L_c', 'ala_L_c_1'): 1.0, ('fdp_c', 'fdp_c_1_3'): 1.0, ('hom_L_c', 'hom_L_c_1'): 1.0, ('thr_L_c', 'thr_L_c_3_4'): 1.0, ('acglu_c', 'acglu_c_2_3_5'): 1.0, ('g6p_c', 'g6p_c_4_5_6'): 1.0, ('s7p_c', 's7p_c_5'): 1.0, ('cit_c', 'cit_c_5_6'): 1.0, ('13dpg_c', '13dpg_c_1'): 1.0, ('argsuc_c', 'argsuc_c_3_4'): 1.0, ('acg5sa_c', 'acg5sa_c_2_3'): 1.0, ('glc_D_c', 'glc_D_c_1_2_3_4_5_6'): 1.0, ('argsuc_c', 'argsuc_c_7_8'): 1.0, ('acorn_c', 'acorn_c_2_4_5'): 1.0, ('icit_c', 'icit_c_6'): 1.0, ('ru5p_D_c', 'ru5p_D_c_3_4_5'): 1.0, ('acg5p_c', 'acg5p_c_4_5'): 1.0, ('4abut_c', '4abut_c_1_2_3'): 1.0, ('glc_D_e', 'glc_D_e_1'): 1.0, ('cit_c', 'cit_c_2_5'): 1.0, ('TKC2_c', 'TKC2_c_1_2'): 1.0, ('akg_c', 'akg_c_2_5'): 1.0, ('13dpg_c', '13dpg_c_1_2'): 1.0, ('acg5p_c', 'acg5p_c_3_4'): 1.0, ('glc_D_c', 'glc_D_c_1_3'): 1.0, ('cit_c', 'cit_c_1'): 1.0, ('icit_c', 'icit_c_2_3_4_5'): 1.0, ('orn_c', 'orn_c_2_3_5'): 1.0, ('2pg_c', '2pg_c_2_3'): 1.0, ('sucsal_c', 'sucsal_c_1_2_3_4'): 1.0, ('fdp_c', 'fdp_c_1_2_3'): 1.0, ('r5p_c', 'r5p_c_2'): 1.0, ('s7p_c', 's7p_c_2'): 1.0, ('aspsa_c', 'aspsa_c_2_4'): 1.0, ('ptrc_c', 'ptrc_c_2_3'): 1.0, ('aspsa_c', 'aspsa_c_3_4'): 1.0, ('cit_c', 'cit_c_3_4_5'): 1.0, ('fum_c', 'fum_c_1_3'): 1.0, ('r5p_c', 'r5p_c_3_4_5'): 1.0, ('orn_c', 'orn_c_4_5'): 1.0, ('r5p_c', 'r5p_c_3_5'): 1.0, ('4abut_c', '4abut_c_1_3_4'): 1.0, ('25aics_c', '25aics_c_13'): 1.0, ('4abutn_c', '4abutn_c_1_3_4'): 1.0, ('prpp_c', 'prpp_c_2'): 1.0, ('f6p_c', 'f6p_c_3'): 1.0, ('succoa_c', 'succoa_c_1_2'): 1.0, ('fum_c', 'fum_c_2_4'): 1.0, ('acglu_c', 'acglu_c_2_4_5'): 1.0, ('agm_c', 'agm_c_1_2_3_4'): 1.0, ('glx_c', 'glx_c_2'): 1.0, ('s7p_c', 's7p_c_2_3'): 1.0, ('g6p_c', 'g6p_c_3'): 1.0, ('arg_L_c', 'arg_L_c_4_5'): 1.0, ('hco3_c', 'hco3_c_1'): 1.0, ('6pgc_c', '6pgc_c_6'): 1.0, ('4pasp_c', '4pasp_c_1_4'): 1.0, ('4abut_c', '4abut_c_1_4'): 1.0, ('f6p_c', 'f6p_c_4_6'): 1.0, ('dcamp_c', 'dcamp_c_3'): 1.0, ('4abutn_c', '4abutn_c_1'): 1.0, ('acglu_c', 'acglu_c_3_4'): 1.0, ('cit_c', 'cit_c_6'): 1.0, ('thr_L_c', 'thr_L_c_1'): 1.0, ('acg5p_c', 'acg5p_c_2_4'): 1.0, ('glu_L_c', 'glu_L_c_2'): 1.0, ('prpp_c', 'prpp_c_4'): 1.0, ('cit_c', 'cit_c_5'): 1.0, ('mal_L_c', 'mal_L_c_4'): 1.0, ('icit_c', 'icit_c_5_6'): 1.0, ('icit_c', 'icit_c_3_4_5_6'): 1.0, ('xu5p_D_c', 'xu5p_D_c_1'): 1.0, ('gln_L_c', 'gln_L_c_3'): 1.0, ('hom_L_c', 'hom_L_c_3'): 1.0, ('sucsal_c', 'sucsal_c_4'): 1.0, ('orn_c', 'orn_c_2_5'): 1.0, ('ru5p_D_c', 'ru5p_D_c_3_5'): 1.0, ('TAC3_c', 'TAC3_c_1'): 1.0, ('2pg_c', '2pg_c_2'): 1.0, ('succ_c', 'succ_c_1_3'): 1.0, ('acg5p_c', 'acg5p_c_2_3_4_5'): 1.0, ('pep_c', 'pep_c_2'): 1.0, ('acald_c', 'acald_c_1'): 1.0, ('prpp_c', 'prpp_c_3_4_5'): 1.0, ('phom_c', 'phom_c_4'): 1.0, ('agm_c', 'agm_c_1_2_4'): 1.0, ('argsuc_c', 'argsuc_c_7_9_10'): 1.0, ('lac_L_c', 'lac_L_c_3'): 1.0, ('acg5p_c', 'acg5p_c_4'): 1.0, ('glu_L_c', 'glu_L_c_2_4_5'): 1.0, ('aspsa_c', 'aspsa_c_1_2'): 1.0, ('argsuc_c', 'argsuc_c_7'): 1.0, ('lac_L_e', 'lac_L_e_1_2_3'): 1.0, ('pyr_c', 'pyr_c_1'): 1.0, ('xu5p_D_c', 'xu5p_D_c_1_2_3_4_5'): 1.0, ('dhap_c', 'dhap_c_3'): 1.0, ('TAC3_c', 'TAC3_c_1_2'): 1.0, ('s7p_c', 's7p_c_5_7'): 1.0, ('citr_L_c', 'citr_L_c_2_4_5'): 1.0, ('4abutn_c', '4abutn_c_3'): 1.0, ('citr_L_c', 'citr_L_c_5'): 1.0, ('mal_L_c', 'mal_L_c_1_2_3_4'): 1.0, ('25aics_c', '25aics_c_11_13'): 1.0, ('acg5sa_c', 'acg5sa_c_1'): 1.0, ('13dpg_c', '13dpg_c_2_3'): 1.0, ('agm_c', 'agm_c_1_2_3'): 1.0, ('s7p_c', 's7p_c_4_5_6_7'): 1.0, ('ptrc_c', 'ptrc_c_1_3_4'): 1.0, ('dha_c', 'dha_c_1_3'): 1.0, ('orn_c', 'orn_c_3_4'): 1.0, ('acorn_c', 'acorn_c_1'): 1.0, ('citr_L_c', 'citr_L_c_2_3_4'): 1.0, ('icit_c', 'icit_c_3'): 1.0, ('orn_c', 'orn_c_5'): 1.0, ('glc_D_e', 'glc_D_e_6'): 1.0, ('prpp_c', 'prpp_c_3_4'): 1.0, ('4pasp_c', '4pasp_c_1_2'): 1.0, ('pep_c', 'pep_c_2_3'): 1.0, ('lac_L_e', 'lac_L_e_2_3'): 1.0, ('citr_L_c', 'citr_L_c_2'): 1.0, ('3pg_c', '3pg_c_1_3'): 1.0, ('4pasp_c', '4pasp_c_1_3_4'): 1.0, ('s7p_c', 's7p_c_3_4_5_6_7'): 1.0, ('oaa_c', 'oaa_c_1_2_3_4'): 1.0, ('hom_L_c', 'hom_L_c_4'): 1.0, ('asp_L_c', 'asp_L_c_1_2_3_4'): 1.0, ('e4p_c', 'e4p_c_2_3'): 1.0, ('oaa_c', 'oaa_c_1_2'): 1.0, ('3pg_c', '3pg_c_2'): 1.0, ('6pgc_c', '6pgc_c_3_4_5_6'): 1.0, ('glc_D_c', 'glc_D_c_2_3'): 1.0, ('argsuc_c', 'argsuc_c_3_4_5'): 1.0, ('dhap_c', 'dhap_c_1_2'): 1.0, ('akg_c', 'akg_c_2_3_4'): 1.0, ('gln_L_c', 'gln_L_c_2_3_4_5'): 1.0, ('glu_L_c', 'glu_L_c_3_4'): 1.0, ('icit_c', 'icit_c_3_5_6'): 1.0, ('acorn_c', 'acorn_c_3_5'): 1.0, ('gln_L_c', 'gln_L_c_2_3_5'): 1.0, ('g6p_c', 'g6p_c_1_2_3_4_5_6'): 1.0, ('6pgc_c', '6pgc_c_2'): 1.0, ('arg_L_c', 'arg_L_c_2_4'): 1.0, ('acglu_c', 'acglu_c_3_5'): 1.0, ('cit_c', 'cit_c_3_5'): 1.0, ('dcamp_c', 'dcamp_c_3_4'): 1.0, ('g6p_c', 'g6p_c_2_3'): 1.0, ('4abut_c', '4abut_c_1_2_3_4'): 1.0, ('TAC3_c', 'TAC3_c_1_2_3'): 1.0, ('accoa_c', 'accoa_c_1_2'): 1.0, ('r5p_c', 'r5p_c_5'): 1.0, ('g3p_c', 'g3p_c_1'): 1.0, ('sucsal_c', 'sucsal_c_3_4'): 1.0, ('asp_L_c', 'asp_L_c_2_3_4'): 1.0, ('succ_c', 'succ_c_1'): 1.0, ('e4p_c', 'e4p_c_4'): 1.0, ('dha_c', 'dha_c_2'): 1.0, ('4pasp_c', '4pasp_c_1_2_3_4'): 1.0, ('fdp_c', 'fdp_c_4_5_6'): 1.0, ('arg_L_c', 'arg_L_c_3_4_5'): 1.0, ('g3p_c', 'g3p_c_1_2'): 1.0, ('icit_c', 'icit_c_2'): 1.0, ('sucsal_c', 'sucsal_c_1'): 1.0, ('2ddg6p_c', '2ddg6p_c_5_6'): 1.0, ('glu_L_c', 'glu_L_c_2_3_4'): 1.0, ('4abutn_c', '4abutn_c_4'): 1.0, ('sucsal_c', 'sucsal_c_1_3'): 1.0, ('gln_L_c', 'gln_L_c_2_3'): 1.0, ('aspsa_c', 'aspsa_c_1_2_4'): 1.0, ('g3p_c', 'g3p_c_1_2_3'): 1.0, ('f6p_c', 'f6p_c_4_5_6'): 1.0, ('6pgc_c', '6pgc_c_4_5_6'): 1.0, ('25aics_c', '25aics_c_11'): 1.0, ('f6p_c', 'f6p_c_5'): 1.0, ('glc_D_c', 'glc_D_c_4_6'): 1.0, ('succoa_c', 'succoa_c_2_4'): 1.0, ('6pgl_c', '6pgl_c_4_5'): 1.0, ('6pgc_c', '6pgc_c_2_3'): 1.0, ('g6p_c', 'g6p_c_1'): 1.0, ('sucsal_c', 'sucsal_c_2_3'): 1.0, ('argsuc_c', 'argsuc_c_8_9_10'): 1.0, ('argsuc_c', 'argsuc_c_8'): 1.0, ('asp_L_c', 'asp_L_c_3_4'): 1.0, ('2ddg6p_c', '2ddg6p_c_1'): 1.0, ('6pgc_c', '6pgc_c_4'): 1.0, ('25aics_c', '25aics_c_11_12_13'): 1.0, ('f6p_c', 'f6p_c_1_2_3'): 1.0, ('glc_D_e', 'glc_D_e_1_2_3_4_5_6'): 1.0, ('6pgl_c', '6pgl_c_2_3'): 1.0, ('hom_L_c', 'hom_L_c_1_3'): 1.0, ('mal_L_c', 'mal_L_c_2'): 1.0, ('4pasp_c', '4pasp_c_1_2_4'): 1.0, ('g6p_c', 'g6p_c_1_2_3'): 1.0, ('xu5p_D_c', 'xu5p_D_c_3'): 1.0, ('4abutn_c', '4abutn_c_3_4'): 1.0, ('ptrc_c', 'ptrc_c_1_2_3'): 1.0, ('asp_L_c', 'asp_L_c_2_4'): 1.0, ('TAC3_c', 'TAC3_c_3'): 1.0, ('fdp_c', 'fdp_c_5'): 1.0, ('dcamp_c', 'dcamp_c_1_3_4'): 1.0, ('arg_L_c', 'arg_L_c_2_3_4'): 1.0, ('lac_L_c', 'lac_L_c_1'): 1.0, ('4pasp_c', '4pasp_c_2_3_4'): 1.0, ('ptrc_c', 'ptrc_c_3_4'): 1.0, ('argsuc_c', 'argsuc_c_1'): 1.0, ('cit_c', 'cit_c_1_2'): 1.0, ('4abut_c', '4abut_c_2'): 1.0, ('etoh_c', 'etoh_c_1_2'): 1.0, ('r5p_c', 'r5p_c_4'): 1.0, ('asp_L_c', 'asp_L_c_1_2_3'): 1.0, ('sucsal_c', 'sucsal_c_1_3_4'): 1.0, ('arg_L_c', 'arg_L_c_5'): 1.0, ('2pg_c', '2pg_c_1_2_3'): 1.0, ('aspsa_c', 'aspsa_c_1'): 1.0, ('glc_D_c', 'glc_D_c_4'): 1.0, ('3pg_c', '3pg_c_1'): 1.0, ('pep_c', 'pep_c_1_3'): 1.0, ('cit_c', 'cit_c_2_3'): 1.0, ('acglu_c', 'acglu_c_2_3_4_5'): 1.0, ('g6p_c', 'g6p_c_4_6'): 1.0, ('lac_L_e', 'lac_L_e_1'): 1.0, ('akg_c', 'akg_c_2_3_4_5'): 1.0, ('agm_c', 'agm_c_3_4'): 1.0, ('fdp_c', 'fdp_c_2'): 1.0, ('f6p_c', 'f6p_c_1_3'): 1.0, ('dcamp_c', 'dcamp_c_1'): 1.0, ('lac_L_c', 'lac_L_c_1_2_3'): 1.0, ('icit_c', 'icit_c_4_5'): 1.0, ('s7p_c', 's7p_c_1_3'): 1.0, ('3pg_c', '3pg_c_1_2_3'): 1.0, ('acg5sa_c', 'acg5sa_c_2_4'): 1.0, ('4pasp_c', '4pasp_c_2_3'): 1.0, ('glc_D_c', 'glc_D_c_3'): 1.0, ('glx_c', 'glx_c_1_2'): 1.0, ('orn_c', 'orn_c_3'): 1.0, ('glc_D_e', 'glc_D_e_4'): 1.0, ('hom_L_c', 'hom_L_c_1_2_3_4'): 1.0, ('akg_c', 'akg_c_1'): 1.0, ('dcamp_c', 'dcamp_c_2_3'): 1.0, ('4abutn_c', '4abutn_c_1_2'): 1.0, ('f6p_c', 'f6p_c_2'): 1.0, ('arg_L_c', 'arg_L_c_2_3_4_5'): 1.0, ('dha_c', 'dha_c_2_3'): 1.0, ('succoa_c', 'succoa_c_1_3_4'): 1.0, ('acorn_c', 'acorn_c_2_4'): 1.0, ('acg5sa_c', 'acg5sa_c_3_4'): 1.0, ('4abutn_c', '4abutn_c_2'): 1.0, ('s7p_c', 's7p_c_1'): 1.0, ('mal_L_c', 'mal_L_c_2_3'): 1.0, ('cit_c', 'cit_c_3_4_6'): 1.0, ('f6p_c', 'f6p_c_3_4_5_6'): 1.0, ('asp_L_c', 'asp_L_c_3'): 1.0, ('6pgc_c', '6pgc_c_4_6'): 1.0, ('citr_L_c', 'citr_L_c_2_3'): 1.0, ('r5p_c', 'r5p_c_2_3_4_5'): 1.0, ('prpp_c', 'prpp_c_5'): 1.0, ('2pg_c', '2pg_c_1_3'): 1.0, ('4pasp_c', '4pasp_c_2'): 1.0, ('glc_D_c', 'glc_D_c_1'): 1.0, ('g6p_c', 'g6p_c_6'): 1.0, ('fum_c', 'fum_c_2'): 1.0, ('orn_c', 'orn_c_2_4_5'): 1.0, ('2ddg6p_c', '2ddg6p_c_4_5_6'): 1.0, ('dcamp_c', 'dcamp_c_2_4'): 1.0, ('acorn_c', 'acorn_c_2_3_5'): 1.0, ('icit_c', 'icit_c_2_4'): 1.0, ('r5p_c', 'r5p_c_3'): 1.0, ('g3p_c', 'g3p_c_3'): 1.0, ('thr_L_c', 'thr_L_c_4'): 1.0, ('glu_L_c', 'glu_L_c_5'): 1.0, ('hom_L_c', 'hom_L_c_1_4'): 1.0, ('e4p_c', 'e4p_c_2'): 1.0, ('acorn_c', 'acorn_c_4_5'): 1.0, ('glu_L_c', 'glu_L_c_2_5'): 1.0, ('dcamp_c', 'dcamp_c_2'): 1.0, ('oaa_c', 'oaa_c_2_3'): 1.0, ('sucsal_c', 'sucsal_c_3'): 1.0, ('accoa_c', 'accoa_c_1'): 1.0, ('asp_L_c', 'asp_L_c_2_3'): 1.0, ('ru5p_D_c', 'ru5p_D_c_1'): 1.0, ('lac_L_e', 'lac_L_e_3'): 1.0, ('icit_c', 'icit_c_2_5'): 1.0, ('mal_L_c', 'mal_L_c_2_3_4'): 1.0, ('succoa_c', 'succoa_c_4'): 1.0, ('ru5p_D_c', 'ru5p_D_c_3'): 1.0, ('acglu_c', 'acglu_c_2'): 1.0, ('4abut_c', '4abut_c_3_4'): 1.0, ('lac_L_c', 'lac_L_c_2_3'): 1.0, ('agm_c', 'agm_c_1'): 1.0, ('6pgl_c', '6pgl_c_2'): 1.0, ('chor_c', 'chor_c_10'): 1.0, ('acglu_c', 'acglu_c_2_3'): 1.0, ('arg_L_c', 'arg_L_c_2_3'): 1.0, ('2ddg6p_c', '2ddg6p_c_3'): 1.0, ('accoa_c', 'accoa_c_2'): 1.0, ('succ_c', 'succ_c_2'): 1.0, ('argsuc_c', 'argsuc_c_7_8_9'): 1.0, ('3php_c', '3php_c_1'): 1.0, ('f6p_c', 'f6p_c_4'): 1.0, ('3pg_c', '3pg_c_2_3'): 1.0, ('arg_L_c', 'arg_L_c_2_4_5'): 1.0, ('6pgc_c', '6pgc_c_2_3_4_5_6'): 1.0, ('icit_c', 'icit_c_3_4_5'): 1.0, ('6pgl_c', '6pgl_c_3'): 1.0, ('glu_L_c', 'glu_L_c_2_3_4_5'): 1.0, ('gln_L_c', 'gln_L_c_3_4'): 1.0, ('4abut_c', '4abut_c_1_2'): 1.0, ('25aics_c', '25aics_c_10_12'): 1.0, ('xu5p_D_c', 'xu5p_D_c_4'): 1.0, ('akg_c', 'akg_c_3'): 1.0, ('dhap_c', 'dhap_c_1_3'): 1.0, ('acg5sa_c', 'acg5sa_c_4'): 1.0, ('oaa_c', 'oaa_c_2_4'): 1.0, ('2ddg6p_c', '2ddg6p_c_4_5'): 1.0, ('cit_c', 'cit_c_2_3_4'): 1.0, ('argsuc_c', 'argsuc_c_3'): 1.0, ('acorn_c', 'acorn_c_4'): 1.0, ('4abut_c', '4abut_c_4'): 1.0, ('acglu_c', 'acglu_c_5'): 1.0, ('glc_D_e', 'glc_D_e_2'): 1.0, ('argsuc_c', 'argsuc_c_2_3'): 1.0, ('icit_c', 'icit_c_5'): 1.0, ('agm_c', 'agm_c_2_3'): 1.0, ('6pgl_c', '6pgl_c_2_3_4_5_6'): 1.0, ('argsuc_c', 'argsuc_c_2_3_4_5'): 1.0, ('arg_L_c', 'arg_L_c_3'): 1.0, ('aspsa_c', 'aspsa_c_3'): 1.0, ('acg5sa_c', 'acg5sa_c_2_3_5'): 1.0, ('phom_c', 'phom_c_3_4'): 1.0, ('ala_L_c', 'ala_L_c_2'): 1.0, ('citr_L_c', 'citr_L_c_1'): 1.0, ('ptrc_c', 'ptrc_c_1_2'): 1.0, ('acglu_c', 'acglu_c_2_3_4'): 1.0, ('agm_c', 'agm_c_1_2'): 1.0, ('e4p_c', 'e4p_c_2_4'): 1.0, ('fdp_c', 'fdp_c_4_5'): 1.0, ('e4p_c', 'e4p_c_1_2_3_4'): 1.0, ('13dpg_c', '13dpg_c_2'): 1.0, ('ptrc_c', 'ptrc_c_2'): 1.0, ('argsuc_c', 'argsuc_c_3_5'): 1.0, ('4abut_c', '4abut_c_2_3_4'): 1.0, ('g6p_c', 'g6p_c_1_2'): 1.0, ('acglu_c', 'acglu_c_1'): 1.0, ('cit_c', 'cit_c_3'): 1.0, ('argsuc_c', 'argsuc_c_9_10'): 1.0, ('glc_D_e', 'glc_D_e_4_6'): 1.0, ('s7p_c', 's7p_c_1_2_3_4_5_6_7'): 1.0, ('succ_c', 'succ_c_2_3'): 1.0, ('arg_L_c', 'arg_L_c_3_4'): 1.0, ('25aics_c', '25aics_c_10_12_13'): 1.0, ('orn_c', 'orn_c_1'): 1.0, ('fdp_c', 'fdp_c_1_2_3_4_5_6'): 1.0, ('argsuc_c', 'argsuc_c_8_10'): 1.0, ('mal_L_c', 'mal_L_c_1_2'): 1.0, ('4abutn_c', '4abutn_c_1_4'): 1.0, ('13dpg_c', '13dpg_c_1_3'): 1.0, ('prpp_c', 'prpp_c_1'): 1.0, ('e4p_c', 'e4p_c_3_4'): 1.0, ('TAC3_c', 'TAC3_c_2_3'): 1.0, ('icit_c', 'icit_c_3_6'): 1.0, ('dcamp_c', 'dcamp_c_1_2'): 1.0, ('f6p_c', 'f6p_c_1_2_3_4_5_6'): 1.0, ('orn_c', 'orn_c_2_3_4'): 1.0, ('succ_c', 'succ_c_3_4'): 1.0, ('dhap_c', 'dhap_c_2_3'): 1.0}\n"
     ]
    }
   ],
   "source": [
    "MetEMUPar = emuListA.getMetEMUPar()\n",
    "print MetEMUPar.name\n",
    "print MetEMUPar.elements"
   ]
  },
  {
   "cell_type": "markdown",
   "metadata": {},
   "source": [
    "The function **getEMUNCarbons** produces the number of carbons for each emu as in GAMS parameter format:"
   ]
  },
  {
   "cell_type": "code",
   "execution_count": 34,
   "metadata": {
    "collapsed": false
   },
   "outputs": [
    {
     "name": "stdout",
     "output_type": "stream",
     "text": [
      "ncarbons\n",
      "{('sucsal_c_1_2_3',): 3.0, ('e4p_c_2_3',): 2.0, ('accoa_c_1_2',): 2.0, ('13dpg_c_1',): 1.0, ('dhap_c_1_2_3',): 3.0, ('6pgl_c_2_3_4_5_6',): 5.0, ('3pg_c_1',): 1.0, ('acorn_c_2_4',): 2.0, ('acg5p_c_5',): 1.0, ('mal_L_c_4',): 1.0, ('dcamp_c_1_3',): 2.0, ('oaa_c_3',): 1.0, ('accoa_c_1_2oaa_c_1',): 3.0, ('pep_c_1_2_3',): 3.0, ('fdp_c_1_2_3_4_5_6',): 6.0, ('3pg_c_1_2',): 2.0, ('4abutn_c_1_2',): 2.0, ('ptrc_c_2',): 1.0, ('6pgc_c_1_2_3',): 3.0, ('f6p_c_1',): 1.0, ('pyr_c_2_3',): 2.0, ('glc_D_c_2_3',): 2.0, ('2ddg6p_c_5_6',): 2.0, ('dha_c_3',): 1.0, ('25aics_c_11_12',): 2.0, ('glc_D_e_2',): 1.0, ('argsuc_c_2_3_4_5',): 4.0, ('agm_c_1_2_3',): 3.0, ('accoa_c_1glx_c_2',): 2.0, ('orn_c_2_4_5',): 3.0, ('2ddg6p_c_4_6',): 2.0, ('xu5p_D_c_3_4_5',): 3.0, ('succoa_c_1_2_3',): 3.0, ('ptrc_c_1_2_3',): 3.0, ('6pgc_c_5_6',): 2.0, ('g6p_c_1_2_3_4_5_6',): 6.0, ('succoa_c_4',): 1.0, ('citr_L_c_5',): 1.0, ('acglu_c_3_4',): 2.0, ('glc_D_c_1_2',): 2.0, ('mal_L_c_1_2_3',): 3.0, ('phom_c_4',): 1.0, ('citr_L_c_3_4',): 2.0, ('6pgc_c_6',): 1.0, ('icit_c_2',): 1.0, ('glc_D_e_5',): 1.0, ('glc_D_c_4_6',): 2.0, ('hom_L_c_3_4',): 2.0, ('e4p_c_3_4',): 2.0, ('r5p_c_1',): 1.0, ('fdp_c_3',): 1.0, ('acg5p_c_3_4',): 2.0, ('TAC3_c_1_2_3e4p_c_1_2_3_4',): 7.0, ('succoa_c_3',): 1.0, ('f6p_c_1_3',): 2.0, ('xu5p_D_c_3_4',): 2.0, ('acorn_c_3_4_5',): 3.0, ('accoa_c_2oaa_c_2',): 2.0, ('TKC2_c_1_2g3p_c_1_2_3',): 5.0, ('gln_L_c_2_4_5',): 3.0, ('s7p_c_2',): 1.0, ('succoa_c_1_4',): 2.0, ('oaa_c_1_2',): 2.0, ('mal_L_c_1_4',): 2.0, ('ru5p_D_c_5',): 1.0, ('cit_c_3_4_6',): 3.0, ('agm_c_1_3',): 2.0, ('acg5p_c_3_4_5',): 3.0, ('2pg_c_1_2_3',): 3.0, ('acg5sa_c_3_5',): 2.0, ('2ddg6p_c_1',): 1.0, ('orn_c_2_3_4',): 3.0, ('acorn_c_3_4',): 2.0, ('icit_c_2_5',): 2.0, ('co2_c_1pep_c_3',): 2.0, ('fum_c_4',): 1.0, ('glu_L_c_2',): 1.0, ('glc_D_e_2_3_4_5_6',): 5.0, ('gln_L_c_3_4',): 2.0, ('xu5p_D_c_3_5',): 2.0, ('dcamp_c_2_3_4',): 3.0, ('s7p_c_1_2_3',): 3.0, ('glc_D_e_4_6',): 2.0, ('orn_c_2',): 1.0, ('gln_L_c_4_5',): 2.0, ('25aics_c_10_12',): 2.0, ('orn_c_5',): 1.0, ('sucsal_c_1_2_3_4',): 4.0, ('TKC2_c_2g3p_c_1_2_3',): 4.0, ('pser_L_c_1',): 1.0, ('4pasp_c_3_4',): 2.0, ('acglu_c_2_3_4',): 3.0, ('glu_L_c_5',): 1.0, ('acg5sa_c_3',): 1.0, ('accoa_c_2',): 1.0, ('lac_L_c_3',): 1.0, ('cit_c_5',): 1.0, ('orn_c_2_5',): 2.0, ('13dpg_c_1_3',): 2.0, ('g6p_c_2_3',): 2.0, ('argsuc_c_9',): 1.0, ('r5p_c_4_5',): 2.0, ('s7p_c_5_7',): 2.0, ('succoa_c_2_3_4',): 3.0, ('r5p_c_3_5',): 2.0, ('acglu_c_2_4',): 2.0, ('icit_c_4_5',): 2.0, ('argsuc_c_7_8_9_10',): 4.0, ('akg_c_2_3',): 2.0, ('acg5p_c_1',): 1.0, ('argsuc_c_3_4',): 2.0, ('thr_L_c_4',): 1.0, ('r5p_c_5',): 1.0, ('4abutn_c_1_2_3',): 3.0, ('acg5p_c_2_4',): 2.0, ('4pasp_c_1_2_3',): 3.0, ('s7p_c_2_3',): 2.0, ('arg_L_c_2',): 1.0, ('akg_c_3',): 1.0, ('agm_c_3_4',): 2.0, ('s7p_c_3',): 1.0, ('4abut_c_1_3_4',): 3.0, ('co2_c_1',): 1.0, ('4pasp_c_1_4',): 2.0, ('2ddg6p_c_4_5',): 2.0, ('mal_L_c_1_3_4',): 3.0, ('lac_L_e_3',): 1.0, ('TAC3_c_1_2_3',): 3.0, ('glc_D_c_3',): 1.0, ('acg5p_c_2_3',): 2.0, ('acglu_c_3',): 1.0, ('dcamp_c_3_4',): 2.0, ('dcamp_c_2',): 1.0, ('25aics_c_11_12_13',): 3.0, ('acg5sa_c_2_5',): 2.0, ('fdp_c_2_3',): 2.0, ('TKC2_c_2r5p_c_1',): 2.0, ('f6p_c_6',): 1.0, ('icit_c_3_5',): 2.0, ('succ_c_1_4',): 2.0, ('gln_L_c_4',): 1.0, ('pep_c_2_3',): 2.0, ('4pasp_c_3',): 1.0, ('glc_D_e_4_5_6',): 3.0, ('6pgc_c_2',): 1.0, ('6pgl_c_4_5_6',): 3.0, ('glc_D_e_1',): 1.0, ('fdp_c_1_2',): 2.0, ('gly_c_1',): 1.0, ('asp_L_c_1_3',): 2.0, ('succ_c_1_3_4',): 3.0, ('icit_c_3_4_6',): 3.0, ('g3p_c_2',): 1.0, ('e4p_c_3',): 1.0, ('6pgc_c_3_4_5_6',): 4.0, ('g3p_c_1_3',): 2.0, ('akg_c_3_4_5',): 3.0, ('arg_L_c_3_5',): 2.0, ('2pg_c_3',): 1.0, ('6pgl_c_1',): 1.0, ('cit_c_3_5',): 2.0, ('mal_L_c_1_2_4',): 3.0, ('asp_L_c_2_3_4',): 3.0, ('asp_L_c_3',): 1.0, ('succ_c_2',): 1.0, ('acglu_c_4_5',): 2.0, ('aspsa_c_1_2_3_4',): 4.0, ('cit_c_2',): 1.0, ('acg5sa_c_2_3',): 2.0, ('cit_c_1_2',): 2.0, ('sucsal_c_4',): 1.0, ('TAC3_c_1_2',): 2.0, ('agm_c_1_3_4',): 3.0, ('g6p_c_1',): 1.0, ('25aics_c_12_13',): 2.0, ('dhap_c_1',): 1.0, ('6pgl_c_4',): 1.0, ('glx_c_1',): 1.0, ('succ_c_3_4',): 2.0, ('glc_D_e_1_2_3_4_5_6',): 6.0, ('g6p_c_1_2_3',): 3.0, ('akg_c_2_4',): 2.0, ('2ddg6p_c_5',): 1.0, ('mal_L_c_2',): 1.0, ('agm_c_2',): 1.0, ('aspsa_c_3_4',): 2.0, ('sucsal_c_3_4',): 2.0, ('TKC2_c_1e4p_c_1',): 2.0, ('glu_L_c_2_3',): 2.0, ('ru5p_D_c_2_3_4_5',): 4.0, ('4abut_c_1',): 1.0, ('glc_D_c_3_4_5_6',): 4.0, ('accoa_c_1_2glx_c_1',): 3.0, ('ru5p_D_c_2',): 1.0, ('asp_L_c_1_2_3_4',): 4.0, ('4abut_c_2_3',): 2.0, ('2pg_c_1_3',): 2.0, ('icit_c_5',): 1.0, ('glu_L_c_3_5',): 2.0, ('TAC3_c_3',): 1.0, ('TAC3_c_3e4p_c_1',): 2.0, ('hom_L_c_3',): 1.0, ('citr_L_c_3',): 1.0, ('s7p_c_6',): 1.0, ('4abut_c_1_3',): 2.0, ('icit_c_2_3_5',): 3.0, ('arg_L_c_2_3',): 2.0, ('co2_c_1pep_c_1_2_3',): 4.0, ('acg5p_c_2_4_5',): 3.0, ('fum_c_1',): 1.0, ('glu_L_c_1',): 1.0, ('glu_L_c_2_4',): 2.0, ('citr_L_c_2_5',): 2.0, ('TKC2_c_2',): 1.0, ('agm_c_1_2_4',): 3.0, ('asp_L_c_3_4',): 2.0, ('argsuc_c_5',): 1.0, ('acorn_c_3',): 1.0, ('gln_L_c_2_3',): 2.0, ('pep_c_1_2',): 2.0, ('argsuc_c_2_3_5',): 3.0, ('acg5sa_c_4_5',): 2.0, ('icit_c_1',): 1.0, ('lac_L_e_2_3',): 2.0, ('TKC2_c_1r5p_c_1',): 2.0, ('prpp_c_2_3_4_5',): 4.0, ('accoa_c_1',): 1.0, ('TKC2_c_2e4p_c_1',): 2.0, ('aspsa_c_3',): 1.0, ('glc_D_e_1_3',): 2.0, ('ru5p_D_c_3_4_5',): 3.0, ('etoh_e_1_2',): 2.0, ('6pgl_c_2_3',): 2.0, ('icit_c_3_4_5',): 3.0, ('arg_L_c_4_5',): 2.0, ('acglu_c_2_3',): 2.0, ('g6p_c_4',): 1.0, ('argsuc_c_10',): 1.0, ('4abutn_c_2_3',): 2.0, ('g6p_c_2_3_4_5_6',): 5.0, ('cit_c_2_3',): 2.0, ('acorn_c_2_5',): 2.0, ('acg5p_c_2',): 1.0, ('mal_L_c_1_2',): 2.0, ('dcamp_c_1_2',): 2.0, ('oaa_c_2',): 1.0, ('4abutn_c_1_2_4',): 3.0, ('dcamp_c_1_3_4',): 3.0, ('2pg_c_1',): 1.0, ('fum_c_1_2_3_4',): 4.0, ('pyr_c_3',): 1.0, ('ptrc_c_3',): 1.0, ('cit_c_5_6',): 2.0, ('f6p_c_2',): 1.0, ('4abutn_c_2_4',): 2.0, ('acorn_c_2_3_4_5',): 4.0, ('6pgl_c_4_5',): 2.0, ('dha_c_2',): 1.0, ('accoa_c_2oaa_c_1_2',): 3.0, ('4abutn_c_3',): 1.0, ('glc_D_c_6',): 1.0, ('accoa_c_1glx_c_1',): 2.0, ('TAC3_c_1_3',): 2.0, ('xu5p_D_c_1_2',): 2.0, ('succoa_c_1_2_4',): 3.0, ('argsuc_c_1',): 1.0, ('succoa_c_2_3',): 2.0, ('acorn_c_5',): 1.0, ('orn_c_1',): 1.0, ('acald_c_1_2',): 2.0, ('xu5p_D_c_5',): 1.0, ('6pgl_c_1_2_3',): 3.0, ('gln_L_c_1',): 1.0, ('pep_c_1',): 1.0, ('s7p_c_5',): 1.0, ('acglu_c_3_5',): 2.0, ('phom_c_3',): 1.0, ('citr_L_c_3_5',): 2.0, ('6pgc_c_5',): 1.0, ('prpp_c_3_5',): 2.0, ('akg_c_4_5',): 2.0, ('glc_D_e_4',): 1.0, ('ala_L_c_3',): 1.0, ('r5p_c_2_3_4_5',): 4.0, ('icit_c_3_4',): 2.0, ('TKC2_c_1',): 1.0, ('acg5p_c_3_5',): 2.0, ('hom_L_c_2_3',): 2.0, ('succoa_c_2',): 1.0, ('akg_c_2_3_4',): 3.0, ('akg_c_3_5',): 2.0, ('xu5p_D_c_1',): 1.0, ('argsuc_c_2_5',): 2.0, ('succ_c_1',): 1.0, ('4pasp_c_2_3',): 2.0, ('accoa_c_2oaa_c_3',): 2.0, ('acg5p_c_2_3_5',): 3.0, ('acald_c_2',): 1.0, ('dcamp_c_1_2_3',): 3.0, ('sucsal_c_1',): 1.0, ('accoa_c_1oaa_c_2_3',): 3.0, ('4abut_c_3_4',): 2.0, ('25aics_c_10_11_12_13',): 4.0, ('glu_L_c_2_3_4_5',): 4.0, ('agm_c_1_2',): 2.0, ('glc_D_e_4_5',): 2.0, ('ru5p_D_c_3_5',): 2.0, ('accoa_c_1oaa_c_1_2',): 3.0, ('argsuc_c_8_10',): 2.0, ('TAC3_c_3e4p_c_1_2_3_4',): 5.0, ('acg5sa_c_3_4',): 2.0, ('2ddg6p_c_6',): 1.0, ('orn_c_2_3_5',): 3.0, ('orn_c_3_5',): 2.0, ('icit_c_2_4',): 2.0, ('agm_c_1',): 1.0, ('argsuc_c_7_8',): 2.0, ('25aics_c_11',): 1.0, ('4pasp_c_2',): 1.0, ('fdp_c_4_6',): 2.0, ('e4p_c_4',): 1.0, ('asp_L_c_2_3',): 2.0, ('cit_c_4_6',): 2.0, ('asp_L_c_1_2_3',): 3.0, ('oaa_c_1_2_4',): 3.0, ('fum_c_2_3_4',): 3.0, ('cit_c_3_5_6',): 3.0, ('xu5p_D_c_2_3_4_5',): 4.0, ('citr_L_c_4',): 1.0, ('acorn_c_2_3_4',): 3.0, ('icit_c_2_3_4_5',): 4.0, ('arg_L_c_2_4',): 2.0, ('fum_c_2_4',): 2.0, ('glu_L_c_4',): 1.0, ('glc_D_e_3_4_5_6',): 4.0, ('acg5sa_c_2',): 1.0, ('4abutn_c_2_3_4',): 3.0, ('lac_L_c_2',): 1.0, ('succoa_c_1_2_3_4',): 4.0, ('cit_c_6',): 1.0, ('acorn_c_4_5',): 2.0, ('25aics_c_10_11',): 2.0, ('13dpg_c_1_2',): 2.0, ('asp_L_c_1_2_4',): 3.0, ('ptrc_c_1_2_3_4',): 4.0, ('r5p_c_3_4',): 2.0, ('oaa_c_1_2_3',): 3.0, ('icit_c_1_2',): 2.0, ('hom_L_c_1_2_3',): 3.0, ('dhap_c_2_3',): 2.0, ('dcamp_c_2_4',): 2.0, ('fdp_c_5_6',): 2.0, ('orn_c_2_3',): 2.0, ('acg5sa_c_5',): 1.0, ('mal_L_c_3',): 1.0, ('ru5p_D_c_1_2',): 2.0, ('argsuc_c_3_5',): 2.0, ('aspsa_c_4',): 1.0, ('r5p_c_4',): 1.0, ('succoa_c_3_4',): 2.0, ('orn_c_2_4',): 2.0, ('r5p_c_3_4_5',): 3.0, ('s7p_c_4_5_6_7',): 4.0, ('arg_L_c_1',): 1.0, ('akg_c_2',): 1.0, ('asp_L_c_1',): 1.0, ('4abutn_c_2',): 1.0, ('4pasp_c_2_4',): 2.0, ('hom_L_c_1_2_4',): 3.0, ('s7p_c_5_6_7',): 3.0, ('f6p_c_4_6',): 2.0, ('fum_c_3_4',): 2.0, ('2ddg6p_c_2',): 1.0, ('argsuc_c_7_10',): 2.0, ('g6p_c_4_5_6',): 3.0, ('lac_L_e_2',): 1.0, ('acglu_c_2_5',): 2.0, ('co2_c_1pep_c_1_2',): 3.0, ('glc_D_c_2',): 1.0, ('hom_L_c_1_2_3_4',): 4.0, ('etoh_c_1_2',): 2.0, ('acglu_c_4',): 1.0, ('g6p_c_1_3',): 2.0, ('acglu_c_2_4_5',): 3.0, ('ptrc_c_4',): 1.0, ('asp_L_c_2',): 1.0, ('icit_c_3_6',): 2.0, ('succ_c_1_3',): 2.0, ('gln_L_c_5',): 1.0, ('argsuc_c_9_10',): 2.0, ('aspsa_c_1_2_4',): 3.0, ('mal_L_c_2_3_4',): 3.0, ('prpp_c_4',): 1.0, ('dha_c_1',): 1.0, ('dhap_c_1_2_3g3p_c_1_2_3',): 6.0, ('fdp_c_1_3',): 2.0, ('asp_L_c_1_2',): 2.0, ('acorn_c_2_4_5',): 3.0, ('prpp_c_4_5',): 2.0, ('hom_L_c_2_4',): 2.0, ('dcamp_c_4',): 1.0, ('succoa_c_2_4',): 2.0, ('glc_D_e_5_6',): 2.0, ('f6p_c_5_6',): 2.0, ('arg_L_c_3_4',): 2.0, ('g3p_c_3',): 1.0, ('cit_c_3_6',): 2.0, ('akg_c_2_4_5',): 3.0, ('TKC2_c_1_2r5p_c_1_2_3_4_5',): 7.0, ('prpp_c_3_4_5',): 3.0, ('f6p_c_2_3_4_5_6',): 5.0, ('argsuc_c_7_8_9',): 3.0, ('s7p_c_7',): 1.0, ('mal_L_c_1_2_3_4',): 4.0, ('pyr_c_1_2_3',): 3.0, ('ptrc_c_1_4',): 2.0, ('dcamp_c_1_2_3_4',): 4.0, ('TAC3_c_2_3',): 2.0, ('oaa_c_2_3',): 2.0, ('dhap_c_2',): 1.0, ('6pgl_c_5',): 1.0, ('s7p_c_6_7',): 2.0, ('aspsa_c_1_3_4',): 3.0, ('lac_L_c_1_2_3',): 3.0, ('xu5p_D_c_2',): 1.0, ('pyr_c_2',): 1.0, ('cit_c_1',): 1.0, ('ru5p_D_c_1',): 1.0, ('13dpg_c_1_2_3',): 3.0, ('4abut_c_2',): 1.0, ('lac_L_e_1_2_3',): 3.0, ('sucsal_c_1_2',): 2.0, ('accoa_c_1_2glx_c_2',): 3.0, ('g6p_c_5_6',): 2.0, ('ru5p_D_c_3',): 1.0, ('oaa_c_2_4',): 2.0, ('glx_c_1_2',): 2.0, ('icit_c_6',): 1.0, ('glu_L_c_3_4',): 2.0, ('acglu_c_2_3_4_5',): 4.0, ('hom_L_c_2',): 1.0, ('2ddg6p_c_3',): 1.0, ('25aics_c_10_12_13',): 3.0, ('icit_c_2_3',): 2.0, ('icit_c_2_3_4',): 3.0, ('cit_c_2_3_5',): 3.0, ('co2_c_1pep_c_1',): 2.0, ('glc_D_c_4_5_6',): 3.0, ('fum_c_2',): 1.0, ('fdp_c_4_5',): 2.0, ('glu_L_c_2_5',): 2.0, ('citr_L_c_2_4',): 2.0, ('TAC3_c_1_2_3g3p_c_1_2_3',): 6.0, ('TKC2_c_1_2e4p_c_1_2_3_4',): 6.0, ('oaa_c_1_2_3_4',): 4.0, ('citr_L_c_2_3_5',): 3.0, ('accoa_c_1_2oaa_c_2',): 3.0, ('argsuc_c_2',): 1.0, ('acorn_c_2',): 1.0, ('agm_c_1_2_3_4',): 4.0, ('argsuc_c_3_4_5',): 3.0, ('argsuc_c_2_3_4',): 3.0, ('fum_c_1_3_4',): 3.0, ('glc_D_c_5_6',): 2.0, ('s7p_c_1',): 1.0, ('gln_L_c_2_3_5',): 3.0, ('fum_c_2_3',): 2.0, ('succ_c_1_2_4',): 3.0, ('acg5sa_c_1',): 1.0, ('citr_L_c_2_3',): 2.0, ('thr_L_c_3',): 1.0, ('glc_D_e_1_2',): 2.0, ('icit_c_5_6',): 2.0, ('6pgc_c_4_5',): 2.0, ('fum_c_1_2',): 2.0, ('acg5sa_c_2_4_5',): 3.0, ('4pasp_c_1_2_3_4',): 4.0, ('25aics_c_10',): 1.0, ('arg_L_c_5',): 1.0, ('f6p_c_4_5_6',): 3.0, ('13dpg_c_3',): 1.0, ('e4p_c_2_3_4',): 3.0, ('3pg_c_3',): 1.0, ('hom_L_c_2_3_4',): 3.0, ('acg5p_c_3',): 1.0, ('lac_L_e_1',): 1.0, ('arg_L_c_2_3_5',): 3.0, ('r5p_c_3',): 1.0, ('dha_c_1_2_3',): 3.0, ('g6p_c_4_6',): 2.0, ('citr_L_c_2_4_5',): 3.0, ('arg_L_c_2_4_5',): 3.0, ('glc_D_c_2_3_4_5_6',): 5.0, ('oaa_c_4',): 1.0, ('25aics_c_10_11_13',): 3.0, ('akg_c_5',): 1.0, ('gln_L_c_3_4_5',): 3.0, ('asp_L_c_4',): 1.0, ('ru5p_D_c_1_2_3_4_5',): 5.0, ('3pg_c_1_3',): 2.0, ('4abutn_c_1',): 1.0, ('f6p_c_3',): 1.0, ('glu_L_c_2_4_5',): 3.0, ('4pasp_c_1_2',): 2.0, ('cit_c_2_5',): 2.0, ('TAC3_c_3g3p_c_1_2_3',): 4.0, ('aspsa_c_1_2',): 2.0, ('mal_L_c_1_3',): 2.0, ('agm_c_2_3',): 2.0, ('mal_L_c_3_4',): 2.0, ('4pasp_c_1_3_4',): 3.0, ('glc_D_c_5',): 1.0, ('s7p_c_3_4_5_6_7',): 5.0, ('acglu_c_1',): 1.0, ('6pgl_c_4_6',): 2.0, ('gar_c_6',): 1.0, ('cit_c_2_3_4_5',): 4.0, ('oaa_c_3_4',): 2.0, ('4abut_c_1_2_3_4',): 4.0, ('g6p_c_3',): 1.0, ('f6p_c_4',): 1.0, ('s7p_c_1_2',): 2.0, ('4abut_c_1_2_4',): 3.0, ('ptrc_c_1_2',): 2.0, ('6pgc_c_4',): 1.0, ('prpp_c_3_4',): 2.0, ('2ddg6p_c_4',): 1.0, ('mal_L_c_2_3',): 2.0, ('2pg_c_1_2',): 2.0, ('ala_L_c_2',): 1.0, ('argsuc_c_8_9',): 2.0, ('25aics_c_11_13',): 2.0, ('fdp_c_1',): 1.0, ('ptrc_c_1_2_4',): 3.0, ('fum_c_1_2_4',): 3.0, ('dha_c_1_3',): 2.0, ('hom_L_c_1_4',): 2.0, ('xu5p_D_c_4',): 1.0, ('succoa_c_1',): 1.0, ('TKC2_c_1_2e4p_c_1',): 3.0, ('akg_c_3_4',): 2.0, ('orn_c_3_4_5',): 3.0, ('mal_L_c_2_4',): 2.0, ('acg5p_c_2_3_4',): 3.0, ('acald_c_1',): 1.0, ('sucsal_c_2',): 1.0, ('argsuc_c_2_3',): 2.0, ('acg5sa_c_2_3_4_5',): 4.0, ('fum_c_1_2_3',): 3.0, ('2ddg6p_c_4_5_6',): 3.0, ('6pgl_c_2',): 1.0, ('f6p_c_1_2_3',): 3.0, ('citr_L_c_2_3_4_5',): 4.0, ('succ_c_2_4',): 2.0, ('orn_c_3_4',): 2.0, ('4abut_c_1_4',): 2.0, ('pep_c_3',): 1.0, ('argsuc_c_7_9',): 2.0, ('acg5p_c_2_3_4_5',): 4.0, ('25aics_c_12',): 1.0, ('acg5sa_c_3_4_5',): 3.0, ('glc_D_e_2_3',): 2.0, ('succoa_c_1_3',): 2.0, ('arg_L_c_3_4_5',): 3.0, ('gln_L_c_2_3_4_5',): 4.0, ('cit_c_4_5',): 2.0, ('oaa_c_1',): 1.0, ('icit_c_3',): 1.0, ('TAC3_c_1',): 1.0, ('2ddg6p_c_1_2_3',): 3.0, ('akg_c_2_3_5',): 3.0, ('acorn_c_2_3_5',): 3.0, ('arg_L_c_2_5',): 2.0, ('dhap_c_1_2',): 2.0, ('g3p_c_2_3',): 2.0, ('f6p_c_2_3',): 2.0, ('acg5sa_c_4',): 1.0, ('lac_L_c_1',): 1.0, ('glu_L_c_3_4_5',): 3.0, ('accoa_c_1_2oaa_c_3',): 3.0, ('argsuc_c_7',): 1.0, ('acorn_c_1',): 1.0, ('2pg_c_2_3',): 2.0, ('gln_L_c_2_5',): 2.0, ('ala_L_c_2_3',): 2.0, ('acg5sa_c_2_3_4',): 3.0, ('sucsal_c_2_3_4',): 3.0, ('4abut_c_2_3_4',): 3.0, ('glu_L_c_2_3_4',): 3.0, ('3pg_c_2_3',): 2.0, ('3pg_c_1_2_3',): 3.0, ('4abutn_c_1_4',): 2.0, ('TKC2_c_2e4p_c_1_2_3_4',): 5.0, ('3php_c_1',): 1.0, ('hom_L_c_1_3_4',): 3.0, ('cit_c_4_5_6',): 3.0, ('e4p_c_2_4',): 2.0, ('dcamp_c_1_2_4',): 3.0, ('25aics_c_10_11_12',): 3.0, ('akg_c_1',): 1.0, ('r5p_c_1_2_3_4_5',): 5.0, ('dcamp_c_2_3',): 2.0, ('g6p_c_2',): 1.0, ('lac_L_c_2_3',): 2.0, ('f6p_c_4_5',): 2.0, ('4abutn_c_1_3',): 2.0, ('accoa_c_2glx_c_1_2',): 3.0, ('acg5p_c_4',): 1.0, ('3pg_c_2',): 1.0, ('f6p_c_3_4_5_6',): 4.0, ('argsuc_c_2_4',): 2.0, ('co2_c_1pep_c_1_3',): 3.0, ('glc_D_c_1',): 1.0, ('acglu_c_5',): 1.0, ('accoa_c_1oaa_c_1',): 2.0, ('icit_c_4_5_6',): 3.0, ('g6p_c_1_2',): 2.0, ('pyr_c_1',): 1.0, ('4abutn_c_4',): 1.0, ('TKC2_c_1_2',): 2.0, ('succ_c_1_2',): 2.0, ('acglu_c_3_4_5',): 3.0, ('orn_c_2_3_4_5',): 4.0, ('4pasp_c_1',): 1.0, ('icit_c_2_4_5',): 3.0, ('cit_c_2_4_5',): 3.0, ('glc_D_e_3',): 1.0, ('arg_L_c_2_3_4',): 3.0, ('ru5p_D_c_3_4',): 2.0, ('fdp_c_5',): 1.0, ('succ_c_2_3_4',): 3.0, ('accoa_c_2glx_c_1',): 2.0, ('4pasp_c_2_3_4',): 3.0, ('arg_L_c_2_3_4_5',): 4.0, ('ptrc_c_2_3_4',): 3.0, ('gln_L_c_3',): 1.0, ('accoa_c_1_2oaa_c_2_3',): 4.0, ('glc_D_c_1_3',): 2.0, ('succ_c_4',): 1.0, ('prpp_c_5',): 1.0, ('agm_c_4',): 1.0, ('glc_D_c_4_5',): 2.0, ('s7p_c_4',): 1.0, ('asp_L_c_1_4',): 2.0, ('oaa_c_1_4',): 2.0, ('fdp_c_2',): 1.0, ('4abutn_c_1_3_4',): 3.0, ('s7p_c_1_2_3_4_5_6_7',): 7.0, ('cit_c_3_4_5',): 3.0, ('g6p_c_4_5',): 2.0, ('fdp_c_1_2_3',): 3.0, ('citr_L_c_4_5',): 2.0, ('dhap_c_3',): 1.0, ('6pgl_c_6',): 1.0, ('6pgc_c_1',): 1.0, ('oaa_c_2_3_4',): 3.0, ('accoa_c_2oaa_c_2_3',): 3.0, ('phom_c_3_4',): 2.0, ('xu5p_D_c_3',): 1.0, ('f6p_c_1_2',): 2.0, ('4abutn_c_3_4',): 2.0, ('ser_L_c_1',): 1.0, ('accoa_c_2oaa_c_1',): 2.0, ('4abut_c_3',): 1.0, ('gln_L_c_3_5',): 2.0, ('sucsal_c_1_3',): 2.0, ('oaa_c_1_3',): 2.0, ('asp_L_c_2_4',): 2.0, ('fdp_c_4_5_6',): 3.0, ('ru5p_D_c_4',): 1.0, ('13dpg_c_2_3',): 2.0, ('agm_c_1_4',): 2.0, ('argsuc_c_2_4_5',): 3.0, ('orn_c_4',): 1.0, ('citr_L_c_3_4_5',): 3.0, ('hom_L_c_1',): 1.0, ('citr_L_c_1',): 1.0, ('hom_L_c_1_2',): 2.0, ('acorn_c_3_5',): 2.0, ('argsuc_c_7_9_10',): 3.0, ('cit_c_2_3_4',): 3.0, ('co2_c_1pep_c_2',): 2.0, ('fum_c_3',): 1.0, ('glu_L_c_3',): 1.0, ('2ddg6p_c_2_3',): 2.0, ('glc_D_e_1_2_3',): 3.0, ('4abut_c_4',): 1.0, ('accoa_c_1glx_c_1_2',): 3.0, ('argsuc_c_7_8_10',): 3.0, ('cit_c_3',): 1.0, ('citr_L_c_2_3_4',): 3.0, ('4abut_c_2_4',): 2.0, ('acg5p_c_4_5',): 2.0, ('accoa_c_1oaa_c_2',): 2.0, ('argsuc_c_3',): 1.0, ('orn_c_3',): 1.0, ('ala_L_c_1_2_3',): 3.0, ('aspsa_c_2_3',): 2.0, ('succ_c_2_3',): 2.0, ('fdp_c_4',): 1.0, ('gln_L_c_2_3_4',): 3.0, ('aspsa_c_2_4',): 2.0, ('sucsal_c_2_4',): 2.0, ('ptrc_c_1_3_4',): 3.0, ('argsuc_c_8_9_10',): 3.0, ('icit_c_3_5_6',): 3.0, ('acglu_c_2_3_5',): 3.0, ('akg_c_2_5',): 2.0, ('succ_c_1_2_3_4',): 4.0, ('aspsa_c_1',): 1.0, ('cit_c_4',): 1.0, ('6pgc_c_4_6',): 2.0, ('orn_c_4_5',): 2.0, ('6pgc_c_4_5_6',): 3.0, ('fum_c_1_3',): 2.0, ('succ_c_1_2_3',): 3.0, ('argsuc_c_8',): 1.0, ('acorn_c_4',): 1.0, ('arg_L_c_4',): 1.0, ('s7p_c_5_6',): 2.0, ('g6p_c_3_4_5_6',): 4.0, ('g6p_c_6',): 1.0, ('icit_c_4_6',): 2.0, ('agm_c_2_3_4',): 3.0, ('13dpg_c_2',): 1.0, ('icit_c_3_4_5_6',): 4.0, ('accoa_c_1oaa_c_3',): 2.0, ('thr_L_c_3_4',): 2.0, ('mal_L_c_1',): 1.0, ('r5p_c_2',): 1.0, ('hco3_c_1',): 1.0, ('acg5p_c_2_5',): 2.0, ('prpp_c_1_2',): 2.0, ('arg_L_c_3',): 1.0, ('akg_c_4',): 1.0, ('ptrc_c_3_4',): 2.0, ('4abutn_c_1_2_3_4',): 4.0, ('ptrc_c_1',): 1.0, ('2pg_c_2',): 1.0, ('TKC2_c_1_2r5p_c_1',): 3.0, ('gln_L_c_2',): 1.0, ('4pasp_c_1_3',): 2.0, ('aspsa_c_1_2_3',): 3.0, ('cit_c_2_4',): 2.0, ('aspsa_c_1_3',): 2.0, ('agm_c_2_4',): 2.0, ('cit_c_3_4_5_6',): 4.0, ('glc_D_c_4',): 1.0, ('acglu_c_2',): 1.0, ('dcamp_c_3',): 1.0, ('chor_c_10',): 1.0, ('argsuc_c_4_5',): 2.0, ('e4p_c_2',): 1.0, ('acg5sa_c_2_4',): 2.0, ('f6p_c_5',): 1.0, ('ru5p_D_c_4_5',): 2.0, ('prpp_c_2',): 1.0, ('s7p_c_1_3',): 2.0, ('oaa_c_1_3_4',): 3.0, ('4abut_c_1_2_3',): 3.0, ('ptrc_c_1_3',): 2.0, ('aspsa_c_1_4',): 2.0, ('phom_c_1',): 1.0, ('f6p_c_1_2_3_4_5_6',): 6.0, ('6pgc_c_3',): 1.0, ('glc_D_e_6',): 1.0, ('6pgc_c_2_3',): 2.0, ('TAC3_c_2_3g3p_c_1_2_3',): 5.0, ('ala_L_c_1',): 1.0, ('6pgl_c_3_4_5_6',): 4.0, ('hom_L_c_1_3',): 2.0, ('fdp_c_6',): 1.0, ('r5p_c_1_2',): 2.0, ('dha_c_1_2',): 2.0, ('accoa_c_2glx_c_2',): 2.0, ('g3p_c_1_2',): 2.0, ('4pasp_c_4',): 1.0, ('cit_c_3_4',): 2.0, ('succ_c_3',): 1.0, ('dcamp_c_1',): 1.0, ('dha_c_2_3',): 2.0, ('6pgc_c_2_3_4_5_6',): 5.0, ('sucsal_c_3',): 1.0, ('prpp_c_1',): 1.0, ('succoa_c_1_3_4',): 3.0, ('thr_L_c_1',): 1.0, ('glu_L_c_4_5',): 2.0, ('accoa_c_1_2glx_c_1_2',): 4.0, ('6pgl_c_3',): 1.0, ('glx_c_2',): 1.0, ('glc_D_c_1_2_3',): 3.0, ('3psme_c_10',): 1.0, ('agm_c_3',): 1.0, ('pep_c_2',): 1.0, ('25aics_c_13',): 1.0, ('g3p_c_1_2_3',): 3.0, ('prpp_c_3',): 1.0, ('sucsal_c_1_4',): 2.0, ('succoa_c_1_2',): 2.0, ('pphn_c_10',): 1.0, ('s7p_c_3_4',): 2.0, ('xu5p_D_c_1_2_3_4_5',): 5.0, ('icit_c_4',): 1.0, ('TAC3_c_2',): 1.0, ('25aics_c_10_13',): 2.0, ('hom_L_c_4',): 1.0, ('citr_L_c_2',): 1.0, ('4abut_c_1_2',): 2.0, ('g3p_c_1',): 1.0, ('dhap_c_1_3',): 2.0, ('e4p_c_1',): 1.0, ('glc_D_c_1_2_3_4_5_6',): 6.0, ('akg_c_2_3_4_5',): 4.0, ('ptrc_c_2_4',): 2.0, ('argsuc_c_4',): 1.0, ('gln_L_c_2_4',): 2.0, ('pep_c_1_3',): 2.0, ('acg5sa_c_2_3_5',): 3.0, ('prpp_c_1_2_3_4_5',): 5.0, ('aspsa_c_2_3_4',): 3.0, ('glu_L_c_2_3_5',): 3.0, ('sucsal_c_1_2_4',): 3.0, ('sucsal_c_2_3',): 2.0, ('acorn_c_2_3',): 2.0, ('aspsa_c_2',): 1.0, ('dcamp_c_1_4',): 2.0, ('co2_c_1pep_c_2_3',): 3.0, ('asp_L_c_1_3_4',): 3.0, ('e4p_c_1_2_3_4',): 4.0, ('fum_c_1_4',): 2.0, ('4pasp_c_1_2_4',): 3.0, ('ptrc_c_2_3',): 2.0, ('6pgl_c_5_6',): 2.0, ('accoa_c_1_2oaa_c_1_2',): 4.0, ('g6p_c_5',): 1.0, ('sucsal_c_1_3_4',): 3.0, ('xu5p_D_c_4_5',): 2.0}\n"
     ]
    }
   ],
   "source": [
    "EMUNCarbons = emuListA.getEMUNCarbons()\n",
    "print EMUNCarbons.name\n",
    "print EMUNCarbons.elements"
   ]
  },
  {
   "cell_type": "markdown",
   "metadata": {},
   "source": [
    "The function **getAllEMUSet** provides all relevant emus in a GAMS set format:"
   ]
  },
  {
   "cell_type": "code",
   "execution_count": 35,
   "metadata": {
    "collapsed": false,
    "scrolled": true
   },
   "outputs": [
    {
     "name": "stdout",
     "output_type": "stream",
     "text": [
      "allemu\n",
      "set(['glu_L_c_2_3_4_5', 'g6p_c_4_6', 'dcamp_c_1_2_3_4', 'g6p_c_4_5', '4abut_c_2_4', 's7p_c_1_2_3', '4abut_c_2_3', 'oaa_c_1_3', 'g6p_c_2_3', 'asp_L_c_3_4', 'accoa_c_1_2glx_c_1_2', 'accoa_c_1glx_c_2', 'accoa_c_1glx_c_1', 'etoh_c_1_2', 'asp_L_c_1_4', 'argsuc_c_8_9', 'asp_L_c_1_3', 'asp_L_c_1_2', 'glc_D_c_3_4_5_6', 'lac_L_e_1_2_3', 'mal_L_c_1_2_3_4', 'e4p_c_1', '2pg_c_1', 'TAC3_c_1_2_3g3p_c_1_2_3', 'accoa_c_1glx_c_1_2', 'e4p_c_4', 'icit_c_6', 'acg5p_c_2_5', 'acg5p_c_2_4', 'argsuc_c_3_4', 'argsuc_c_3_5', 'glc_D_e_3_4_5_6', 'aspsa_c_1_2_3_4', 'pep_c_1_2_3', 'TKC2_c_1e4p_c_1', 'ser_L_c_1', 'fdp_c_3', 'orn_c_2_4_5', 's7p_c_1_3', 'glc_D_c_4_5_6', 'pser_L_c_1', 'co2_c_1', '13dpg_c_1', '13dpg_c_3', '13dpg_c_2', 'orn_c_2', 'hom_L_c_2_4', 'f6p_c_2_3', 'mal_L_c_4', 'mal_L_c_1', 'mal_L_c_3', 'mal_L_c_2', 'phom_c_4', 'phom_c_3', 'phom_c_1', '6pgc_c_4_5', 'dcamp_c_1_3', 'r5p_c_2_3_4_5', '25aics_c_11_13', 'argsuc_c_7_8', 'argsuc_c_7_9', 'sucsal_c_2_3', 'sucsal_c_2_4', 'icit_c_2_3_4_5', 'f6p_c_4_6', 'f6p_c_4_5', 'e4p_c_2_3', 'argsuc_c_10', 'argsuc_c_7_8_9_10', 'pep_c_2_3', 'TKC2_c_2', 'arg_L_c_3_5', 'arg_L_c_3_4', 'accoa_c_1_2oaa_c_2_3', 's7p_c_6_7', 'arg_L_c_2_3', 'gln_L_c_4_5', '2ddg6p_c_1_2_3', 'hom_L_c_4', 'hom_L_c_3', 'hom_L_c_2', 'hom_L_c_1', 'sucsal_c_1', 'fum_c_1_3_4', 'r5p_c_1_2_3_4_5', 'g6p_c_1_3', 'g6p_c_1_2', 's7p_c_2_3', '6pgc_c_5_6', 'pyr_c_2_3', 'ru5p_D_c_4_5', 'akg_c_3_4_5', 'ptrc_c_2_3_4', 'glx_c_2', 'glx_c_1', 'cit_c_3_5_6', 'TAC3_c_1', 'TAC3_c_2', 'TAC3_c_3', 'ptrc_c_1_2_3_4', 'gln_L_c_2_5', 'gln_L_c_2_4', 'gln_L_c_2_3', 'arg_L_c_3', 'arg_L_c_2', 'arg_L_c_1', '25aics_c_10_11_12', '6pgl_c_5_6', 'arg_L_c_5', 'arg_L_c_4', 'gar_c_6', 'chor_c_10', 'mal_L_c_1_2', 'ptrc_c_1_2_4', 'sucsal_c_4', 'ptrc_c_1_2_3', '25aics_c_10_11_12_13', 'acg5sa_c_2_3_4_5', 'glu_L_c_4_5', 's7p_c_1_2_3_4_5_6_7', 'g6p_c_5_6', 'orn_c_4_5', 'acorn_c_4_5', 'agm_c_1_2_4', 'citr_L_c_2_4_5', 'e4p_c_3', 'glc_D_c_6', 'glc_D_c_5', 'glc_D_c_4', 'glc_D_c_3', 'glc_D_c_2', 'glc_D_c_1', 'ala_L_c_2', '4pasp_c_1_3_4', '6pgc_c_2_3_4_5_6', 'citr_L_c_2_3', 'glu_L_c_2_4', 'glu_L_c_2_5', 'glu_L_c_2_3', '4abut_c_3_4', '6pgl_c_4_5_6', 'oaa_c_1_2_3_4', 'dcamp_c_2_3_4', 'asp_L_c_2_3', 'succoa_c_1_3', 'succoa_c_1_2', 'succoa_c_1_4', 'asp_L_c_2_4', 'mal_L_c_1_4', 'cit_c_4', 'cit_c_5', 'cit_c_6', 'cit_c_1', 'cit_c_2', 'cit_c_3', 'succoa_c_3_4', 'sucsal_c_2', 'acg5p_c_2_3', 'accoa_c_2oaa_c_1_2', 'oaa_c_4', 'sucsal_c_3', 'oaa_c_1', 'co2_c_1pep_c_1_3', 'oaa_c_3', 'oaa_c_2', 'glc_D_e_5', 'glc_D_e_4', 'glc_D_e_6', 'glc_D_e_1', 'glc_D_e_3', 'glc_D_e_2', 'acg5p_c_2_3_5', 'acg5p_c_2_3_4', 'dhap_c_1_2', 'f6p_c_2_3_4_5_6', 'fdp_c_4_5', 'fdp_c_4_6', 'succ_c_1_2_3_4', 'mal_L_c_3_4', 'acorn_c_2_4', 'acorn_c_2_5', 'hom_L_c_2_3_4', 'icit_c_3_4_5_6', 'orn_c_2_3', 'acorn_c_2_3', 'mal_L_c_2_3_4', 'acorn_c_2_3_4_5', 'TAC3_c_3g3p_c_1_2_3', 'akg_c_2_4_5', 'co2_c_1pep_c_1_2', '4abut_c_1', 'fdp_c_1_2_3_4_5_6', '4abut_c_1_2', '4abut_c_1_3', 'icit_c_2_3', '4abut_c_3', 'icit_c_2_5', 'icit_c_2_4', '4abut_c_1_4', 'glu_L_c_2_3_4', 'glu_L_c_2_3_5', 'hom_L_c_1_2_4', 's7p_c_6', 'icit_c_4_6', 'icit_c_4_5', 'hom_L_c_1_2_3', 'TAC3_c_3e4p_c_1', 'f6p_c_1_2', 'f6p_c_1_3', 'cit_c_2_3_5', 'cit_c_2_3_4', 'pep_c_3', 'pep_c_2', 'aspsa_c_3_4', 'TKC2_c_2e4p_c_1_2_3_4', 'sucsal_c_1_2_3_4', 'sucsal_c_1_2_3', '3pg_c_2_3', 'sucsal_c_1_2_4', 'glc_D_c_2_3', 's7p_c_5_6_7', 'gln_L_c_2', 'gln_L_c_3', 'gln_L_c_1', 'gln_L_c_4', 'gln_L_c_5', 'orn_c_5', 'argsuc_c_8_10', 'glc_D_c_1_2_3', 'acg5sa_c_2_3_4', 'acg5sa_c_2_3_5', 'argsuc_c_2_3_5', 'argsuc_c_2_3_4', 'accoa_c_1_2oaa_c_1_2', 'acg5p_c_5', 'succoa_c_2_3_4', 'acg5p_c_2', 'ptrc_c_3_4', 'succoa_c_2_4', 'succoa_c_2_3', 'fum_c_1_2_3', 'acg5p_c_1', 'fum_c_1_2_4', 'aspsa_c_1_4', '4pasp_c_3', '13dpg_c_1_3', '13dpg_c_1_2', 'glu_L_c_3_5', 'glu_L_c_3_4', 'agm_c_1_2_3_4', 'etoh_e_1_2', 'fum_c_2_3_4', '6pgl_c_2_3', 'aspsa_c_1_2', '2pg_c_2_3', 'gln_L_c_3_4', 'fum_c_1_2_3_4', 'g3p_c_2', 'dcamp_c_4', 'succoa_c_1_2_3', 'succoa_c_1_2_4', '6pgl_c_4_6', 'dcamp_c_3', 'dcamp_c_2', '4abutn_c_1_3_4', 'asp_L_c_2_3_4', 'pphn_c_10', 'ru5p_D_c_2', 'ru5p_D_c_3', 'ru5p_D_c_4', 'ru5p_D_c_5', 'orn_c_2_4', 'orn_c_2_5', 'aspsa_c_2', 'akg_c_4_5', '6pgc_c_4_6', 'hco3_c_1', '6pgc_c_2_3', 'fdp_c_1_2', 'fdp_c_1_3', 'argsuc_c_2_3_4_5', 'argsuc_c_7_8_9', 'glc_D_c_4_5', 'glc_D_c_4_6', 'orn_c_2_3_4_5', 'agm_c_2', '13dpg_c_1_2_3', 'TKC2_c_1_2g3p_c_1_2_3', 'f6p_c_5_6', 'accoa_c_2oaa_c_3', 'xu5p_D_c_3', 'thr_L_c_3_4', 'TKC2_c_1r5p_c_1', 'TKC2_c_2r5p_c_1', 'mal_L_c_1_3_4', 'argsuc_c_7_10', 'hom_L_c_1_3_4', 'co2_c_1pep_c_2_3', 'icit_c_5_6', 'TAC3_c_1_2_3', 'dha_c_1_2_3', 'dhap_c_1_2_3g3p_c_1_2_3', 'cit_c_2_4_5', 'hom_L_c_3_4', 'glu_L_c_3', 'cit_c_3_4_5_6', 'mal_L_c_2_4', 'glu_L_c_2', 'mal_L_c_2_3', 'g3p_c_1_2_3', 'accoa_c_2oaa_c_1', 'accoa_c_2oaa_c_2', 'akg_c_2_3', 'glu_L_c_5', 'glu_L_c_4', 'glu_L_c_1', '4abutn_c_1_2_3_4', 'f6p_c_4_5_6', 'argsuc_c_7_8_10', 'fdp_c_5_6', 'akg_c_2_4', 'akg_c_2_5', 'cit_c_2_5', 'cit_c_2_4', '3pg_c_1', 'cit_c_2_3', '3pg_c_3', 'acorn_c_3_4_5', 'succ_c_1_2_4', 'glc_D_c_1_3', 'glc_D_c_1_2', 'acorn_c_3_5', 'acorn_c_3_4', 'orn_c_3_5', 'orn_c_3_4', 'acg5p_c_2_4_5', '3php_c_1', '25aics_c_10_12_13', 'icit_c_1_2', 'fum_c_1', 'sucsal_c_3_4', 'glu_L_c_2_4_5', '4abutn_c_1_4', 'icit_c_3_4', 'icit_c_3_5', 'icit_c_3_6', 'TKC2_c_1_2', 'fum_c_4', 'TAC3_c_1_2_3e4p_c_1_2_3_4', 'TKC2_c_1_2e4p_c_1', 'acg5sa_c_3_5', 'acg5sa_c_3_4', 'citr_L_c_4_5', 'accoa_c_2oaa_c_2_3', 'aspsa_c_2_3', '25aics_c_10_12', 'citr_L_c_4', 'akg_c_2_3_5', 'citr_L_c_2', 'citr_L_c_3', 'citr_L_c_1', 'glc_D_c_5_6', 'cit_c_5_6', '3pg_c_1_3', 'sucsal_c_1_3_4', 'fdp_c_2_3', '6pgc_c_1_2_3', 'accoa_c_2glx_c_2', 'accoa_c_2glx_c_1', 'oaa_c_2_4', 'argsuc_c_2_4_5', 'glc_D_e_4_5', '25aics_c_12_13', 'oaa_c_2_3', 'dha_c_1_2', 'ptrc_c_2_3', 'acg5sa_c_2_4_5', 'ptrc_c_2_4', '4abutn_c_2_4', 'pyr_c_1_2_3', 'accoa_c_1_2glx_c_1', 'accoa_c_1_2glx_c_2', 'TKC2_c_1_2e4p_c_1_2_3_4', 'glc_D_e_2_3', 'xu5p_D_c_3_4_5', 'phom_c_3_4', 'glc_D_e_2_3_4_5_6', 'fdp_c_2', 'hom_L_c_2_3', 'fdp_c_1', 'fdp_c_6', 'icit_c_3_4_6', 'fdp_c_4', 'fdp_c_5', 'fdp_c_4_5_6', 'succoa_c_1_3_4', 'oaa_c_1_2', 'cit_c_3_4', 'prpp_c_4_5', 'arg_L_c_3_4_5', 'cit_c_3_5', '4abutn_c_1_2_4', '4abutn_c_1_2_3', 'succ_c_1_3_4', 'cit_c_4_5_6', 'gln_L_c_3_4_5', 'acglu_c_1', 'cit_c_1_2', 'ala_L_c_1_2_3', 'succoa_c_2', 'acald_c_2', 'acald_c_1', 'dha_c_2_3', '2ddg6p_c_2_3', 'lac_L_e_2', 'acg5sa_c_5', 'accoa_c_1_2', 'lac_L_e_2_3', 'acg5sa_c_1', 'acg5sa_c_3', 'acg5sa_c_2', '2ddg6p_c_4_5', 'acg5p_c_4', '2ddg6p_c_4_6', 'accoa_c_1oaa_c_1', 'acg5p_c_3', 'accoa_c_1oaa_c_3', 'accoa_c_1oaa_c_2', '4pasp_c_2', 'e4p_c_2_4', '4pasp_c_1', '4pasp_c_4', 'aspsa_c_1_3', 'mal_L_c_1_2_4', 'mal_L_c_1_2_3', 'agm_c_1', 'asp_L_c_1_2_4', 'agm_c_3', 'xu5p_D_c_5', 'xu5p_D_c_2', 'lac_L_c_2_3', 'xu5p_D_c_1', 'mal_L_c_1_3', 'pep_c_1', '4pasp_c_2_4', '4pasp_c_2_3', 'orn_c_3_4_5', 'prpp_c_1_2', 'fum_c_2', 'fum_c_3', '25aics_c_10', '25aics_c_11', '25aics_c_12', '25aics_c_13', 'acglu_c_2_3_5', 'acglu_c_2_3_4', '6pgl_c_2_3_4_5_6', 'g6p_c_2_3_4_5_6', 'e4p_c_2_3_4', 'aspsa_c_1_2_4', 'orn_c_2_3_5', 'aspsa_c_1_2_3', 'ptrc_c_1_4', 'e4p_c_2', 'cit_c_3_6', 'acglu_c_3_4', 'acglu_c_3_5', 'ptrc_c_1_2', 'ptrc_c_1_3', 'lac_L_c_1_2_3', 'akg_c_3_5', 'akg_c_3_4', 'acorn_c_2_3_4', 'acorn_c_2_3_5', 'orn_c_2_3_4', 'ru5p_D_c_2_3_4_5', 'aspsa_c_2_3_4', 'g6p_c_1', 'g6p_c_3', 'g6p_c_2', 'xu5p_D_c_4_5', 'g6p_c_4', 'g6p_c_6', 'f6p_c_4', 'f6p_c_5', 'f6p_c_6', 'f6p_c_1', 'f6p_c_2', 'f6p_c_3', 'dha_c_3', 'g3p_c_1_2', 'g3p_c_1_3', 'acald_c_1_2', 'acg5p_c_3_4_5', 'accoa_c_1oaa_c_1_2', '6pgl_c_2', '6pgl_c_3', '6pgl_c_4', '6pgl_c_5', '6pgl_c_6', 'orn_c_3', 'hom_L_c_1_4', 'oaa_c_1_2_4', 'icit_c_3', 'icit_c_4', 'icit_c_5', 'hom_L_c_1_3', 'orn_c_4', 'acorn_c_5', 'g6p_c_5', 'acorn_c_1', 'acorn_c_3', 'sucsal_c_2_3_4', '4abut_c_2_3_4', 'acg5sa_c_4_5', 'agm_c_3_4', '3psme_c_10', 'acg5sa_c_3_4_5', 'acg5sa_c_2_4', 'acg5sa_c_2_5', 'ptrc_c_4', 'ptrc_c_2', 'ptrc_c_3', 'ptrc_c_1', 'dha_c_1_3', 'glc_D_e_1_2_3_4_5_6', 'succ_c_2_3_4', 'g6p_c_1_2_3_4_5_6', '2ddg6p_c_4_5_6', 'acg5p_c_3_4', 'acg5p_c_3_5', 'cit_c_4_6', 'cit_c_4_5', 'xu5p_D_c_1_2_3_4_5', 'succ_c_4', 'glu_L_c_3_4_5', 'akg_c_2_3_4_5', '4pasp_c_1_2_3', '4pasp_c_1_2_4', 'oaa_c_3_4', 'acglu_c_2', 'acglu_c_3', 'acglu_c_4', 'acglu_c_5', '6pgl_c_3_4_5_6', 'gln_L_c_2_3_5', 'prpp_c_5', 'prpp_c_4', 'gln_L_c_2_3_4', 'prpp_c_1', 'prpp_c_3', 'oaa_c_1_4', '3pg_c_2', 'glc_D_e_1_3', 'glc_D_e_1_2', 'succoa_c_1_2_3_4', 'r5p_c_1', 'dcamp_c_1_2', 'r5p_c_3', 'r5p_c_2', 'r5p_c_5', 'r5p_c_4', 'dcamp_c_1_4', 'agm_c_2_3', 'agm_c_2_4', 'f6p_c_3_4_5_6', 'TKC2_c_1', 'ala_L_c_3', '25aics_c_10_13', 'ala_L_c_1', 'gly_c_1', 's7p_c_2', 's7p_c_3', 'g6p_c_3_4_5_6', 's7p_c_1', 'icit_c_3_5_6', 's7p_c_7', 's7p_c_4', 's7p_c_5', '4abut_c_4', 'citr_L_c_5', 'ru5p_D_c_3_4', 'ru5p_D_c_3_5', '4abut_c_2', '4pasp_c_2_3_4', 'co2_c_1pep_c_1_2_3', 'orn_c_1', 'citr_L_c_2_5', 'citr_L_c_2_4', '25aics_c_11_12', 'ru5p_D_c_1_2', 'TKC2_c_2e4p_c_1', 'aspsa_c_2_4', 'oaa_c_1_2_3', '6pgc_c_6', '6pgc_c_5', '6pgc_c_4', '6pgc_c_3', '6pgc_c_2', '6pgc_c_1', 'icit_c_2_4_5', '4abutn_c_3_4', 'hom_L_c_1_2', 'succoa_c_1', 'acglu_c_4_5', 'co2_c_1pep_c_1', 'co2_c_1pep_c_2', 'co2_c_1pep_c_3', 'acg5p_c_2_3_4_5', 'acorn_c_4', 'fum_c_2_3', 'argsuc_c_8_9_10', 'fum_c_2_4', '4abutn_c_1_3', '4abutn_c_1_2', 'agm_c_2_3_4', 'r5p_c_4_5', '2ddg6p_c_5_6', '3pg_c_1_2', 'g6p_c_1_2_3', 'icit_c_3_4_5', 'acorn_c_2', '4pasp_c_3_4', 'g3p_c_2_3', 'dhap_c_1_3', '4pasp_c_1_2', '4pasp_c_1_3', '4pasp_c_1_4', 'accoa_c_2glx_c_1_2', '4abut_c_1_2_4', '4abut_c_1_2_3', 'argsuc_c_9_10', 'aspsa_c_1_3_4', '2ddg6p_c_2', '2ddg6p_c_3', '2ddg6p_c_1', '2ddg6p_c_6', 'citr_L_c_2_3_4_5', '2ddg6p_c_4', '2ddg6p_c_5', 'prpp_c_1_2_3_4_5', 'succ_c_2_3', 'succ_c_2_4', 'dcamp_c_3_4', 'acglu_c_2_3', 'acglu_c_2_5', 'acglu_c_2_4', '4abutn_c_4', '4abutn_c_1', '4abutn_c_3', '4abutn_c_2', '6pgc_c_3_4_5_6', 'acglu_c_2_3_4_5', 'agm_c_4', 'dhap_c_1', 'dhap_c_2', 'dhap_c_3', 'glx_c_1_2', 'hom_L_c_1_2_3_4', 'argsuc_c_7', 'argsuc_c_4', 'argsuc_c_5', 'argsuc_c_2', 'argsuc_c_3', 'asp_L_c_1_2_3', 's7p_c_4_5_6_7', 'dcamp_c_1_2_4', 'argsuc_c_1', '4pasp_c_1_2_3_4', 'argsuc_c_8', 'argsuc_c_9', 'icit_c_4_5_6', 'xu5p_D_c_4', '4abut_c_1_2_3_4', 'xu5p_D_c_1_2', 'pyr_c_1', 'glc_D_e_4_6', 'pyr_c_3', 'asp_L_c_4', 'asp_L_c_3', 'asp_L_c_2', 'asp_L_c_1', 'dcamp_c_2_3', 'akg_c_5', '25aics_c_11_12_13', 'dcamp_c_1_2_3', 'fdp_c_1_2_3', 'agm_c_1_4', 'agm_c_1_3', 'agm_c_1_2', 'akg_c_2', 'acg5p_c_4_5', 'gln_L_c_2_3_4_5', 'fum_c_1_4', 'fum_c_1_2', 'fum_c_1_3', 'accoa_c_1_2oaa_c_2', 'accoa_c_1_2oaa_c_3', 'accoa_c_1_2oaa_c_1', 'TAC3_c_2_3g3p_c_1_2_3', 'glc_D_c_2_3_4_5_6', '2pg_c_3', '2pg_c_2', 'acorn_c_2_4_5', 'acg5sa_c_2_3', 'TAC3_c_1_2', 'TAC3_c_1_3', 'argsuc_c_2_3', 'arg_L_c_2_3_4_5', 'e4p_c_3_4', 'argsuc_c_2_5', 'argsuc_c_2_4', 'sucsal_c_1_4', 'sucsal_c_1_2', 'sucsal_c_1_3', 'accoa_c_1oaa_c_2_3', 'lac_L_c_3', 'lac_L_c_2', 'lac_L_c_1', 'xu5p_D_c_3_4', 'xu5p_D_c_3_5', 'thr_L_c_4', 'aspsa_c_4', 'thr_L_c_1', 'aspsa_c_3', 'thr_L_c_3', 'aspsa_c_1', 'lac_L_e_1', 'lac_L_e_3', 'oaa_c_1_3_4', 'arg_L_c_2_3_4', 'arg_L_c_2_3_5', 'prpp_c_3_5', 'prpp_c_3_4', 'akg_c_2_3_4', 'dha_c_1', 'glc_D_e_4_5_6', 'dha_c_2', '2pg_c_1_3', 'TKC2_c_1_2r5p_c_1_2_3_4_5', '2pg_c_1_2', '25aics_c_10_11_13', 'dcamp_c_2_4', 'TKC2_c_2g3p_c_1_2_3', 'gln_L_c_2_4_5', '4abutn_c_2_3_4', 'pyr_c_2', 'glc_D_e_1_2_3', 'accoa_c_1', 'accoa_c_2', 'g6p_c_4_5_6', 'TKC2_c_1_2r5p_c_1', 'succ_c_1', 'succ_c_3', 'succ_c_2', 's7p_c_3_4_5_6_7', 'citr_L_c_3_4', 'citr_L_c_3_5', '6pgl_c_1', 'acg5sa_c_4', 'prpp_c_2_3_4_5', 'ptrc_c_1_3_4', 'arg_L_c_2_4', 'arg_L_c_2_5', '2pg_c_1_2_3', 'prpp_c_3_4_5', '3pg_c_1_2_3', 'f6p_c_1_2_3_4_5_6', 'fum_c_3_4', '4abutn_c_2_3', 's7p_c_1_2', 'acglu_c_2_4_5', 'acglu_c_3_4_5', 'oaa_c_2_3_4', 'TAC3_c_3e4p_c_1_2_3_4', 'f6p_c_1_2_3', 's7p_c_3_4', 'arg_L_c_4_5', 'r5p_c_3_5', 'r5p_c_3_4', 'dhap_c_1_2_3', 'icit_c_2_3_5', 'icit_c_2_3_4', 'argsuc_c_7_9_10', 'dhap_c_2_3', 'ru5p_D_c_3_4_5', 'glc_D_c_1_2_3_4_5_6', '4abut_c_1_3_4', '6pgl_c_1_2_3', 'ru5p_D_c_1', 'succ_c_1_4', 'succ_c_1_3', 'succ_c_1_2', 'succoa_c_3', 'cit_c_3_4_6', 'cit_c_3_4_5', 'gln_L_c_3_5', 'succoa_c_4', 'citr_L_c_3_4_5', 'succ_c_1_2_3', 'icit_c_1', 'succ_c_3_4', '25aics_c_10_11', 'argsuc_c_3_4_5', 'glc_D_e_5_6', 's7p_c_5_6', 's7p_c_5_7', 'ala_L_c_2_3', 'pep_c_1_3', 'pep_c_1_2', 'TAC3_c_2_3', 'akg_c_4', 'akg_c_3', 'ru5p_D_c_1_2_3_4_5', 'akg_c_1', 'g3p_c_3', 'icit_c_2', 'e4p_c_1_2_3_4', 'cit_c_2_3_4_5', 'argsuc_c_4_5', 'xu5p_D_c_2_3_4_5', 'g3p_c_1', 'r5p_c_1_2', 'asp_L_c_1_2_3_4', 'dcamp_c_1', '13dpg_c_2_3', 'agm_c_1_3_4', 'citr_L_c_2_3_5', 'citr_L_c_2_3_4', '6pgl_c_4_5', 'agm_c_1_2_3', 'asp_L_c_1_3_4', '6pgc_c_4_5_6', 'dcamp_c_1_3_4', 'arg_L_c_2_4_5', 'r5p_c_3_4_5', 'prpp_c_2'])\n"
     ]
    }
   ],
   "source": [
    "GAMSset = emuListA.getAllEMUSet()\n",
    "print GAMSset.name\n",
    "print GAMSset.set"
   ]
  },
  {
   "cell_type": "markdown",
   "metadata": {},
   "source": [
    "## EMUtransitionList"
   ]
  },
  {
   "cell_type": "code",
   "execution_count": 36,
   "metadata": {
    "collapsed": false
   },
   "outputs": [],
   "source": [
    "EMUtransitionListA = TSmodel.reactionNetwork.C13ReacNet.reactionList.transitions"
   ]
  },
  {
   "cell_type": "code",
   "execution_count": 37,
   "metadata": {
    "collapsed": false
   },
   "outputs": [
    {
     "name": "stdout",
     "output_type": "stream",
     "text": [
      "{('HSK', 'phom_c_3', 'hom_L_c_3'): -1.0, ('PTRCTA', 'ptrc_c_1_4', '4abutn_c_1_4'): 1.0, ('FUM', 'mal_L_c_2', 'fum_c_2'): -0.5, ('GLCt2', 'glc_D_c_2_3_4_5_6', 'glc_D_e_2_3_4_5_6'): -1.0, ('PDH', 'accoa_c_2', 'pyr_c_3'): -1.0, ('PRASCS_b', 'asp_L_c_4', '25aics_c_11'): -1.0, ('PGI_b', 'g6p_c_4_6', 'f6p_c_4_6'): -1.0, ('F6PA', 'f6p_c_2', 'dha_c_2'): 1.0, ('GMPS2', 'gln_L_c_4_5', 'glu_L_c_4_5'): 1.0, ('RPI_b', 'r5p_c_2', 'ru5p_D_c_2'): -1.0, ('RPE_f', 'ru5p_D_c_4', 'xu5p_D_c_4'): 1.0, ('HSDy_b', 'aspsa_c_3', 'hom_L_c_3'): 1.0, ('ADSL1r', 'dcamp_c_1_2_4', 'fum_c_1_2_4'): 0.5, ('TPI_f', 'dhap_c_1_2_3', 'g3p_c_1_2_3'): 1.0, ('L_LACD2_f', 'pyr_c_1', 'lac_L_c_1'): -1.0, ('ADSS', 'asp_L_c_3_4', 'dcamp_c_3_4'): 1.0, ('ARGSL_b', 'arg_L_c_2_3', 'argsuc_c_2_3'): 1.0, ('PGI_f', 'g6p_c_1_3', 'f6p_c_1_3'): 1.0, ('ABTA', 'glu_L_c_1', 'akg_c_1'): -1.0, ('PTRCTA', '4abutn_c_1_2_4', 'ptrc_c_1_3_4'): -0.5, ('ADSS', 'dcamp_c_1_2', 'asp_L_c_1_2'): -1.0, ('SSALx', 'sucsal_c_1', 'succ_c_4'): 0.5, ('EDA', '2ddg6p_c_6', 'g3p_c_3'): 1.0, ('HSDy_f', 'hom_L_c_3', 'aspsa_c_3'): 1.0, ('FBA_b', 'fdp_c_1_2_3', 'dhap_c_1_2_3'): -1.0, ('ARGDC', 'agm_c_2', 'arg_L_c_3'): -1.0, ('ARGSL_f', 'argsuc_c_9_10', 'fum_c_3_4'): 0.5, ('ICL', 'succ_c_3', 'icit_c_4'): -0.5, ('ASPTA_f', 'oaa_c_1_4', 'asp_L_c_1_4'): -1.0, ('PYK', 'pyr_c_1_2_3', 'pep_c_1_2_3'): -1.0, ('ASPK_b', 'asp_L_c_1', '4pasp_c_1'): -1.0, ('SSALx', 'sucsal_c_3', 'succ_c_2'): 0.5, ('VALTA_b', 'akg_c_2_3_4_5', 'glu_L_c_2_3_4_5'): -1.0, ('ILETA_b', 'akg_c_2_4', 'glu_L_c_2_4'): -1.0, ('SSALx', 'sucsal_c_1_4', 'succ_c_1_4'): 1.0, ('ABTA', 'sucsal_c_3', '4abut_c_3'): -1.0, ('ACHBS', 'co2_c_1', 'pyr_c_1'): -1.0, ('SUCOAS_b', 'succ_c_2_3', 'succoa_c_2_3'): -1.0, ('TK2_f', 'f6p_c_6', 'e4p_c_4'): 1.0, ('TA1_b', 'f6p_c_4', 'g3p_c_1'): -1.0, ('ACODA', 'acorn_c_1', 'orn_c_1'): 1.0, ('ACOTA_b', 'acg5sa_c_3_4', 'acorn_c_3_4'): 1.0, ('GLCt2', 'glc_D_c_4', 'glc_D_e_4'): -1.0, ('OCBT_b', 'orn_c_5', 'citr_L_c_5'): -1.0, ('L_LACD3_b', 'pyr_c_3', 'lac_L_c_3'): 1.0, ('SSALx', 'succ_c_3_4', 'sucsal_c_3_4'): -0.5, ('ASPK_f', 'asp_L_c_1_2_4', '4pasp_c_1_2_4'): 1.0, ('PHETA1_f', 'glu_L_c_1', 'akg_c_1'): -1.0, ('PSERT', 'akg_c_3_4', 'glu_L_c_3_4'): -1.0, ('ADSL1r', 'dcamp_c_3', 'fum_c_3'): 0.5, ('GLNS', 'gln_L_c_4_5', 'glu_L_c_4_5'): -1.0, ('PTRCTA', '4abutn_c_3_4', 'ptrc_c_1_2'): -0.5, ('TA2_f', 's7p_c_6', 'e4p_c_3'): 1.0, ('SUCOAS_f', 'succoa_c_1_3', 'succ_c_2_4'): -0.5, ('ARGSL_f', 'arg_L_c_5', 'argsuc_c_5'): -1.0, ('ACONT', 'icit_c_6', 'cit_c_6'): -1.0, ('ASPTA_f', 'oaa_c_1_2_3_4', 'asp_L_c_1_2_3_4'): -1.0, ('ACGS', 'acglu_c_4', 'glu_L_c_4'): -1.0, ('ALATA_L_f', 'glu_L_c_3_5', 'akg_c_3_5'): -1.0, ('G6PDH2r', '6pgl_c_3', 'g6p_c_3'): -1.0, ('ICL', 'icit_c_4', 'succ_c_2'): 0.5, ('EDA', 'g3p_c_1_3', '2ddg6p_c_4_6'): -1.0, ('PRASCS_f', 'asp_L_c_1_4', '25aics_c_11_13'): 1.0, ('F6PA', 'f6p_c_6', 'g3p_c_3'): 1.0, ('ASPK_b', 'asp_L_c_2_3_4', '4pasp_c_2_3_4'): -1.0, ('ADSS', 'dcamp_c_2_3', 'asp_L_c_2_3'): -1.0, ('SDPTA_f', 'akg_c_2', 'glu_L_c_2'): 1.0, ('GLUPRT', 'gln_L_c_1', 'glu_L_c_1'): 1.0, ('PHETA1_f', 'glu_L_c_2_4_5', 'akg_c_2_4_5'): -1.0, ('ICDHyr', 'icit_c_2_3_4_5', 'akg_c_2_3_4_5'): 1.0, ('SUCOAS_f', 'succ_c_1_3_4', 'succoa_c_1_2_4'): 0.5, ('FBA_f', 'fdp_c_2', 'dhap_c_2'): 1.0, ('PHETA1_f', 'akg_c_2_3_4_5', 'glu_L_c_2_3_4_5'): 1.0, ('ARGSL_f', 'argsuc_c_2_4_5', 'arg_L_c_2_4_5'): 1.0, ('RPE_f', 'xu5p_D_c_2_3_4_5', 'ru5p_D_c_2_3_4_5'): -1.0, ('ACOTA_f', 'acg5sa_c_1', 'acorn_c_1'): -1.0, ('MALS', 'accoa_c_1_2', 'mal_L_c_3_4'): 1.0, ('VALTA_b', 'akg_c_4_5', 'glu_L_c_4_5'): -1.0, ('GLNS', 'gln_L_c_2_3_5', 'glu_L_c_2_3_5'): -1.0, ('MDH_f', 'oaa_c_1_3', 'mal_L_c_1_3'): -1.0, ('ALATA_L_f', 'akg_c_2_4', 'glu_L_c_2_4'): 1.0, ('ACODA', 'acorn_c_2', 'orn_c_2'): 1.0, ('TA1_f', 'TAC3_c_1_2', 'f6p_c_1_2'): -1.0, ('ICDHyr', 'icit_c_3_5', 'akg_c_3_5'): 1.0, ('MALS', 'accoa_c_1glx_c_1', 'mal_L_c_1_3'): 1.0, ('GLCt2', 'glc_D_e_3', 'glc_D_c_3'): 1.0, ('ARGSS', 'citr_L_c_4_5', 'argsuc_c_4_5'): 1.0, ('CBPS', 'gln_L_c_2_5', 'glu_L_c_2_5'): 1.0, ('ASAD_b', '4pasp_c_1', 'aspsa_c_1'): 1.0, ('MDH_b', 'mal_L_c_2_3', 'oaa_c_2_3'): -1.0, ('VALTA_f', 'glu_L_c_5', 'akg_c_5'): -1.0, ('MDH_b', 'oaa_c_1', 'mal_L_c_1'): 1.0, ('PHETA1_f', 'glu_L_c_3_4_5', 'akg_c_3_4_5'): -1.0, ('GND', '6pgc_c_2_3_4_5_6', 'ru5p_D_c_1_2_3_4_5'): 1.0, ('L_LACt2r_f', 'lac_L_e_2_3', 'lac_L_c_2_3'): 1.0, ('ASPTA_f', 'asp_L_c_3', 'oaa_c_3'): 1.0, ('FBA_f', 'fdp_c_6', 'g3p_c_3'): 1.0, ('MDH_f', 'mal_L_c_2_3_4', 'oaa_c_2_3_4'): 1.0, ('TA1_b', 'TAC3_c_1_2_3g3p_c_1_2_3', 'f6p_c_1_2_3_4_5_6'): 1.0, ('VALTA_f', 'akg_c_3_4', 'glu_L_c_3_4'): 1.0, ('L_LACD2_b', 'lac_L_c_3', 'pyr_c_3'): -1.0, ('ABUTD', '4abutn_c_1_3_4', '4abut_c_1_3_4'): 1.0, ('ALATA_L_b', 'akg_c_2_3_4', 'glu_L_c_2_3_4'): -1.0, ('PTRCTA', 'ptrc_c_2', '4abutn_c_2'): 0.5, ('GLCpts', 'glc_D_e_1_2_3', 'g6p_c_1_2_3'): 1.0, ('ACODA', 'orn_c_3', 'acorn_c_3'): -1.0, ('GMPS2', 'glu_L_c_2_3_5', 'gln_L_c_2_3_5'): -1.0, ('ABTA', 'akg_c_3', 'glu_L_c_3'): 1.0, ('ACOTA_b', 'glu_L_c_3_4_5', 'akg_c_3_4_5'): 1.0, ('ARGSL_b', 'arg_L_c_5', 'argsuc_c_5'): 1.0, ('THRS', 'thr_L_c_4', 'phom_c_4'): -1.0, ('ACONT', 'cit_c_4_5', 'icit_c_4_5'): 1.0, ('ILETA_b', 'glu_L_c_4', 'akg_c_4'): 1.0, ('PFK', 'fdp_c_1_2', 'f6p_c_1_2'): -1.0, ('PGM_f', '3pg_c_3', '2pg_c_3'): -1.0, ('PHETA1_f', 'glu_L_c_2_3_4_5', 'akg_c_2_3_4_5'): -1.0, ('EDA', '2ddg6p_c_3', 'pyr_c_3'): 1.0, ('AGPR_f', 'acg5sa_c_4_5', 'acg5p_c_4_5'): 1.0, ('CBPS', 'gln_L_c_2_3_4_5', 'glu_L_c_2_3_4_5'): 1.0, ('ALATA_L_b', 'pyr_c_3', 'ala_L_c_3'): 1.0, ('ADSL1r', 'dcamp_c_2_4', 'fum_c_2_4'): 0.5, ('TYRTA_b', 'glu_L_c_3_5', 'akg_c_3_5'): 1.0, ('OCBT_f', 'citr_L_c_4', 'orn_c_4'): -1.0, ('CS', 'oaa_c_3', 'cit_c_2'): 1.0, ('SUCOAS_b', 'succ_c_1', 'succoa_c_4'): -0.5, ('HSDy_f', 'aspsa_c_1_2_3', 'hom_L_c_1_2_3'): -1.0, ('GLUPRT', 'gln_L_c_5', 'glu_L_c_5'): 1.0, ('AGMT', 'ptrc_c_2_3', 'agm_c_2_3'): -1.0, ('ACLS', 'pyr_c_1', 'co2_c_1'): 1.0, ('PRFGS', 'gln_L_c_3_4_5', 'glu_L_c_3_4_5'): 1.0, ('PFK', 'fdp_c_2', 'f6p_c_2'): -1.0, ('MDH_f', 'mal_L_c_3_4', 'oaa_c_3_4'): 1.0, ('ACOTA_b', 'glu_L_c_2_4_5', 'akg_c_2_4_5'): 1.0, ('F6PA', 'f6p_c_5_6', 'g3p_c_2_3'): 1.0, ('TPI_b', 'dhap_c_2_3', 'g3p_c_2_3'): -1.0, ('SUCD1i', 'succ_c_3', 'fum_c_3'): 0.5, ('CS', 'oaa_c_1_2', 'cit_c_3_6'): 1.0, ('SUCOAS_f', 'succ_c_1_2_4', 'succoa_c_1_3_4'): 0.5, ('PRASCS_f', '25aics_c_12', 'asp_L_c_2'): -1.0, ('GLNS', 'glu_L_c_3_4_5', 'gln_L_c_3_4_5'): 1.0, ('ASPTA_f', 'akg_c_2_4_5', 'glu_L_c_2_4_5'): 1.0, ('F6PA', 'g3p_c_1_2', 'f6p_c_4_5'): -1.0, ('TK3_b', 'TKC2_c_2r5p_c_1', 's7p_c_2_3'): 1.0, ('FUM', 'fum_c_4', 'mal_L_c_1'): 0.5, ('TYRTA_b', 'akg_c_2_3_4', 'glu_L_c_2_3_4'): -1.0, ('ADSS', 'asp_L_c_1_2_3_4', 'dcamp_c_1_2_3_4'): 1.0, ('ETOHt2r_f', 'etoh_e_1_2', 'etoh_c_1_2'): 1.0, ('TYRTA_f', 'akg_c_1', 'glu_L_c_1'): 1.0, ('ADSL1r', 'dcamp_c_1_3', 'fum_c_1_3'): 0.5, ('SUCD1i', 'succ_c_3_4', 'fum_c_3_4'): 0.5, ('ARGSL_b', 'argsuc_c_8_9_10', 'fum_c_1_2_3'): -0.5, ('TK3_f', 's7p_c_3', 'r5p_c_1'): 1.0, ('ACOTA_f', 'acorn_c_4', 'acg5sa_c_4'): 1.0, ('GLCpts', 'g6p_c_1', 'glc_D_e_1'): -1.0, ('ACONT', 'cit_c_3_5_6', 'icit_c_3_5_6'): 1.0, ('ADSL1r', 'fum_c_2_4', 'dcamp_c_2_4'): -0.5, ('ICL', 'icit_c_5_6', 'succ_c_1_4'): 1.0, ('SUCOAS_f', 'succoa_c_2', 'succ_c_2'): -0.5, ('ABUTD', '4abutn_c_1', '4abut_c_1'): 1.0, ('PGI_b', 'g6p_c_4_5_6', 'f6p_c_4_5_6'): -1.0, ('SDPTA_f', 'akg_c_2_3_4', 'glu_L_c_2_3_4'): 1.0, ('SUCOAS_f', 'succoa_c_3_4', 'succ_c_1_2'): -0.5, ('AGMT', 'agm_c_1_4', 'ptrc_c_1_4'): 1.0, ('PTRCTA', '4abutn_c_4', 'ptrc_c_4'): -0.5, ('PDH', 'accoa_c_1', 'pyr_c_2'): -1.0, ('ADSS', 'dcamp_c_3_4', 'asp_L_c_3_4'): -1.0, ('GLUDy_b', 'akg_c_2', 'glu_L_c_2'): 1.0, ('ABUTD', '4abutn_c_4', '4abut_c_4'): 1.0, ('FBA_f', 'g3p_c_1_2', 'fdp_c_4_5'): -1.0, ('ENO_f', '2pg_c_2', 'pep_c_2'): 1.0, ('ALATA_L_f', 'glu_L_c_2_4', 'akg_c_2_4'): -1.0, ('GLUDy_f', 'akg_c_2_4_5', 'glu_L_c_2_4_5'): -1.0, ('ACOTA_b', 'acg5sa_c_1', 'acorn_c_1'): 1.0, ('ACODA', 'orn_c_2_3_5', 'acorn_c_2_3_5'): -1.0, ('AGPR_f', 'acg5p_c_2', 'acg5sa_c_2'): -1.0, ('ASPTA_f', 'asp_L_c_2_4', 'oaa_c_2_4'): 1.0, ('SUCOAS_f', 'succoa_c_1_2_3', 'succ_c_2_3_4'): -0.5, ('SUCD1i', 'succ_c_2', 'fum_c_2'): 0.5, ('ALATA_L_b', 'glu_L_c_2_3_4', 'akg_c_2_3_4'): 1.0, ('HSDy_b', 'hom_L_c_2_4', 'aspsa_c_2_4'): -1.0, ('GAPD', 'g3p_c_1', '13dpg_c_1'): 1.0, ('CS', 'cit_c_2_3_4', 'accoa_c_2oaa_c_2_3'): -1.0, ('ACONT', 'icit_c_3_5_6', 'cit_c_3_5_6'): -1.0, ('ILETA_f', 'akg_c_4_5', 'glu_L_c_4_5'): 1.0, ('AGMT', 'agm_c_3_4', 'ptrc_c_3_4'): 0.5, ('ADSL1r', 'fum_c_1', 'dcamp_c_4'): -0.5, ('ADSL2r', '25aics_c_10_11_12_13', 'fum_c_1_2_3_4'): 1.0, ('RPI_b', 'ru5p_D_c_1_2_3_4_5', 'r5p_c_1_2_3_4_5'): 1.0, ('GLUDy_b', 'akg_c_2_4_5', 'glu_L_c_2_4_5'): 1.0, ('CBPS', 'gln_L_c_4_5', 'glu_L_c_4_5'): 1.0, ('ACOTA_f', 'akg_c_2_4_5', 'glu_L_c_2_4_5'): 1.0, ('PGM_b', '2pg_c_2', '3pg_c_2'): -1.0, ('PFK', 'f6p_c_4', 'fdp_c_4'): 1.0, ('SDPTA_b', 'glu_L_c_2', 'akg_c_2'): 1.0, ('AGPR_f', 'acg5p_c_5', 'acg5sa_c_5'): -1.0, ('PFK', 'fdp_c_1', 'f6p_c_1'): -1.0, ('ADSS', 'asp_L_c_1_4', 'dcamp_c_1_4'): 1.0, ('ACONT', 'cit_c_2_3_4', 'icit_c_2_3_4'): 1.0, ('ASPTA_b', 'oaa_c_1_3', 'asp_L_c_1_3'): 1.0, ('ICDHyr', 'akg_c_2_4_5', 'icit_c_2_4_5'): -1.0, ('ASPK_b', '4pasp_c_1_2_3_4', 'asp_L_c_1_2_3_4'): 1.0, ('MALS', 'mal_L_c_1_3', 'accoa_c_1glx_c_1'): -1.0, ('ASPTA_f', 'glu_L_c_2_3', 'akg_c_2_3'): -1.0, ('ACOTA_f', 'glu_L_c_2_3_4', 'akg_c_2_3_4'): -1.0, ('PPC', 'oaa_c_1_2_3_4', 'co2_c_1pep_c_1_2_3'): -1.0, ('GHMT2', 'ser_L_c_1', 'gly_c_1'): 1.0, ('ADSS', 'asp_L_c_1_3', 'dcamp_c_1_3'): 1.0, ('ADSL1r', 'dcamp_c_1', 'fum_c_4'): 0.5, ('ACOTA_f', 'acg5sa_c_3_5', 'acorn_c_3_5'): -1.0, ('GLYCL_b', 'gly_c_1', 'co2_c_1'): -1.0, ('AGPR_f', 'acg5sa_c_2_4_5', 'acg5p_c_2_4_5'): 1.0, ('PTRCTA', 'ptrc_c_1_3_4', '4abutn_c_1_3_4'): 0.5, ('ACOTA_f', 'glu_L_c_4', 'akg_c_4'): -1.0, ('ADSL2r', 'fum_c_1_2_4', '25aics_c_11_12_13'): -0.5, ('RPI_f', 'ru5p_D_c_2', 'r5p_c_2'): -1.0, ('PGL', '6pgl_c_5', '6pgc_c_5'): 1.0, ('DHAPT', 'pyr_c_1_2_3', 'pep_c_1_2_3'): -1.0, ('L_LACD2_f', 'lac_L_c_2_3', 'pyr_c_2_3'): 1.0, ('TA2_f', 'e4p_c_3_4', 's7p_c_6_7'): -1.0, ('PTRCTA', 'ptrc_c_3_4', '4abutn_c_3_4'): 0.5, ('HEX1', 'glc_D_c_3', 'g6p_c_3'): 1.0, ('FBA_f', 'fdp_c_1_2', 'dhap_c_2_3'): 1.0, ('ICL', 'icit_c_6', 'succ_c_4'): 0.5, ('SUCD1i', 'succ_c_1_4', 'fum_c_1_4'): 1.0, ('SUCD1i', 'fum_c_2_3', 'succ_c_2_3'): -1.0, ('SDPTA_b', 'akg_c_2_3_5', 'glu_L_c_2_3_5'): -1.0, ('PHETA1_f', 'glu_L_c_5', 'akg_c_5'): -1.0, ('OCBT_f', 'citr_L_c_2_3_4_5', 'orn_c_2_3_4_5'): -1.0, ('SSALy', 'succ_c_1_2_4', 'sucsal_c_1_3_4'): -0.5, ('ASPTA_f', 'akg_c_2', 'glu_L_c_2'): 1.0, ('ACGK', 'acg5p_c_4_5', 'acglu_c_4_5'): -1.0, ('RPE_b', 'ru5p_D_c_3_4_5', 'xu5p_D_c_3_4_5'): -1.0, ('PRFGS', 'gln_L_c_2_3', 'glu_L_c_2_3'): 1.0, ('AKGDH', 'succoa_c_1_2_3', 'akg_c_2_3_4'): -1.0, ('ABTA', 'glu_L_c_2_5', 'akg_c_2_5'): -1.0, ('GLCt2', 'glc_D_e_4', 'glc_D_c_4'): 1.0, ('CS', 'cit_c_2_4_5', 'accoa_c_1_2oaa_c_3'): -1.0, ('ACOTA_f', 'acg5sa_c_3', 'acorn_c_3'): -1.0, ('RPI_b', 'ru5p_D_c_3_5', 'r5p_c_3_5'): 1.0, ('SUCOAS_f', 'succoa_c_1_2_3_4', 'succ_c_1_2_3_4'): -1.0, ('OCBT_b', 'orn_c_2_3_4_5', 'citr_L_c_2_3_4_5'): -1.0, ('ENO_f', '2pg_c_2_3', 'pep_c_2_3'): 1.0, ('TK1_f', 'TKC2_c_1', 'xu5p_D_c_1'): -1.0, ('AGMT', 'agm_c_1_2_4', 'ptrc_c_1_2_4'): 0.5, ('ILETA_f', 'akg_c_2_3', 'glu_L_c_2_3'): 1.0, ('ADSL1r', 'fum_c_1_3_4', 'dcamp_c_1_3_4'): -0.5, ('ARGSS', 'argsuc_c_7_8_9', 'asp_L_c_1_2_3'): -1.0, ('ACODA', 'orn_c_2_5', 'acorn_c_2_5'): -1.0, ('ARGSL_f', 'argsuc_c_10', 'fum_c_1'): 0.5, ('FUM', 'mal_L_c_2_3_4', 'fum_c_1_2_3'): -0.5, ('PTRCTA', '4abutn_c_1_3_4', 'ptrc_c_1_3_4'): -0.5, ('ACGK', 'acg5p_c_2_4_5', 'acglu_c_2_4_5'): -1.0, ('FBA_f', 'dhap_c_1_2_3', 'fdp_c_1_2_3'): -1.0, ('GAPD', '13dpg_c_3', 'g3p_c_3'): -1.0, ('AGPR_b', 'acg5p_c_3', 'acg5sa_c_3'): 1.0, ('GLUDy_b', 'glu_L_c_3_4', 'akg_c_3_4'): -1.0, ('ACOTA_f', 'akg_c_2', 'glu_L_c_2'): 1.0, ('ABUTD', '4abut_c_1_3_4', '4abutn_c_1_3_4'): -1.0, ('PTRCTA', 'ptrc_c_2_4', '4abutn_c_2_4'): 0.5, ('PSERT', 'akg_c_3', 'glu_L_c_3'): -1.0, ('PRPPS_b', 'r5p_c_3', 'prpp_c_3'): -1.0, ('ASAD_b', 'aspsa_c_2_3', '4pasp_c_2_3'): -1.0, ('GLUDy_f', 'akg_c_2_4', 'glu_L_c_2_4'): -1.0, ('PPC', 'oaa_c_1', 'pep_c_1'): -1.0, ('GLCt2', 'glc_D_e_2_3', 'glc_D_c_2_3'): 1.0, ('PGK_b', '13dpg_c_3', '3pg_c_3'): 1.0, ('VALTA_b', 'akg_c_1', 'glu_L_c_1'): -1.0, ('ASPTA_b', 'glu_L_c_3_5', 'akg_c_3_5'): 1.0, ('AKGDH', 'succoa_c_2', 'akg_c_3'): -1.0, ('ASPK_b', '4pasp_c_1_4', 'asp_L_c_1_4'): 1.0, ('HSDy_b', 'aspsa_c_2_3_4', 'hom_L_c_2_3_4'): 1.0, ('GLUDy_b', 'akg_c_3_4_5', 'glu_L_c_3_4_5'): 1.0, ('OCBT_f', 'orn_c_2_4', 'citr_L_c_2_4'): 1.0, ('L_LACD2_b', 'pyr_c_1_2_3', 'lac_L_c_1_2_3'): 1.0, ('ARGSL_f', 'argsuc_c_2_3_4', 'arg_L_c_2_3_4'): 1.0, ('TK2_f', 'e4p_c_2_4', 'f6p_c_4_6'): -1.0, ('F6PA', 'dha_c_3', 'f6p_c_1'): -1.0, ('HSDy_b', 'aspsa_c_2', 'hom_L_c_2'): 1.0, ('THRAr_b', 'thr_L_c_3', 'acald_c_1'): -1.0, ('ACOTA_f', 'acg5sa_c_2', 'acorn_c_2'): -1.0, ('SUCOAS_b', 'succ_c_1_2_3', 'succoa_c_1_2_3'): -0.5, ('ME1', 'mal_L_c_3', 'pyr_c_3'): 1.0, ('ALATA_L_f', 'ala_L_c_2_3', 'pyr_c_2_3'): 1.0, ('ASPK_f', 'asp_L_c_1_2_3_4', '4pasp_c_1_2_3_4'): 1.0, ('ASPTA_b', 'glu_L_c_2_3', 'akg_c_2_3'): 1.0, ('SSALy', 'sucsal_c_2', 'succ_c_3'): 0.5, ('ASAD_f', '4pasp_c_2_3', 'aspsa_c_2_3'): -1.0, ('TK3_f', 's7p_c_5', 'r5p_c_3'): 1.0, ('ALATA_L_b', 'glu_L_c_3', 'akg_c_3'): 1.0, ('CS', 'cit_c_1_2', 'oaa_c_3_4'): -1.0, ('SDPTA_b', 'akg_c_2_5', 'glu_L_c_2_5'): -1.0, ('AGMT', 'ptrc_c_3_4', 'agm_c_3_4'): -0.5, ('ARGSS', 'argsuc_c_5', 'citr_L_c_5'): -1.0, ('PGI_f', 'f6p_c_4_6', 'g6p_c_4_6'): -1.0, ('OCBT_f', 'orn_c_2_4_5', 'citr_L_c_2_4_5'): 1.0, ('ARGSL_b', 'argsuc_c_7_9', 'fum_c_2_4'): -0.5, ('GLNS', 'glu_L_c_3', 'gln_L_c_3'): 1.0, ('ALATA_L_b', 'akg_c_4', 'glu_L_c_4'): -1.0, ('MDH_b', 'oaa_c_2', 'mal_L_c_2'): 1.0, ('SUCD1i', 'fum_c_4', 'succ_c_1'): -0.5, ('SUCD1i', 'succ_c_1', 'fum_c_1'): 0.5, ('AGMT', 'agm_c_2_4', 'ptrc_c_1_3'): 0.5, ('SUCD1i', 'fum_c_2_3_4', 'succ_c_2_3_4'): -0.5, ('ARGSS', 'citr_L_c_3_4', 'argsuc_c_3_4'): 1.0, ('ACOTA_f', 'acorn_c_2_3_5', 'acg5sa_c_2_3_5'): 1.0, ('ARGDC', 'agm_c_1_3', 'arg_L_c_2_4'): -1.0, ('L_LACD2_f', 'lac_L_c_1_2_3', 'pyr_c_1_2_3'): 1.0, ('ACONT', 'cit_c_4_6', 'icit_c_4_6'): 1.0, ('ILETA_f', 'akg_c_3_4_5', 'glu_L_c_3_4_5'): 1.0, ('ADSL2r', 'fum_c_3_4', '25aics_c_11_13'): -0.5, ('EDD', '6pgc_c_5_6', '2ddg6p_c_5_6'): 1.0, ('SUCD1i', 'succ_c_1_3', 'fum_c_2_4'): 0.5, ('PRPPS_b', 'prpp_c_5', 'r5p_c_5'): 1.0, ('PHETA1_b', 'glu_L_c_4', 'akg_c_4'): 1.0, ('ETOHt2r_b', 'etoh_c_1_2', 'etoh_e_1_2'): 1.0, ('GLCpts', 'glc_D_e_5', 'g6p_c_5'): 1.0, ('MALS', 'mal_L_c_1', 'glx_c_1'): -1.0, ('ACOTA_f', 'akg_c_1', 'glu_L_c_1'): 1.0, ('PGI_f', 'f6p_c_1_3', 'g6p_c_1_3'): -1.0, ('RPE_b', 'xu5p_D_c_4_5', 'ru5p_D_c_4_5'): 1.0, ('ASPTA_f', 'asp_L_c_1_4', 'oaa_c_1_4'): 1.0, ('ACOTA_b', 'glu_L_c_2_3', 'akg_c_2_3'): 1.0, ('GLCt2', 'glc_D_c_5_6', 'glc_D_e_5_6'): -1.0, ('ABUTD', '4abut_c_4', '4abutn_c_4'): -1.0, ('AGPR_b', 'acg5sa_c_1', 'acg5p_c_1'): -1.0, ('ARGSL_b', 'fum_c_1_3_4', 'argsuc_c_7_8_10'): 0.5, ('MALS', 'accoa_c_1_2glx_c_1_2', 'mal_L_c_1_2_3_4'): 1.0, ('ICDHyr', 'akg_c_4', 'icit_c_4'): -1.0, ('GLCpts', 'g6p_c_1_2_3_4_5_6', 'glc_D_e_1_2_3_4_5_6'): -1.0, ('FUM', 'mal_L_c_1_2_3', 'fum_c_1_2_3'): -0.5, ('FBA_f', 'fdp_c_1_3', 'dhap_c_1_3'): 1.0, ('GMPS2', 'glu_L_c_1', 'gln_L_c_1'): -1.0, ('ARGSL_f', 'arg_L_c_3', 'argsuc_c_3'): -1.0, ('PRASCS_b', 'asp_L_c_1_2_4', '25aics_c_11_12_13'): -1.0, ('ABTA', 'akg_c_2_5', 'glu_L_c_2_5'): 1.0, ('SUCOAS_f', 'succoa_c_4', 'succ_c_4'): -0.5, ('SSALy', 'sucsal_c_1_4', 'succ_c_1_4'): 1.0, ('ALATA_L_b', 'glu_L_c_5', 'akg_c_5'): 1.0, ('ARGSL_b', 'arg_L_c_2_3_5', 'argsuc_c_2_3_5'): 1.0, ('TK3_b', 's7p_c_4', 'r5p_c_2'): -1.0, ('PGM_b', '2pg_c_3', '3pg_c_3'): -1.0, ('PRPPS_b', 'prpp_c_2', 'r5p_c_2'): 1.0, ('ARGSL_f', 'fum_c_2', 'argsuc_c_9'): -0.5, ('PRPPS_b', 'r5p_c_2', 'prpp_c_2'): -1.0, ('TK3_f', 'r5p_c_3_4_5', 's7p_c_5_6_7'): -1.0, ('ARGSL_f', 'fum_c_4', 'argsuc_c_7'): -0.5, ('ABTA', 'glu_L_c_2_4', 'akg_c_2_4'): -1.0, ('ACONT', 'icit_c_2_3_4_5', 'cit_c_2_3_4_5'): -1.0, ('ABUTD', '4abut_c_1_2_3', '4abutn_c_1_2_3'): -1.0, ('TPI_f', 'dhap_c_1_2', 'g3p_c_1_2'): 1.0, ('TK2_b', 'TKC2_c_2e4p_c_1_2_3_4', 'f6p_c_2_3_4_5_6'): 1.0, ('AKGDH', 'succoa_c_3_4', 'akg_c_4_5'): -1.0, ('PGK_f', '13dpg_c_1', '3pg_c_1'): -1.0, ('TK3_b', 'TKC2_c_1_2r5p_c_1', 's7p_c_1_2_3'): 1.0, ('MALS', 'mal_L_c_2_3_4', 'accoa_c_1_2glx_c_2'): -1.0, ('ASAD_f', '4pasp_c_2_3_4', 'aspsa_c_2_3_4'): -1.0, ('ILETA_b', 'akg_c_2', 'glu_L_c_2'): -1.0, ('TK3_b', 'TKC2_c_2', 's7p_c_2'): 1.0, ('FUM', 'mal_L_c_3_4', 'fum_c_1_2'): -0.5, ('ME1', 'mal_L_c_1', 'pyr_c_1'): 1.0, ('ASPTA_f', 'glu_L_c_3_4_5', 'akg_c_3_4_5'): -1.0, ('ARGSL_f', 'argsuc_c_2_3', 'arg_L_c_2_3'): 1.0, ('ASPTA_b', 'oaa_c_1_3_4', 'asp_L_c_1_3_4'): 1.0, ('CS', 'accoa_c_2oaa_c_1_2', 'cit_c_3_4_6'): 1.0, ('CS', 'cit_c_4_5', 'accoa_c_1_2'): -1.0, ('HEX1', 'glc_D_c_4_5', 'g6p_c_4_5'): 1.0, ('GLUDy_b', 'glu_L_c_2_3_4', 'akg_c_2_3_4'): -1.0, ('PHETA1_b', 'glu_L_c_4_5', 'akg_c_4_5'): 1.0, ('ENO_b', 'pep_c_1', '2pg_c_1'): 1.0, ('PDH', 'pyr_c_1', 'co2_c_1'): 1.0, ('GLUDy_b', 'glu_L_c_2_4', 'akg_c_2_4'): -1.0, ('TK3_f', 's7p_c_3_4', 'r5p_c_1_2'): 1.0, ('SSALx', 'sucsal_c_1', 'succ_c_1'): 0.5, ('L_LACD3_f', 'lac_L_c_1', 'pyr_c_1'): 1.0, ('OCBT_b', 'citr_L_c_3_4', 'orn_c_3_4'): 1.0, ('PGK_b', '13dpg_c_1', '3pg_c_1'): 1.0, ('ASAD_b', '4pasp_c_1_2_3', 'aspsa_c_1_2_3'): 1.0, ('ARGSS', 'argsuc_c_7_9', 'asp_L_c_1_3'): -1.0, ('ASPTA_b', 'oaa_c_1_2', 'asp_L_c_1_2'): 1.0, ('ACALDi', 'acald_c_1', 'accoa_c_1'): 1.0, ('SUCD1i', 'fum_c_2_3_4', 'succ_c_1_2_3'): -0.5, ('TK3_b', 's7p_c_1_2_3_4_5_6_7', 'TKC2_c_1_2r5p_c_1_2_3_4_5'): -1.0, ('AKGDH', 'succoa_c_2_4', 'akg_c_3_5'): -1.0, ('FUM', 'fum_c_1_3_4', 'mal_L_c_1_2_4'): 0.5, ('TYRTA_b', 'glu_L_c_2_3_5', 'akg_c_2_3_5'): 1.0, ('AGPR_b', 'acg5p_c_2_3_4_5', 'acg5sa_c_2_3_4_5'): 1.0, ('DHAPT', 'dha_c_1_3', 'dhap_c_1_3'): 1.0, ('PRPPS_f', 'r5p_c_3_4_5', 'prpp_c_3_4_5'): 1.0, ('ACGK', 'acglu_c_2_3', 'acg5p_c_2_3'): 1.0, ('GLCt2', 'glc_D_e_3_4_5_6', 'glc_D_c_3_4_5_6'): 1.0, ('ABTA', '4abut_c_2_4', 'sucsal_c_2_4'): 1.0, ('PGI_f', 'f6p_c_2', 'g6p_c_2'): -1.0, ('FBA_f', 'fdp_c_4_5_6', 'g3p_c_1_2_3'): 1.0, ('GLNS', 'glu_L_c_3_4', 'gln_L_c_3_4'): 1.0, ('ARGDC', 'arg_L_c_4_5', 'agm_c_3_4'): 1.0, ('ASPTA_f', 'oaa_c_1_2', 'asp_L_c_1_2'): -1.0, ('ABTA', 'sucsal_c_1_2_3_4', '4abut_c_1_2_3_4'): -1.0, ('ACONT', 'cit_c_2_4_5', 'icit_c_2_4_5'): 1.0, ('ASPTA_f', 'akg_c_3_4_5', 'glu_L_c_3_4_5'): 1.0, ('OCBT_f', 'citr_L_c_2', 'orn_c_2'): -1.0, ('SUCD1i', 'fum_c_1_3', 'succ_c_2_4'): -0.5, ('CBPS', 'gln_L_c_1', 'glu_L_c_1'): 1.0, ('ARGSS', 'asp_L_c_2_3_4', 'argsuc_c_8_9_10'): 1.0, ('PGL', '6pgl_c_1', '6pgc_c_1'): 1.0, ('ARGSL_f', 'arg_L_c_2_4', 'argsuc_c_2_4'): -1.0, ('ASPTA_b', 'glu_L_c_2_3_5', 'akg_c_2_3_5'): 1.0, ('SSALx', 'succ_c_1_2_4', 'sucsal_c_1_2_4'): -0.5, ('PSCVT', '3psme_c_10', 'pep_c_1'): -1.0, ('ASPTA_b', 'glu_L_c_2_5', 'akg_c_2_5'): 1.0, ('ADSL1r', 'dcamp_c_3_4', 'fum_c_3_4'): 0.5, ('PTRCTA', '4abutn_c_1', 'ptrc_c_1'): -0.5, ('LEUTAi', 'glu_L_c_2_3', 'akg_c_2_3'): 1.0, ('ACOTA_b', 'acg5sa_c_4_5', 'acorn_c_4_5'): 1.0, ('ACGS', 'acglu_c_3_5', 'glu_L_c_3_5'): -1.0, ('LEUTAi', 'glu_L_c_4', 'akg_c_4'): 1.0, ('AGMT', 'agm_c_1_3', 'ptrc_c_1_3'): 0.5, ('SSALy', 'sucsal_c_3_4', 'succ_c_1_2'): 0.5, ('AGPR_b', 'acg5sa_c_2_4_5', 'acg5p_c_2_4_5'): -1.0, ('GMPS2', 'gln_L_c_2_5', 'glu_L_c_2_5'): 1.0, ('ACONT', 'icit_c_5', 'cit_c_5'): -1.0, ('ASPTA_b', 'oaa_c_1_2_4', 'asp_L_c_1_2_4'): 1.0, ('AGPR_f', 'acg5p_c_2_3', 'acg5sa_c_2_3'): -1.0, ('ASAD_f', '4pasp_c_1_2', 'aspsa_c_1_2'): -1.0, ('PHETA1_f', 'akg_c_2_4_5', 'glu_L_c_2_4_5'): 1.0, ('ARGSL_f', 'fum_c_1_3', 'argsuc_c_7_9'): -0.5, ('AGMT', 'agm_c_1', 'ptrc_c_1'): 0.5, ('VALTA_b', 'glu_L_c_3_4_5', 'akg_c_3_4_5'): 1.0, ('ASPTA_f', 'oaa_c_3_4', 'asp_L_c_3_4'): -1.0, ('ARGSL_f', 'fum_c_1_2_3_4', 'argsuc_c_7_8_9_10'): -1.0, ('PRFGS', 'glu_L_c_3_4', 'gln_L_c_3_4'): -1.0, ('ASPTA_f', 'oaa_c_1_2_3', 'asp_L_c_1_2_3'): -1.0, ('ABUTD', '4abut_c_2_3', '4abutn_c_2_3'): -1.0, ('ILETA_f', 'glu_L_c_2_5', 'akg_c_2_5'): -1.0, ('ADSL2r', '25aics_c_10_11', 'fum_c_2_3'): 0.5, ('ENO_f', '2pg_c_3', 'pep_c_3'): 1.0, ('ASPTA_b', 'oaa_c_1_4', 'asp_L_c_1_4'): 1.0, ('ACOTA_b', 'acg5sa_c_2_3', 'acorn_c_2_3'): 1.0, ('RPE_f', 'xu5p_D_c_2', 'ru5p_D_c_2'): -1.0, ('SDPTA_f', 'akg_c_3_5', 'glu_L_c_3_5'): 1.0, ('F6PA', 'f6p_c_5', 'g3p_c_2'): 1.0, ('ACONT', 'icit_c_2_3_5', 'cit_c_2_3_5'): -1.0, ('ACOTA_b', 'akg_c_2_3_5', 'glu_L_c_2_3_5'): -1.0, ('PGK_b', '13dpg_c_1_2_3', '3pg_c_1_2_3'): 1.0, ('PGM_b', '3pg_c_3', '2pg_c_3'): 1.0, ('SSALy', 'sucsal_c_4', 'succ_c_4'): 0.5, ('PGI_f', 'f6p_c_1', 'g6p_c_1'): -1.0, ('PTRCTA', 'glu_L_c_2_5', 'akg_c_2_5'): -1.0, ('ASPTA_b', 'asp_L_c_2_4', 'oaa_c_2_4'): -1.0, ('ARGSL_b', 'argsuc_c_2', 'arg_L_c_2'): -1.0, ('ASPTA_f', 'oaa_c_2', 'asp_L_c_2'): -1.0, ('EDA', 'pyr_c_2_3', '2ddg6p_c_2_3'): -1.0, ('PTRCTA', '4abutn_c_1_2_4', 'ptrc_c_1_2_4'): -0.5, ('MALS', 'accoa_c_2', 'mal_L_c_4'): 1.0, ('ASAD_f', 'aspsa_c_2_3_4', '4pasp_c_2_3_4'): 1.0, ('TK3_b', 'r5p_c_1_2_3_4_5', 's7p_c_3_4_5_6_7'): 1.0, ('RPI_f', 'r5p_c_2', 'ru5p_D_c_2'): 1.0, ('ASPK_f', 'asp_L_c_2', '4pasp_c_2'): 1.0, ('GLUDy_b', 'glu_L_c_4', 'akg_c_4'): -1.0, ('PGK_b', '13dpg_c_1_3', '3pg_c_1_3'): 1.0, ('PGM_f', '3pg_c_2', '2pg_c_2'): -1.0, ('HSDy_b', 'hom_L_c_1', 'aspsa_c_1'): -1.0, ('PRASCS_b', '25aics_c_13', 'asp_L_c_1'): 1.0, ('TK2_b', 'f6p_c_1_3', 'TKC2_c_1e4p_c_1'): -1.0, ('PRPPS_f', 'r5p_c_3_4', 'prpp_c_3_4'): 1.0, ('ABTA', '4abut_c_1_2_3', 'sucsal_c_1_2_3'): 1.0, ('ASPTA_b', 'akg_c_4_5', 'glu_L_c_4_5'): -1.0, ('GLUDy_b', 'glu_L_c_4_5', 'akg_c_4_5'): -1.0, ('GLUPRT', 'gln_L_c_3', 'glu_L_c_3'): 1.0, ('ACGK', 'acglu_c_3_5', 'acg5p_c_3_5'): 1.0, ('MALS', 'mal_L_c_2_4', 'accoa_c_2glx_c_2'): -1.0, ('TK1_b', 'g3p_c_2_3', 'xu5p_D_c_4_5'): 1.0, ('EDD', '2ddg6p_c_3', '6pgc_c_3'): -1.0, ('AGPR_b', 'acg5p_c_3_5', 'acg5sa_c_3_5'): 1.0, ('ASAD_b', 'aspsa_c_2_3_4', '4pasp_c_2_3_4'): -1.0, ('TA1_b', 'TAC3_c_3g3p_c_1_2_3', 'f6p_c_3_4_5_6'): 1.0, ('ICDHyr', 'akg_c_2_5', 'icit_c_2_5'): -1.0, ('ASPTA_b', 'asp_L_c_1_2_3_4', 'oaa_c_1_2_3_4'): -1.0, ('ARGSL_b', 'argsuc_c_4', 'arg_L_c_4'): -1.0, ('GAPD', 'g3p_c_1_3', '13dpg_c_1_3'): 1.0, ('PGM_b', '2pg_c_1_3', '3pg_c_1_3'): -1.0, ('GLCpts', 'g6p_c_5_6', 'glc_D_e_5_6'): -1.0, ('ICDHyr', 'akg_c_3_4', 'icit_c_3_4'): -1.0, ('ACGS', 'acglu_c_5', 'glu_L_c_5'): -1.0, ('SSALy', 'succ_c_4', 'sucsal_c_1'): -0.5, ('TA1_f', 'g3p_c_1_3', 'f6p_c_4_6'): -1.0, ('ASPTA_b', 'akg_c_2_3_5', 'glu_L_c_2_3_5'): -1.0, ('SSALx', 'sucsal_c_1_2_3', 'succ_c_1_2_3'): 0.5, ('EDD', '2ddg6p_c_1_2_3', '6pgc_c_1_2_3'): -1.0, ('GLCpts', 'g6p_c_1_2', 'glc_D_e_1_2'): -1.0, ('ACALDi', 'acald_c_1_2', 'accoa_c_1_2'): 1.0, ('GLUPRT', 'glu_L_c_2_5', 'gln_L_c_2_5'): -1.0, ('GLCt2', 'glc_D_e_5_6', 'glc_D_c_5_6'): 1.0, ('FUM', 'mal_L_c_1_2_4', 'fum_c_1_3_4'): -0.5, ('RPI_f', 'ru5p_D_c_4', 'r5p_c_4'): -1.0, ('PSERT', 'akg_c_1', 'glu_L_c_1'): -1.0, ('PHETA1_b', 'akg_c_2_3_5', 'glu_L_c_2_3_5'): -1.0, ('ASPK_b', '4pasp_c_4', 'asp_L_c_4'): 1.0, ('ACOTA_f', 'akg_c_2_4', 'glu_L_c_2_4'): 1.0, ('GMPS2', 'glu_L_c_2_3_4_5', 'gln_L_c_2_3_4_5'): -1.0, ('GND', 'co2_c_1', '6pgc_c_1'): -1.0, ('ARGSL_f', 'argsuc_c_7_9', 'fum_c_2_4'): 0.5, ('HSDy_b', 'hom_L_c_2', 'aspsa_c_2'): -1.0, ('RPE_b', 'xu5p_D_c_3_4_5', 'ru5p_D_c_3_4_5'): 1.0, ('SSALy', 'succ_c_3', 'sucsal_c_2'): -0.5, ('PRASCS_b', 'asp_L_c_2', '25aics_c_12'): -1.0, ('ARGSL_b', 'fum_c_1_2', 'argsuc_c_9_10'): 0.5, ('ASPTA_b', 'glu_L_c_3_4', 'akg_c_3_4'): 1.0, ('TK3_f', 's7p_c_5_6', 'r5p_c_3_4'): 1.0, ('TA1_f', 'TAC3_c_1_2_3', 'f6p_c_1_2_3'): -1.0, ('GLCpts', 'glc_D_e_1_2_3_4_5_6', 'g6p_c_1_2_3_4_5_6'): 1.0, ('TYRTA_b', 'glu_L_c_4', 'akg_c_4'): 1.0, ('TA2_f', 's7p_c_5_6', 'e4p_c_2_3'): 1.0, ('AGPR_b', 'acg5p_c_2', 'acg5sa_c_2'): 1.0, ('HSDy_b', 'hom_L_c_1_3', 'aspsa_c_1_3'): -1.0, ('ARGSL_b', 'fum_c_3_4', 'argsuc_c_9_10'): 0.5, ('EDD', '6pgc_c_1_2_3', '2ddg6p_c_1_2_3'): 1.0, ('FBA_f', 'fdp_c_1', 'dhap_c_3'): 1.0, ('TK1_b', 'xu5p_D_c_2', 'TKC2_c_2'): -1.0, ('ICL', 'succ_c_1_2_4', 'icit_c_3_5_6'): -0.5, ('ALATA_L_f', 'akg_c_4', 'glu_L_c_4'): 1.0, ('PRPPS_b', 'r5p_c_4_5', 'prpp_c_4_5'): -1.0, ('HEX1', 'g6p_c_4_5', 'glc_D_c_4_5'): -1.0, ('GMPS2', 'glu_L_c_3', 'gln_L_c_3'): -1.0, ('ICL', 'icit_c_5', 'succ_c_4'): 0.5, ('TK1_f', 'g3p_c_1', 'xu5p_D_c_3'): -1.0, ('TA2_b', 'e4p_c_1', 's7p_c_4'): 1.0, ('CS', 'oaa_c_2_3', 'cit_c_2_3'): 1.0, ('L_LACD3_b', 'lac_L_c_2', 'pyr_c_2'): -1.0, ('LEUTAi', 'glu_L_c_4_5', 'akg_c_4_5'): 1.0, ('TA2_f', 'TAC3_c_2_3', 's7p_c_2_3'): -1.0, ('PSERT', 'akg_c_2_5', 'glu_L_c_2_5'): -1.0, ('ACONT', 'icit_c_3_4', 'cit_c_3_4'): -1.0, ('GND', 'ru5p_D_c_3_4', '6pgc_c_4_5'): -1.0, ('CS', 'cit_c_2_4', 'accoa_c_2oaa_c_3'): -1.0, ('ADSS', 'dcamp_c_3', 'asp_L_c_3'): -1.0, ('GLNS', 'gln_L_c_3_4_5', 'glu_L_c_3_4_5'): -1.0, ('TA2_f', 's7p_c_5_6_7', 'e4p_c_2_3_4'): 1.0, ('ASPK_b', 'asp_L_c_2_3', '4pasp_c_2_3'): -1.0, ('ICDHyr', 'icit_c_3_4_5', 'akg_c_3_4_5'): 1.0, ('SUCOAS_f', 'succ_c_1_3', 'succoa_c_2_4'): 0.5, ('GMPS2', 'gln_L_c_2_3_5', 'glu_L_c_2_3_5'): 1.0, ('PGI_f', 'g6p_c_5', 'f6p_c_5'): 1.0, ('ABTA', '4abut_c_1', 'sucsal_c_1'): 1.0, ('ASPTA_f', 'glu_L_c_2_4', 'akg_c_2_4'): -1.0, ('CS', 'cit_c_5_6', 'accoa_c_1oaa_c_1'): -1.0, ('HSDy_b', 'hom_L_c_1_2_4', 'aspsa_c_1_2_4'): -1.0, ('PGM_f', '2pg_c_1_3', '3pg_c_1_3'): 1.0, ('ACODA', 'orn_c_2_3_4_5', 'acorn_c_2_3_4_5'): -1.0, ('ARGDC', 'arg_L_c_2_3', 'agm_c_1_2'): 1.0, ('HSK', 'hom_L_c_3', 'phom_c_3'): 1.0, ('ACGS', 'glu_L_c_2_3_4_5', 'acglu_c_2_3_4_5'): 1.0, ('HSDy_f', 'aspsa_c_1_2_3_4', 'hom_L_c_1_2_3_4'): -1.0, ('ARGSL_b', 'fum_c_2_4', 'argsuc_c_7_9'): 0.5, ('DHAPT', 'dhap_c_1', 'dha_c_1'): -1.0, ('ICL', 'icit_c_3_6', 'succ_c_3_4'): 0.5, ('PYK', 'pep_c_2', 'pyr_c_2'): 1.0, ('ICDHyr', 'akg_c_1', 'icit_c_1'): -1.0, ('GLNS', 'glu_L_c_4', 'gln_L_c_4'): 1.0, ('EDA', '2ddg6p_c_4_5_6', 'g3p_c_1_2_3'): 1.0, ('DHAPT', 'pep_c_1', 'pyr_c_1'): 1.0, ('HEX1', 'g6p_c_1_2_3_4_5_6', 'glc_D_c_1_2_3_4_5_6'): -1.0, ('VALTA_b', 'akg_c_3_5', 'glu_L_c_3_5'): -1.0, ('TA1_b', 'f6p_c_3_4_5_6', 'TAC3_c_3g3p_c_1_2_3'): -1.0, ('ADSL1r', 'fum_c_2', 'dcamp_c_3'): -0.5, ('ACOTA_b', 'acorn_c_2_4', 'acg5sa_c_2_4'): -1.0, ('DHAPT', 'dha_c_1_2', 'dhap_c_1_2'): 1.0, ('ENO_f', 'pep_c_3', '2pg_c_3'): -1.0, ('MDH_f', 'oaa_c_1_3_4', 'mal_L_c_1_3_4'): -1.0, ('ILETA_b', 'glu_L_c_2_4_5', 'akg_c_2_4_5'): 1.0, ('PGI_f', 'g6p_c_1_2_3', 'f6p_c_1_2_3'): 1.0, ('AGMT', 'ptrc_c_1_2_4', 'agm_c_1_2_4'): -0.5, ('GLUDy_f', 'akg_c_4', 'glu_L_c_4'): -1.0, ('PTRCTA', '4abutn_c_2', 'ptrc_c_3'): -0.5, ('ASPK_f', 'asp_L_c_2_3', '4pasp_c_2_3'): 1.0, ('ADSL1r', 'dcamp_c_1_2_4', 'fum_c_1_3_4'): 0.5, ('PHETA1_b', 'glu_L_c_2_4_5', 'akg_c_2_4_5'): 1.0, ('PRASCS_b', 'asp_L_c_1_4', '25aics_c_11_13'): -1.0, ('ICL', 'icit_c_6', 'succ_c_1'): 0.5, ('ASPK_f', '4pasp_c_2_3_4', 'asp_L_c_2_3_4'): -1.0, ('TYRTA_f', 'akg_c_2_3_4', 'glu_L_c_2_3_4'): 1.0, ('G6PDH2r', 'g6p_c_4', '6pgl_c_4'): 1.0, ('ACGS', 'glu_L_c_2_3_4', 'acglu_c_2_3_4'): 1.0, ('SSALx', 'sucsal_c_2', 'succ_c_3'): 0.5, ('MDH_b', 'oaa_c_3_4', 'mal_L_c_3_4'): 1.0, ('PDH', 'pyr_c_2_3', 'accoa_c_1_2'): 1.0, ('ABUTD', '4abutn_c_1_2_4', '4abut_c_1_2_4'): 1.0, ('GLNS', 'gln_L_c_1', 'glu_L_c_1'): -1.0, ('AGPR_f', 'acg5sa_c_3_5', 'acg5p_c_3_5'): 1.0, ('FBA_f', 'fdp_c_3', 'dhap_c_1'): 1.0, ('SDPTA_b', 'glu_L_c_5', 'akg_c_5'): 1.0, ('ASPTA_f', 'asp_L_c_1_2_3', 'oaa_c_1_2_3'): 1.0, ('ACODA', 'acorn_c_2_4_5', 'orn_c_2_4_5'): 1.0, ('ASPTA_b', 'oaa_c_2_4', 'asp_L_c_2_4'): 1.0, ('ARGSS', 'argsuc_c_7_8_10', 'asp_L_c_1_2_4'): -1.0, ('CBPS', 'glu_L_c_3_4', 'gln_L_c_3_4'): -1.0, ('GLUDy_f', 'akg_c_2_5', 'glu_L_c_2_5'): -1.0, ('HSDy_f', 'hom_L_c_1_4', 'aspsa_c_1_4'): 1.0, ('ALATA_L_b', 'glu_L_c_4_5', 'akg_c_4_5'): 1.0, ('FUM', 'mal_L_c_1_2', 'fum_c_1_2'): -0.5, ('TA2_f', 'e4p_c_3', 's7p_c_6'): -1.0, ('ALATA_L_f', 'glu_L_c_2', 'akg_c_2'): -1.0, ('AKGDH', 'succoa_c_2_3_4', 'akg_c_3_4_5'): -1.0, ('HEX1', 'glc_D_c_1_3', 'g6p_c_1_3'): 1.0, ('PRPPS_f', 'prpp_c_2', 'r5p_c_2'): -1.0, ('TK3_b', 's7p_c_5_7', 'r5p_c_3_5'): -1.0, ('GLCpts', 'glc_D_e_1_2', 'g6p_c_1_2'): 1.0, ('TA1_f', 'TAC3_c_1', 'f6p_c_1'): -1.0, ('ALATA_L_b', 'akg_c_3', 'glu_L_c_3'): -1.0, ('ARGDC', 'arg_L_c_5', 'agm_c_4'): 1.0, ('AGMT', 'agm_c_1_3_4', 'ptrc_c_1_2_4'): 0.5, ('ALATA_L_f', 'akg_c_3_4_5', 'glu_L_c_3_4_5'): 1.0, ('ARGSS', 'argsuc_c_2_3', 'citr_L_c_2_3'): -1.0, ('PPC', 'oaa_c_1_3_4', 'co2_c_1pep_c_1_3'): -1.0, ('PGM_b', '2pg_c_2_3', '3pg_c_2_3'): -1.0, ('PGK_f', '13dpg_c_1_2', '3pg_c_1_2'): -1.0, ('TK2_b', 'TKC2_c_1e4p_c_1', 'f6p_c_1_3'): 1.0, ('SDPTA_f', 'glu_L_c_2', 'akg_c_2'): -1.0, ('SSALx', 'sucsal_c_1_2_3_4', 'succ_c_1_2_3_4'): 1.0, ('VALTA_f', 'akg_c_4', 'glu_L_c_4'): 1.0, ('ADSL2r', '25aics_c_10_13', 'fum_c_2_4'): 0.5, ('ARGSL_f', 'arg_L_c_4_5', 'argsuc_c_4_5'): -1.0, ('TYRTA_f', 'glu_L_c_2_3', 'akg_c_2_3'): -1.0, ('RPI_f', 'ru5p_D_c_3', 'r5p_c_3'): -1.0, ('ARGDC', 'arg_L_c_3', 'agm_c_2'): 1.0, ('TK3_f', 'r5p_c_1_2', 's7p_c_3_4'): -1.0, ('G6PDH2r', 'g6p_c_2_3', '6pgl_c_2_3'): 1.0, ('ACONT', 'cit_c_1', 'icit_c_1'): 1.0, ('EDD', '2ddg6p_c_4_5', '6pgc_c_4_5'): -1.0, ('TA2_f', 'e4p_c_2_3_4', 's7p_c_5_6_7'): -1.0, ('PFK', 'fdp_c_1_2_3', 'f6p_c_1_2_3'): -1.0, ('SSALx', 'succ_c_1_3', 'sucsal_c_1_3'): -0.5, ('SUCOAS_b', 'succ_c_1_2', 'succoa_c_1_2'): -0.5, ('ACODA', 'acorn_c_3_4', 'orn_c_3_4'): 1.0, ('GLNS', 'gln_L_c_2_3_4', 'glu_L_c_2_3_4'): -1.0, ('TK2_b', 'e4p_c_1', 'f6p_c_3'): 1.0, ('ARGSS', 'asp_L_c_2_4', 'argsuc_c_8_10'): 1.0, ('SUCD1i', 'succ_c_4', 'fum_c_4'): 0.5, ('L_LACt2r_f', 'lac_L_c_1', 'lac_L_e_1'): -1.0, ('PGI_b', 'f6p_c_4_6', 'g6p_c_4_6'): 1.0, ('HSK', 'hom_L_c_1', 'phom_c_1'): 1.0, ('ARGSL_f', 'argsuc_c_3', 'arg_L_c_3'): 1.0, ('OCBT_f', 'orn_c_1', 'citr_L_c_1'): 1.0, ('ACOTA_f', 'glu_L_c_2_3_5', 'akg_c_2_3_5'): -1.0, ('GMPS2', 'gln_L_c_2_4_5', 'glu_L_c_2_4_5'): 1.0, ('ACGK', 'acg5p_c_3_4_5', 'acglu_c_3_4_5'): -1.0, ('TA2_b', 's7p_c_4', 'e4p_c_1'): -1.0, ('LEUTAi', 'akg_c_2_5', 'glu_L_c_2_5'): -1.0, ('ASPTA_b', 'glu_L_c_4', 'akg_c_4'): 1.0, ('ALATA_L_b', 'akg_c_2_3', 'glu_L_c_2_3'): -1.0, ('ASPK_f', '4pasp_c_1_2_4', 'asp_L_c_1_2_4'): -1.0, ('AGPR_f', 'acg5p_c_2_3_4_5', 'acg5sa_c_2_3_4_5'): -1.0, ('FBA_b', 'g3p_c_2', 'fdp_c_5'): 1.0, ('ARGSL_b', 'fum_c_1_2_3', 'argsuc_c_7_8_9'): 0.5, ('CS', 'cit_c_3_4_5', 'accoa_c_1_2oaa_c_2'): -1.0, ('GLYCL_f', 'gly_c_1', 'co2_c_1'): 1.0, ('ADSL2r', '25aics_c_10_12_13', 'fum_c_1_2_4'): 0.5, ('PGL', '6pgl_c_2_3', '6pgc_c_2_3'): 1.0, ('CS', 'accoa_c_1_2oaa_c_1', 'cit_c_4_5_6'): 1.0, ('RPE_b', 'xu5p_D_c_2', 'ru5p_D_c_2'): 1.0, ('THRAr_f', 'thr_L_c_1', 'gly_c_1'): 1.0, ('THRAr_b', 'acald_c_2', 'thr_L_c_4'): 1.0, ('TK2_f', 'TKC2_c_1_2', 'f6p_c_1_2'): -1.0, ('ADSS', 'asp_L_c_1', 'dcamp_c_1'): 1.0, ('ACOTA_f', 'acorn_c_3_5', 'acg5sa_c_3_5'): 1.0, ('FBA_f', 'fdp_c_2_3', 'dhap_c_1_2'): 1.0, ('ALATA_L_b', 'pyr_c_1', 'ala_L_c_1'): 1.0, ('TYRTA_f', 'akg_c_3', 'glu_L_c_3'): 1.0, ('ARGSL_b', 'argsuc_c_7', 'fum_c_1'): -0.5, ('AGMT', 'ptrc_c_1_3_4', 'agm_c_1_3_4'): -0.5, ('ADSL2r', 'fum_c_1_2_3', '25aics_c_10_11_12'): -0.5, ('GLYCL_f', 'co2_c_1', 'gly_c_1'): -1.0, ('ARGSL_f', 'argsuc_c_8', 'fum_c_3'): 0.5, ('PTRCTA', 'ptrc_c_1_3_4', '4abutn_c_1_2_4'): 0.5, ('ASPTA_b', 'glu_L_c_2_4_5', 'akg_c_2_4_5'): 1.0, ('ARGSL_f', 'arg_L_c_2_3_4_5', 'argsuc_c_2_3_4_5'): -1.0, ('L_LACD2_f', 'pyr_c_1_2_3', 'lac_L_c_1_2_3'): -1.0, ('HSDy_f', 'aspsa_c_1', 'hom_L_c_1'): -1.0, ('AGMT', 'agm_c_1_3_4', 'ptrc_c_1_3_4'): 0.5, ('FUM', 'mal_L_c_3', 'fum_c_2'): -0.5, ('PGI_f', 'g6p_c_4_5', 'f6p_c_4_5'): 1.0, ('HSDy_f', 'aspsa_c_1_3', 'hom_L_c_1_3'): -1.0, ('PRASCS_f', '25aics_c_11_13', 'asp_L_c_1_4'): -1.0, ('ARGSS', 'asp_L_c_3', 'argsuc_c_9'): 1.0, ('ARGSL_b', 'fum_c_1_3', 'argsuc_c_7_9'): 0.5, ('TPI_f', 'dhap_c_3', 'g3p_c_3'): 1.0, ('PTRCTA', 'akg_c_2_3_4', 'glu_L_c_2_3_4'): 1.0, ('CBPS', 'glu_L_c_2_3_4_5', 'gln_L_c_2_3_4_5'): -1.0, ('ACOTA_f', 'akg_c_4', 'glu_L_c_4'): 1.0, ('ACODA', 'orn_c_2_3_4', 'acorn_c_2_3_4'): -1.0, ('CHORM', 'chor_c_10', 'pphn_c_10'): 1.0, ('MDH_f', 'mal_L_c_1_3_4', 'oaa_c_1_3_4'): 1.0, ('ACOTA_b', 'akg_c_2_4', 'glu_L_c_2_4'): -1.0, ('AGPR_b', 'acg5sa_c_4_5', 'acg5p_c_4_5'): -1.0, ('PTRCTA', '4abutn_c_1_2_3_4', 'ptrc_c_1_2_3_4'): -1.0, ('ARGSL_f', 'argsuc_c_9', 'fum_c_3'): 0.5, ('VALTA_b', 'glu_L_c_3', 'akg_c_3'): 1.0, ('PHETA1_f', 'glu_L_c_2_3', 'akg_c_2_3'): -1.0, ('L_LACt2r_f', 'lac_L_c_3', 'lac_L_e_3'): -1.0, ('ICL', 'icit_c_3_5_6', 'succ_c_1_2_4'): 0.5, ('AGPR_f', 'acg5sa_c_3_4_5', 'acg5p_c_3_4_5'): 1.0, ('ME2', 'mal_L_c_2_3', 'pyr_c_2_3'): 1.0, ('AGMT', 'ptrc_c_1_3', 'agm_c_2_4'): -0.5, ('ARGSS', 'citr_L_c_2_3', 'argsuc_c_2_3'): 1.0, ('PHETA1_b', 'glu_L_c_3_5', 'akg_c_3_5'): 1.0, ('PSERT', 'akg_c_2_4', 'glu_L_c_2_4'): -1.0, ('SSALy', 'sucsal_c_1_3_4', 'succ_c_1_3_4'): 0.5, ('SSALx', 'sucsal_c_3', 'succ_c_3'): 0.5, ('PHETA1_b', 'akg_c_2', 'glu_L_c_2'): -1.0, ('ABTA', 'glu_L_c_2', 'akg_c_2'): -1.0, ('SUCOAS_b', 'succoa_c_1_2_4', 'succ_c_1_3_4'): 0.5, ('ILETA_f', 'akg_c_1', 'glu_L_c_1'): 1.0, ('FUM', 'mal_L_c_1_2', 'fum_c_3_4'): -0.5, ('ASPTA_b', 'asp_L_c_2_3', 'oaa_c_2_3'): -1.0, ('EDD', '6pgc_c_1', '2ddg6p_c_1'): 1.0, ('TK2_b', 'f6p_c_5_6', 'e4p_c_3_4'): -1.0, ('ARGSS', 'argsuc_c_2_4_5', 'citr_L_c_2_4_5'): -1.0, ('ACODA', 'acorn_c_5', 'orn_c_5'): 1.0, ('G6PDH2r', '6pgl_c_4_5_6', 'g6p_c_4_5_6'): -1.0, ('HSDy_f', 'hom_L_c_1_3_4', 'aspsa_c_1_3_4'): 1.0, ('ARGSL_f', 'argsuc_c_3_5', 'arg_L_c_3_5'): 1.0, ('PGI_f', 'g6p_c_6', 'f6p_c_6'): 1.0, ('PTRCTA', 'glu_L_c_2_3', 'akg_c_2_3'): -1.0, ('CS', 'accoa_c_2', 'cit_c_4'): 1.0, ('ADSL1r', 'dcamp_c_1_3_4', 'fum_c_1_2_4'): 0.5, ('FUM', 'fum_c_2_3_4', 'mal_L_c_2_3_4'): 0.5, ('ACGK', 'acg5p_c_4', 'acglu_c_4'): -1.0, ('ENO_b', '2pg_c_2_3', 'pep_c_2_3'): -1.0, ('SSALx', 'sucsal_c_1_2_4', 'succ_c_1_3_4'): 0.5, ('CBPS', 'glu_L_c_2_3_5', 'gln_L_c_2_3_5'): -1.0, ('ASPK_b', '4pasp_c_1_2', 'asp_L_c_1_2'): 1.0, ('ACOTA_b', 'akg_c_2_3_4_5', 'glu_L_c_2_3_4_5'): -1.0, ('EDD', '2ddg6p_c_4_5_6', '6pgc_c_4_5_6'): -1.0, ('ARGSL_f', 'fum_c_3_4', 'argsuc_c_9_10'): -0.5, ('PHETA1_b', 'glu_L_c_2_3_4', 'akg_c_2_3_4'): 1.0, ('ACGS', 'glu_L_c_1', 'acglu_c_1'): 1.0, ('SUCOAS_f', 'succ_c_1_2_3_4', 'succoa_c_1_2_3_4'): 1.0, ('ARGSL_f', 'fum_c_2_3_4', 'argsuc_c_8_9_10'): -0.5, ('ADSL2r', '25aics_c_11_12_13', 'fum_c_1_3_4'): 0.5, ('ARGSL_b', 'fum_c_2_3_4', 'argsuc_c_8_9_10'): 0.5, ('ACGK', 'acglu_c_2_3_4_5', 'acg5p_c_2_3_4_5'): 1.0, ('ACODA', 'orn_c_3_4_5', 'acorn_c_3_4_5'): -1.0, ('CBPS', 'gln_L_c_3', 'glu_L_c_3'): 1.0, ('AGMT', 'agm_c_3', 'ptrc_c_2'): 0.5, ('ICL', 'icit_c_3_4_6', 'succ_c_2_3_4'): 0.5, ('ALATA_L_b', 'akg_c_2_5', 'glu_L_c_2_5'): -1.0, ('FUM', 'mal_L_c_4', 'fum_c_4'): -0.5, ('FUM', 'fum_c_3_4', 'mal_L_c_1_2'): 0.5, ('SUCOAS_b', 'succoa_c_4', 'succ_c_4'): 0.5, ('PYK', 'pyr_c_3', 'pep_c_3'): -1.0, ('SUCOAS_b', 'succoa_c_2_4', 'succ_c_1_3'): 0.5, ('SSALx', 'succ_c_1_4', 'sucsal_c_1_4'): -1.0, ('ICL', 'succ_c_1_2', 'icit_c_3_6'): -0.5, ('AGPR_f', 'acg5p_c_2_5', 'acg5sa_c_2_5'): -1.0, ('ARGSL_f', 'fum_c_1_2_4', 'argsuc_c_7_8_10'): -0.5, ('GLCpts', 'glc_D_e_6', 'g6p_c_6'): 1.0, ('LEUTAi', 'glu_L_c_2_5', 'akg_c_2_5'): 1.0, ('TK2_f', 'e4p_c_1_2_3_4', 'f6p_c_3_4_5_6'): -1.0, ('GLUDy_b', 'akg_c_2_3_4_5', 'glu_L_c_2_3_4_5'): 1.0, ('PHETA1_b', 'glu_L_c_3_4_5', 'akg_c_3_4_5'): 1.0, ('GLUDy_b', 'glu_L_c_2_3_5', 'akg_c_2_3_5'): -1.0, ('PHETA1_b', 'glu_L_c_2_4', 'akg_c_2_4'): 1.0, ('ASPK_f', '4pasp_c_1_3', 'asp_L_c_1_3'): -1.0, ('TPI_f', 'g3p_c_2_3', 'dhap_c_2_3'): -1.0, ('ICDHyr', 'akg_c_2_3_5', 'icit_c_2_3_5'): -1.0, ('GND', 'ru5p_D_c_3', '6pgc_c_4'): -1.0, ('ARGSL_b', 'fum_c_3', 'argsuc_c_8'): 0.5, ('ADSL1r', 'fum_c_1_3_4', 'dcamp_c_1_2_4'): -0.5, ('ARGSL_f', 'arg_L_c_2_3', 'argsuc_c_2_3'): -1.0, ('VALTA_f', 'glu_L_c_3_4_5', 'akg_c_3_4_5'): -1.0, ('SUCOAS_f', 'succ_c_1', 'succoa_c_4'): 0.5, ('PGI_f', 'f6p_c_6', 'g6p_c_6'): -1.0, ('AGMT', 'agm_c_1', 'ptrc_c_4'): 0.5, ('ADSL1r', 'fum_c_1_3', 'dcamp_c_1_3'): -0.5, ('ARGSS', 'citr_L_c_3_4_5', 'argsuc_c_3_4_5'): 1.0, ('ACOTA_f', 'acorn_c_4_5', 'acg5sa_c_4_5'): 1.0, ('ASPK_f', 'asp_L_c_1_4', '4pasp_c_1_4'): 1.0, ('ASAD_f', '4pasp_c_1_2_3', 'aspsa_c_1_2_3'): -1.0, ('ME2', 'co2_c_1', 'mal_L_c_4'): -1.0, ('ACGK', 'acglu_c_3_4_5', 'acg5p_c_3_4_5'): 1.0, ('ARGSL_b', 'argsuc_c_2_4_5', 'arg_L_c_2_4_5'): -1.0, ('FUM', 'fum_c_1', 'mal_L_c_1'): 0.5, ('ARGSS', 'citr_L_c_1', 'argsuc_c_1'): 1.0, ('ASAD_b', 'aspsa_c_1_3_4', '4pasp_c_1_3_4'): -1.0, ('ARGSL_b', 'arg_L_c_1', 'argsuc_c_1'): 1.0, ('ARGSS', 'argsuc_c_8_10', 'asp_L_c_2_4'): -1.0, ('TYRTA_b', 'glu_L_c_2', 'akg_c_2'): 1.0, ('ALATA_L_f', 'akg_c_2', 'glu_L_c_2'): 1.0, ('G6PDH2r', '6pgl_c_5', 'g6p_c_5'): -1.0, ('SSALy', 'succ_c_1_2_3_4', 'sucsal_c_1_2_3_4'): -1.0, ('SDPTA_f', 'glu_L_c_3_5', 'akg_c_3_5'): -1.0, ('THRAr_f', 'thr_L_c_3', 'acald_c_1'): 1.0, ('ARGSL_f', 'fum_c_1_2', 'argsuc_c_7_8'): -0.5, ('ASAD_b', 'aspsa_c_1', '4pasp_c_1'): -1.0, ('ARGSL_b', 'arg_L_c_2_4', 'argsuc_c_2_4'): 1.0, ('ADSL2r', '25aics_c_10_12', 'fum_c_1_2'): 0.5, ('ICL', 'icit_c_3', 'succ_c_3'): 0.5, ('GLCpts', 'pyr_c_2_3', 'pep_c_2_3'): -1.0, ('ASPK_b', 'asp_L_c_1_2_3_4', '4pasp_c_1_2_3_4'): -1.0, ('ARGSL_b', 'argsuc_c_7', 'fum_c_4'): -0.5, ('ABTA', 'sucsal_c_1_3_4', '4abut_c_1_3_4'): -1.0, ('GLUPRT', 'gln_L_c_3_4', 'glu_L_c_3_4'): 1.0, ('ARGSL_f', 'argsuc_c_7_8', 'fum_c_3_4'): 0.5, ('PTRCTA', 'akg_c_1', 'glu_L_c_1'): 1.0, ('ACONT', 'icit_c_2', 'cit_c_2'): -1.0, ('DHAPT', 'dha_c_2', 'dhap_c_2'): 1.0, ('PRFGS', 'gln_L_c_4', 'glu_L_c_4'): 1.0, ('F6PA', 'f6p_c_2_3', 'dha_c_1_2'): 1.0, ('ARGSL_f', 'fum_c_3', 'argsuc_c_8'): -0.5, ('ACONT', 'cit_c_3_4_5', 'icit_c_3_4_5'): 1.0, ('PGM_b', '2pg_c_1_2', '3pg_c_1_2'): -1.0, ('PGL', '6pgl_c_3_4_5_6', '6pgc_c_3_4_5_6'): 1.0, ('SUCD1i', 'succ_c_3_4', 'fum_c_1_2'): 0.5, ('SUCOAS_b', 'succoa_c_1_3', 'succ_c_2_4'): 0.5, ('EDD', '6pgc_c_6', '2ddg6p_c_6'): 1.0, ('HSDy_f', 'hom_L_c_2_3_4', 'aspsa_c_2_3_4'): 1.0, ('ACOTA_f', 'glu_L_c_3', 'akg_c_3'): -1.0, ('GLUPRT', 'glu_L_c_2_3_4_5', 'gln_L_c_2_3_4_5'): -1.0, ('ACONT', 'icit_c_5_6', 'cit_c_5_6'): -1.0, ('SSALx', 'sucsal_c_2_3_4', 'succ_c_1_2_3'): 0.5, ('TK3_b', 'r5p_c_3_4', 's7p_c_5_6'): 1.0, ('ADSS', 'dcamp_c_2_3_4', 'asp_L_c_2_3_4'): -1.0, ('L_LACD3_f', 'pyr_c_2', 'lac_L_c_2'): -1.0, ('SUCD1i', 'fum_c_1', 'succ_c_1'): -0.5, ('TK2_b', 'TKC2_c_2', 'f6p_c_2'): 1.0, ('ICDHyr', 'icit_c_4', 'akg_c_4'): 1.0, ('PSERT', 'glu_L_c_1', 'akg_c_1'): 1.0, ('PRASCS_b', '25aics_c_11_13', 'asp_L_c_1_4'): 1.0, ('TK2_b', 'f6p_c_3', 'e4p_c_1'): -1.0, ('SSALx', 'sucsal_c_2_4', 'succ_c_1_3'): 0.5, ('HCO3E_b', 'co2_c_1', 'hco3_c_1'): -1.0, ('ARGSL_b', 'argsuc_c_4_5', 'arg_L_c_4_5'): -1.0, ('ME1', 'pyr_c_3', 'mal_L_c_3'): -1.0, ('TYRTA_f', 'glu_L_c_2_3_4_5', 'akg_c_2_3_4_5'): -1.0, ('TA2_b', 's7p_c_3_4', 'TAC3_c_3e4p_c_1'): -1.0, ('FUM', 'fum_c_1_3_4', 'mal_L_c_1_3_4'): 0.5, ('ADSL1r', 'fum_c_1', 'dcamp_c_1'): -0.5, ('THRAr_f', 'thr_L_c_4', 'acald_c_2'): 1.0, ('FBA_b', 'fdp_c_3', 'dhap_c_1'): -1.0, ('ACGS', 'glu_L_c_2_4', 'acglu_c_2_4'): 1.0, ('PYK', 'pyr_c_1', 'pep_c_1'): -1.0, ('TA1_b', 'f6p_c_1', 'TAC3_c_1'): -1.0, ('L_LACt2r_f', 'lac_L_e_3', 'lac_L_c_3'): 1.0, ('PRASCS_f', '25aics_c_12_13', 'asp_L_c_1_2'): -1.0, ('ALATA_L_f', 'akg_c_3_5', 'glu_L_c_3_5'): 1.0, ('PRFGS', 'glu_L_c_2_5', 'gln_L_c_2_5'): -1.0, ('SSALy', 'sucsal_c_1_3_4', 'succ_c_1_2_4'): 0.5, ('ACGK', 'acg5p_c_2_5', 'acglu_c_2_5'): -1.0, ('PGM_f', '2pg_c_1_2', '3pg_c_1_2'): 1.0, ('GLUDy_b', 'akg_c_2_3_4', 'glu_L_c_2_3_4'): 1.0, ('TA1_f', 'f6p_c_2_3', 'TAC3_c_2_3'): 1.0, ('PGM_b', '2pg_c_1', '3pg_c_1'): -1.0, ('SSALy', 'succ_c_3_4', 'sucsal_c_1_2'): -0.5, ('ASPTA_f', 'asp_L_c_2', 'oaa_c_2'): 1.0, ('PTRCTA', '4abutn_c_1_2_3', 'ptrc_c_2_3_4'): -0.5, ('EDA', '2ddg6p_c_5_6', 'g3p_c_2_3'): 1.0, ('GMPS2', 'gln_L_c_2_3_4_5', 'glu_L_c_2_3_4_5'): 1.0, ('FUM', 'mal_L_c_2', 'fum_c_3'): -0.5, ('TA2_f', 's7p_c_1_3', 'TAC3_c_1_3'): 1.0, ('ARGSL_f', 'fum_c_2_4', 'argsuc_c_8_10'): -0.5, ('TK3_b', 'TKC2_c_1_2r5p_c_1_2_3_4_5', 's7p_c_1_2_3_4_5_6_7'): 1.0, ('SUCOAS_b', 'succoa_c_4', 'succ_c_1'): 0.5, ('GLUDy_b', 'glu_L_c_2', 'akg_c_2'): -1.0, ('FUM', 'fum_c_1_2', 'mal_L_c_1_2'): 0.5, ('ARGSL_f', 'fum_c_1_4', 'argsuc_c_7_10'): -1.0, ('TPI_b', 'g3p_c_3', 'dhap_c_3'): 1.0, ('PGK_f', '13dpg_c_1_3', '3pg_c_1_3'): -1.0, ('TYRTA_b', 'akg_c_4_5', 'glu_L_c_4_5'): -1.0, ('EDD', '2ddg6p_c_1', '6pgc_c_1'): -1.0, ('CBPS', 'glu_L_c_3', 'gln_L_c_3'): -1.0, ('ABUTD', '4abutn_c_1_4', '4abut_c_1_4'): 1.0, ('PTRCTA', 'akg_c_3_5', 'glu_L_c_3_5'): 1.0, ('PRASCS_b', 'asp_L_c_1_3_4', '25aics_c_10_11_13'): -1.0, ('TK1_b', 'xu5p_D_c_1_2_3_4_5', 'TKC2_c_1_2g3p_c_1_2_3'): -1.0, ('CBPS', 'glu_L_c_4_5', 'gln_L_c_4_5'): -1.0, ('TYRTA_b', 'glu_L_c_2_3_4_5', 'akg_c_2_3_4_5'): 1.0, ('ARGSL_b', 'argsuc_c_7_8', 'fum_c_3_4'): -0.5, ('ASPTA_f', 'akg_c_4', 'glu_L_c_4'): 1.0, ('GLUPRT', 'glu_L_c_2_3', 'gln_L_c_2_3'): -1.0, ('PSERT', 'glu_L_c_2_3_5', 'akg_c_2_3_5'): 1.0, ('SUCOAS_b', 'succoa_c_1_4', 'succ_c_1_4'): 1.0, ('PFK', 'f6p_c_5', 'fdp_c_5'): 1.0, ('ASPTA_b', 'akg_c_3_5', 'glu_L_c_3_5'): -1.0, ('ARGSS', 'asp_L_c_4', 'argsuc_c_10'): 1.0, ('PGL', '6pgl_c_3', '6pgc_c_3'): 1.0, ('ASAD_b', '4pasp_c_1_4', 'aspsa_c_1_4'): 1.0, ('TA1_b', 'f6p_c_2', 'TAC3_c_2'): -1.0, ('SDPTA_b', 'akg_c_2_4_5', 'glu_L_c_2_4_5'): -1.0, ('ASPTA_b', 'akg_c_2_4', 'glu_L_c_2_4'): -1.0, ('PGI_b', 'g6p_c_1_3', 'f6p_c_1_3'): -1.0, ('PRFGS', 'gln_L_c_2_3_4_5', 'glu_L_c_2_3_4_5'): 1.0, ('ASAD_f', 'aspsa_c_4', '4pasp_c_4'): 1.0, ('ASPK_b', '4pasp_c_1', 'asp_L_c_1'): 1.0, ('ADSL1r', 'fum_c_3', 'dcamp_c_3'): -0.5, ('ACGS', 'glu_L_c_2_4_5', 'acglu_c_2_4_5'): 1.0, ('TK1_f', 'xu5p_D_c_3_5', 'g3p_c_1_3'): 1.0, ('GLUDy_f', 'glu_L_c_3_4', 'akg_c_3_4'): 1.0, ('FUM', 'fum_c_1_3', 'mal_L_c_1_3'): 0.5, ('PYK', 'pep_c_3', 'pyr_c_3'): 1.0, ('MDH_f', 'mal_L_c_1', 'oaa_c_1'): 1.0, ('HEX1', 'g6p_c_1_2', 'glc_D_c_1_2'): -1.0, ('ADSL1r', 'dcamp_c_3', 'fum_c_2'): 0.5, ('CS', 'cit_c_2_3_5', 'accoa_c_1oaa_c_2_3'): -1.0, ('PPND', 'pphn_c_10', 'co2_c_1'): 1.0, ('AKGDH', 'akg_c_2', 'succoa_c_1'): 1.0, ('ADSL1r', 'fum_c_4', 'dcamp_c_4'): -0.5, ('TA2_b', 's7p_c_5', 'e4p_c_2'): -1.0, ('ADSS', 'dcamp_c_2_4', 'asp_L_c_2_4'): -1.0, ('SSALy', 'sucsal_c_2_3_4', 'succ_c_2_3_4'): 0.5, ('ASPTA_f', 'oaa_c_4', 'asp_L_c_4'): -1.0, ('SSALy', 'succ_c_1_3_4', 'sucsal_c_1_3_4'): -0.5, ('SUCOAS_f', 'succ_c_1_2', 'succoa_c_1_2'): 0.5, ('ENO_f', 'pep_c_1_2_3', '2pg_c_1_2_3'): -1.0, ('AKGDH', 'akg_c_2_5', 'succoa_c_1_4'): 1.0, ('ICL', 'icit_c_4', 'succ_c_3'): 0.5, ('PDH', 'pyr_c_2', 'accoa_c_1'): 1.0, ('TK1_f', 'xu5p_D_c_3_4_5', 'g3p_c_1_2_3'): 1.0, ('ACODA', 'orn_c_2_3', 'acorn_c_2_3'): -1.0, ('ARGSL_b', 'arg_L_c_4', 'argsuc_c_4'): 1.0, ('ARGDC', 'arg_L_c_2', 'agm_c_1'): 1.0, ('ENO_b', 'pep_c_2', '2pg_c_2'): 1.0, ('HEX1', 'g6p_c_4', 'glc_D_c_4'): -1.0, ('VALTA_f', 'akg_c_2_3', 'glu_L_c_2_3'): 1.0, ('ILETA_f', 'glu_L_c_4', 'akg_c_4'): -1.0, ('PGL', '6pgc_c_1_2_3', '6pgl_c_1_2_3'): -1.0, ('ADSL1r', 'dcamp_c_4', 'fum_c_1'): 0.5, ('SUCD1i', 'fum_c_1_2_3', 'succ_c_1_2_3'): -0.5, ('AGPR_b', 'acg5sa_c_3_4_5', 'acg5p_c_3_4_5'): -1.0, ('TK2_b', 'e4p_c_1_2_3_4', 'f6p_c_3_4_5_6'): 1.0, ('GLCpts', 'glc_D_e_4_6', 'g6p_c_4_6'): 1.0, ('ENO_f', '2pg_c_1_2_3', 'pep_c_1_2_3'): 1.0, ('ASPTA_b', 'asp_L_c_3', 'oaa_c_3'): -1.0, ('PRPPS_b', 'r5p_c_4', 'prpp_c_4'): -1.0, ('GMPS2', 'glu_L_c_3_4', 'gln_L_c_3_4'): -1.0, ('ACONT', 'cit_c_2_3', 'icit_c_2_3'): 1.0, ('PGI_b', 'f6p_c_1_2_3', 'g6p_c_1_2_3'): 1.0, ('PRFGS', 'gln_L_c_2_3_5', 'glu_L_c_2_3_5'): 1.0, ('ICDHyr', 'akg_c_3_4_5', 'icit_c_3_4_5'): -1.0, ('ASPTA_b', 'asp_L_c_1_3', 'oaa_c_1_3'): -1.0, ('ENO_b', 'pep_c_3', '2pg_c_3'): 1.0, ('ARGDC', 'arg_L_c_2_4_5', 'agm_c_1_3_4'): 1.0, ('DHAPT', 'pyr_c_2_3', 'pep_c_2_3'): -1.0, ('PRAGSr_f', 'gly_c_1', 'gar_c_6'): 1.0, ('ENO_f', '2pg_c_1_2', 'pep_c_1_2'): 1.0, ('ABUTD', '4abut_c_1_3', '4abutn_c_1_3'): -1.0, ('ABTA', 'akg_c_2_3_4', 'glu_L_c_2_3_4'): 1.0, ('GLNS', 'gln_L_c_3_4', 'glu_L_c_3_4'): -1.0, ('ACONT', 'cit_c_5_6', 'icit_c_5_6'): 1.0, ('FBA_f', 'dhap_c_2', 'fdp_c_2'): -1.0, ('ALATA_L_f', 'pyr_c_2', 'ala_L_c_2'): -1.0, ('GLCpts', 'pyr_c_1', 'pep_c_1'): -1.0, ('PRPPS_b', 'prpp_c_1_2_3_4_5', 'r5p_c_1_2_3_4_5'): 1.0, ('ARGSL_f', 'argsuc_c_2_3_4_5', 'arg_L_c_2_3_4_5'): 1.0, ('PTRCTA', 'ptrc_c_1_2_3_4', '4abutn_c_1_2_3_4'): 1.0, ('ARGSL_b', 'argsuc_c_2_3', 'arg_L_c_2_3'): -1.0, ('ASPK_b', 'asp_L_c_1_2_3', '4pasp_c_1_2_3'): -1.0, ('SUCD1i', 'succ_c_2_4', 'fum_c_2_4'): 0.5, ('PRPPS_b', 'r5p_c_3_5', 'prpp_c_3_5'): -1.0, ('ADSL2r', 'fum_c_1_2', '25aics_c_12_13'): -0.5, ('DHAPT', 'dhap_c_1_3', 'dha_c_1_3'): -1.0, ('PHETA1_f', 'glu_L_c_2_3_4', 'akg_c_2_3_4'): -1.0, ('HSDy_f', 'hom_L_c_2_4', 'aspsa_c_2_4'): 1.0, ('AKGDH', 'akg_c_2_4_5', 'succoa_c_1_3_4'): 1.0, ('PPC', 'pep_c_1', 'oaa_c_1'): 1.0, ('ASPTA_f', 'glu_L_c_2_3_5', 'akg_c_2_3_5'): -1.0, ('FBA_b', 'dhap_c_1_2_3g3p_c_1_2_3', 'fdp_c_1_2_3_4_5_6'): 1.0, ('GLCpts', 'glc_D_e_1_3', 'g6p_c_1_3'): 1.0, ('GLUPRT', 'gln_L_c_2_3_4', 'glu_L_c_2_3_4'): 1.0, ('SDPTA_b', 'akg_c_2_4', 'glu_L_c_2_4'): -1.0, ('TK2_b', 'f6p_c_2', 'TKC2_c_2'): -1.0, ('SUCD1i', 'fum_c_1_2', 'succ_c_1_2'): -0.5, ('MDH_f', 'oaa_c_1_2', 'mal_L_c_1_2'): -1.0, ('OCBT_f', 'citr_L_c_1', 'orn_c_1'): -1.0, ('PGI_b', 'f6p_c_4_5', 'g6p_c_4_5'): 1.0, ('TYRTA_f', 'akg_c_3_4', 'glu_L_c_3_4'): 1.0, ('ABTA', 'sucsal_c_1_3', '4abut_c_1_3'): -1.0, ('ADSL1r', 'fum_c_3_4', 'dcamp_c_3_4'): -0.5, ('ARGSS', 'citr_L_c_2_5', 'argsuc_c_2_5'): 1.0, ('FBA_b', 'fdp_c_1_2_3_4_5_6', 'dhap_c_1_2_3g3p_c_1_2_3'): -1.0, ('EDA', 'g3p_c_1_2', '2ddg6p_c_4_5'): -1.0, ('ARGSL_b', 'argsuc_c_7_8_9', 'fum_c_2_3_4'): -0.5, ('TK3_f', 's7p_c_6', 'r5p_c_4'): 1.0, ('SDPTA_f', 'glu_L_c_2_5', 'akg_c_2_5'): -1.0, ('TA2_b', 's7p_c_1', 'TAC3_c_1'): -1.0, ('OCBT_b', 'orn_c_2_4_5', 'citr_L_c_2_4_5'): -1.0, ('PGK_f', '13dpg_c_3', '3pg_c_3'): -1.0, ('CBPS', 'glu_L_c_3_5', 'gln_L_c_3_5'): -1.0, ('AGPR_b', 'acg5sa_c_2_3_4', 'acg5p_c_2_3_4'): -1.0, ('ASPK_b', '4pasp_c_1_2_3', 'asp_L_c_1_2_3'): 1.0, ('SUCD1i', 'succ_c_3', 'fum_c_2'): 0.5, ('ARGDC', 'agm_c_2_3_4', 'arg_L_c_3_4_5'): -1.0, ('ARGDC', 'agm_c_2_4', 'arg_L_c_3_5'): -1.0, ('SUCOAS_f', 'succ_c_3_4', 'succoa_c_1_2'): 0.5, ('SUCOAS_f', 'succ_c_1_3', 'succoa_c_1_3'): 0.5, ('PRASCS_f', 'asp_L_c_2_3_4', '25aics_c_10_11_12'): 1.0, ('ARGSL_f', 'argsuc_c_7_9_10', 'fum_c_1_3_4'): 0.5, ('SSALy', 'sucsal_c_1', 'succ_c_1'): 0.5, ('ACONT', 'cit_c_3_6', 'icit_c_3_6'): 1.0, ('HEX1', 'glc_D_c_1_2', 'g6p_c_1_2'): 1.0, ('ASAD_b', 'aspsa_c_1_4', '4pasp_c_1_4'): -1.0, ('PGK_b', '3pg_c_1', '13dpg_c_1'): -1.0, ('PFK', 'f6p_c_5_6', 'fdp_c_5_6'): 1.0, ('TA2_b', 's7p_c_1_2_3', 'TAC3_c_1_2_3'): -1.0, ('ASPTA_f', 'asp_L_c_1_2_3_4', 'oaa_c_1_2_3_4'): 1.0, ('AGMT', 'agm_c_2_3', 'ptrc_c_2_3'): 1.0, ('SDPTA_f', 'glu_L_c_2_3_5', 'akg_c_2_3_5'): -1.0, ('ALATA_L_f', 'pyr_c_2_3', 'ala_L_c_2_3'): -1.0, ('GLNS', 'glu_L_c_5', 'gln_L_c_5'): 1.0, ('ASPTA_b', 'oaa_c_1', 'asp_L_c_1'): 1.0, ('LEUTAi', 'akg_c_2_3_5', 'glu_L_c_2_3_5'): -1.0, ('MDH_b', 'oaa_c_1_2_3_4', 'mal_L_c_1_2_3_4'): 1.0, ('TYRTA_b', 'glu_L_c_4_5', 'akg_c_4_5'): 1.0, ('VALTA_b', 'akg_c_2', 'glu_L_c_2'): -1.0, ('ARGDC', 'arg_L_c_2_3_5', 'agm_c_1_2_4'): 1.0, ('TYRTA_f', 'glu_L_c_5', 'akg_c_5'): -1.0, ('GMPS2', 'gln_L_c_2_4', 'glu_L_c_2_4'): 1.0, ('PTRCTA', 'glu_L_c_2_3_4_5', 'akg_c_2_3_4_5'): -1.0, ('ARGSS', 'citr_L_c_2_4_5', 'argsuc_c_2_4_5'): 1.0, ('HSK', 'hom_L_c_4', 'phom_c_4'): 1.0, ('PTRCTA', 'ptrc_c_2_3_4', '4abutn_c_2_3_4'): 0.5, ('SSALy', 'sucsal_c_2_4', 'succ_c_1_3'): 0.5, ('PTRCTA', 'ptrc_c_1_3', '4abutn_c_1_3'): 0.5, ('SUCOAS_f', 'succoa_c_2_4', 'succ_c_1_3'): -0.5, ('ADSL1r', 'dcamp_c_1_3', 'fum_c_2_4'): 0.5, ('GLUDy_b', 'akg_c_3_5', 'glu_L_c_3_5'): 1.0, ('ABTA', 'glu_L_c_3_5', 'akg_c_3_5'): -1.0, ('ACODA', 'acorn_c_3_4_5', 'orn_c_3_4_5'): 1.0, ('ABTA', 'akg_c_2_3', 'glu_L_c_2_3'): 1.0, ('ADSL2r', '25aics_c_12_13', 'fum_c_1_2'): 0.5, ('SUCD1i', 'succ_c_2', 'fum_c_3'): 0.5, ('CHORS', 'chor_c_10', '3psme_c_10'): -1.0, ('PHETA1_f', 'akg_c_2_3', 'glu_L_c_2_3'): 1.0, ('ASPTA_f', 'asp_L_c_1', 'oaa_c_1'): 1.0, ('ASPTA_b', 'akg_c_3_4', 'glu_L_c_3_4'): -1.0, ('ACOTA_b', 'acg5sa_c_2_3_4_5', 'acorn_c_2_3_4_5'): 1.0, ('PGI_b', 'f6p_c_1_2_3_4_5_6', 'g6p_c_1_2_3_4_5_6'): 1.0, ('GLCpts', 'g6p_c_1_3', 'glc_D_e_1_3'): -1.0, ('ACGK', 'acg5p_c_2_3', 'acglu_c_2_3'): -1.0, ('SUCOAS_b', 'succoa_c_1_2', 'succ_c_1_2'): 0.5, ('TPI_b', 'dhap_c_3', 'g3p_c_3'): -1.0, ('GLUDy_f', 'glu_L_c_1', 'akg_c_1'): 1.0, ('ABTA', 'glu_L_c_3_4', 'akg_c_3_4'): -1.0, ('SUCD1i', 'succ_c_2_3_4', 'fum_c_1_2_3'): 0.5, ('ASPK_f', 'asp_L_c_2_4', '4pasp_c_2_4'): 1.0, ('EDA', 'g3p_c_3', '2ddg6p_c_6'): -1.0, ('ACGS', 'acglu_c_2_3_4_5', 'glu_L_c_2_3_4_5'): -1.0, ('ARGSL_b', 'argsuc_c_3_4', 'arg_L_c_3_4'): -1.0, ('EDD', '2ddg6p_c_5', '6pgc_c_5'): -1.0, ('SDPTA_b', 'akg_c_2_3', 'glu_L_c_2_3'): -1.0, ('PGL', '6pgc_c_3', '6pgl_c_3'): -1.0, ('ASPTA_b', 'oaa_c_1_2_3_4', 'asp_L_c_1_2_3_4'): 1.0, ('ENO_b', '2pg_c_1_2_3', 'pep_c_1_2_3'): -1.0, ('ADSL2r', 'fum_c_2', '25aics_c_10'): -0.5, ('RPI_f', 'r5p_c_2_3_4_5', 'ru5p_D_c_2_3_4_5'): 1.0, ('TA2_b', 'TAC3_c_3e4p_c_1_2_3_4', 's7p_c_3_4_5_6_7'): 1.0, ('ADSL1r', 'dcamp_c_2_4', 'fum_c_1_3'): 0.5, ('PFK', 'f6p_c_1', 'fdp_c_1'): 1.0, ('AGMT', 'ptrc_c_2', 'agm_c_2'): -0.5, ('ABTA', '4abut_c_3', 'sucsal_c_3'): 1.0, ('AGPR_f', 'acg5sa_c_4', 'acg5p_c_4'): 1.0, ('PGL', '6pgl_c_1_2_3', '6pgc_c_1_2_3'): 1.0, ('ADSL1r', 'fum_c_1_2', 'dcamp_c_1_2'): -0.5, ('RPE_f', 'ru5p_D_c_5', 'xu5p_D_c_5'): 1.0, ('ADSL1r', 'fum_c_2_4', 'dcamp_c_1_3'): -0.5, ('SUCOAS_b', 'succ_c_2_4', 'succoa_c_2_4'): -0.5, ('TK2_b', 'f6p_c_1_2_3', 'TKC2_c_1_2e4p_c_1'): -1.0, ('GLUDy_b', 'glu_L_c_2_4_5', 'akg_c_2_4_5'): -1.0, ('ACONT', 'icit_c_3_5', 'cit_c_3_5'): -1.0, ('TK2_b', 'f6p_c_4_5', 'e4p_c_2_3'): -1.0, ('PRFGS', 'gln_L_c_2', 'glu_L_c_2'): 1.0, ('TA2_b', 's7p_c_5_6_7', 'e4p_c_2_3_4'): -1.0, ('ACOTA_b', 'glu_L_c_4_5', 'akg_c_4_5'): 1.0, ('PFK', 'f6p_c_1_2_3', 'fdp_c_1_2_3'): 1.0, ('TK2_b', 'f6p_c_1_2_3_4_5_6', 'TKC2_c_1_2e4p_c_1_2_3_4'): -1.0, ('OCBT_b', 'citr_L_c_3_4_5', 'orn_c_3_4_5'): 1.0, ('AGPR_f', 'acg5sa_c_5', 'acg5p_c_5'): 1.0, ('PGK_b', '13dpg_c_2_3', '3pg_c_2_3'): 1.0, ('AGMT', 'ptrc_c_1_4', 'agm_c_1_4'): -1.0, ('ARGSL_f', 'arg_L_c_3_4', 'argsuc_c_3_4'): -1.0, ('GLNS', 'gln_L_c_2_3_4_5', 'glu_L_c_2_3_4_5'): -1.0, ('ME2', 'mal_L_c_3', 'pyr_c_3'): 1.0, ('ASPTA_b', 'akg_c_2_5', 'glu_L_c_2_5'): -1.0, ('CS', 'cit_c_4_5_6', 'accoa_c_1_2oaa_c_1'): -1.0, ('ACGS', 'glu_L_c_3_4_5', 'acglu_c_3_4_5'): 1.0, ('ALATA_L_b', 'glu_L_c_3_4_5', 'akg_c_3_4_5'): 1.0, ('ACGK', 'acglu_c_2', 'acg5p_c_2'): 1.0, ('ACOTA_f', 'glu_L_c_3_4_5', 'akg_c_3_4_5'): -1.0, ('SUCOAS_b', 'succoa_c_1_2_3', 'succ_c_1_2_3'): 0.5, ('FBA_b', 'g3p_c_1_3', 'fdp_c_4_6'): 1.0, ('GLNS', 'glu_L_c_2_3_4_5', 'gln_L_c_2_3_4_5'): 1.0, ('ALATA_L_f', 'glu_L_c_3_4_5', 'akg_c_3_4_5'): -1.0, ('THRS', 'thr_L_c_1', 'phom_c_1'): -1.0, ('ILETA_f', 'akg_c_3_4', 'glu_L_c_3_4'): 1.0, ('ASPTA_f', 'akg_c_2_3_4', 'glu_L_c_2_3_4'): 1.0, ('ACONT', 'cit_c_2_5', 'icit_c_2_5'): 1.0, ('ALATA_L_f', 'pyr_c_1_2_3', 'ala_L_c_1_2_3'): -1.0, ('TA1_b', 'TAC3_c_2_3g3p_c_1_2_3', 'f6p_c_2_3_4_5_6'): 1.0, ('GLUDy_f', 'akg_c_2_3', 'glu_L_c_2_3'): -1.0, ('ARGSL_b', 'arg_L_c_2_3_4', 'argsuc_c_2_3_4'): 1.0, ('GLUDy_f', 'akg_c_2_3_4_5', 'glu_L_c_2_3_4_5'): -1.0, ('ADSS', 'dcamp_c_1_2_4', 'asp_L_c_1_2_4'): -1.0, ('RPI_b', 'ru5p_D_c_5', 'r5p_c_5'): 1.0, ('SUCOAS_b', 'succoa_c_1_2_3_4', 'succ_c_1_2_3_4'): 1.0, ('VALTA_b', 'glu_L_c_1', 'akg_c_1'): 1.0, ('ACODA', 'acorn_c_4_5', 'orn_c_4_5'): 1.0, ('ACGK', 'acglu_c_4', 'acg5p_c_4'): 1.0, ('ALATA_L_f', 'glu_L_c_3_4', 'akg_c_3_4'): -1.0, ('SUCD1i', 'fum_c_1_2_3', 'succ_c_2_3_4'): -0.5, ('CS', 'cit_c_4_6', 'accoa_c_2oaa_c_1'): -1.0, ('ASPTA_b', 'oaa_c_3', 'asp_L_c_3'): 1.0, ('RPI_f', 'ru5p_D_c_1', 'r5p_c_1'): -1.0, ('PRPPS_b', 'prpp_c_4', 'r5p_c_4'): 1.0, ('CS', 'accoa_c_2oaa_c_3', 'cit_c_2_4'): 1.0, ('ASPK_f', 'asp_L_c_3', '4pasp_c_3'): 1.0, ('ASPTA_b', 'akg_c_3', 'glu_L_c_3'): -1.0, ('GLUPRT', 'glu_L_c_2_4_5', 'gln_L_c_2_4_5'): -1.0, ('PTRCTA', 'akg_c_2_3', 'glu_L_c_2_3'): 1.0, ('TK3_b', 'r5p_c_3_4_5', 's7p_c_5_6_7'): 1.0, ('TYRTA_b', 'glu_L_c_2_3', 'akg_c_2_3'): 1.0, ('FBA_b', 'dhap_c_1', 'fdp_c_3'): 1.0, ('ICL', 'icit_c_1', 'glx_c_1'): 1.0, ('ACGS', 'acglu_c_3', 'glu_L_c_3'): -1.0, ('ARGSL_f', 'fum_c_1_2_4', 'argsuc_c_7_9_10'): -0.5, ('SUCOAS_f', 'succ_c_1', 'succoa_c_1'): 0.5, ('ENO_b', '2pg_c_1_2', 'pep_c_1_2'): -1.0, ('GLUDy_b', 'glu_L_c_2_5', 'akg_c_2_5'): -1.0, ('ACGK', 'acglu_c_2_4', 'acg5p_c_2_4'): 1.0, ('ACGS', 'acglu_c_2_3_4', 'glu_L_c_2_3_4'): -1.0, ('OCBT_f', 'citr_L_c_3_5', 'orn_c_3_5'): -1.0, ('ACODA', 'orn_c_4_5', 'acorn_c_4_5'): -1.0, ('ALATA_L_b', 'akg_c_5', 'glu_L_c_5'): -1.0, ('ARGSL_b', 'argsuc_c_7_9_10', 'fum_c_1_3_4'): -0.5, ('ASAD_b', 'aspsa_c_3', '4pasp_c_3'): -1.0, ('ASAD_f', 'aspsa_c_3_4', '4pasp_c_3_4'): 1.0, ('ACOTA_b', 'acorn_c_2', 'acg5sa_c_2'): -1.0, ('ACODA', 'acorn_c_2_3_4_5', 'orn_c_2_3_4_5'): 1.0, ('ICDHyr', 'icit_c_2_4', 'akg_c_2_4'): 1.0, ('CS', 'cit_c_1', 'oaa_c_4'): -1.0, ('ARGSS', 'citr_L_c_2_3_5', 'argsuc_c_2_3_5'): 1.0, ('TA1_f', 'f6p_c_4_6', 'g3p_c_1_3'): 1.0, ('ARGSS', 'asp_L_c_2', 'argsuc_c_8'): 1.0, ('ARGSL_b', 'fum_c_1_2_3', 'argsuc_c_8_9_10'): 0.5, ('ICDHyr', 'akg_c_2', 'icit_c_2'): -1.0, ('OCBT_f', 'orn_c_3_4_5', 'citr_L_c_3_4_5'): 1.0, ('TK1_b', 'xu5p_D_c_3', 'g3p_c_1'): -1.0, ('EDA', '2ddg6p_c_1', 'pyr_c_1'): 1.0, ('ASPTA_b', 'oaa_c_1_2_3', 'asp_L_c_1_2_3'): 1.0, ('HSDy_f', 'aspsa_c_1_4', 'hom_L_c_1_4'): -1.0, ('G6PDH2r', 'g6p_c_4_6', '6pgl_c_4_6'): 1.0, ('ARGSL_b', 'fum_c_1_3_4', 'argsuc_c_7_9_10'): 0.5, ('ADSS', 'asp_L_c_2', 'dcamp_c_2'): 1.0, ('ASAD_b', '4pasp_c_4', 'aspsa_c_4'): 1.0, ('PRASCS_f', '25aics_c_10_11_12', 'asp_L_c_2_3_4'): -1.0, ('ARGSS', 'asp_L_c_1_3', 'argsuc_c_7_9'): 1.0, ('ACOTA_f', 'acg5sa_c_4_5', 'acorn_c_4_5'): -1.0, ('GMPS2', 'glu_L_c_3_4_5', 'gln_L_c_3_4_5'): -1.0, ('HSDy_f', 'aspsa_c_3', 'hom_L_c_3'): -1.0, ('PGL', '6pgc_c_1', '6pgl_c_1'): -1.0, ('ASAD_f', '4pasp_c_1_4', 'aspsa_c_1_4'): -1.0, ('ARGSS', 'citr_L_c_2_4', 'argsuc_c_2_4'): 1.0, ('PFK', 'fdp_c_4', 'f6p_c_4'): -1.0, ('AGPR_b', 'acg5p_c_2_4_5', 'acg5sa_c_2_4_5'): 1.0, ('PGL', '6pgc_c_5', '6pgl_c_5'): -1.0, ('CS', 'oaa_c_3_4', 'cit_c_1_2'): 1.0, ('OCBT_f', 'orn_c_2_3_4', 'citr_L_c_2_3_4'): 1.0, ('ADSL1r', 'fum_c_1_2_4', 'dcamp_c_1_2_4'): -0.5, ('GLUDy_f', 'glu_L_c_2_3_5', 'akg_c_2_3_5'): 1.0, ('ASPK_f', '4pasp_c_1_2_3_4', 'asp_L_c_1_2_3_4'): -1.0, ('ICDHyr', 'icit_c_2_5', 'akg_c_2_5'): 1.0, ('SUCOAS_b', 'succ_c_1_2_3', 'succoa_c_2_3_4'): -0.5, ('PSERT', 'akg_c_5', 'glu_L_c_5'): -1.0, ('TK2_b', 'f6p_c_3_4_5_6', 'e4p_c_1_2_3_4'): -1.0, ('ENO_b', '2pg_c_3', 'pep_c_3'): -1.0, ('ADSL1r', 'fum_c_1_2_3', 'dcamp_c_2_3_4'): -0.5, ('ALATA_L_b', 'glu_L_c_2_3', 'akg_c_2_3'): 1.0, ('ASPTA_b', 'oaa_c_4', 'asp_L_c_4'): 1.0, ('PSERT', 'glu_L_c_3_4_5', 'akg_c_3_4_5'): 1.0, ('HEX1', 'g6p_c_6', 'glc_D_c_6'): -1.0, ('ALATA_L_b', 'akg_c_2_4_5', 'glu_L_c_2_4_5'): -1.0, ('ACOTA_b', 'glu_L_c_4', 'akg_c_4'): 1.0, ('SUCOAS_b', 'succ_c_1_3', 'succoa_c_2_4'): -0.5, ('FBA_b', 'fdp_c_2_3', 'dhap_c_1_2'): -1.0, ('SDPTA_f', 'glu_L_c_3_4_5', 'akg_c_3_4_5'): -1.0, ('GND', '6pgc_c_1', 'co2_c_1'): 1.0, ('CBPS', 'gln_L_c_2_3_4', 'glu_L_c_2_3_4'): 1.0, ('ASAD_f', '4pasp_c_1_3_4', 'aspsa_c_1_3_4'): -1.0, ('TYRTA_f', 'glu_L_c_2_3_5', 'akg_c_2_3_5'): -1.0, ('FUM', 'fum_c_2', 'mal_L_c_2'): 0.5, ('ARGSS', 'argsuc_c_4', 'citr_L_c_4'): -1.0, ('FUM', 'fum_c_2_3', 'mal_L_c_2_3'): 1.0, ('ACGS', 'acglu_c_2_4', 'glu_L_c_2_4'): -1.0, ('ACONT', 'icit_c_2_3_4', 'cit_c_2_3_4'): -1.0, ('TK3_f', 's7p_c_7', 'r5p_c_5'): 1.0, ('AGMT', 'ptrc_c_3_4', 'agm_c_1_2'): -0.5, ('ARGSL_f', 'fum_c_2', 'argsuc_c_8'): -0.5, ('AGPR_b', 'acg5p_c_4_5', 'acg5sa_c_4_5'): 1.0, ('CHORS', '3psme_c_10', 'chor_c_10'): 1.0, ('AKGDH', 'co2_c_1', 'akg_c_1'): -1.0, ('DHAPT', 'pyr_c_1', 'pep_c_1'): -1.0, ('ARGSL_b', 'argsuc_c_2_3_5', 'arg_L_c_2_3_5'): -1.0, ('ASPTA_b', 'asp_L_c_2', 'oaa_c_2'): -1.0, ('VALTA_f', 'akg_c_2_5', 'glu_L_c_2_5'): 1.0, ('PRPPS_b', 'r5p_c_1', 'prpp_c_1'): -1.0, ('ALATA_L_f', 'glu_L_c_4_5', 'akg_c_4_5'): -1.0, ('SSALx', 'succ_c_2_4', 'sucsal_c_1_3'): -0.5, ('ADSL1r', 'dcamp_c_2_3_4', 'fum_c_1_2_3'): 0.5, ('SDPTA_b', 'glu_L_c_2_3_4', 'akg_c_2_3_4'): 1.0, ('ARGSL_b', 'argsuc_c_3_5', 'arg_L_c_3_5'): -1.0, ('ABTA', '4abut_c_2_3', 'sucsal_c_2_3'): 1.0, ('ACONT', 'icit_c_3_4_6', 'cit_c_3_4_6'): -1.0, ('PRASCS_b', 'asp_L_c_2_3', '25aics_c_10_12'): -1.0, ('ICL', 'succ_c_3_4', 'icit_c_4_5'): -0.5, ('CBPS', 'glu_L_c_2_4', 'gln_L_c_2_4'): -1.0, ('ARGSL_f', 'argsuc_c_8_9_10', 'fum_c_2_3_4'): 0.5, ('ARGSL_b', 'arg_L_c_4_5', 'argsuc_c_4_5'): 1.0, ('ADSL2r', '25aics_c_11_12', 'fum_c_2_4'): 0.5, ('ACONT', 'cit_c_4', 'icit_c_4'): 1.0, ('ACOTA_b', 'akg_c_3_4_5', 'glu_L_c_3_4_5'): -1.0, ('ASAD_f', '4pasp_c_1', 'aspsa_c_1'): -1.0, ('CS', 'accoa_c_1', 'cit_c_5'): 1.0, ('ALATA_L_b', 'akg_c_3_4_5', 'glu_L_c_3_4_5'): -1.0, ('ASPK_b', '4pasp_c_3_4', 'asp_L_c_3_4'): 1.0, ('AGPR_b', 'acg5sa_c_5', 'acg5p_c_5'): -1.0, ('ACOTA_b', 'acg5sa_c_5', 'acorn_c_5'): 1.0, ('ARGSL_b', 'argsuc_c_9_10', 'fum_c_3_4'): -0.5, ('ADSS', 'dcamp_c_1_2_3', 'asp_L_c_1_2_3'): -1.0, ('MDH_f', 'mal_L_c_1_2_4', 'oaa_c_1_2_4'): 1.0, ('ME2', 'mal_L_c_1_2_3', 'pyr_c_1_2_3'): 1.0, ('ADSL2r', 'fum_c_2_3_4', '25aics_c_10_11_12'): -0.5, ('FBA_f', 'fdp_c_5', 'g3p_c_2'): 1.0, ('PGL', '6pgc_c_2_3_4_5_6', '6pgl_c_2_3_4_5_6'): -1.0, ('F6PA', 'g3p_c_1_2_3', 'f6p_c_4_5_6'): -1.0, ('SSALy', 'succ_c_2_4', 'sucsal_c_2_4'): -0.5, ('ARGSL_f', 'argsuc_c_8_10', 'fum_c_2_4'): 0.5, ('ARGSL_f', 'argsuc_c_7_8_10', 'fum_c_1_3_4'): 0.5, ('SUCOAS_b', 'succoa_c_3_4', 'succ_c_3_4'): 0.5, ('ACOTA_b', 'akg_c_2_3_4', 'glu_L_c_2_3_4'): -1.0, ('GLUPRT', 'glu_L_c_2', 'gln_L_c_2'): -1.0, ('SUCOAS_f', 'succoa_c_1_2', 'succ_c_1_2'): -0.5, ('ACOTA_b', 'acorn_c_3_5', 'acg5sa_c_3_5'): -1.0, ('AGPR_f', 'acg5sa_c_2_3_4', 'acg5p_c_2_3_4'): 1.0, ('PGK_f', '3pg_c_1', '13dpg_c_1'): 1.0, ('ARGSL_f', 'argsuc_c_7', 'fum_c_4'): 0.5, ('SSALx', 'succ_c_1', 'sucsal_c_1'): -0.5, ('ARGSL_b', 'arg_L_c_3_5', 'argsuc_c_3_5'): 1.0, ('MDH_b', 'mal_L_c_1_2_3_4', 'oaa_c_1_2_3_4'): -1.0, ('GLUPRT', 'glu_L_c_3', 'gln_L_c_3'): -1.0, ('MDH_b', 'mal_L_c_1_2_4', 'oaa_c_1_2_4'): -1.0, ('AKGDH', 'akg_c_3', 'succoa_c_2'): 1.0, ('AKGDH', 'succoa_c_1_2', 'akg_c_2_3'): -1.0, ('TK2_f', 'e4p_c_3', 'f6p_c_5'): -1.0, ('SSALx', 'succ_c_2_3', 'sucsal_c_2_3'): -1.0, ('CBPS', 'glu_L_c_4', 'gln_L_c_4'): -1.0, ('ASPK_f', '4pasp_c_1_3_4', 'asp_L_c_1_3_4'): -1.0, ('RPI_f', 'ru5p_D_c_2_3_4_5', 'r5p_c_2_3_4_5'): -1.0, ('PRASCS_f', 'asp_L_c_1_3', '25aics_c_10_13'): 1.0, ('PHETA1_b', 'akg_c_4_5', 'glu_L_c_4_5'): -1.0, ('SSALy', 'sucsal_c_2_4', 'succ_c_2_4'): 0.5, ('ADHEr', 'etoh_c_1_2', 'accoa_c_1_2'): -1.0, ('ARGSL_b', 'argsuc_c_7_8_10', 'fum_c_1_3_4'): -0.5, ('ARGSL_f', 'argsuc_c_8_10', 'fum_c_1_3'): 0.5, ('FUM', 'fum_c_2_3_4', 'mal_L_c_1_2_3'): 0.5, ('PGL', '6pgc_c_2_3', '6pgl_c_2_3'): -1.0, ('ME2', 'mal_L_c_2', 'pyr_c_2'): 1.0, ('SDPTA_f', 'glu_L_c_2_3', 'akg_c_2_3'): -1.0, ('GLCpts', 'glc_D_e_4_5', 'g6p_c_4_5'): 1.0, ('ASPTA_f', 'asp_L_c_4', 'oaa_c_4'): 1.0, ('TA2_f', 'TAC3_c_1', 's7p_c_1'): -1.0, ('ACOTA_b', 'glu_L_c_2', 'akg_c_2'): 1.0, ('PRPPS_f', 'prpp_c_3_4_5', 'r5p_c_3_4_5'): -1.0, ('ALATA_L_b', 'akg_c_1', 'glu_L_c_1'): -1.0, ('EDA', '2ddg6p_c_4_5', 'g3p_c_1_2'): 1.0, ('RPI_f', 'ru5p_D_c_3_5', 'r5p_c_3_5'): -1.0, ('ARGSL_f', 'fum_c_4', 'argsuc_c_10'): -0.5, ('AGPR_b', 'acg5sa_c_4', 'acg5p_c_4'): -1.0, ('ASAD_f', 'aspsa_c_1_4', '4pasp_c_1_4'): 1.0, ('PHETA1_f', 'akg_c_3_4_5', 'glu_L_c_3_4_5'): 1.0, ('TK3_b', 'r5p_c_4', 's7p_c_6'): 1.0, ('PRASCS_f', '25aics_c_10_12', 'asp_L_c_2_3'): -1.0, ('ACOTA_f', 'glu_L_c_2_4', 'akg_c_2_4'): -1.0, ('PHETA1_b', 'akg_c_2_3_4', 'glu_L_c_2_3_4'): -1.0, ('GLCpts', 'g6p_c_2_3_4_5_6', 'glc_D_e_2_3_4_5_6'): -1.0, ('ALATA_L_f', 'ala_L_c_2', 'pyr_c_2'): 1.0, ('MDH_b', 'mal_L_c_1_4', 'oaa_c_1_4'): -1.0, ('FBA_f', 'g3p_c_3', 'fdp_c_6'): -1.0, ('L_LACt2r_f', 'lac_L_e_1_2_3', 'lac_L_c_1_2_3'): 1.0, ('TA1_b', 'f6p_c_2_3', 'TAC3_c_2_3'): -1.0, ('CBPS', 'gln_L_c_2_3', 'glu_L_c_2_3'): 1.0, ('PPC', 'oaa_c_1_4', 'co2_c_1pep_c_1'): -1.0, ('ASAD_b', '4pasp_c_2_4', 'aspsa_c_2_4'): 1.0, ('GLUDy_f', 'glu_L_c_5', 'akg_c_5'): 1.0, ('HEX1', 'glc_D_c_1_2_3_4_5_6', 'g6p_c_1_2_3_4_5_6'): 1.0, ('FBA_b', 'dhap_c_1_3', 'fdp_c_1_3'): 1.0, ('ASAD_f', '4pasp_c_3', 'aspsa_c_3'): -1.0, ('EDD', '2ddg6p_c_2_3', '6pgc_c_2_3'): -1.0, ('ABUTD', '4abut_c_1_4', '4abutn_c_1_4'): -1.0, ('AKGDH', 'akg_c_2_3', 'succoa_c_1_2'): 1.0, ('ASPK_f', 'asp_L_c_1_3', '4pasp_c_1_3'): 1.0, ('PGI_f', 'g6p_c_5_6', 'f6p_c_5_6'): 1.0, ('GLUDy_b', 'glu_L_c_2_3_4_5', 'akg_c_2_3_4_5'): -1.0, ('TK3_b', 's7p_c_3', 'r5p_c_1'): -1.0, ('ASPTA_f', 'akg_c_2_4', 'glu_L_c_2_4'): 1.0, ('CS', 'cit_c_3_4_5_6', 'accoa_c_1_2oaa_c_1_2'): -1.0, ('ASAD_b', '4pasp_c_2_3_4', 'aspsa_c_2_3_4'): 1.0, ('ARGSL_b', 'fum_c_2_3_4', 'argsuc_c_7_8_9'): 0.5, ('ACOTA_b', 'acorn_c_2_4_5', 'acg5sa_c_2_4_5'): -1.0, ('ARGDC', 'agm_c_1_4', 'arg_L_c_2_5'): -1.0, ('EDA', '2ddg6p_c_4_6', 'g3p_c_1_3'): 1.0, ('ACONT', 'cit_c_3_4_6', 'icit_c_3_4_6'): 1.0, ('ARGSS', 'argsuc_c_2_5', 'citr_L_c_2_5'): -1.0, ('ACALDi', 'accoa_c_2', 'acald_c_2'): -1.0, ('LEUTAi', 'glu_L_c_3_4_5', 'akg_c_3_4_5'): 1.0, ('GND', '6pgc_c_4_5', 'ru5p_D_c_3_4'): 1.0, ('MDH_f', 'mal_L_c_2', 'oaa_c_2'): 1.0, ('LEUTAi', 'akg_c_2_3_4', 'glu_L_c_2_3_4'): -1.0, ('GLCpts', 'g6p_c_5', 'glc_D_e_5'): -1.0, ('DHAPT', 'dhap_c_2', 'dha_c_2'): -1.0, ('AGMT', 'agm_c_2_4', 'ptrc_c_2_4'): 0.5, ('ARGSL_b', 'argsuc_c_2_4', 'arg_L_c_2_4'): -1.0, ('ALATA_L_f', 'ala_L_c_1', 'pyr_c_1'): 1.0, ('ADSL1r', 'fum_c_1_2_3', 'dcamp_c_1_2_3'): -0.5, ('PRASCS_b', 'asp_L_c_1_3', '25aics_c_10_13'): -1.0, ('ASPTA_f', 'glu_L_c_2_3_4', 'akg_c_2_3_4'): -1.0, ('PTRCTA', 'glu_L_c_3_5', 'akg_c_3_5'): -1.0, ('ACGK', 'acg5p_c_5', 'acglu_c_5'): -1.0, ('ARGDC', 'arg_L_c_3_5', 'agm_c_2_4'): 1.0, ('SSALy', 'succ_c_4', 'sucsal_c_4'): -0.5, ('ARGSL_f', 'argsuc_c_7_9_10', 'fum_c_1_2_4'): 0.5, ('TA2_f', 's7p_c_1_2', 'TAC3_c_1_2'): 1.0, ('ARGSL_b', 'argsuc_c_8_9_10', 'fum_c_2_3_4'): -0.5, ('ARGSL_f', 'arg_L_c_1', 'argsuc_c_1'): -1.0, ('GLUDy_f', 'glu_L_c_2_4_5', 'akg_c_2_4_5'): 1.0, ('ARGSS', 'citr_L_c_2', 'argsuc_c_2'): 1.0, ('ACOTA_f', 'acorn_c_3_4_5', 'acg5sa_c_3_4_5'): 1.0, ('ILETA_f', 'glu_L_c_4_5', 'akg_c_4_5'): -1.0, ('OCBT_f', 'orn_c_4', 'citr_L_c_4'): 1.0, ('ICDHyr', 'icit_c_3_4', 'akg_c_3_4'): 1.0, ('PGK_f', '13dpg_c_1_2_3', '3pg_c_1_2_3'): -1.0, ('PPC', 'pep_c_2', 'oaa_c_2'): 1.0, ('ACOTA_f', 'akg_c_4_5', 'glu_L_c_4_5'): 1.0, ('ARGSS', 'argsuc_c_2_3_5', 'citr_L_c_2_3_5'): -1.0, ('TA1_f', 'g3p_c_3', 'f6p_c_6'): -1.0, ('PHETA1_b', 'akg_c_2_3', 'glu_L_c_2_3'): -1.0, ('TK3_f', 'r5p_c_3', 's7p_c_5'): -1.0, ('GMPS2', 'gln_L_c_2', 'glu_L_c_2'): 1.0, ('GLUDy_b', 'akg_c_4', 'glu_L_c_4'): 1.0, ('PRASCS_f', 'asp_L_c_1_2', '25aics_c_12_13'): 1.0, ('POX', 'co2_c_1', 'pyr_c_1'): -1.0, ('RPI_b', 'ru5p_D_c_3_4_5', 'r5p_c_3_4_5'): 1.0, ('TK1_f', 'g3p_c_1_3', 'xu5p_D_c_3_5'): -1.0, ('HSDy_f', 'aspsa_c_3_4', 'hom_L_c_3_4'): -1.0, ('MALS', 'mal_L_c_3_4', 'accoa_c_1_2'): -1.0, ('SUCD1i', 'succ_c_1_2_3', 'fum_c_1_2_3'): 0.5, ('CS', 'accoa_c_1_2oaa_c_2_3', 'cit_c_2_3_4_5'): 1.0, ('G6PDH2r', 'g6p_c_4_5_6', '6pgl_c_4_5_6'): 1.0, ('ARGSL_f', 'arg_L_c_2_5', 'argsuc_c_2_5'): -1.0, ('TA1_f', 'TAC3_c_2', 'f6p_c_2'): -1.0, ('ASPK_f', '4pasp_c_2', 'asp_L_c_2'): -1.0, ('ARGSL_b', 'argsuc_c_3_4_5', 'arg_L_c_3_4_5'): -1.0, ('PPCK', 'oaa_c_2_3', 'pep_c_2_3'): 1.0, ('SUCD1i', 'fum_c_3_4', 'succ_c_3_4'): -0.5, ('ILETA_f', 'glu_L_c_2_3_5', 'akg_c_2_3_5'): -1.0, ('ASPK_b', 'asp_L_c_2_4', '4pasp_c_2_4'): -1.0, ('ASPTA_b', 'glu_L_c_5', 'akg_c_5'): 1.0, ('PGI_f', 'f6p_c_3_4_5_6', 'g6p_c_3_4_5_6'): -1.0, ('OCBT_f', 'citr_L_c_2_3_4', 'orn_c_2_3_4'): -1.0, ('PHETA1_f', 'akg_c_2_4', 'glu_L_c_2_4'): 1.0, ('ADSL2r', 'fum_c_1', '25aics_c_13'): -0.5, ('EDA', 'pyr_c_3', '2ddg6p_c_3'): -1.0, ('ARGSL_f', 'arg_L_c_2', 'argsuc_c_2'): -1.0, ('PHETA1_b', 'akg_c_2_3_4_5', 'glu_L_c_2_3_4_5'): -1.0, ('G6PDH2r', 'g6p_c_1_2_3', '6pgl_c_1_2_3'): 1.0, ('ABUTD', '4abutn_c_2', '4abut_c_2'): 1.0, ('TK3_b', 'r5p_c_4_5', 's7p_c_6_7'): 1.0, ('VALTA_b', 'akg_c_3_4', 'glu_L_c_3_4'): -1.0, ('ICL', 'succ_c_3', 'icit_c_3'): -0.5, ('ICL', 'succ_c_2_3', 'icit_c_3_4'): -1.0, ('MALS', 'accoa_c_2glx_c_1_2', 'mal_L_c_1_2_4'): 1.0, ('G6PDH2r', '6pgl_c_2_3', 'g6p_c_2_3'): -1.0, ('F6PA', 'f6p_c_4_6', 'g3p_c_1_3'): 1.0, ('TYRTA_b', 'glu_L_c_2_5', 'akg_c_2_5'): 1.0, ('SUCOAS_b', 'succ_c_1_3_4', 'succoa_c_1_2_4'): -0.5, ('SSALx', 'succ_c_1', 'sucsal_c_4'): -0.5, ('PTRCTA', 'ptrc_c_2_3_4', '4abutn_c_1_2_3'): 0.5, ('PTRCTA', 'akg_c_4_5', 'glu_L_c_4_5'): 1.0, ('ADSS', 'dcamp_c_1_2_3_4', 'asp_L_c_1_2_3_4'): -1.0, ('ADSL2r', 'fum_c_1_2', '25aics_c_10_12'): -0.5, ('SUCOAS_b', 'succoa_c_2_3', 'succ_c_2_3'): 1.0, ('PGI_b', 'g6p_c_5', 'f6p_c_5'): -1.0, ('TYRTA_f', 'glu_L_c_3_4', 'akg_c_3_4'): -1.0, ('L_LACD3_b', 'pyr_c_1', 'lac_L_c_1'): 1.0, ('VALTA_f', 'akg_c_2_3_5', 'glu_L_c_2_3_5'): 1.0, ('PRASCS_f', '25aics_c_11_12_13', 'asp_L_c_1_2_4'): -1.0, ('PHETA1_b', 'glu_L_c_2_5', 'akg_c_2_5'): 1.0, ('TK3_b', 's7p_c_5_6', 'r5p_c_3_4'): -1.0, ('RPI_f', 'r5p_c_1', 'ru5p_D_c_1'): 1.0, ('TA1_b', 'TAC3_c_2', 'f6p_c_2'): 1.0, ('ASPK_b', 'asp_L_c_3_4', '4pasp_c_3_4'): -1.0, ('OCBT_f', 'orn_c_4_5', 'citr_L_c_4_5'): 1.0, ('OCBT_b', 'citr_L_c_2', 'orn_c_2'): 1.0, ('ILETA_f', 'glu_L_c_3_4_5', 'akg_c_3_4_5'): -1.0, ('CS', 'cit_c_6', 'oaa_c_1'): -1.0, ('OCBT_b', 'citr_L_c_2_3_5', 'orn_c_2_3_5'): 1.0, ('AGMT', 'ptrc_c_1_2_3', 'agm_c_2_3_4'): -0.5, ('ACOTA_b', 'acorn_c_2_3_4', 'acg5sa_c_2_3_4'): -1.0, ('PRASCS_b', '25aics_c_10', 'asp_L_c_3'): 1.0, ('ICDHyr', 'icit_c_6', 'co2_c_1'): 1.0, ('SDPTA_b', 'glu_L_c_2_5', 'akg_c_2_5'): 1.0, ('GLCt2', 'glc_D_c_1_2', 'glc_D_e_1_2'): -1.0, ('SSALy', 'sucsal_c_1_2_3', 'succ_c_2_3_4'): 0.5, ('ALATA_L_f', 'akg_c_2_4_5', 'glu_L_c_2_4_5'): 1.0, ('ASPTA_b', 'glu_L_c_4_5', 'akg_c_4_5'): 1.0, ('SSALy', 'sucsal_c_1_2', 'succ_c_3_4'): 0.5, ('PTRCTA', '4abutn_c_2', 'ptrc_c_2'): -0.5, ('ACOTA_b', 'acorn_c_3_4_5', 'acg5sa_c_3_4_5'): -1.0, ('FBA_f', 'g3p_c_2_3', 'fdp_c_5_6'): -1.0, ('PFK', 'f6p_c_4_5_6', 'fdp_c_4_5_6'): 1.0, ('ACODA', 'orn_c_4', 'acorn_c_4'): -1.0, ('PRFGS', 'glu_L_c_2_3_4', 'gln_L_c_2_3_4'): -1.0, ('PGK_b', '3pg_c_2', '13dpg_c_2'): -1.0, ('TA1_f', 'f6p_c_1_2', 'TAC3_c_1_2'): 1.0, ('GMPS2', 'gln_L_c_3_4', 'glu_L_c_3_4'): 1.0, ('TK2_b', 'f6p_c_6', 'e4p_c_4'): -1.0, ('ICDHyr', 'icit_c_5', 'akg_c_5'): 1.0, ('TA1_f', 'f6p_c_3', 'TAC3_c_3'): 1.0, ('ASPTA_f', 'akg_c_3', 'glu_L_c_3'): 1.0, ('ACGS', 'glu_L_c_3_5', 'acglu_c_3_5'): 1.0, ('TYRTA_f', 'glu_L_c_3', 'akg_c_3'): -1.0, ('SSALx', 'sucsal_c_2', 'succ_c_2'): 0.5, ('ADSL2r', '25aics_c_11_13', 'fum_c_3_4'): 0.5, ('PRPPS_b', 'r5p_c_1_2_3_4_5', 'prpp_c_1_2_3_4_5'): -1.0, ('CBPS', 'glu_L_c_2', 'gln_L_c_2'): -1.0, ('ARGSL_b', 'argsuc_c_7_8_10', 'fum_c_1_2_4'): -0.5, ('SUCOAS_f', 'succ_c_2_3_4', 'succoa_c_2_3_4'): 0.5, ('PGL', '6pgl_c_4_5', '6pgc_c_4_5'): 1.0, ('ARGDC', 'arg_L_c_2_3_4_5', 'agm_c_1_2_3_4'): 1.0, ('ACONT', 'icit_c_2_3', 'cit_c_2_3'): -1.0, ('TPI_f', 'g3p_c_1_2', 'dhap_c_1_2'): -1.0, ('F6PA', 'f6p_c_4_5_6', 'g3p_c_1_2_3'): 1.0, ('RPI_b', 'ru5p_D_c_4', 'r5p_c_4'): 1.0, ('ICL', 'icit_c_3_4_6', 'succ_c_1_2_3'): 0.5, ('TYRTA_b', 'glu_L_c_5', 'akg_c_5'): 1.0, ('ASPTA_b', 'akg_c_1', 'glu_L_c_1'): -1.0, ('HSDy_b', 'hom_L_c_1_2', 'aspsa_c_1_2'): -1.0, ('ARGSS', 'argsuc_c_1', 'citr_L_c_1'): -1.0, ('ARGSL_b', 'fum_c_2_4', 'argsuc_c_8_10'): 0.5, ('PTRCTA', 'akg_c_2_4', 'glu_L_c_2_4'): 1.0, ('ASPTA_f', 'glu_L_c_4', 'akg_c_4'): -1.0, ('ALATA_L_b', 'akg_c_2', 'glu_L_c_2'): -1.0, ('SUCOAS_f', 'succ_c_3', 'succoa_c_3'): 0.5, ('PGI_b', 'g6p_c_2', 'f6p_c_2'): -1.0, ('HSDy_b', 'aspsa_c_1_4', 'hom_L_c_1_4'): 1.0, ('ASAD_f', '4pasp_c_2', 'aspsa_c_2'): -1.0, ('PHETA1_b', 'akg_c_3', 'glu_L_c_3'): -1.0, ('ILETA_b', 'glu_L_c_3_4_5', 'akg_c_3_4_5'): 1.0, ('ILETA_b', 'akg_c_3_4_5', 'glu_L_c_3_4_5'): -1.0, ('ADSS', 'dcamp_c_1_3', 'asp_L_c_1_3'): -1.0, ('ADSL1r', 'dcamp_c_1_2_3_4', 'fum_c_1_2_3_4'): 1.0, ('TK3_f', 's7p_c_2', 'TKC2_c_2'): 1.0, ('GLUDy_f', 'akg_c_2', 'glu_L_c_2'): -1.0, ('FBA_b', 'g3p_c_1_2', 'fdp_c_4_5'): 1.0, ('ASPTA_b', 'asp_L_c_1_2', 'oaa_c_1_2'): -1.0, ('CBPS', 'gln_L_c_4', 'glu_L_c_4'): 1.0, ('PTRCTA', 'ptrc_c_1', '4abutn_c_4'): 0.5, ('PTRCTA', '4abutn_c_1_4', 'ptrc_c_1_4'): -1.0, ('EDD', '6pgc_c_4_5', '2ddg6p_c_4_5'): 1.0, ('RPE_f', 'xu5p_D_c_3_4', 'ru5p_D_c_3_4'): -1.0, ('F6PA', 'g3p_c_2', 'f6p_c_5'): -1.0, ('TA1_f', 'g3p_c_1_2_3', 'f6p_c_4_5_6'): -1.0, ('ARGSL_b', 'arg_L_c_2_5', 'argsuc_c_2_5'): 1.0, ('L_LACt2r_b', 'lac_L_e_1', 'lac_L_c_1'): -1.0, ('ADSS', 'dcamp_c_1_4', 'asp_L_c_1_4'): -1.0, ('PRFGS', 'glu_L_c_2', 'gln_L_c_2'): -1.0, ('SUCOAS_b', 'succ_c_1', 'succoa_c_1'): -0.5, ('ACGK', 'acglu_c_3', 'acg5p_c_3'): 1.0, ('SSALy', 'sucsal_c_1_2_4', 'succ_c_1_3_4'): 0.5, ('TK1_f', 'g3p_c_2_3', 'xu5p_D_c_4_5'): -1.0, ('PRPPS_f', 'prpp_c_1_2', 'r5p_c_1_2'): -1.0, ('SDPTA_f', 'glu_L_c_3', 'akg_c_3'): -1.0, ('TA1_f', 'f6p_c_1_3', 'TAC3_c_1_3'): 1.0, ('ALATA_L_f', 'glu_L_c_1', 'akg_c_1'): -1.0, ('ADSL1r', 'fum_c_1_2_4', 'dcamp_c_1_3_4'): -0.5, ('ASAD_b', 'aspsa_c_1_3', '4pasp_c_1_3'): -1.0, ('SUCOAS_f', 'succoa_c_3', 'succ_c_2'): -0.5, ('LEUTAi', 'akg_c_2_3_4_5', 'glu_L_c_2_3_4_5'): -1.0, ('GLNS', 'glu_L_c_2_3_5', 'gln_L_c_2_3_5'): 1.0, ('MDH_f', 'oaa_c_3', 'mal_L_c_3'): -1.0, ('L_LACD3_f', 'pyr_c_1_2_3', 'lac_L_c_1_2_3'): -1.0, ('TYRTA_b', 'akg_c_5', 'glu_L_c_5'): -1.0, ('ASPTA_f', 'oaa_c_1_3_4', 'asp_L_c_1_3_4'): -1.0, ('HSDy_f', 'aspsa_c_1_2_4', 'hom_L_c_1_2_4'): -1.0, ('TYRTA_b', 'glu_L_c_2_4_5', 'akg_c_2_4_5'): 1.0, ('ACONT', 'icit_c_3_4_5', 'cit_c_3_4_5'): -1.0, ('ACONT', 'cit_c_3_5', 'icit_c_3_5'): 1.0, ('ADSL2r', 'fum_c_2_3', '25aics_c_10_12'): -0.5, ('ACOTA_f', 'glu_L_c_2_5', 'akg_c_2_5'): -1.0, ('PGI_f', 'f6p_c_5_6', 'g6p_c_5_6'): -1.0, ('PRFGS', 'glu_L_c_1', 'gln_L_c_1'): -1.0, ('ME2', 'pyr_c_3', 'mal_L_c_3'): -1.0, ('SSALy', 'succ_c_2_3_4', 'sucsal_c_2_3_4'): -0.5, ('PRFGS', 'gln_L_c_3', 'glu_L_c_3'): 1.0, ('PRASCS_f', '25aics_c_10_11', 'asp_L_c_3_4'): -1.0, ('GLCpts', 'g6p_c_4', 'glc_D_e_4'): -1.0, ('ABTA', 'glu_L_c_3_4_5', 'akg_c_3_4_5'): -1.0, ('ILETA_f', 'glu_L_c_2', 'akg_c_2'): -1.0, ('ABTA', 'akg_c_2_4_5', 'glu_L_c_2_4_5'): 1.0, ('RPI_f', 'ru5p_D_c_1_2', 'r5p_c_1_2'): -1.0, ('PGI_f', 'g6p_c_2_3_4_5_6', 'f6p_c_2_3_4_5_6'): 1.0, ('ARGSS', 'argsuc_c_3_4', 'citr_L_c_3_4'): -1.0, ('SUCOAS_b', 'succ_c_1_2_4', 'succoa_c_1_2_4'): -0.5, ('ABTA', 'akg_c_4_5', 'glu_L_c_4_5'): 1.0, ('PRFGS', 'glu_L_c_2_4', 'gln_L_c_2_4'): -1.0, ('ASPK_f', '4pasp_c_2_4', 'asp_L_c_2_4'): -1.0, ('PRASCS_f', '25aics_c_10_11_12_13', 'asp_L_c_1_2_3_4'): -1.0, ('ARGSL_f', 'argsuc_c_8', 'fum_c_2'): 0.5, ('OCBT_f', 'orn_c_3_4', 'citr_L_c_3_4'): 1.0, ('PPCK', 'oaa_c_1_3', 'pep_c_1_3'): 1.0, ('TPI_b', 'g3p_c_2', 'dhap_c_2'): 1.0, ('ACALDi', 'accoa_c_1_2', 'acald_c_1_2'): -1.0, ('ADSL2r', 'fum_c_4', '25aics_c_11'): -0.5, ('TYRTA_b', 'glu_L_c_2_4', 'akg_c_2_4'): 1.0, ('TK1_f', 'g3p_c_1_2', 'xu5p_D_c_3_4'): -1.0, ('HSDy_b', 'hom_L_c_3', 'aspsa_c_3'): -1.0, ('SSALy', 'succ_c_2', 'sucsal_c_2'): -0.5, ('AGMT', 'ptrc_c_1_2', 'agm_c_1_2'): -0.5, ('RPI_b', 'r5p_c_1_2_3_4_5', 'ru5p_D_c_1_2_3_4_5'): -1.0, ('ABTA', 'glu_L_c_2_3_4_5', 'akg_c_2_3_4_5'): -1.0, ('SDPTA_b', 'akg_c_3_4_5', 'glu_L_c_3_4_5'): -1.0, ('ACOTA_f', 'acorn_c_2_3', 'acg5sa_c_2_3'): 1.0, ('L_LACD2_f', 'lac_L_c_3', 'pyr_c_3'): 1.0, ('ADSL2r', '25aics_c_13', 'fum_c_1'): 0.5, ('TA1_b', 'f6p_c_2_3_4_5_6', 'TAC3_c_2_3g3p_c_1_2_3'): -1.0, ('TK2_b', 'TKC2_c_1_2e4p_c_1_2_3_4', 'f6p_c_1_2_3_4_5_6'): 1.0, ('VALTA_b', 'akg_c_2_4', 'glu_L_c_2_4'): -1.0, ('SUCOAS_f', 'succoa_c_1_2_4', 'succ_c_1_2_4'): -0.5, ('TA2_f', 'e4p_c_1', 's7p_c_4'): -1.0, ('TA1_b', 'TAC3_c_3', 'f6p_c_3'): 1.0, ('TPI_b', 'g3p_c_1_2', 'dhap_c_1_2'): 1.0, ('ADSS', 'dcamp_c_2', 'asp_L_c_2'): -1.0, ('GLCt2', 'glc_D_c_3_4_5_6', 'glc_D_e_3_4_5_6'): -1.0, ('ABTA', 'glu_L_c_3', 'akg_c_3'): -1.0, ('OCBT_f', 'citr_L_c_2_3', 'orn_c_2_3'): -1.0, ('ARGSS', 'argsuc_c_2_3_4_5', 'citr_L_c_2_3_4_5'): -1.0, ('AGMT', 'agm_c_1_2', 'ptrc_c_1_2'): 0.5, ('AGMT', 'ptrc_c_2_4', 'agm_c_1_3'): -0.5, ('PSERT', 'glu_L_c_2_5', 'akg_c_2_5'): 1.0, ('GND', 'ru5p_D_c_3_4_5', '6pgc_c_4_5_6'): -1.0, ('VALTA_f', 'akg_c_3_5', 'glu_L_c_3_5'): 1.0, ('PTRCTA', 'glu_L_c_1', 'akg_c_1'): -1.0, ('TA2_f', 'TAC3_c_1_3', 's7p_c_1_3'): -1.0, ('GLCpts', 'g6p_c_1_2_3', 'glc_D_e_1_2_3'): -1.0, ('MDH_b', 'oaa_c_1_3_4', 'mal_L_c_1_3_4'): 1.0, ('TA1_b', 'f6p_c_5', 'g3p_c_2'): -1.0, ('PRPPS_f', 'r5p_c_4', 'prpp_c_4'): 1.0, ('ALATA_L_f', 'akg_c_2_3', 'glu_L_c_2_3'): 1.0, ('GLUDy_f', 'glu_L_c_3', 'akg_c_3'): 1.0, ('ILETA_f', 'akg_c_3', 'glu_L_c_3'): 1.0, ('AGMT', 'agm_c_1_2_3_4', 'ptrc_c_1_2_3_4'): 1.0, ('AGPR_b', 'acg5sa_c_3_4', 'acg5p_c_3_4'): -1.0, ('ADSL1r', 'fum_c_2_3_4', 'dcamp_c_1_2_3'): -0.5, ('HEX1', 'glc_D_c_2_3', 'g6p_c_2_3'): 1.0, ('TYRTA_f', 'glu_L_c_2_3_4', 'akg_c_2_3_4'): -1.0, ('PRPPS_f', 'prpp_c_3_5', 'r5p_c_3_5'): -1.0, ('PRPPS_f', 'r5p_c_1_2', 'prpp_c_1_2'): 1.0, ('ASPK_b', '4pasp_c_2', 'asp_L_c_2'): 1.0, ('ADSL1r', 'dcamp_c_1_2_3', 'fum_c_1_2_3'): 0.5, ('ENO_f', '2pg_c_1_3', 'pep_c_1_3'): 1.0, ('SUCOAS_f', 'succ_c_1_4', 'succoa_c_1_4'): 1.0, ('AGMT', 'ptrc_c_4', 'agm_c_4'): -0.5, ('ARGSL_f', 'argsuc_c_7_8', 'fum_c_1_2'): 0.5, ('VALTA_b', 'glu_L_c_2', 'akg_c_2'): 1.0, ('ILETA_f', 'akg_c_4', 'glu_L_c_4'): 1.0, ('OCBT_b', 'orn_c_3', 'citr_L_c_3'): -1.0, ('TA1_b', 'g3p_c_2_3', 'f6p_c_5_6'): 1.0, ('FBA_b', 'dhap_c_2', 'fdp_c_2'): 1.0, ('HEX1', 'g6p_c_3_4_5_6', 'glc_D_c_3_4_5_6'): -1.0, ('PPCK', 'pep_c_1', 'oaa_c_1'): -1.0, ('GLCpts', 'g6p_c_3', 'glc_D_e_3'): -1.0, ('SSALx', 'sucsal_c_1_3_4', 'succ_c_1_2_4'): 0.5, ('FUM', 'fum_c_2', 'mal_L_c_3'): 0.5, ('MDH_f', 'mal_L_c_1_2_3', 'oaa_c_1_2_3'): 1.0, ('ALATA_L_f', 'ala_L_c_1_2_3', 'pyr_c_1_2_3'): 1.0, ('ILETA_f', 'akg_c_2_4', 'glu_L_c_2_4'): 1.0, ('PDH', 'pyr_c_3', 'accoa_c_2'): 1.0, ('PGK_b', '13dpg_c_1_2', '3pg_c_1_2'): 1.0, ('ASPTA_b', 'oaa_c_2', 'asp_L_c_2'): 1.0, ('ABTA', 'sucsal_c_2_3', '4abut_c_2_3'): -1.0, ('ARGSL_f', 'argsuc_c_10', 'fum_c_4'): 0.5, ('ASAD_f', 'aspsa_c_3', '4pasp_c_3'): 1.0, ('ADSS', 'dcamp_c_1_3_4', 'asp_L_c_1_3_4'): -1.0, ('ENO_f', 'pep_c_1', '2pg_c_1'): -1.0, ('GND', '6pgc_c_3_4_5_6', 'ru5p_D_c_2_3_4_5'): 1.0, ('PPC', 'pep_c_3', 'oaa_c_3'): 1.0, ('RPE_f', 'ru5p_D_c_1_2', 'xu5p_D_c_1_2'): 1.0, ('OCBT_f', 'citr_L_c_2_4', 'orn_c_2_4'): -1.0, ('GLUPRT', 'gln_L_c_3_5', 'glu_L_c_3_5'): 1.0, ('ARGSL_f', 'arg_L_c_3_5', 'argsuc_c_3_5'): -1.0, ('FBA_b', 'dhap_c_2_3', 'fdp_c_1_2'): 1.0, ('PHETA1_b', 'akg_c_2_4_5', 'glu_L_c_2_4_5'): -1.0, ('PSP_L', 'ser_L_c_1', 'pser_L_c_1'): -1.0, ('RPE_f', 'xu5p_D_c_3', 'ru5p_D_c_3'): -1.0, ('ALATA_L_f', 'glu_L_c_2_5', 'akg_c_2_5'): -1.0, ('TA2_f', 's7p_c_1', 'TAC3_c_1'): 1.0, ('ICL', 'succ_c_2_3_4', 'icit_c_3_4_5'): -0.5, ('FBA_f', 'dhap_c_1_2', 'fdp_c_2_3'): -1.0, ('PPCK', 'oaa_c_1_2', 'pep_c_1_2'): 1.0, ('ACOTA_b', 'acorn_c_2_3_5', 'acg5sa_c_2_3_5'): -1.0, ('ASPK_f', '4pasp_c_1', 'asp_L_c_1'): -1.0, ('ASAD_b', '4pasp_c_2', 'aspsa_c_2'): 1.0, ('GLCt2', 'glc_D_c_4_5', 'glc_D_e_4_5'): -1.0, ('PRASCS_f', 'asp_L_c_3_4', '25aics_c_10_11'): 1.0, ('ALATA_L_b', 'ala_L_c_1_2_3', 'pyr_c_1_2_3'): -1.0, ('SSALx', 'succ_c_3_4', 'sucsal_c_1_2'): -0.5, ('ILETA_b', 'glu_L_c_3_5', 'akg_c_3_5'): 1.0, ('OCBT_f', 'orn_c_2_3_4_5', 'citr_L_c_2_3_4_5'): 1.0, ('GLNS', 'gln_L_c_5', 'glu_L_c_5'): -1.0, ('G6PDH2r', '6pgl_c_4', 'g6p_c_4'): -1.0, ('AGPR_b', 'acg5sa_c_2_5', 'acg5p_c_2_5'): -1.0, ('AKGDH', 'akg_c_3_4_5', 'succoa_c_2_3_4'): 1.0, ('PGI_b', 'g6p_c_3', 'f6p_c_3'): -1.0, ('GLUPRT', 'glu_L_c_2_3_4', 'gln_L_c_2_3_4'): -1.0, ('FUM', 'mal_L_c_2_4', 'fum_c_2_4'): -0.5, ('CS', 'cit_c_3_4', 'accoa_c_2oaa_c_2'): -1.0, ('GLNS', 'gln_L_c_2_3', 'glu_L_c_2_3'): -1.0, ('ARGSL_f', 'fum_c_3', 'argsuc_c_9'): -0.5, ('G6PDH2r', 'g6p_c_6', '6pgl_c_6'): 1.0, ('VALTA_f', 'akg_c_2_3_4_5', 'glu_L_c_2_3_4_5'): 1.0, ('PTRCTA', '4abutn_c_2_4', 'ptrc_c_1_3'): -0.5, ('ACOTA_f', 'acg5sa_c_2_3_5', 'acorn_c_2_3_5'): -1.0, ('ICL', 'icit_c_3', 'succ_c_2'): 0.5, ('HCO3E_f', 'co2_c_1', 'hco3_c_1'): 1.0, ('VALTA_f', 'glu_L_c_3_4', 'akg_c_3_4'): -1.0, ('ICL', 'succ_c_1', 'icit_c_6'): -0.5, ('PSERT', 'glu_L_c_3_5', 'akg_c_3_5'): 1.0, ('FBA_b', 'g3p_c_3', 'fdp_c_6'): 1.0, ('CS', 'cit_c_2_5', 'accoa_c_1oaa_c_3'): -1.0, ('ADSL2r', '25aics_c_10', 'fum_c_2'): 0.5, ('TA2_b', 'TAC3_c_2_3', 's7p_c_2_3'): 1.0, ('L_LACD3_b', 'lac_L_c_3', 'pyr_c_3'): -1.0, ('ASAD_f', '4pasp_c_2_4', 'aspsa_c_2_4'): -1.0, ('PGK_f', '3pg_c_2', '13dpg_c_2'): 1.0, ('GLUDy_f', 'akg_c_3_4', 'glu_L_c_3_4'): -1.0, ('SDPTA_f', 'akg_c_3_4', 'glu_L_c_3_4'): 1.0, ('ILETA_f', 'akg_c_2', 'glu_L_c_2'): 1.0, ('AGPR_b', 'acg5sa_c_3_5', 'acg5p_c_3_5'): -1.0, ('ASAD_f', '4pasp_c_1_3', 'aspsa_c_1_3'): -1.0, ('ADSL1r', 'fum_c_1_2_3_4', 'dcamp_c_1_2_3_4'): -1.0, ('ALATA_L_f', 'akg_c_3_4', 'glu_L_c_3_4'): 1.0, ('ARGSL_b', 'fum_c_2', 'argsuc_c_9'): 0.5, ('GLCt2', 'glc_D_e_4_6', 'glc_D_c_4_6'): 1.0, ('TYRTA_b', 'akg_c_3', 'glu_L_c_3'): -1.0, ('ARGSS', 'asp_L_c_1_2_3', 'argsuc_c_7_8_9'): 1.0, ('TK3_f', 'r5p_c_2', 's7p_c_4'): -1.0, ('ARGSS', 'argsuc_c_3', 'citr_L_c_3'): -1.0, ('PHETA1_f', 'glu_L_c_2_3_5', 'akg_c_2_3_5'): -1.0, ('PGM_b', '3pg_c_1_2', '2pg_c_1_2'): 1.0, ('TYRTA_b', 'akg_c_4', 'glu_L_c_4'): -1.0, ('FBA_f', 'fdp_c_5_6', 'g3p_c_2_3'): 1.0, ('GLCpts', 'g6p_c_2_3', 'glc_D_e_2_3'): -1.0, ('ALATA_L_f', 'glu_L_c_5', 'akg_c_5'): -1.0, ('ARGSL_f', 'fum_c_2_3', 'argsuc_c_8_9'): -1.0, ('TYRTA_f', 'akg_c_2_5', 'glu_L_c_2_5'): 1.0, ('TA2_f', 's7p_c_2', 'TAC3_c_2'): 1.0, ('ASPTA_f', 'oaa_c_2_3', 'asp_L_c_2_3'): -1.0, ('ARGSL_b', 'arg_L_c_2', 'argsuc_c_2'): 1.0, ('ADSL2r', 'fum_c_1_2_3', '25aics_c_10_12_13'): -0.5, ('CS', 'oaa_c_1', 'cit_c_6'): 1.0, ('TK3_f', 's7p_c_1', 'TKC2_c_1'): 1.0, ('VALTA_b', 'glu_L_c_4', 'akg_c_4'): 1.0, ('MDH_f', 'oaa_c_1_2_3_4', 'mal_L_c_1_2_3_4'): -1.0, ('PFK', 'f6p_c_2_3', 'fdp_c_2_3'): 1.0, ('FBA_b', 'fdp_c_2', 'dhap_c_2'): -1.0, ('HSDy_b', 'aspsa_c_2_3', 'hom_L_c_2_3'): 1.0, ('HEX1', 'glc_D_c_6', 'g6p_c_6'): 1.0, ('ARGSL_b', 'argsuc_c_7_8_9', 'fum_c_1_2_3'): -0.5, ('MDH_b', 'mal_L_c_2_3_4', 'oaa_c_2_3_4'): -1.0, ('HSDy_b', 'aspsa_c_4', 'hom_L_c_4'): 1.0, ('PGI_b', 'f6p_c_2', 'g6p_c_2'): 1.0, ('ASAD_f', 'aspsa_c_1_3_4', '4pasp_c_1_3_4'): 1.0, ('ADSL2r', 'fum_c_1_2_3_4', '25aics_c_10_11_12_13'): -1.0, ('ME1', 'mal_L_c_4', 'co2_c_1'): 1.0, ('PGK_f', '13dpg_c_2', '3pg_c_2'): -1.0, ('OCBT_b', 'citr_L_c_2_5', 'orn_c_2_5'): 1.0, ('AGMT', 'agm_c_2_3_4', 'ptrc_c_1_2_3'): 0.5, ('LEUTAi', 'glu_L_c_2_3_5', 'akg_c_2_3_5'): 1.0, ('ACGS', 'acglu_c_2_5', 'glu_L_c_2_5'): -1.0, ('LEUTAi', 'akg_c_5', 'glu_L_c_5'): -1.0, ('HSDy_b', 'aspsa_c_1_3', 'hom_L_c_1_3'): 1.0, ('ARGSL_f', 'fum_c_1', 'argsuc_c_10'): -0.5, ('PGI_f', 'g6p_c_4_6', 'f6p_c_4_6'): 1.0, ('VALTA_b', 'glu_L_c_4_5', 'akg_c_4_5'): 1.0, ('GLCt2', 'glc_D_e_4_5', 'glc_D_c_4_5'): 1.0, ('ASPTA_b', 'asp_L_c_2_3_4', 'oaa_c_2_3_4'): -1.0, ('ADSL1r', 'dcamp_c_1_2', 'fum_c_1_2'): 0.5, ('ACOTA_b', 'acg5sa_c_2_3_4', 'acorn_c_2_3_4'): 1.0, ('TK1_b', 'TKC2_c_2g3p_c_1_2_3', 'xu5p_D_c_2_3_4_5'): 1.0, ('GLCt2', 'glc_D_e_1_2_3_4_5_6', 'glc_D_c_1_2_3_4_5_6'): 1.0, ('HSDy_b', 'aspsa_c_2_4', 'hom_L_c_2_4'): 1.0, ('ARGSL_b', 'argsuc_c_2_5', 'arg_L_c_2_5'): -1.0, ('PTRCTA', 'ptrc_c_1_2_4', '4abutn_c_1_2_4'): 0.5, ('GLNS', 'glu_L_c_2', 'gln_L_c_2'): 1.0, ('ASPTA_f', 'akg_c_5', 'glu_L_c_5'): 1.0, ('ACONT', 'cit_c_1_2', 'icit_c_1_2'): 1.0, ('AGMT', 'agm_c_1_2_4', 'ptrc_c_1_3_4'): 0.5, ('PRPPS_f', 'r5p_c_2', 'prpp_c_2'): 1.0, ('GND', 'ru5p_D_c_2_3_4_5', '6pgc_c_3_4_5_6'): -1.0, ('ICL', 'icit_c_3_4', 'succ_c_2_3'): 1.0, ('MDH_b', 'oaa_c_1_4', 'mal_L_c_1_4'): 1.0, ('PGK_b', '13dpg_c_2', '3pg_c_2'): 1.0, ('ASPK_f', 'asp_L_c_4', '4pasp_c_4'): 1.0, ('AGPR_f', 'acg5p_c_3_5', 'acg5sa_c_3_5'): -1.0, ('GLCpts', 'g6p_c_4_5', 'glc_D_e_4_5'): -1.0, ('ME2', 'mal_L_c_4', 'co2_c_1'): 1.0, ('ICL', 'succ_c_1_3', 'icit_c_4_6'): -0.5, ('HEX1', 'glc_D_c_4_6', 'g6p_c_4_6'): 1.0, ('L_LACD2_f', 'lac_L_c_1', 'pyr_c_1'): 1.0, ('GND', '6pgc_c_4', 'ru5p_D_c_3'): 1.0, ('AGMT', 'ptrc_c_1_2_3_4', 'agm_c_1_2_3_4'): -1.0, ('ALATA_L_b', 'ala_L_c_1', 'pyr_c_1'): -1.0, ('OCBT_f', 'citr_L_c_2_4_5', 'orn_c_2_4_5'): -1.0, ('OCBT_b', 'orn_c_2', 'citr_L_c_2'): -1.0, ('ASAD_f', 'aspsa_c_1', '4pasp_c_1'): 1.0, ('ABUTD', '4abut_c_3_4', '4abutn_c_3_4'): -1.0, ('THRAr_b', 'gly_c_1', 'thr_L_c_1'): 1.0, ('ASPTA_f', 'akg_c_4_5', 'glu_L_c_4_5'): 1.0, ('TK2_f', 'f6p_c_4_5_6', 'e4p_c_2_3_4'): 1.0, ('HSDy_b', 'aspsa_c_1_2', 'hom_L_c_1_2'): 1.0, ('PSERT', 'akg_c_2_3', 'glu_L_c_2_3'): -1.0, ('RPI_b', 'ru5p_D_c_3_4', 'r5p_c_3_4'): 1.0, ('PHETA1_f', 'akg_c_2_5', 'glu_L_c_2_5'): 1.0, ('MALS', 'accoa_c_1_2glx_c_1', 'mal_L_c_1_3_4'): 1.0, ('DHAPT', 'pep_c_3', 'pyr_c_3'): 1.0, ('SSALx', 'succ_c_1_2_3_4', 'sucsal_c_1_2_3_4'): -1.0, ('VALTA_f', 'akg_c_4_5', 'glu_L_c_4_5'): 1.0, ('ALATA_L_b', 'glu_L_c_2_3_4_5', 'akg_c_2_3_4_5'): 1.0, ('ARGSS', 'argsuc_c_7_8', 'asp_L_c_1_2'): -1.0, ('TA1_b', 'g3p_c_1_2_3', 'f6p_c_4_5_6'): 1.0, ('PTRCTA', 'glu_L_c_5', 'akg_c_5'): -1.0, ('ADSL1r', 'fum_c_3', 'dcamp_c_2'): -0.5, ('ACOTA_b', 'acorn_c_2_5', 'acg5sa_c_2_5'): -1.0, ('ALATA_L_b', 'glu_L_c_2', 'akg_c_2'): 1.0, ('ASPTA_f', 'asp_L_c_1_2_4', 'oaa_c_1_2_4'): 1.0, ('TK2_b', 'e4p_c_3', 'f6p_c_5'): 1.0, ('ARGDC', 'arg_L_c_4', 'agm_c_3'): 1.0, ('PGM_b', '3pg_c_2', '2pg_c_2'): 1.0, ('ACOTA_b', 'acg5sa_c_4', 'acorn_c_4'): 1.0, ('ACGK', 'acg5p_c_2_3_4', 'acglu_c_2_3_4'): -1.0, ('TYRTA_f', 'glu_L_c_3_4_5', 'akg_c_3_4_5'): -1.0, ('AGPR_f', 'acg5sa_c_3_4', 'acg5p_c_3_4'): 1.0, ('HSDy_b', 'hom_L_c_1_2_3', 'aspsa_c_1_2_3'): -1.0, ('OCBT_b', 'orn_c_2_3', 'citr_L_c_2_3'): -1.0, ('PPCK', 'pep_c_2_3', 'oaa_c_2_3'): -1.0, ('TYRTA_f', 'akg_c_2_3', 'glu_L_c_2_3'): 1.0, ('SSALx', 'succ_c_1_2_3', 'sucsal_c_2_3_4'): -0.5, ('ARGSL_b', 'argsuc_c_7_9', 'fum_c_1_3'): -0.5, ('SSALy', 'succ_c_1_3', 'sucsal_c_1_3'): -0.5, ('ADSL1r', 'fum_c_3_4', 'dcamp_c_1_2'): -0.5, ('CS', 'cit_c_2_3', 'oaa_c_2_3'): -1.0, ('ASPTA_f', 'akg_c_1', 'glu_L_c_1'): 1.0, ('EDA', '2ddg6p_c_2', 'pyr_c_2'): 1.0, ('GLUDy_b', 'akg_c_5', 'glu_L_c_5'): 1.0, ('PFK', 'fdp_c_3', 'f6p_c_3'): -1.0, ('VALTA_b', 'glu_L_c_2_3_4', 'akg_c_2_3_4'): 1.0, ('ACOTA_f', 'glu_L_c_2_3', 'akg_c_2_3'): -1.0, ('L_LACD3_f', 'pyr_c_1', 'lac_L_c_1'): -1.0, ('TK1_b', 'xu5p_D_c_3_4_5', 'g3p_c_1_2_3'): -1.0, ('PFK', 'f6p_c_2', 'fdp_c_2'): 1.0, ('ACOTA_b', 'glu_L_c_2_3_5', 'akg_c_2_3_5'): 1.0, ('ICDHyr', 'co2_c_1', 'icit_c_6'): -1.0, ('GAPD', '13dpg_c_1_3', 'g3p_c_1_3'): -1.0, ('PGK_b', '3pg_c_1_2', '13dpg_c_1_2'): -1.0, ('ADSL2r', '25aics_c_10', 'fum_c_3'): 0.5, ('ASPK_f', 'asp_L_c_1_3_4', '4pasp_c_1_3_4'): 1.0, ('SSALy', 'succ_c_1_4', 'sucsal_c_1_4'): -1.0, ('ARGSS', 'citr_L_c_5', 'argsuc_c_5'): 1.0, ('GLUDy_f', 'glu_L_c_2_3', 'akg_c_2_3'): 1.0, ('OCBT_b', 'orn_c_3_4_5', 'citr_L_c_3_4_5'): -1.0, ('GLUDy_f', 'akg_c_2_3_5', 'glu_L_c_2_3_5'): -1.0, ('PGI_b', 'g6p_c_3_4_5_6', 'f6p_c_3_4_5_6'): -1.0, ('TA1_b', 'f6p_c_6', 'g3p_c_3'): -1.0, ('TYRTA_b', 'akg_c_2_4_5', 'glu_L_c_2_4_5'): -1.0, ('ABTA', 'glu_L_c_4', 'akg_c_4'): -1.0, ('RPE_b', 'xu5p_D_c_1', 'ru5p_D_c_1'): 1.0, ('PFK', 'f6p_c_1_2_3_4_5_6', 'fdp_c_1_2_3_4_5_6'): 1.0, ('ALATA_L_f', 'akg_c_2_3_5', 'glu_L_c_2_3_5'): 1.0, ('ILETA_b', 'glu_L_c_3', 'akg_c_3'): 1.0, ('ICL', 'icit_c_3_5', 'succ_c_1_3'): 0.5, ('RPE_b', 'ru5p_D_c_3_4', 'xu5p_D_c_3_4'): -1.0, ('ARGSS', 'asp_L_c_2_3', 'argsuc_c_8_9'): 1.0, ('GAPD', 'g3p_c_3', '13dpg_c_3'): 1.0, ('ALATA_L_b', 'pyr_c_1_2_3', 'ala_L_c_1_2_3'): 1.0, ('ASPK_b', 'asp_L_c_1_3_4', '4pasp_c_1_3_4'): -1.0, ('ILETA_f', 'glu_L_c_2_4_5', 'akg_c_2_4_5'): -1.0, ('ICDHyr', 'icit_c_2', 'akg_c_2'): 1.0, ('GLUDy_f', 'glu_L_c_2_4', 'akg_c_2_4'): 1.0, ('ICL', 'succ_c_2_4', 'icit_c_4_6'): -0.5, ('LEUTAi', 'akg_c_4', 'glu_L_c_4'): -1.0, ('ADSS', 'dcamp_c_4', 'asp_L_c_4'): -1.0, ('SUCOAS_b', 'succ_c_3', 'succoa_c_3'): -0.5, ('HEX1', 'g6p_c_2_3', 'glc_D_c_2_3'): -1.0, ('ASAD_b', '4pasp_c_1_3_4', 'aspsa_c_1_3_4'): 1.0, ('PRPPS_f', 'r5p_c_4_5', 'prpp_c_4_5'): 1.0, ('ICL', 'glx_c_1', 'icit_c_1'): -1.0, ('G6PDH2r', 'g6p_c_2_3_4_5_6', '6pgl_c_2_3_4_5_6'): 1.0, ('MDH_f', 'mal_L_c_1_3', 'oaa_c_1_3'): 1.0, ('TPI_b', 'dhap_c_1_3', 'g3p_c_1_3'): -1.0, ('AGPR_f', 'acg5p_c_4_5', 'acg5sa_c_4_5'): -1.0, ('FUM', 'fum_c_1_2_3', 'mal_L_c_1_2_3'): 0.5, ('ASPK_b', '4pasp_c_2_4', 'asp_L_c_2_4'): 1.0, ('AGMT', 'ptrc_c_1_2_3', 'agm_c_1_2_3'): -0.5, ('G6PDH2r', 'g6p_c_5_6', '6pgl_c_5_6'): 1.0, ('PTRCTA', 'ptrc_c_3', '4abutn_c_2'): 0.5, ('TA2_f', 'TAC3_c_2', 's7p_c_2'): -1.0, ('TA2_b', 's7p_c_3_4_5_6_7', 'TAC3_c_3e4p_c_1_2_3_4'): -1.0, ('DHAPT', 'pep_c_2_3', 'pyr_c_2_3'): 1.0, ('PGI_b', 'g6p_c_2_3_4_5_6', 'f6p_c_2_3_4_5_6'): -1.0, ('AGPR_b', 'acg5p_c_2_5', 'acg5sa_c_2_5'): 1.0, ('ARGSL_f', 'argsuc_c_7_8_9', 'fum_c_1_2_3'): 0.5, ('PSERT', 'akg_c_4_5', 'glu_L_c_4_5'): -1.0, ('SUCOAS_f', 'succ_c_2', 'succoa_c_3'): 0.5, ('ACONT', 'cit_c_4_5_6', 'icit_c_4_5_6'): 1.0, ('ASPTA_f', 'glu_L_c_3_5', 'akg_c_3_5'): -1.0, ('ADSL2r', '25aics_c_10_11_13', 'fum_c_1_3_4'): 0.5, ('GLCt2', 'glc_D_e_1', 'glc_D_c_1'): 1.0, ('TA1_f', 'g3p_c_1_2', 'f6p_c_4_5'): -1.0, ('ASPK_b', '4pasp_c_2_3_4', 'asp_L_c_2_3_4'): 1.0, ('ADSL2r', 'fum_c_3_4', '25aics_c_10_11'): -0.5, ('ASPTA_f', 'oaa_c_1_3', 'asp_L_c_1_3'): -1.0, ('ARGDC', 'arg_L_c_3_4_5', 'agm_c_2_3_4'): 1.0, ('MALS', 'accoa_c_2glx_c_1', 'mal_L_c_1_4'): 1.0, ('PSERT', 'glu_L_c_2_4', 'akg_c_2_4'): 1.0, ('ILETA_f', 'akg_c_5', 'glu_L_c_5'): 1.0, ('GND', 'ru5p_D_c_1', '6pgc_c_2'): -1.0, ('GLNS', 'glu_L_c_2_4_5', 'gln_L_c_2_4_5'): 1.0, ('FUM', 'fum_c_1_2_3', 'mal_L_c_2_3_4'): 0.5, ('LEUTAi', 'glu_L_c_2_3_4', 'akg_c_2_3_4'): 1.0, ('GAPD', '13dpg_c_1_2', 'g3p_c_1_2'): -1.0, ('SSALx', 'succ_c_2_3_4', 'sucsal_c_1_2_3'): -0.5, ('FUM', 'fum_c_3_4', 'mal_L_c_3_4'): 0.5, ('ICL', 'glx_c_2', 'icit_c_2'): -1.0, ('ARGSL_b', 'argsuc_c_8_10', 'fum_c_1_3'): -0.5, ('CBPS', 'glu_L_c_5', 'gln_L_c_5'): -1.0, ('PRASCS_b', '25aics_c_10_11', 'asp_L_c_3_4'): 1.0, ('CBPS', 'gln_L_c_2_3_5', 'glu_L_c_2_3_5'): 1.0, ('HSDy_b', 'hom_L_c_1_3_4', 'aspsa_c_1_3_4'): -1.0, ('PRASCS_f', '25aics_c_10_13', 'asp_L_c_1_3'): -1.0, ('AGMT', 'ptrc_c_2_3_4', 'agm_c_2_3_4'): -0.5, ('RPE_f', 'ru5p_D_c_1', 'xu5p_D_c_1'): 1.0, ('PGM_b', '3pg_c_2_3', '2pg_c_2_3'): 1.0, ('ADSL2r', '25aics_c_10_11_12', 'fum_c_1_2_3'): 0.5, ('ILETA_b', 'akg_c_2_5', 'glu_L_c_2_5'): -1.0, ('RPI_f', 'r5p_c_3_4', 'ru5p_D_c_3_4'): 1.0, ('TA2_f', 's7p_c_7', 'e4p_c_4'): 1.0, ('PTRCTA', 'glu_L_c_2_3_4', 'akg_c_2_3_4'): -1.0, ('AGPR_b', 'acg5sa_c_2_3', 'acg5p_c_2_3'): -1.0, ('L_LACD2_b', 'pyr_c_1', 'lac_L_c_1'): 1.0, ('PFK', 'f6p_c_3', 'fdp_c_3'): 1.0, ('ME1', 'mal_L_c_1_2_3', 'pyr_c_1_2_3'): 1.0, ('HSDy_f', 'aspsa_c_2_4', 'hom_L_c_2_4'): -1.0, ('CS', 'cit_c_3_5_6', 'accoa_c_1oaa_c_1_2'): -1.0, ('FUM', 'mal_L_c_1_2_4', 'fum_c_1_2_4'): -0.5, ('ARGSL_b', 'argsuc_c_7_10', 'fum_c_1_4'): -1.0, ('MALS', 'mal_L_c_1_2_3_4', 'accoa_c_1_2glx_c_1_2'): -1.0, ('L_LACD2_f', 'pyr_c_3', 'lac_L_c_3'): -1.0, ('ICL', 'icit_c_4_6', 'succ_c_2_4'): 0.5, ('ARGSL_b', 'fum_c_3', 'argsuc_c_9'): 0.5, ('SDPTA_b', 'akg_c_4_5', 'glu_L_c_4_5'): -1.0, ('GLNS', 'gln_L_c_4', 'glu_L_c_4'): -1.0, ('GND', '6pgc_c_5', 'ru5p_D_c_4'): 1.0, ('GLUDy_f', 'glu_L_c_2_5', 'akg_c_2_5'): 1.0, ('THRAr_b', 'thr_L_c_4', 'acald_c_2'): -1.0, ('SSALy', 'sucsal_c_1_2_3', 'succ_c_1_2_3'): 0.5, ('TK3_b', 'TKC2_c_1r5p_c_1', 's7p_c_1_3'): 1.0, ('FUM', 'mal_L_c_1_3', 'fum_c_1_3'): -0.5, ('ILETA_b', 'glu_L_c_1', 'akg_c_1'): 1.0, ('ASAD_f', '4pasp_c_1_2_4', 'aspsa_c_1_2_4'): -1.0, ('SUCD1i', 'succ_c_1_2_3', 'fum_c_2_3_4'): 0.5, ('ACOTA_b', 'akg_c_3', 'glu_L_c_3'): -1.0, ('GLCt2', 'glc_D_c_3', 'glc_D_e_3'): -1.0, ('PRPPS_f', 'r5p_c_1_2_3_4_5', 'prpp_c_1_2_3_4_5'): 1.0, ('PRFGS', 'glu_L_c_3', 'gln_L_c_3'): -1.0, ('ACGS', 'acglu_c_3_4_5', 'glu_L_c_3_4_5'): -1.0, ('CS', 'cit_c_4', 'accoa_c_2'): -1.0, ('HEX1', 'glc_D_c_2', 'g6p_c_2'): 1.0, ('ASPTA_b', 'asp_L_c_1', 'oaa_c_1'): -1.0, ('VALTA_f', 'akg_c_1', 'glu_L_c_1'): 1.0, ('F6PA', 'f6p_c_1_3', 'dha_c_1_3'): 1.0, ('PPC', 'co2_c_1', 'oaa_c_4'): 1.0, ('ASPTA_b', 'glu_L_c_3', 'akg_c_3'): 1.0, ('TK1_b', 'g3p_c_2', 'xu5p_D_c_4'): 1.0, ('TA1_f', 'g3p_c_2_3', 'f6p_c_5_6'): -1.0, ('TA1_b', 'g3p_c_1_2', 'f6p_c_4_5'): 1.0, ('TA2_b', 'e4p_c_2_3', 's7p_c_5_6'): 1.0, ('AGMT', 'ptrc_c_2', 'agm_c_3'): -0.5, ('SUCD1i', 'fum_c_1_2_4', 'succ_c_1_3_4'): -0.5, ('PRFGS', 'gln_L_c_1', 'glu_L_c_1'): 1.0, ('PHETA1_b', 'akg_c_3_4_5', 'glu_L_c_3_4_5'): -1.0, ('ASPTA_f', 'glu_L_c_2_4_5', 'akg_c_2_4_5'): -1.0, ('ADSL2r', '25aics_c_11_12_13', 'fum_c_1_2_4'): 0.5, ('PGM_f', '2pg_c_3', '3pg_c_3'): 1.0, ('ARGSL_b', 'argsuc_c_8_9', 'fum_c_2_3'): -1.0, ('PPCK', 'pep_c_1_2_3', 'oaa_c_1_2_3'): -1.0, ('ACGS', 'acglu_c_2_3_5', 'glu_L_c_2_3_5'): -1.0, ('RPI_f', 'r5p_c_1_2', 'ru5p_D_c_1_2'): 1.0, ('PGI_f', 'f6p_c_1_2_3', 'g6p_c_1_2_3'): -1.0, ('ETOHt2r_f', 'etoh_c_1_2', 'etoh_e_1_2'): -1.0, ('G6PDH2r', 'g6p_c_2', '6pgl_c_2'): 1.0, ('ALATA_L_b', 'akg_c_3_4', 'glu_L_c_3_4'): -1.0, ('ADSS', 'asp_L_c_1_2_4', 'dcamp_c_1_2_4'): 1.0, ('VALTA_b', 'glu_L_c_2_4_5', 'akg_c_2_4_5'): 1.0, ('PFK', 'f6p_c_1_2', 'fdp_c_1_2'): 1.0, ('SDPTA_f', 'akg_c_2_3_5', 'glu_L_c_2_3_5'): 1.0, ('AGMT', 'ptrc_c_4', 'agm_c_1'): -0.5, ('GLUDy_b', 'glu_L_c_2_3', 'akg_c_2_3'): -1.0, ('AGPR_f', 'acg5sa_c_2_5', 'acg5p_c_2_5'): 1.0, ('ICL', 'succ_c_2_4', 'icit_c_3_5'): -0.5, ('ADSS', 'asp_L_c_2_3', 'dcamp_c_2_3'): 1.0, ('PTRCTA', 'akg_c_2_5', 'glu_L_c_2_5'): 1.0, ('AGMT', 'agm_c_1_2_3', 'ptrc_c_2_3_4'): 0.5, ('ICL', 'icit_c_4_5_6', 'succ_c_1_2_4'): 0.5, ('CBPS', 'glu_L_c_2_5', 'gln_L_c_2_5'): -1.0, ('RPE_f', 'ru5p_D_c_4_5', 'xu5p_D_c_4_5'): 1.0, ('ILETA_f', 'akg_c_2_3_4_5', 'glu_L_c_2_3_4_5'): 1.0, ('PRPPS_b', 'prpp_c_2_3_4_5', 'r5p_c_2_3_4_5'): 1.0, ('TA2_f', 'TAC3_c_1_2', 's7p_c_1_2'): -1.0, ('PGM_b', '3pg_c_1_2_3', '2pg_c_1_2_3'): 1.0, ('FBA_f', 'g3p_c_2', 'fdp_c_5'): -1.0, ('ARGSL_f', 'argsuc_c_8_9', 'fum_c_2_3'): 1.0, ('DHAPT', 'pep_c_1_2_3', 'pyr_c_1_2_3'): 1.0, ('ACOTA_b', 'acg5sa_c_3_5', 'acorn_c_3_5'): 1.0, ('HEX1', 'g6p_c_5', 'glc_D_c_5'): -1.0, ('ARGSL_b', 'fum_c_1', 'argsuc_c_7'): 0.5, ('ENO_b', 'pep_c_1_3', '2pg_c_1_3'): 1.0, ('OCBT_b', 'citr_L_c_5', 'orn_c_5'): 1.0, ('CS', 'accoa_c_2oaa_c_2_3', 'cit_c_2_3_4'): 1.0, ('AGMT', 'ptrc_c_1', 'agm_c_1'): -0.5, ('SUCOAS_f', 'succ_c_2_4', 'succoa_c_2_4'): 0.5, ('MDH_b', 'mal_L_c_1_2_3', 'oaa_c_1_2_3'): -1.0, ('RPE_b', 'xu5p_D_c_1_2', 'ru5p_D_c_1_2'): 1.0, ('FBA_f', 'fdp_c_4_6', 'g3p_c_1_3'): 1.0, ('MALS', 'glx_c_1', 'mal_L_c_1'): 1.0, ('G6PDH2r', 'g6p_c_1', '6pgl_c_1'): 1.0, ('SUCOAS_f', 'succoa_c_3_4', 'succ_c_3_4'): -0.5, ('ASPTA_b', 'glu_L_c_3_4_5', 'akg_c_3_4_5'): 1.0, ('EDA', '2ddg6p_c_2_3', 'pyr_c_2_3'): 1.0, ('ACOTA_b', 'akg_c_2_5', 'glu_L_c_2_5'): -1.0, ('TA2_b', 'TAC3_c_3', 's7p_c_3'): 1.0, ('RPI_b', 'r5p_c_3', 'ru5p_D_c_3'): -1.0, ('MDH_b', 'oaa_c_4', 'mal_L_c_4'): 1.0, ('ACOTA_f', 'acg5sa_c_5', 'acorn_c_5'): -1.0, ('ADSL1r', 'dcamp_c_1_4', 'fum_c_1_4'): 1.0, ('LEUTAi', 'akg_c_3_4_5', 'glu_L_c_3_4_5'): -1.0, ('GAPD', 'g3p_c_2_3', '13dpg_c_2_3'): 1.0, ('HSDy_b', 'aspsa_c_1_2_3_4', 'hom_L_c_1_2_3_4'): 1.0, ('CBPS', 'gln_L_c_3_5', 'glu_L_c_3_5'): 1.0, ('AGPR_f', 'acg5sa_c_2_4', 'acg5p_c_2_4'): 1.0, ('TK1_b', 'TKC2_c_2', 'xu5p_D_c_2'): 1.0, ('AGMT', 'ptrc_c_3', 'agm_c_3'): -0.5, ('TK3_b', 'r5p_c_3_5', 's7p_c_5_7'): 1.0, ('SSALy', 'succ_c_1_2_3', 'sucsal_c_1_2_3'): -0.5, ('GLUDy_f', 'glu_L_c_4_5', 'akg_c_4_5'): 1.0, ('PGCD', '3php_c_1', '3pg_c_1'): -1.0, ('PTRCTA', 'ptrc_c_2_4', '4abutn_c_1_3'): 0.5, ('ACOTA_f', 'glu_L_c_1', 'akg_c_1'): -1.0, ('FBA_f', 'dhap_c_3', 'fdp_c_1'): -1.0, ('ABTA', 'akg_c_4', 'glu_L_c_4'): 1.0, ('GLCpts', 'pep_c_1_2_3', 'pyr_c_1_2_3'): 1.0, ('MDH_b', 'mal_L_c_3', 'oaa_c_3'): -1.0, ('TPI_f', 'g3p_c_3', 'dhap_c_3'): -1.0, ('FBA_b', 'dhap_c_3', 'fdp_c_1'): 1.0, ('ADSL2r', '25aics_c_10_11', 'fum_c_3_4'): 0.5, ('ICL', 'icit_c_3_4_5', 'succ_c_2_3_4'): 0.5, ('SUCD1i', 'fum_c_1_2_3_4', 'succ_c_1_2_3_4'): -1.0, ('ABTA', 'sucsal_c_3_4', '4abut_c_3_4'): -1.0, ('SDPTA_b', 'glu_L_c_2_3_5', 'akg_c_2_3_5'): 1.0, ('PSERT', 'glu_L_c_3', 'akg_c_3'): 1.0, ('SUCOAS_f', 'succoa_c_2_3_4', 'succ_c_2_3_4'): -0.5, ('ADSL1r', 'fum_c_1_2', 'dcamp_c_3_4'): -0.5, ('ASAD_b', 'aspsa_c_3_4', '4pasp_c_3_4'): -1.0, ('SUCD1i', 'succ_c_4', 'fum_c_1'): 0.5, ('OCBT_b', 'citr_L_c_4', 'orn_c_4'): 1.0, ('SUCOAS_b', 'succoa_c_2', 'succ_c_3'): 0.5, ('MDH_f', 'mal_L_c_1_4', 'oaa_c_1_4'): 1.0, ('TK2_f', 'f6p_c_2', 'TKC2_c_2'): 1.0, ('ACOTA_b', 'acorn_c_4_5', 'acg5sa_c_4_5'): -1.0, ('ARGSL_b', 'argsuc_c_1', 'arg_L_c_1'): -1.0, ('GLCt2', 'glc_D_e_2', 'glc_D_c_2'): 1.0, ('TK2_b', 'TKC2_c_1_2', 'f6p_c_1_2'): 1.0, ('GLCpts', 'g6p_c_2', 'glc_D_e_2'): -1.0, ('ASPTA_b', 'glu_L_c_1', 'akg_c_1'): 1.0, ('TA2_b', 's7p_c_7', 'e4p_c_4'): -1.0, ('ACGK', 'acglu_c_5', 'acg5p_c_5'): 1.0, ('G6PDH2r', 'g6p_c_3_4_5_6', '6pgl_c_3_4_5_6'): 1.0, ('ACONT', 'icit_c_4_6', 'cit_c_4_6'): -1.0, ('ASPK_b', 'asp_L_c_1_4', '4pasp_c_1_4'): -1.0, ('TA1_b', 'TAC3_c_1_2_3', 'f6p_c_1_2_3'): 1.0, ('ACGS', 'glu_L_c_2', 'acglu_c_2'): 1.0, ('PHETA1_f', 'glu_L_c_3_4', 'akg_c_3_4'): -1.0, ('ARGSL_f', 'fum_c_1_3_4', 'argsuc_c_7_9_10'): -0.5, ('F6PA', 'f6p_c_1_2', 'dha_c_2_3'): 1.0, ('THRAr_f', 'acald_c_1_2', 'thr_L_c_3_4'): -1.0, ('GLUDy_b', 'glu_L_c_3_5', 'akg_c_3_5'): -1.0, ('ACOTA_b', 'glu_L_c_3_5', 'akg_c_3_5'): 1.0, ('PRASCS_f', 'asp_L_c_2_3', '25aics_c_10_12'): 1.0, ('AKGDH', 'akg_c_2_3_5', 'succoa_c_1_2_4'): 1.0, ('PRPPS_b', 'prpp_c_1', 'r5p_c_1'): 1.0, ('SDPTA_f', 'glu_L_c_2_4', 'akg_c_2_4'): -1.0, ('ILETA_b', 'glu_L_c_2_3_4', 'akg_c_2_3_4'): 1.0, ('SSALy', 'succ_c_1_2', 'sucsal_c_1_2'): -0.5, ('HEX1', 'glc_D_c_5_6', 'g6p_c_5_6'): 1.0, ('SUCOAS_b', 'succoa_c_1_2_3', 'succ_c_2_3_4'): 0.5, ('G6PDH2r', 'g6p_c_4_5', '6pgl_c_4_5'): 1.0, ('AGPR_b', 'acg5sa_c_3', 'acg5p_c_3'): -1.0, ('SSALx', 'sucsal_c_2_3', 'succ_c_2_3'): 1.0, ('GLCt2', 'glc_D_e_5', 'glc_D_c_5'): 1.0, ('ARGSL_b', 'argsuc_c_9', 'fum_c_2'): -0.5, ('TA2_f', 'e4p_c_1_2_3_4', 's7p_c_4_5_6_7'): -1.0, ('ASPK_b', '4pasp_c_2_3', 'asp_L_c_2_3'): 1.0, ('ARGSL_f', 'argsuc_c_2_3_5', 'arg_L_c_2_3_5'): 1.0, ('ICL', 'succ_c_3_4', 'icit_c_3_6'): -0.5, ('CBPS', 'glu_L_c_2_3_4', 'gln_L_c_2_3_4'): -1.0, ('ABUTD', '4abut_c_2_4', '4abutn_c_2_4'): -1.0, ('ICL', 'succ_c_1_2_3', 'icit_c_3_4_6'): -0.5, ('TK2_f', 'e4p_c_2_3_4', 'f6p_c_4_5_6'): -1.0, ('OCBT_b', 'orn_c_3_5', 'citr_L_c_3_5'): -1.0, ('EDA', 'g3p_c_1', '2ddg6p_c_4'): -1.0, ('MDH_f', 'oaa_c_2_3', 'mal_L_c_2_3'): -1.0, ('ABTA', 'akg_c_3_4', 'glu_L_c_3_4'): 1.0, ('SSALy', 'sucsal_c_2_3', 'succ_c_2_3'): 1.0, ('PYK', 'pyr_c_2_3', 'pep_c_2_3'): -1.0, ('ASAD_f', '4pasp_c_1_2_3_4', 'aspsa_c_1_2_3_4'): -1.0, ('TK2_b', 'e4p_c_3_4', 'f6p_c_5_6'): 1.0, ('PSERT', 'akg_c_3_4_5', 'glu_L_c_3_4_5'): -1.0, ('PRASCS_b', '25aics_c_10_12_13', 'asp_L_c_1_2_3'): 1.0, ('HEX1', 'g6p_c_5_6', 'glc_D_c_5_6'): -1.0, ('SUCOAS_b', 'succ_c_1_3_4', 'succoa_c_1_3_4'): -0.5, ('PGI_b', 'g6p_c_1_2_3_4_5_6', 'f6p_c_1_2_3_4_5_6'): -1.0, ('AGPR_f', 'acg5p_c_1', 'acg5sa_c_1'): -1.0, ('THRS', 'thr_L_c_3', 'phom_c_3'): -1.0, ('ARGSL_f', 'argsuc_c_2_5', 'arg_L_c_2_5'): 1.0, ('SUCOAS_f', 'succoa_c_1_4', 'succ_c_1_4'): -1.0, ('TK3_b', 'r5p_c_3', 's7p_c_5'): 1.0, ('ASPK_f', '4pasp_c_1_2_3', 'asp_L_c_1_2_3'): -1.0, ('AGPR_b', 'acg5sa_c_2', 'acg5p_c_2'): -1.0, ('ASPTA_f', 'glu_L_c_2', 'akg_c_2'): -1.0, ('ACOTA_b', 'glu_L_c_3_4', 'akg_c_3_4'): 1.0, ('CBPS', 'gln_L_c_5', 'glu_L_c_5'): 1.0, ('HSDy_b', 'hom_L_c_2_3_4', 'aspsa_c_2_3_4'): -1.0, ('PGI_b', 'f6p_c_6', 'g6p_c_6'): 1.0, ('SSALy', 'sucsal_c_1_2_3_4', 'succ_c_1_2_3_4'): 1.0, ('ALATA_L_f', 'akg_c_5', 'glu_L_c_5'): 1.0, ('TK2_f', 'f6p_c_4_6', 'e4p_c_2_4'): 1.0, ('ARGSL_f', 'argsuc_c_7_10', 'fum_c_1_4'): 1.0, ('ABUTD', '4abut_c_1', '4abutn_c_1'): -1.0, ('SDPTA_b', 'glu_L_c_2_4_5', 'akg_c_2_4_5'): 1.0, ('PGL', '6pgl_c_6', '6pgc_c_6'): 1.0, ('L_LACD3_b', 'lac_L_c_1', 'pyr_c_1'): -1.0, ('AGPR_f', 'acg5sa_c_2', 'acg5p_c_2'): 1.0, ('ACGK', 'acglu_c_2_3_4', 'acg5p_c_2_3_4'): 1.0, ('OCBT_f', 'citr_L_c_2_5', 'orn_c_2_5'): -1.0, ('ABTA', '4abut_c_1_2', 'sucsal_c_1_2'): 1.0, ('PRPPS_b', 'r5p_c_2_3_4_5', 'prpp_c_2_3_4_5'): -1.0, ('GLUPRT', 'glu_L_c_1', 'gln_L_c_1'): -1.0, ('ADSL2r', '25aics_c_12', 'fum_c_1'): 0.5, ('ACONT', 'icit_c_4_5', 'cit_c_4_5'): -1.0, ('OCBT_b', 'citr_L_c_3_5', 'orn_c_3_5'): 1.0, ('SSALx', 'succ_c_1_3_4', 'sucsal_c_1_2_4'): -0.5, ('ARGSS', 'asp_L_c_1_3_4', 'argsuc_c_7_9_10'): 1.0, ('ARGSS', 'argsuc_c_7_9_10', 'asp_L_c_1_3_4'): -1.0, ('ICL', 'succ_c_1_3', 'icit_c_3_5'): -0.5, ('TK3_f', 'r5p_c_4', 's7p_c_6'): -1.0, ('L_LACD3_f', 'lac_L_c_1_2_3', 'pyr_c_1_2_3'): 1.0, ('ADSL2r', 'fum_c_2_3_4', '25aics_c_10_11_13'): -0.5, ('SUCOAS_b', 'succ_c_2_3_4', 'succoa_c_1_2_3'): -0.5, ('AGPR_b', 'acg5sa_c_2_4', 'acg5p_c_2_4'): -1.0, ('ILETA_b', 'glu_L_c_5', 'akg_c_5'): 1.0, ('GAPD', '13dpg_c_1_2_3', 'g3p_c_1_2_3'): -1.0, ('GLUPRT', 'gln_L_c_2_3_5', 'glu_L_c_2_3_5'): 1.0, ('SUCOAS_b', 'succoa_c_1_3', 'succ_c_1_3'): 0.5, ('ASAD_f', 'aspsa_c_2_4', '4pasp_c_2_4'): 1.0, ('RPE_f', 'ru5p_D_c_3_5', 'xu5p_D_c_3_5'): 1.0, ('PRFGS', 'gln_L_c_3_5', 'glu_L_c_3_5'): 1.0, ('TK3_f', 's7p_c_4', 'r5p_c_2'): 1.0, ('SUCOAS_b', 'succ_c_1_2_3_4', 'succoa_c_1_2_3_4'): -1.0, ('ICL', 'icit_c_3_5_6', 'succ_c_1_3_4'): 0.5, ('SSALx', 'succ_c_1_2_4', 'sucsal_c_1_3_4'): -0.5, ('TK3_b', 's7p_c_5', 'r5p_c_3'): -1.0, ('TYRTA_b', 'glu_L_c_3_4_5', 'akg_c_3_4_5'): 1.0, ('ALATA_L_f', 'glu_L_c_2_3', 'akg_c_2_3'): -1.0, ('ICDHyr', 'icit_c_1', 'akg_c_1'): 1.0, ('ILETA_b', 'glu_L_c_2_3_4_5', 'akg_c_2_3_4_5'): 1.0, ('ICL', 'icit_c_3_6', 'succ_c_1_2'): 0.5, ('RPE_b', 'ru5p_D_c_1', 'xu5p_D_c_1'): -1.0, ('VALTA_f', 'akg_c_2_3_4', 'glu_L_c_2_3_4'): 1.0, ('ILETA_f', 'glu_L_c_2_3_4', 'akg_c_2_3_4'): -1.0, ('AGPR_b', 'acg5p_c_2_3_5', 'acg5sa_c_2_3_5'): 1.0, ('PRASCS_b', 'asp_L_c_1_2_3', '25aics_c_10_12_13'): -1.0, ('ARGSL_b', 'argsuc_c_2_3_4_5', 'arg_L_c_2_3_4_5'): -1.0, ('MDH_f', 'oaa_c_1', 'mal_L_c_1'): -1.0, ('ACOTA_b', 'acg5sa_c_2', 'acorn_c_2'): 1.0, ('EDD', '2ddg6p_c_4', '6pgc_c_4'): -1.0, ('FUM', 'mal_L_c_4', 'fum_c_1'): -0.5, ('TK2_b', 'TKC2_c_2e4p_c_1', 'f6p_c_2_3'): 1.0, ('CBPS', 'gln_L_c_3_4_5', 'glu_L_c_3_4_5'): 1.0, ('PFK', 'fdp_c_4_5_6', 'f6p_c_4_5_6'): -1.0, ('PHETA1_f', 'akg_c_3_4', 'glu_L_c_3_4'): 1.0, ('ABTA', 'akg_c_3_5', 'glu_L_c_3_5'): 1.0, ('ENO_b', 'pep_c_2_3', '2pg_c_2_3'): 1.0, ('PPCK', 'oaa_c_1', 'pep_c_1'): 1.0, ('SSALx', 'succ_c_2', 'sucsal_c_2'): -0.5, ('GLUPRT', 'gln_L_c_2_4', 'glu_L_c_2_4'): 1.0, ('RPI_b', 'r5p_c_3_5', 'ru5p_D_c_3_5'): -1.0, ('ARGSL_f', 'argsuc_c_1', 'arg_L_c_1'): 1.0, ('GLCpts', 'g6p_c_4_6', 'glc_D_e_4_6'): -1.0, ('ICL', 'icit_c_2', 'glx_c_2'): 1.0, ('PRPPS_f', 'prpp_c_1', 'r5p_c_1'): -1.0, ('SSALy', 'succ_c_3_4', 'sucsal_c_3_4'): -0.5, ('ACOTA_b', 'acg5sa_c_2_3_5', 'acorn_c_2_3_5'): 1.0, ('PRPPS_b', 'r5p_c_5', 'prpp_c_5'): -1.0, ('AKGDH', 'akg_c_2_4', 'succoa_c_1_3'): 1.0, ('ASPK_f', 'asp_L_c_1', '4pasp_c_1'): 1.0, ('ACOTA_b', 'glu_L_c_2_3_4_5', 'akg_c_2_3_4_5'): 1.0, ('ACOTA_f', 'akg_c_2_3_4', 'glu_L_c_2_3_4'): 1.0, ('PGK_f', '3pg_c_1_2_3', '13dpg_c_1_2_3'): 1.0, ('AGMT', 'ptrc_c_1_2_4', 'agm_c_1_3_4'): -0.5, ('PTRCTA', 'akg_c_4', 'glu_L_c_4'): 1.0, ('PFK', 'fdp_c_1_2_3_4_5_6', 'f6p_c_1_2_3_4_5_6'): -1.0, ('ICL', 'icit_c_4_5', 'succ_c_1_2'): 0.5, ('RPE_f', 'xu5p_D_c_4_5', 'ru5p_D_c_4_5'): -1.0, ('ALATA_L_b', 'glu_L_c_4', 'akg_c_4'): 1.0, ('OCBT_b', 'citr_L_c_2_4_5', 'orn_c_2_4_5'): 1.0, ('ARGSL_b', 'fum_c_1_2', 'argsuc_c_7_8'): 0.5, ('PGI_b', 'g6p_c_6', 'f6p_c_6'): -1.0, ('ARGSL_f', 'arg_L_c_2_3_5', 'argsuc_c_2_3_5'): -1.0, ('PPC', 'co2_c_1pep_c_1_2', 'oaa_c_1_2_4'): 1.0, ('PGL', '6pgl_c_4_5_6', '6pgc_c_4_5_6'): 1.0, ('FUM', 'fum_c_1', 'mal_L_c_4'): 0.5, ('SSALy', 'sucsal_c_3_4', 'succ_c_3_4'): 0.5, ('VALTA_b', 'akg_c_2_4_5', 'glu_L_c_2_4_5'): -1.0, ('PTRCTA', '4abutn_c_3', 'ptrc_c_2'): -0.5, ('THRAr_b', 'acald_c_1_2', 'thr_L_c_3_4'): 1.0, ('OCBT_b', 'citr_L_c_2_4', 'orn_c_2_4'): 1.0, ('FUM', 'fum_c_1_3', 'mal_L_c_2_4'): 0.5, ('FUM', 'fum_c_3', 'mal_L_c_3'): 0.5, ('PGK_f', '3pg_c_1_3', '13dpg_c_1_3'): 1.0, ('ACOTA_b', 'glu_L_c_2_3_4', 'akg_c_2_3_4'): 1.0, ('ADSL1r', 'dcamp_c_1_2', 'fum_c_3_4'): 0.5, ('OCBT_b', 'orn_c_2_4', 'citr_L_c_2_4'): -1.0, ('FBA_f', 'g3p_c_1_3', 'fdp_c_4_6'): -1.0, ('ACOTA_b', 'acg5sa_c_2_4_5', 'acorn_c_2_4_5'): 1.0, ('TK3_b', 'TKC2_c_1_2', 's7p_c_1_2'): 1.0, ('SDPTA_b', 'akg_c_3', 'glu_L_c_3'): -1.0, ('ASAD_f', 'aspsa_c_1_2', '4pasp_c_1_2'): 1.0, ('VALTA_f', 'glu_L_c_2', 'akg_c_2'): -1.0, ('RPE_b', 'ru5p_D_c_2_3_4_5', 'xu5p_D_c_2_3_4_5'): -1.0, ('RPI_f', 'ru5p_D_c_5', 'r5p_c_5'): -1.0, ('ILETA_f', 'akg_c_2_3_4', 'glu_L_c_2_3_4'): 1.0, ('VALTA_b', 'glu_L_c_2_3', 'akg_c_2_3'): 1.0, ('DHAPT', 'dha_c_1', 'dhap_c_1'): 1.0, ('HSDy_f', 'aspsa_c_4', 'hom_L_c_4'): -1.0, ('AGPR_f', 'acg5p_c_3_4_5', 'acg5sa_c_3_4_5'): -1.0, ('ACGS', 'acglu_c_3_4', 'glu_L_c_3_4'): -1.0, ('AGMT', 'agm_c_2_3_4', 'ptrc_c_2_3_4'): 0.5, ('ICDHyr', 'akg_c_4_5', 'icit_c_4_5'): -1.0, ('VALTA_b', 'akg_c_5', 'glu_L_c_5'): -1.0, ('ACOTA_f', 'glu_L_c_5', 'akg_c_5'): -1.0, ('GLCt2', 'glc_D_c_2', 'glc_D_e_2'): -1.0, ('PGL', '6pgl_c_4', '6pgc_c_4'): 1.0, ('AKGDH', 'succoa_c_4', 'akg_c_5'): -1.0, ('GMPS2', 'gln_L_c_5', 'glu_L_c_5'): 1.0, ('ARGSL_b', 'arg_L_c_2_3_4_5', 'argsuc_c_2_3_4_5'): 1.0, ('PGL', '6pgc_c_3_4_5_6', '6pgl_c_3_4_5_6'): -1.0, ('PYK', 'pep_c_2_3', 'pyr_c_2_3'): 1.0, ('SDPTA_b', 'glu_L_c_2_4', 'akg_c_2_4'): 1.0, ('TA2_f', 's7p_c_5', 'e4p_c_2'): 1.0, ('SUCD1i', 'fum_c_1', 'succ_c_4'): -0.5, ('AGPR_f', 'acg5sa_c_2_3_4_5', 'acg5p_c_2_3_4_5'): 1.0, ('PGI_f', 'g6p_c_1_2', 'f6p_c_1_2'): 1.0, ('ILETA_b', 'akg_c_3_5', 'glu_L_c_3_5'): -1.0, ('ICDHyr', 'akg_c_3', 'icit_c_3'): -1.0, ('ASPTA_b', 'asp_L_c_1_3_4', 'oaa_c_1_3_4'): -1.0, ('OCBT_b', 'orn_c_2_3_4', 'citr_L_c_2_3_4'): -1.0, ('LEUTAi', 'akg_c_2_4', 'glu_L_c_2_4'): -1.0, ('PRPPS_f', 'prpp_c_2_3_4_5', 'r5p_c_2_3_4_5'): -1.0, ('PGI_f', 'f6p_c_2_3', 'g6p_c_2_3'): -1.0, ('ASAD_b', 'aspsa_c_4', '4pasp_c_4'): -1.0, ('TA1_b', 'f6p_c_4_5', 'g3p_c_1_2'): -1.0, ('RPI_f', 'r5p_c_4_5', 'ru5p_D_c_4_5'): 1.0, ('AKGDH', 'akg_c_2_3_4', 'succoa_c_1_2_3'): 1.0, ('PHETA1_b', 'akg_c_3_5', 'glu_L_c_3_5'): -1.0, ('TA1_f', 'TAC3_c_1_3', 'f6p_c_1_3'): -1.0, ('PPNDH', 'co2_c_1', 'pphn_c_10'): -1.0, ('TYRTA_f', 'akg_c_2', 'glu_L_c_2'): 1.0, ('MDH_b', 'mal_L_c_1_3', 'oaa_c_1_3'): -1.0, ('PGM_f', '2pg_c_2', '3pg_c_2'): 1.0, ('ABUTD', '4abutn_c_1_2', '4abut_c_1_2'): 1.0, ('ICL', 'succ_c_2', 'icit_c_3'): -0.5, ('PHETA1_f', 'glu_L_c_4', 'akg_c_4'): -1.0, ('SUCOAS_b', 'succ_c_2', 'succoa_c_3'): -0.5, ('GLUPRT', 'gln_L_c_2', 'glu_L_c_2'): 1.0, ('FUM', 'fum_c_1_4', 'mal_L_c_1_4'): 1.0, ('AKGDH', 'succoa_c_1', 'akg_c_2'): -1.0, ('SDPTA_b', 'akg_c_1', 'glu_L_c_1'): -1.0, ('G6PDH2r', '6pgl_c_5_6', 'g6p_c_5_6'): -1.0, ('GAPD', '13dpg_c_2', 'g3p_c_2'): -1.0, ('PRFGS', 'glu_L_c_4', 'gln_L_c_4'): -1.0, ('PPCK', 'oaa_c_3', 'pep_c_3'): 1.0, ('GLCpts', 'glc_D_e_1', 'g6p_c_1'): 1.0, ('ACONT', 'cit_c_2_3_4_5', 'icit_c_2_3_4_5'): 1.0, ('TPI_b', 'g3p_c_1', 'dhap_c_1'): 1.0, ('ARGSL_b', 'fum_c_1_2_4', 'argsuc_c_7_9_10'): 0.5, ('PHETA1_f', 'glu_L_c_3_5', 'akg_c_3_5'): -1.0, ('DHAPT', 'pyr_c_3', 'pep_c_3'): -1.0, ('FUM', 'mal_L_c_1_2_3_4', 'fum_c_1_2_3_4'): -1.0, ('TYRTA_b', 'akg_c_2', 'glu_L_c_2'): -1.0, ('ADSL2r', 'fum_c_3', '25aics_c_11'): -0.5, ('TPI_f', 'g3p_c_1_3', 'dhap_c_1_3'): -1.0, ('TA1_f', 'TAC3_c_2_3', 'f6p_c_2_3'): -1.0, ('DHAPT', 'pep_c_2', 'pyr_c_2'): 1.0, ('L_LACD2_b', 'pyr_c_3', 'lac_L_c_3'): 1.0, ('F6PA', 'f6p_c_4_5', 'g3p_c_1_2'): 1.0, ('FUM', 'mal_L_c_1', 'fum_c_4'): -0.5, ('TK1_f', 'TKC2_c_1_2', 'xu5p_D_c_1_2'): -1.0, ('SSALx', 'succ_c_3', 'sucsal_c_2'): -0.5, ('PRPPS_b', 'prpp_c_3_4_5', 'r5p_c_3_4_5'): 1.0, ('ABTA', 'akg_c_2_3_5', 'glu_L_c_2_3_5'): 1.0, ('TYRTA_b', 'glu_L_c_3', 'akg_c_3'): 1.0, ('OCBT_f', 'orn_c_3_5', 'citr_L_c_3_5'): 1.0, ('VALTA_f', 'akg_c_5', 'glu_L_c_5'): 1.0, ('TYRTA_b', 'akg_c_2_4', 'glu_L_c_2_4'): -1.0, ('MALS', 'mal_L_c_1_3_4', 'accoa_c_1_2glx_c_1'): -1.0, ('TA2_f', 'TAC3_c_3', 's7p_c_3'): -1.0, ('PRASCS_b', '25aics_c_12_13', 'asp_L_c_1_2'): 1.0, ('TPI_b', 'g3p_c_2_3', 'dhap_c_2_3'): 1.0, ('AGPR_f', 'acg5p_c_3_4', 'acg5sa_c_3_4'): -1.0, ('PTRCTA', 'ptrc_c_1_2', '4abutn_c_3_4'): 0.5, ('HSDy_f', 'hom_L_c_1_2_4', 'aspsa_c_1_2_4'): 1.0, ('GLUDy_f', 'glu_L_c_4', 'akg_c_4'): 1.0, ('SDPTA_b', 'glu_L_c_1', 'akg_c_1'): 1.0, ('GLCt2', 'glc_D_e_4_5_6', 'glc_D_c_4_5_6'): 1.0, ('HSDy_b', 'hom_L_c_1_2_3_4', 'aspsa_c_1_2_3_4'): -1.0, ('RPE_f', 'xu5p_D_c_5', 'ru5p_D_c_5'): -1.0, ('ASPTA_b', 'asp_L_c_3_4', 'oaa_c_3_4'): -1.0, ('ACOTA_f', 'acorn_c_2_5', 'acg5sa_c_2_5'): 1.0, ('PRASCS_b', 'asp_L_c_2_4', '25aics_c_11_12'): -1.0, ('ACODA', 'acorn_c_2_3_4', 'orn_c_2_3_4'): 1.0, ('FBA_f', 'fdp_c_4', 'g3p_c_1'): 1.0, ('OCBT_f', 'citr_L_c_2_3_5', 'orn_c_2_3_5'): -1.0, ('ARGSL_f', 'argsuc_c_8_9_10', 'fum_c_1_2_3'): 0.5, ('ACOTA_f', 'akg_c_3_5', 'glu_L_c_3_5'): 1.0, ('TA2_b', 's7p_c_6_7', 'e4p_c_3_4'): -1.0, ('ADSL2r', '25aics_c_11_12', 'fum_c_1_3'): 0.5, ('ALATA_L_f', 'glu_L_c_4', 'akg_c_4'): -1.0, ('RPE_b', 'ru5p_D_c_3', 'xu5p_D_c_3'): -1.0, ('TA1_f', 'f6p_c_5_6', 'g3p_c_2_3'): 1.0, ('GLUPRT', 'gln_L_c_2_4_5', 'glu_L_c_2_4_5'): 1.0, ('ICL', 'icit_c_1_2', 'glx_c_1_2'): 1.0, ('GLNS', 'gln_L_c_3_5', 'glu_L_c_3_5'): -1.0, ('AGPR_f', 'acg5p_c_2_4', 'acg5sa_c_2_4'): -1.0, ('ACGS', 'glu_L_c_5', 'acglu_c_5'): 1.0, ('OCBT_f', 'citr_L_c_3_4', 'orn_c_3_4'): -1.0, ('ARGSL_f', 'fum_c_2_4', 'argsuc_c_7_9'): -0.5, ('TK1_f', 'xu5p_D_c_5', 'g3p_c_3'): 1.0, ('HEX1', 'glc_D_c_4', 'g6p_c_4'): 1.0, ('SSALy', 'sucsal_c_4', 'succ_c_1'): 0.5, ('ACODA', 'orn_c_2', 'acorn_c_2'): -1.0, ('SUCOAS_f', 'succoa_c_1_2_4', 'succ_c_1_3_4'): -0.5, ('PGI_b', 'g6p_c_1_2_3', 'f6p_c_1_2_3'): -1.0, ('ACOTA_f', 'acg5sa_c_4', 'acorn_c_4'): -1.0, ('TK1_f', 'xu5p_D_c_3_4', 'g3p_c_1_2'): 1.0, ('G6PDH2r', 'g6p_c_5', '6pgl_c_5'): 1.0, ('GLCt2', 'glc_D_c_1_2_3', 'glc_D_e_1_2_3'): -1.0, ('HEX1', 'g6p_c_2', 'glc_D_c_2'): -1.0, ('PHETA1_b', 'glu_L_c_3_4', 'akg_c_3_4'): 1.0, ('RPE_f', 'xu5p_D_c_1', 'ru5p_D_c_1'): -1.0, ('PSERT', 'akg_c_2_3_5', 'glu_L_c_2_3_5'): -1.0, ('ABUTD', '4abutn_c_1_2_3', '4abut_c_1_2_3'): 1.0, ('SSALx', 'succ_c_1_3', 'sucsal_c_2_4'): -0.5, ('ASPTA_b', 'glu_L_c_2_4', 'akg_c_2_4'): 1.0, ('TK2_b', 'e4p_c_4', 'f6p_c_6'): 1.0, ('PPC', 'oaa_c_3_4', 'co2_c_1pep_c_3'): -1.0, ('ACGS', 'glu_L_c_4', 'acglu_c_4'): 1.0, ('ASAD_f', 'aspsa_c_1_2_4', '4pasp_c_1_2_4'): 1.0, ('PGI_b', 'f6p_c_4_5_6', 'g6p_c_4_5_6'): 1.0, ('VALTA_f', 'glu_L_c_2_3', 'akg_c_2_3'): -1.0, ('GLCpts', 'pyr_c_2', 'pep_c_2'): -1.0, ('ARGSL_b', 'argsuc_c_2_3_4', 'arg_L_c_2_3_4'): -1.0, ('PPCK', 'oaa_c_4', 'co2_c_1'): 1.0, ('TA2_b', 's7p_c_3', 'TAC3_c_3'): -1.0, ('PRPPS_f', 'r5p_c_3', 'prpp_c_3'): 1.0, ('SSALx', 'sucsal_c_4', 'succ_c_1'): 0.5, ('MDH_f', 'mal_L_c_1_2_3_4', 'oaa_c_1_2_3_4'): 1.0, ('ACOTA_b', 'acorn_c_3_4', 'acg5sa_c_3_4'): -1.0, ('ASPTA_b', 'oaa_c_3_4', 'asp_L_c_3_4'): 1.0, ('GLUDy_f', 'glu_L_c_3_4_5', 'akg_c_3_4_5'): 1.0, ('OCBT_b', 'orn_c_2_5', 'citr_L_c_2_5'): -1.0, ('ASPTA_f', 'glu_L_c_2_3_4_5', 'akg_c_2_3_4_5'): -1.0, ('ABTA', 'sucsal_c_4', '4abut_c_4'): -1.0, ('TA1_f', 'g3p_c_2', 'f6p_c_5'): -1.0, ('SUCOAS_b', 'succoa_c_1', 'succ_c_4'): 0.5, ('MDH_f', 'oaa_c_2', 'mal_L_c_2'): -1.0, ('ACOTA_b', 'acg5sa_c_2_5', 'acorn_c_2_5'): 1.0, ('ME2', 'pyr_c_2', 'mal_L_c_2'): -1.0, ('DHAPT', 'dha_c_3', 'dhap_c_3'): 1.0, ('RPE_f', 'xu5p_D_c_4', 'ru5p_D_c_4'): -1.0, ('PHETA1_b', 'akg_c_1', 'glu_L_c_1'): -1.0, ('GAPD', '13dpg_c_2_3', 'g3p_c_2_3'): -1.0, ('LEUTAi', 'akg_c_3_5', 'glu_L_c_3_5'): -1.0, ('TA1_b', 'f6p_c_1_3', 'TAC3_c_1_3'): -1.0, ('GLCpts', 'g6p_c_4_5_6', 'glc_D_e_4_5_6'): -1.0, ('HEX1', 'glc_D_c_4_5_6', 'g6p_c_4_5_6'): 1.0, ('AGMT', 'ptrc_c_1', 'agm_c_4'): -0.5, ('SSALy', 'sucsal_c_1_2_4', 'succ_c_1_2_4'): 0.5, ('GLCpts', 'glc_D_e_5_6', 'g6p_c_5_6'): 1.0, ('ME1', 'pyr_c_1_2_3', 'mal_L_c_1_2_3'): -1.0, ('PGM_f', '3pg_c_1_3', '2pg_c_1_3'): -1.0, ('FUM', 'fum_c_3', 'mal_L_c_2'): 0.5, ('PRPPS_f', 'prpp_c_4_5', 'r5p_c_4_5'): -1.0, ('ARGSL_f', 'argsuc_c_2_4', 'arg_L_c_2_4'): 1.0, ('PRFGS', 'gln_L_c_4_5', 'glu_L_c_4_5'): 1.0, ('OCBT_f', 'orn_c_2_3_5', 'citr_L_c_2_3_5'): 1.0, ('PRPPS_b', 'prpp_c_3_4', 'r5p_c_3_4'): 1.0, ('CS', 'oaa_c_4', 'cit_c_1'): 1.0, ('RPE_f', 'ru5p_D_c_2_3_4_5', 'xu5p_D_c_2_3_4_5'): 1.0, ('EDA', 'g3p_c_2_3', '2ddg6p_c_5_6'): -1.0, ('SUCOAS_b', 'succoa_c_3_4', 'succ_c_1_2'): 0.5, ('THRAr_f', 'gly_c_1', 'thr_L_c_1'): -1.0, ('ILETA_b', 'glu_L_c_2_4', 'akg_c_2_4'): 1.0, ('PPC', 'oaa_c_2', 'pep_c_2'): -1.0, ('RPE_b', 'xu5p_D_c_5', 'ru5p_D_c_5'): 1.0, ('ENO_b', '2pg_c_2', 'pep_c_2'): -1.0, ('G6PDH2r', '6pgl_c_4_6', 'g6p_c_4_6'): -1.0, ('PHETA1_f', 'akg_c_5', 'glu_L_c_5'): 1.0, ('OCBT_f', 'orn_c_2_5', 'citr_L_c_2_5'): 1.0, ('GLNS', 'glu_L_c_1', 'gln_L_c_1'): 1.0, ('RPI_b', 'ru5p_D_c_4_5', 'r5p_c_4_5'): 1.0, ('ME1', 'co2_c_1', 'mal_L_c_4'): -1.0, ('SUCOAS_f', 'succoa_c_1', 'succ_c_4'): -0.5, ('ARGSS', 'asp_L_c_1_2', 'argsuc_c_7_8'): 1.0, ('ARGSL_f', 'fum_c_2_3_4', 'argsuc_c_7_8_9'): -0.5, ('CS', 'cit_c_5', 'accoa_c_1'): -1.0, ('ACODA', 'acorn_c_3', 'orn_c_3'): 1.0, ('G6PDH2r', '6pgl_c_6', 'g6p_c_6'): -1.0, ('ENO_f', '2pg_c_1', 'pep_c_1'): 1.0, ('ASPK_b', 'asp_L_c_1_3', '4pasp_c_1_3'): -1.0, ('VALTA_b', 'akg_c_4', 'glu_L_c_4'): -1.0, ('GLUPRT', 'gln_L_c_4', 'glu_L_c_4'): 1.0, ('MDH_b', 'oaa_c_1_2_4', 'mal_L_c_1_2_4'): 1.0, ('PRFGS', 'glu_L_c_2_4_5', 'gln_L_c_2_4_5'): -1.0, ('GLCpts', 'glc_D_e_3_4_5_6', 'g6p_c_3_4_5_6'): 1.0, ('PGI_f', 'g6p_c_3_4_5_6', 'f6p_c_3_4_5_6'): 1.0, ('L_LACD2_f', 'pyr_c_2_3', 'lac_L_c_2_3'): -1.0, ('ENO_b', 'pep_c_1_2_3', '2pg_c_1_2_3'): 1.0, ('SUCOAS_f', 'succoa_c_3', 'succ_c_3'): -0.5, ('TYRTA_f', 'akg_c_2_3_5', 'glu_L_c_2_3_5'): 1.0, ('ARGSS', 'citr_L_c_4', 'argsuc_c_4'): 1.0, ('EDD', '2ddg6p_c_2', '6pgc_c_2'): -1.0, ('PGM_f', '3pg_c_1', '2pg_c_1'): -1.0, ('ARGSS', 'argsuc_c_2', 'citr_L_c_2'): -1.0, ('ADSL2r', '25aics_c_10_12', 'fum_c_2_3'): 0.5, ('MDH_b', 'oaa_c_2_3', 'mal_L_c_2_3'): 1.0, ('HSDy_f', 'hom_L_c_3_4', 'aspsa_c_3_4'): 1.0, ('G6PDH2r', '6pgl_c_1', 'g6p_c_1'): -1.0, ('PPC', 'pep_c_1_3', 'oaa_c_1_3'): 1.0, ('L_LACD2_b', 'pyr_c_2', 'lac_L_c_2'): 1.0, ('ARGSL_f', 'argsuc_c_7_8_9', 'fum_c_2_3_4'): 0.5, ('MALS', 'mal_L_c_1_2', 'glx_c_1_2'): -1.0, ('LEUTAi', 'glu_L_c_5', 'akg_c_5'): 1.0, ('ACOTA_f', 'acg5sa_c_2_4_5', 'acorn_c_2_4_5'): -1.0, ('HEX1', 'glc_D_c_1', 'g6p_c_1'): 1.0, ('ARGDC', 'agm_c_1_2_4', 'arg_L_c_2_3_5'): -1.0, ('PHETA1_f', 'glu_L_c_3', 'akg_c_3'): -1.0, ('GLUDy_b', 'akg_c_2_5', 'glu_L_c_2_5'): 1.0, ('ASAD_f', 'aspsa_c_1_2_3_4', '4pasp_c_1_2_3_4'): 1.0, ('L_LACD2_b', 'pyr_c_2_3', 'lac_L_c_2_3'): 1.0, ('ARGSS', 'asp_L_c_3_4', 'argsuc_c_9_10'): 1.0, ('ACGK', 'acglu_c_2_4_5', 'acg5p_c_2_4_5'): 1.0, ('TK3_f', 'TKC2_c_1_2', 's7p_c_1_2'): -1.0, ('GMPS2', 'glu_L_c_4_5', 'gln_L_c_4_5'): -1.0, ('ACOTA_b', 'acg5sa_c_3', 'acorn_c_3'): 1.0, ('FBA_b', 'fdp_c_1_2', 'dhap_c_2_3'): -1.0, ('ADSL1r', 'fum_c_2_3_4', 'dcamp_c_2_3_4'): -0.5, ('ACOTA_f', 'acg5sa_c_3_4', 'acorn_c_3_4'): -1.0, ('ASPK_b', 'asp_L_c_1_2_4', '4pasp_c_1_2_4'): -1.0, ('AKGDH', 'succoa_c_1_3', 'akg_c_2_4'): -1.0, ('ARGDC', 'agm_c_1_2_3_4', 'arg_L_c_2_3_4_5'): -1.0, ('ASAD_b', '4pasp_c_3', 'aspsa_c_3'): 1.0, ('TK1_f', 'xu5p_D_c_1', 'TKC2_c_1'): 1.0, ('CS', 'accoa_c_1oaa_c_1_2', 'cit_c_3_5_6'): 1.0, ('ALATA_L_b', 'pyr_c_2_3', 'ala_L_c_2_3'): 1.0, ('ACONT', 'cit_c_3_4', 'icit_c_3_4'): 1.0, ('AGPR_f', 'acg5p_c_3', 'acg5sa_c_3'): -1.0, ('ADSL2r', 'fum_c_1_3_4', '25aics_c_11_12_13'): -0.5, ('SSALy', 'succ_c_2', 'sucsal_c_3'): -0.5, ('GLCpts', 'pyr_c_3', 'pep_c_3'): -1.0, ('AGPR_b', 'acg5p_c_5', 'acg5sa_c_5'): 1.0, ('ASPK_f', '4pasp_c_3', 'asp_L_c_3'): -1.0, ('ICL', 'glx_c_1_2', 'icit_c_1_2'): -1.0, ('ARGDC', 'arg_L_c_2_4', 'agm_c_1_3'): 1.0, ('HSDy_f', 'hom_L_c_1', 'aspsa_c_1'): 1.0, ('ACOTA_f', 'akg_c_3_4_5', 'glu_L_c_3_4_5'): 1.0, ('AGPR_f', 'acg5sa_c_3', 'acg5p_c_3'): 1.0, ('GND', 'ru5p_D_c_5', '6pgc_c_6'): -1.0, ('HEX1', 'glc_D_c_3_4_5_6', 'g6p_c_3_4_5_6'): 1.0, ('PPC', 'oaa_c_4', 'co2_c_1'): -1.0, ('PSERT', 'akg_c_4', 'glu_L_c_4'): -1.0, ('TA1_b', 'g3p_c_3', 'f6p_c_6'): 1.0, ('PTRCTA', 'ptrc_c_4', '4abutn_c_1'): 0.5, ('ASPTA_b', 'oaa_c_2_3_4', 'asp_L_c_2_3_4'): 1.0, ('ACOTA_b', 'acorn_c_5', 'acg5sa_c_5'): -1.0, ('RPE_f', 'ru5p_D_c_3', 'xu5p_D_c_3'): 1.0, ('TK2_f', 'f6p_c_4', 'e4p_c_2'): 1.0, ('ARGSL_f', 'argsuc_c_5', 'arg_L_c_5'): 1.0, ('ABTA', 'glu_L_c_2_4_5', 'akg_c_2_4_5'): -1.0, ('ACONT', 'cit_c_2_4', 'icit_c_2_4'): 1.0, ('PHETA1_b', 'glu_L_c_2', 'akg_c_2'): 1.0, ('TA2_b', 'TAC3_c_1', 's7p_c_1'): 1.0, ('SDPTA_f', 'glu_L_c_2_3_4', 'akg_c_2_3_4'): -1.0, ('TA2_b', 'TAC3_c_1_2', 's7p_c_1_2'): 1.0, ('PGM_f', '2pg_c_1', '3pg_c_1'): 1.0, ('VALTA_f', 'akg_c_2', 'glu_L_c_2'): 1.0, ('ACONT', 'icit_c_2_5', 'cit_c_2_5'): -1.0, ('SSALy', 'succ_c_1_2_3', 'sucsal_c_2_3_4'): -0.5, ('GMPS2', 'glu_L_c_2_5', 'gln_L_c_2_5'): -1.0, ('VALTA_b', 'akg_c_3', 'glu_L_c_3'): -1.0, ('RPE_f', 'ru5p_D_c_2', 'xu5p_D_c_2'): 1.0, ('MDH_f', 'oaa_c_1_4', 'mal_L_c_1_4'): -1.0, ('TA2_f', 'e4p_c_2_3', 's7p_c_5_6'): -1.0, ('THRAr_f', 'thr_L_c_3_4', 'acald_c_1_2'): 1.0, ('ACOTA_f', 'acg5sa_c_2_5', 'acorn_c_2_5'): -1.0, ('TK3_b', 's7p_c_4_5_6_7', 'r5p_c_2_3_4_5'): -1.0, ('TK3_b', 's7p_c_3_4_5_6_7', 'r5p_c_1_2_3_4_5'): -1.0, ('GND', 'ru5p_D_c_4', '6pgc_c_5'): -1.0, ('F6PA', 'g3p_c_2_3', 'f6p_c_5_6'): -1.0, ('TYRTA_f', 'akg_c_3_5', 'glu_L_c_3_5'): 1.0, ('TK3_b', 's7p_c_6', 'r5p_c_4'): -1.0, ('ALATA_L_b', 'glu_L_c_3_5', 'akg_c_3_5'): 1.0, ('ARGSS', 'argsuc_c_4_5', 'citr_L_c_4_5'): -1.0, ('PGI_b', 'g6p_c_1', 'f6p_c_1'): -1.0, ('TK3_b', 's7p_c_6_7', 'r5p_c_4_5'): -1.0, ('VALTA_b', 'akg_c_3_4_5', 'glu_L_c_3_4_5'): -1.0, ('ASPTA_f', 'asp_L_c_1_2', 'oaa_c_1_2'): 1.0, ('HSDy_b', 'aspsa_c_1_2_4', 'hom_L_c_1_2_4'): 1.0, ('GLUDy_b', 'akg_c_1', 'glu_L_c_1'): 1.0, ('ADSS', 'asp_L_c_2_4', 'dcamp_c_2_4'): 1.0, ('FBA_b', 'g3p_c_2_3', 'fdp_c_5_6'): 1.0, ('ARGDC', 'agm_c_1_2', 'arg_L_c_2_3'): -1.0, ('PPCK', 'pep_c_2', 'oaa_c_2'): -1.0, ('GLCpts', 'g6p_c_6', 'glc_D_e_6'): -1.0, ('ARGSL_f', 'argsuc_c_4_5', 'arg_L_c_4_5'): 1.0, ('L_LACt2r_f', 'lac_L_c_2', 'lac_L_e_2'): -1.0, ('DHAPT', 'dhap_c_1_2', 'dha_c_1_2'): -1.0, ('ILETA_b', 'akg_c_4', 'glu_L_c_4'): -1.0, ('TK1_f', 'TKC2_c_2', 'xu5p_D_c_2'): -1.0, ('TA1_f', 'f6p_c_6', 'g3p_c_3'): 1.0, ('PSERT', '3php_c_1', 'pser_L_c_1'): 1.0, ('ACOTA_f', 'akg_c_3_4', 'glu_L_c_3_4'): 1.0, ('ENO_b', '2pg_c_1', 'pep_c_1'): -1.0, ('TA1_b', 'f6p_c_3', 'TAC3_c_3'): -1.0, ('ACOTA_b', 'acorn_c_4', 'acg5sa_c_4'): -1.0, ('THRAr_f', 'acald_c_2', 'thr_L_c_4'): -1.0, ('ARGSS', 'argsuc_c_10', 'asp_L_c_4'): -1.0, ('CBPS', 'gln_L_c_2_4', 'glu_L_c_2_4'): 1.0, ('SUCOAS_b', 'succoa_c_3', 'succ_c_2'): 0.5, ('THRAr_b', 'thr_L_c_3_4', 'acald_c_1_2'): -1.0, ('ALATA_L_b', 'glu_L_c_2_4_5', 'akg_c_2_4_5'): 1.0, ('GMPS2', 'glu_L_c_5', 'gln_L_c_5'): -1.0, ('RPE_b', 'ru5p_D_c_3_5', 'xu5p_D_c_3_5'): -1.0, ('PSERT', 'glu_L_c_5', 'akg_c_5'): 1.0, ('CBPS', 'gln_L_c_2', 'glu_L_c_2'): 1.0, ('ACOTA_f', 'akg_c_2_5', 'glu_L_c_2_5'): 1.0, ('TYRTA_f', 'akg_c_5', 'glu_L_c_5'): 1.0, ('TK2_b', 'f6p_c_4_5_6', 'e4p_c_2_3_4'): -1.0, ('L_LACD2_b', 'lac_L_c_2', 'pyr_c_2'): -1.0, ('ICL', 'succ_c_2_3_4', 'icit_c_3_4_6'): -0.5, ('GND', 'ru5p_D_c_4_5', '6pgc_c_5_6'): -1.0, ('ABUTD', '4abut_c_1_2_4', '4abutn_c_1_2_4'): -1.0, ('ABTA', 'akg_c_2_4', 'glu_L_c_2_4'): 1.0, ('SUCOAS_f', 'succoa_c_1_3', 'succ_c_1_3'): -0.5, ('PPC', 'oaa_c_1_2_3', 'pep_c_1_2_3'): -1.0, ('FBA_b', 'fdp_c_4_5', 'g3p_c_1_2'): -1.0, ('ABUTD', '4abutn_c_1_2_3_4', '4abut_c_1_2_3_4'): 1.0, ('RPE_f', 'xu5p_D_c_3_4_5', 'ru5p_D_c_3_4_5'): -1.0, ('ADSL2r', 'fum_c_2_4', '25aics_c_11_12'): -0.5, ('ALATA_L_b', 'glu_L_c_2_5', 'akg_c_2_5'): 1.0, ('ALATA_L_f', 'akg_c_2_3_4', 'glu_L_c_2_3_4'): 1.0, ('PTRCTA', 'ptrc_c_2_3', '4abutn_c_2_3'): 1.0, ('ACOTA_b', 'akg_c_2_3', 'glu_L_c_2_3'): -1.0, ('GND', '6pgc_c_2_3', 'ru5p_D_c_1_2'): 1.0, ('ACALDi', 'acald_c_2', 'accoa_c_2'): 1.0, ('ASPTA_b', 'akg_c_5', 'glu_L_c_5'): -1.0, ('RPI_f', 'r5p_c_1_2_3_4_5', 'ru5p_D_c_1_2_3_4_5'): 1.0, ('ASPK_f', 'asp_L_c_3_4', '4pasp_c_3_4'): 1.0, ('ACGK', 'acg5p_c_1', 'acglu_c_1'): -1.0, ('SSALx', 'sucsal_c_3_4', 'succ_c_1_2'): 0.5, ('HEX1', 'glc_D_c_2_3_4_5_6', 'g6p_c_2_3_4_5_6'): 1.0, ('ASPK_b', '4pasp_c_1_3', 'asp_L_c_1_3'): 1.0, ('HSK', 'phom_c_3_4', 'hom_L_c_3_4'): -1.0, ('OCBT_b', 'citr_L_c_2_3_4_5', 'orn_c_2_3_4_5'): 1.0, ('ACGS', 'acglu_c_1', 'glu_L_c_1'): -1.0, ('OCBT_b', 'orn_c_4_5', 'citr_L_c_4_5'): -1.0, ('ACONT', 'icit_c_3_4_5_6', 'cit_c_3_4_5_6'): -1.0, ('PYK', 'pyr_c_2', 'pep_c_2'): -1.0, ('ADSL1r', 'dcamp_c_2', 'fum_c_2'): 0.5, ('ICL', 'succ_c_1', 'icit_c_5'): -0.5, ('CBPS', 'glu_L_c_2_4_5', 'gln_L_c_2_4_5'): -1.0, ('HSDy_b', 'hom_L_c_1_4', 'aspsa_c_1_4'): -1.0, ('ICL', 'succ_c_1_2', 'icit_c_4_5'): -0.5, ('CS', 'cit_c_3_6', 'oaa_c_1_2'): -1.0, ('PRPPS_f', 'prpp_c_3', 'r5p_c_3'): -1.0, ('CBPS', 'glu_L_c_1', 'gln_L_c_1'): -1.0, ('ABTA', 'sucsal_c_1_2_3', '4abut_c_1_2_3'): -1.0, ('CS', 'accoa_c_1_2oaa_c_1_2', 'cit_c_3_4_5_6'): 1.0, ('DHAPT', 'dha_c_2_3', 'dhap_c_2_3'): 1.0, ('ALATA_L_f', 'pyr_c_1', 'ala_L_c_1'): -1.0, ('GLUDy_f', 'glu_L_c_2_3_4_5', 'akg_c_2_3_4_5'): 1.0, ('EDD', '6pgc_c_4_5_6', '2ddg6p_c_4_5_6'): 1.0, ('PRFGS', 'glu_L_c_2_3', 'gln_L_c_2_3'): -1.0, ('ACOTA_f', 'acorn_c_2_3_4_5', 'acg5sa_c_2_3_4_5'): 1.0, ('L_LACD3_f', 'pyr_c_3', 'lac_L_c_3'): -1.0, ('GLCt2', 'glc_D_c_2_3', 'glc_D_e_2_3'): -1.0, ('L_LACD3_b', 'pyr_c_2', 'lac_L_c_2'): 1.0, ('ARGSL_b', 'fum_c_2', 'argsuc_c_8'): 0.5, ('GND', '6pgc_c_4_5_6', 'ru5p_D_c_3_4_5'): 1.0, ('PTRCTA', 'ptrc_c_1_2_3', '4abutn_c_1_2_3'): 0.5, ('HEX1', 'g6p_c_2_3_4_5_6', 'glc_D_c_2_3_4_5_6'): -1.0, ('PRAGSr_b', 'gar_c_6', 'gly_c_1'): 1.0, ('AGMT', 'agm_c_1_2_3', 'ptrc_c_1_2_3'): 0.5, ('TK1_b', 'g3p_c_1_2', 'xu5p_D_c_3_4'): 1.0, ('ACOTA_f', 'acorn_c_1', 'acg5sa_c_1'): 1.0, ('MDH_f', 'mal_L_c_3', 'oaa_c_3'): 1.0, ('TK2_b', 'f6p_c_1', 'TKC2_c_1'): -1.0, ('GLCpts', 'g6p_c_3_4_5_6', 'glc_D_e_3_4_5_6'): -1.0, ('TPI_b', 'dhap_c_2', 'g3p_c_2'): -1.0, ('ILETA_f', 'glu_L_c_2_3', 'akg_c_2_3'): -1.0, ('PTRCTA', 'glu_L_c_4_5', 'akg_c_4_5'): -1.0, ('ACOTA_f', 'akg_c_2_3_4_5', 'glu_L_c_2_3_4_5'): 1.0, ('RPI_f', 'ru5p_D_c_3_4_5', 'r5p_c_3_4_5'): -1.0, ('GHMT2', 'gly_c_1', 'ser_L_c_1'): -1.0, ('SDPTA_b', 'akg_c_2_3_4', 'glu_L_c_2_3_4'): -1.0, ('SUCOAS_b', 'succ_c_4', 'succoa_c_1'): -0.5, ('PHETA1_f', 'glu_L_c_2', 'akg_c_2'): -1.0, ('MDH_b', 'oaa_c_2_4', 'mal_L_c_2_4'): 1.0, ('ADSL2r', '25aics_c_10_11_13', 'fum_c_2_3_4'): 0.5, ('ASPTA_b', 'asp_L_c_1_4', 'oaa_c_1_4'): -1.0, ('ENO_f', 'pep_c_2_3', '2pg_c_2_3'): -1.0, ('PGM_f', '3pg_c_1_2_3', '2pg_c_1_2_3'): -1.0, ('ACODA', 'orn_c_5', 'acorn_c_5'): -1.0, ('LEUTAi', 'glu_L_c_1', 'akg_c_1'): 1.0, ('ALATA_L_b', 'pyr_c_2', 'ala_L_c_2'): 1.0, ('ABUTD', '4abut_c_1_2_3_4', '4abutn_c_1_2_3_4'): -1.0, ('ALATA_L_b', 'akg_c_2_4', 'glu_L_c_2_4'): -1.0, ('MDH_b', 'mal_L_c_1_3_4', 'oaa_c_1_3_4'): -1.0, ('ICL', 'succ_c_2', 'icit_c_4'): -0.5, ('PTRCTA', '4abutn_c_3_4', 'ptrc_c_3_4'): -0.5, ('LEUTAi', 'akg_c_1', 'glu_L_c_1'): -1.0, ('ARGSL_f', 'fum_c_1_2', 'argsuc_c_9_10'): -0.5, ('ADSS', 'asp_L_c_1_3_4', 'dcamp_c_1_3_4'): 1.0, ('ACOTA_f', 'akg_c_5', 'glu_L_c_5'): 1.0, ('ABUTD', '4abut_c_2', '4abutn_c_2'): -1.0, ('SSALy', 'succ_c_1', 'sucsal_c_1'): -0.5, ('FBA_b', 'fdp_c_4_5_6', 'g3p_c_1_2_3'): -1.0, ('ARGSS', 'citr_L_c_3_5', 'argsuc_c_3_5'): 1.0, ('AGMT', 'ptrc_c_2_4', 'agm_c_2_4'): -0.5, ('GLNS', 'gln_L_c_2', 'glu_L_c_2'): -1.0, ('OCBT_f', 'citr_L_c_3_4_5', 'orn_c_3_4_5'): -1.0, ('ARGSL_f', 'arg_L_c_4', 'argsuc_c_4'): -1.0, ('SUCD1i', 'fum_c_2', 'succ_c_2'): -0.5, ('ACGK', 'acg5p_c_2_3_5', 'acglu_c_2_3_5'): -1.0, ('RPI_b', 'r5p_c_4', 'ru5p_D_c_4'): -1.0, ('ARGDC', 'agm_c_1_2_3', 'arg_L_c_2_3_4'): -1.0, ('TA1_f', 'f6p_c_4', 'g3p_c_1'): 1.0, ('AKGDH', 'akg_c_5', 'succoa_c_4'): 1.0, ('ACOTA_f', 'acorn_c_2_3_4', 'acg5sa_c_2_3_4'): 1.0, ('GLNS', 'glu_L_c_2_3', 'gln_L_c_2_3'): 1.0, ('ADSL2r', 'fum_c_2', '25aics_c_12'): -0.5, ('F6PA', 'dha_c_1', 'f6p_c_3'): -1.0, ('ILETA_b', 'glu_L_c_4_5', 'akg_c_4_5'): 1.0, ('FUM', 'mal_L_c_3_4', 'fum_c_3_4'): -0.5, ('ACGS', 'glu_L_c_2_3', 'acglu_c_2_3'): 1.0, ('PGI_b', 'g6p_c_4', 'f6p_c_4'): -1.0, ('F6PA', 'f6p_c_1', 'dha_c_3'): 1.0, ('ASPTA_f', 'asp_L_c_2_3_4', 'oaa_c_2_3_4'): 1.0, ('ACOTA_b', 'glu_L_c_2_4', 'akg_c_2_4'): 1.0, ('EDA', '2ddg6p_c_1_2_3', 'pyr_c_1_2_3'): 1.0, ('FBA_b', 'g3p_c_1_2_3', 'fdp_c_4_5_6'): 1.0, ('PRFGS', 'gln_L_c_5', 'glu_L_c_5'): 1.0, ('GLNS', 'glu_L_c_3_5', 'gln_L_c_3_5'): 1.0, ('SDPTA_f', 'glu_L_c_3_4', 'akg_c_3_4'): -1.0, ('PPC', 'co2_c_1pep_c_2_3', 'oaa_c_2_3_4'): 1.0, ('ABTA', '4abut_c_2', 'sucsal_c_2'): 1.0, ('ACOTA_b', 'akg_c_4_5', 'glu_L_c_4_5'): -1.0, ('ARGSL_f', 'argsuc_c_3_4_5', 'arg_L_c_3_4_5'): 1.0, ('ARGSL_b', 'argsuc_c_7_8', 'fum_c_1_2'): -0.5, ('TK2_b', 'e4p_c_2_3', 'f6p_c_4_5'): 1.0, ('PRASCS_b', '25aics_c_11', 'asp_L_c_4'): 1.0, ('SDPTA_b', 'glu_L_c_2_3', 'akg_c_2_3'): 1.0, ('PRASCS_f', 'asp_L_c_2', '25aics_c_12'): 1.0, ('PSERT', 'glu_L_c_2_3_4', 'akg_c_2_3_4'): 1.0, ('PRASCS_f', 'asp_L_c_3', '25aics_c_10'): 1.0, ('ADSL1r', 'dcamp_c_1_3_4', 'fum_c_1_3_4'): 0.5, ('TA1_b', 'f6p_c_1_2', 'TAC3_c_1_2'): -1.0, ('SUCOAS_f', 'succoa_c_2_3', 'succ_c_2_3'): -1.0, ('PRASCS_f', 'asp_L_c_1_2_4', '25aics_c_11_12_13'): 1.0, ('RPI_b', 'ru5p_D_c_1_2', 'r5p_c_1_2'): 1.0, ('SUCOAS_b', 'succoa_c_2_3_4', 'succ_c_2_3_4'): 0.5, ('VALTA_f', 'glu_L_c_2_4', 'akg_c_2_4'): -1.0, ('ME2', 'pyr_c_2_3', 'mal_L_c_2_3'): -1.0, ('PFK', 'fdp_c_4_5', 'f6p_c_4_5'): -1.0, ('ARGSL_f', 'fum_c_1_3_4', 'argsuc_c_7_8_10'): -0.5, ('ASPTA_f', 'akg_c_2_3_4_5', 'glu_L_c_2_3_4_5'): 1.0, ('ASPTA_f', 'akg_c_2_5', 'glu_L_c_2_5'): 1.0, ('TA2_f', 'e4p_c_4', 's7p_c_7'): -1.0, ('GLCpts', 'glc_D_e_3', 'g6p_c_3'): 1.0, ('TK3_b', 's7p_c_1_3', 'TKC2_c_1r5p_c_1'): -1.0, ('SSALx', 'succ_c_1_2', 'sucsal_c_3_4'): -0.5, ('RPE_b', 'xu5p_D_c_1_2_3_4_5', 'ru5p_D_c_1_2_3_4_5'): 1.0, ('GAPD', 'g3p_c_1_2_3', '13dpg_c_1_2_3'): 1.0, ('GMPS2', 'gln_L_c_3_4_5', 'glu_L_c_3_4_5'): 1.0, ('ACOTA_b', 'glu_L_c_2_5', 'akg_c_2_5'): 1.0, ('TK1_b', 'xu5p_D_c_4_5', 'g3p_c_2_3'): -1.0, ('LEUTAi', 'glu_L_c_2_3_4_5', 'akg_c_2_3_4_5'): 1.0, ('PGCD', '3pg_c_1', '3php_c_1'): 1.0, ('HEX1', 'glc_D_c_5', 'g6p_c_5'): 1.0, ('ICL', 'succ_c_4', 'icit_c_5'): -0.5, ('GLUDy_f', 'glu_L_c_2_3_4', 'akg_c_2_3_4'): 1.0, ('MALS', 'accoa_c_1glx_c_1_2', 'mal_L_c_1_2_3'): 1.0, ('ARGSL_b', 'argsuc_c_7_8_9_10', 'fum_c_1_2_3_4'): -1.0, ('ARGSS', 'asp_L_c_1_2_3_4', 'argsuc_c_7_8_9_10'): 1.0, ('ARGSL_b', 'fum_c_4', 'argsuc_c_10'): 0.5, ('GLUDy_b', 'akg_c_4_5', 'glu_L_c_4_5'): 1.0, ('EDA', 'pyr_c_1_2_3', '2ddg6p_c_1_2_3'): -1.0, ('ACGS', 'glu_L_c_2_3_5', 'acglu_c_2_3_5'): 1.0, ('PRPPS_b', 'r5p_c_3_4', 'prpp_c_3_4'): -1.0, ('ASAD_f', 'aspsa_c_2', '4pasp_c_2'): 1.0, ('CBPS', 'gln_L_c_3_4', 'glu_L_c_3_4'): 1.0, ('ABTA', 'akg_c_2', 'glu_L_c_2'): 1.0, ('PHETA1_f', 'glu_L_c_2_5', 'akg_c_2_5'): -1.0, ('ACGK', 'acglu_c_3_4', 'acg5p_c_3_4'): 1.0, ('ILETA_b', 'akg_c_5', 'glu_L_c_5'): -1.0, ('ADSL1r', 'fum_c_1_4', 'dcamp_c_1_4'): -1.0, ('HSDy_b', 'aspsa_c_3_4', 'hom_L_c_3_4'): 1.0, ('ACGK', 'acg5p_c_2_3_4_5', 'acglu_c_2_3_4_5'): -1.0, ('TPI_f', 'dhap_c_2', 'g3p_c_2'): 1.0, ('CS', 'accoa_c_1_2oaa_c_2', 'cit_c_3_4_5'): 1.0, ('GLCt2', 'glc_D_e_1_3', 'glc_D_c_1_3'): 1.0, ('OCBT_f', 'orn_c_2_3', 'citr_L_c_2_3'): 1.0, ('PFK', 'f6p_c_4_6', 'fdp_c_4_6'): 1.0, ('PTRCTA', 'ptrc_c_1_2_3', '4abutn_c_2_3_4'): 0.5, ('TYRTA_b', 'glu_L_c_1', 'akg_c_1'): 1.0, ('TA1_f', 'f6p_c_1', 'TAC3_c_1'): 1.0, ('ACODA', 'orn_c_1', 'acorn_c_1'): -1.0, ('ACOTA_f', 'glu_L_c_3_4', 'akg_c_3_4'): -1.0, ('SSALx', 'sucsal_c_4', 'succ_c_4'): 0.5, ('RPI_b', 'r5p_c_3_4', 'ru5p_D_c_3_4'): -1.0, ('SUCOAS_b', 'succ_c_1_2', 'succoa_c_3_4'): -0.5, ('ARGSS', 'argsuc_c_2_4', 'citr_L_c_2_4'): -1.0, ('ACONT', 'cit_c_5', 'icit_c_5'): 1.0, ('RPE_b', 'ru5p_D_c_2', 'xu5p_D_c_2'): -1.0, ('TK3_b', 'TKC2_c_1', 's7p_c_1'): 1.0, ('SDPTA_b', 'glu_L_c_3', 'akg_c_3'): 1.0, ('TPI_b', 'dhap_c_1_2', 'g3p_c_1_2'): -1.0, ('PGI_f', 'g6p_c_1', 'f6p_c_1'): 1.0, ('TA2_b', 'TAC3_c_1_2_3e4p_c_1_2_3_4', 's7p_c_1_2_3_4_5_6_7'): 1.0, ('MALS', 'mal_L_c_2', 'glx_c_2'): -1.0, ('TK1_b', 'xu5p_D_c_1_2', 'TKC2_c_1_2'): -1.0, ('ARGSS', 'argsuc_c_8_9_10', 'asp_L_c_2_3_4'): -1.0, ('SDPTA_f', 'akg_c_2_4_5', 'glu_L_c_2_4_5'): 1.0, ('F6PA', 'dha_c_2', 'f6p_c_2'): -1.0, ('RPI_b', 'r5p_c_3_4_5', 'ru5p_D_c_3_4_5'): -1.0, ('G6PDH2r', '6pgl_c_4_5', 'g6p_c_4_5'): -1.0, ('SDPTA_f', 'glu_L_c_2_3_4_5', 'akg_c_2_3_4_5'): -1.0, ('TA1_f', 'g3p_c_1', 'f6p_c_4'): -1.0, ('FBA_b', 'fdp_c_4', 'g3p_c_1'): -1.0, ('RPE_b', 'ru5p_D_c_1_2', 'xu5p_D_c_1_2'): -1.0, ('F6PA', 'f6p_c_3', 'dha_c_1'): 1.0, ('ARGSL_f', 'argsuc_c_9_10', 'fum_c_1_2'): 0.5, ('ICDHyr', 'icit_c_2_3', 'akg_c_2_3'): 1.0, ('GLUDy_f', 'akg_c_4_5', 'glu_L_c_4_5'): -1.0, ('TK2_b', 'e4p_c_2_4', 'f6p_c_4_6'): 1.0, ('SUCOAS_f', 'succ_c_1_3_4', 'succoa_c_1_3_4'): 0.5, ('GMPS2', 'glu_L_c_4', 'gln_L_c_4'): -1.0, ('PGK_f', '3pg_c_3', '13dpg_c_3'): 1.0, ('SUCOAS_f', 'succoa_c_1_3_4', 'succ_c_1_2_4'): -0.5, ('ILETA_b', 'glu_L_c_2', 'akg_c_2'): 1.0, ('ICDHyr', 'akg_c_2_4', 'icit_c_2_4'): -1.0, ('GLCpts', 'glc_D_e_4_5_6', 'g6p_c_4_5_6'): 1.0, ('GND', 'ru5p_D_c_3_5', '6pgc_c_4_6'): -1.0, ('SSALx', 'sucsal_c_1_3_4', 'succ_c_1_3_4'): 0.5, ('L_LACD2_b', 'lac_L_c_1_2_3', 'pyr_c_1_2_3'): -1.0, ('AKGDH', 'akg_c_1', 'co2_c_1'): 1.0, ('GMPS2', 'glu_L_c_2_3', 'gln_L_c_2_3'): -1.0, ('ILETA_f', 'akg_c_3_5', 'glu_L_c_3_5'): 1.0, ('PTRCTA', 'ptrc_c_3', '4abutn_c_3'): 0.5, ('ARGDC', 'agm_c_2_3', 'arg_L_c_3_4'): -1.0, ('SUCOAS_f', 'succoa_c_1', 'succ_c_1'): -0.5, ('PRFGS', 'glu_L_c_3_5', 'gln_L_c_3_5'): -1.0, ('ACALDi', 'accoa_c_1', 'acald_c_1'): -1.0, ('ASPK_f', '4pasp_c_4', 'asp_L_c_4'): -1.0, ('PHETA1_b', 'glu_L_c_5', 'akg_c_5'): 1.0, ('ACOTA_f', 'acorn_c_3', 'acg5sa_c_3'): 1.0, ('SUCOAS_f', 'succ_c_2', 'succoa_c_2'): 0.5, ('FUM', 'mal_L_c_1_3_4', 'fum_c_1_3_4'): -0.5, ('PRASCS_b', 'asp_L_c_3', '25aics_c_10'): -1.0, ('TA2_b', 's7p_c_6', 'e4p_c_3'): -1.0, ('ASPK_f', 'asp_L_c_2_3_4', '4pasp_c_2_3_4'): 1.0, ('SUCD1i', 'succ_c_1_2_3_4', 'fum_c_1_2_3_4'): 1.0, ('GMPS2', 'glu_L_c_3_5', 'gln_L_c_3_5'): -1.0, ('ALATA_L_b', 'glu_L_c_2_3_5', 'akg_c_2_3_5'): 1.0, ('TK2_f', 'f6p_c_1', 'TKC2_c_1'): 1.0, ('TK2_b', 'TKC2_c_1_2e4p_c_1', 'f6p_c_1_2_3'): 1.0, ('MALS', 'accoa_c_1', 'mal_L_c_3'): 1.0, ('GLUDy_f', 'akg_c_5', 'glu_L_c_5'): -1.0, ('SUCOAS_b', 'succoa_c_1_3_4', 'succ_c_1_2_4'): 0.5, ('ASAD_b', '4pasp_c_1_2', 'aspsa_c_1_2'): 1.0, ('CS', 'cit_c_3', 'oaa_c_2'): -1.0, ('AGMT', 'agm_c_2', 'ptrc_c_2'): 0.5, ('GLUPRT', 'glu_L_c_2_4', 'gln_L_c_2_4'): -1.0, ('SDPTA_b', 'akg_c_2', 'glu_L_c_2'): -1.0, ('PGI_f', 'f6p_c_1_2', 'g6p_c_1_2'): -1.0, ('FUM', 'fum_c_1_2', 'mal_L_c_3_4'): 0.5, ('ILETA_f', 'glu_L_c_3_5', 'akg_c_3_5'): -1.0, ('VALTA_b', 'akg_c_2_3_4', 'glu_L_c_2_3_4'): -1.0, ('ICDHyr', 'icit_c_2_3_5', 'akg_c_2_3_5'): 1.0, ('AKGDH', 'succoa_c_1_2_4', 'akg_c_2_3_5'): -1.0, ('TA2_b', 'e4p_c_2_4', 's7p_c_5_7'): 1.0, ('MDH_f', 'oaa_c_3_4', 'mal_L_c_3_4'): -1.0, ('VALTA_b', 'glu_L_c_3_4', 'akg_c_3_4'): 1.0, ('AGPR_b', 'acg5sa_c_2_3_4_5', 'acg5p_c_2_3_4_5'): -1.0, ('GLUPRT', 'gln_L_c_4_5', 'glu_L_c_4_5'): 1.0, ('TA1_f', 'f6p_c_5', 'g3p_c_2'): 1.0, ('RPE_b', 'xu5p_D_c_2_3_4_5', 'ru5p_D_c_2_3_4_5'): 1.0, ('ARGSL_f', 'arg_L_c_3_4_5', 'argsuc_c_3_4_5'): -1.0, ('PTRCTA', 'akg_c_2_3_4_5', 'glu_L_c_2_3_4_5'): 1.0, ('PGL', '6pgc_c_2', '6pgl_c_2'): -1.0, ('PGK_f', '13dpg_c_2_3', '3pg_c_2_3'): -1.0, ('ARGSL_b', 'argsuc_c_3', 'arg_L_c_3'): -1.0, ('TK2_f', 'e4p_c_3_4', 'f6p_c_5_6'): -1.0, ('PRPPS_b', 'r5p_c_1_2', 'prpp_c_1_2'): -1.0, ('SDPTA_b', 'akg_c_5', 'glu_L_c_5'): -1.0, ('RPE_f', 'xu5p_D_c_1_2_3_4_5', 'ru5p_D_c_1_2_3_4_5'): -1.0, ('L_LACt2r_f', 'lac_L_c_1_2_3', 'lac_L_e_1_2_3'): -1.0, ('ACOTA_f', 'acorn_c_2_4_5', 'acg5sa_c_2_4_5'): 1.0, ('TA2_f', 'e4p_c_2', 's7p_c_5'): -1.0, ('FUM', 'mal_L_c_1_3', 'fum_c_2_4'): -0.5, ('SUCD1i', 'succ_c_1_2_4', 'fum_c_1_2_4'): 0.5, ('PTRCTA', '4abutn_c_4', 'ptrc_c_1'): -0.5, ('PPC', 'co2_c_1pep_c_1', 'oaa_c_1_4'): 1.0, ('ACODA', 'orn_c_3_4', 'acorn_c_3_4'): -1.0, ('L_LACD3_b', 'lac_L_c_2_3', 'pyr_c_2_3'): -1.0, ('SDPTA_f', 'akg_c_4_5', 'glu_L_c_4_5'): 1.0, ('PRASCS_b', '25aics_c_10_11_13', 'asp_L_c_1_3_4'): 1.0, ('PRPPS_f', 'r5p_c_2_3_4_5', 'prpp_c_2_3_4_5'): 1.0, ('ADSL2r', 'fum_c_1_3', '25aics_c_10_13'): -0.5, ('AGPR_f', 'acg5p_c_2_3_4', 'acg5sa_c_2_3_4'): -1.0, ('ADSL2r', 'fum_c_1_4', '25aics_c_11_13'): -0.5, ('SDPTA_b', 'akg_c_4', 'glu_L_c_4'): -1.0, ('TK3_b', 's7p_c_1_2_3', 'TKC2_c_1_2r5p_c_1'): -1.0, ('ACOTA_b', 'akg_c_1', 'glu_L_c_1'): -1.0, ('ADSL2r', '25aics_c_11', 'fum_c_4'): 0.5, ('ADSL2r', '25aics_c_12_13', 'fum_c_1_4'): 0.5, ('ABTA', '4abut_c_1_4', 'sucsal_c_1_4'): 1.0, ('ENO_f', 'pep_c_2', '2pg_c_2'): -1.0, ('ASPTA_b', 'akg_c_4', 'glu_L_c_4'): -1.0, ('PHETA1_f', 'akg_c_4', 'glu_L_c_4'): 1.0, ('GAPD', 'g3p_c_2', '13dpg_c_2'): 1.0, ('SUCOAS_f', 'succ_c_1_2_3', 'succoa_c_2_3_4'): 0.5, ('ASPK_b', 'asp_L_c_4', '4pasp_c_4'): -1.0, ('PFK', 'f6p_c_6', 'fdp_c_6'): 1.0, ('LEUTAi', 'akg_c_2_3', 'glu_L_c_2_3'): -1.0, ('PYK', 'pep_c_1', 'pyr_c_1'): 1.0, ('ALATA_L_b', 'ala_L_c_3', 'pyr_c_3'): -1.0, ('PRASCS_b', '25aics_c_10_13', 'asp_L_c_1_3'): 1.0, ('TA1_b', 'g3p_c_1_3', 'f6p_c_4_6'): 1.0, ('AKGDH', 'akg_c_2_3_4_5', 'succoa_c_1_2_3_4'): 1.0, ('PRASCS_b', 'asp_L_c_3_4', '25aics_c_10_11'): -1.0, ('SSALx', 'succ_c_2', 'sucsal_c_3'): -0.5, ('TK3_f', 's7p_c_5_7', 'r5p_c_3_5'): 1.0, ('ADSL2r', 'fum_c_3', '25aics_c_10'): -0.5, ('FBA_f', 'g3p_c_1_2_3', 'fdp_c_4_5_6'): -1.0, ('MDH_b', 'oaa_c_1_2', 'mal_L_c_1_2'): 1.0, ('HSDy_f', 'aspsa_c_1_2', 'hom_L_c_1_2'): -1.0, ('ASAD_f', '4pasp_c_4', 'aspsa_c_4'): -1.0, ('ACGK', 'acg5p_c_2_4', 'acglu_c_2_4'): -1.0, ('EDA', 'pyr_c_2', '2ddg6p_c_2'): -1.0, ('PPCK', 'pep_c_1_3', 'oaa_c_1_3'): -1.0, ('TA2_b', 's7p_c_4_5_6_7', 'e4p_c_1_2_3_4'): -1.0, ('ASPTA_b', 'akg_c_3_4_5', 'glu_L_c_3_4_5'): -1.0, ('SSALx', 'sucsal_c_1_2_3', 'succ_c_2_3_4'): 0.5, ('ADSL1r', 'dcamp_c_1', 'fum_c_1'): 0.5, ('ASAD_f', 'aspsa_c_1_3', '4pasp_c_1_3'): 1.0, ('ARGSL_f', 'argsuc_c_2', 'arg_L_c_2'): 1.0, ('PRASCS_b', '25aics_c_11_12_13', 'asp_L_c_1_2_4'): 1.0, ('PTRCTA', 'akg_c_3_4', 'glu_L_c_3_4'): 1.0, ('PGK_b', '3pg_c_1_3', '13dpg_c_1_3'): -1.0, ('ARGSL_b', 'fum_c_2_3', 'argsuc_c_8_9'): 1.0, ('ASPTA_b', 'glu_L_c_2', 'akg_c_2'): 1.0, ('TK3_f', 'r5p_c_2_3_4_5', 's7p_c_4_5_6_7'): -1.0, ('SDPTA_f', 'akg_c_3', 'glu_L_c_3'): 1.0, ('GLUDy_b', 'akg_c_3', 'glu_L_c_3'): 1.0, ('ARGSL_b', 'arg_L_c_3_4_5', 'argsuc_c_3_4_5'): 1.0, ('ACOTA_f', 'glu_L_c_4_5', 'akg_c_4_5'): -1.0, ('TK1_b', 'xu5p_D_c_4', 'g3p_c_2'): -1.0, ('AGPR_f', 'acg5p_c_2_3_5', 'acg5sa_c_2_3_5'): -1.0, ('ABUTD', '4abut_c_3', '4abutn_c_3'): -1.0, ('PGL', '6pgc_c_4_6', '6pgl_c_4_6'): -1.0, ('RPI_f', 'r5p_c_3_5', 'ru5p_D_c_3_5'): 1.0, ('ICDHyr', 'akg_c_2_3', 'icit_c_2_3'): -1.0, ('PSERT', 'glu_L_c_2_3', 'akg_c_2_3'): 1.0, ('TK2_b', 'f6p_c_4', 'e4p_c_2'): -1.0, ('TA1_b', 'f6p_c_1_2_3', 'TAC3_c_1_2_3'): -1.0, ('ADSL2r', 'fum_c_1_3', '25aics_c_11_12'): -0.5, ('ABTA', 'akg_c_3_4_5', 'glu_L_c_3_4_5'): 1.0, ('ACGK', 'acglu_c_1', 'acg5p_c_1'): 1.0, ('ASPK_b', 'asp_L_c_3', '4pasp_c_3'): -1.0, ('ACOTA_b', 'acg5sa_c_3_4_5', 'acorn_c_3_4_5'): 1.0, ('ICL', 'icit_c_4_5', 'succ_c_3_4'): 0.5, ('HEX1', 'g6p_c_4_6', 'glc_D_c_4_6'): -1.0, ('DHAPT', 'dhap_c_2_3', 'dha_c_2_3'): -1.0, ('TK1_b', 'g3p_c_3', 'xu5p_D_c_5'): 1.0, ('MDH_b', 'oaa_c_2_3_4', 'mal_L_c_2_3_4'): 1.0, ('ASAD_b', '4pasp_c_1_3', 'aspsa_c_1_3'): 1.0, ('PHETA1_f', 'akg_c_2_3_5', 'glu_L_c_2_3_5'): 1.0, ('HSDy_b', 'aspsa_c_1_3_4', 'hom_L_c_1_3_4'): 1.0, ('SUCOAS_f', 'succoa_c_1_3_4', 'succ_c_1_3_4'): -0.5, ('ABTA', 'sucsal_c_1_4', '4abut_c_1_4'): -1.0, ('ACONT', 'cit_c_2', 'icit_c_2'): 1.0, ('SUCOAS_f', 'succoa_c_2_3_4', 'succ_c_1_2_3'): -0.5, ('AGMT', 'agm_c_1_3', 'ptrc_c_2_4'): 0.5, ('VALTA_f', 'glu_L_c_1', 'akg_c_1'): -1.0, ('SUCOAS_f', 'succ_c_1_2', 'succoa_c_3_4'): 0.5, ('ASPTA_f', 'akg_c_3_5', 'glu_L_c_3_5'): 1.0, ('TK2_f', 'e4p_c_2', 'f6p_c_4'): -1.0, ('PGI_f', 'g6p_c_1_2_3_4_5_6', 'f6p_c_1_2_3_4_5_6'): 1.0, ('ALATA_L_f', 'akg_c_4_5', 'glu_L_c_4_5'): 1.0, ('ASPK_f', '4pasp_c_1_4', 'asp_L_c_1_4'): -1.0, ('FUM', 'mal_L_c_2_3', 'fum_c_2_3'): -1.0, ('GLCt2', 'glc_D_c_1_3', 'glc_D_e_1_3'): -1.0, ('ACGK', 'acg5p_c_3_5', 'acglu_c_3_5'): -1.0, ('ALATA_L_b', 'akg_c_3_5', 'glu_L_c_3_5'): -1.0, ('SUCD1i', 'fum_c_1_3_4', 'succ_c_1_2_4'): -0.5, ('PGI_b', 'g6p_c_2_3', 'f6p_c_2_3'): -1.0, ('ALATA_L_b', 'akg_c_4_5', 'glu_L_c_4_5'): -1.0, ('ACODA', 'acorn_c_2_4', 'orn_c_2_4'): 1.0, ('AGMT', 'ptrc_c_3', 'agm_c_2'): -0.5, ('VALTA_b', 'glu_L_c_2_5', 'akg_c_2_5'): 1.0, ('PTRCTA', 'ptrc_c_1', '4abutn_c_1'): 0.5, ('ALATA_L_f', 'pyr_c_3', 'ala_L_c_3'): -1.0, ('PRAGSr_f', 'gar_c_6', 'gly_c_1'): -1.0, ('ILETA_f', 'akg_c_2_3_5', 'glu_L_c_2_3_5'): 1.0, ('ACOTA_f', 'acg5sa_c_2_4', 'acorn_c_2_4'): -1.0, ('PTRCTA', 'glu_L_c_2_3_5', 'akg_c_2_3_5'): -1.0, ('ABUTD', '4abutn_c_1_3', '4abut_c_1_3'): 1.0, ('ACONT', 'icit_c_2_4', 'cit_c_2_4'): -1.0, ('ASAD_b', 'aspsa_c_1_2_3_4', '4pasp_c_1_2_3_4'): -1.0, ('GLNS', 'glu_L_c_2_5', 'gln_L_c_2_5'): 1.0, ('GMPS2', 'gln_L_c_1', 'glu_L_c_1'): 1.0, ('PHETA1_f', 'akg_c_2', 'glu_L_c_2'): 1.0, ('PSERT', 'glu_L_c_2_4_5', 'akg_c_2_4_5'): 1.0, ('L_LACt2r_f', 'lac_L_c_2_3', 'lac_L_e_2_3'): -1.0, ('FUM', 'fum_c_1_2_3_4', 'mal_L_c_1_2_3_4'): 1.0, ('ACOTA_f', 'glu_L_c_3_5', 'akg_c_3_5'): -1.0, ('GLCt2', 'glc_D_c_5', 'glc_D_e_5'): -1.0, ('SUCD1i', 'fum_c_1_3', 'succ_c_1_3'): -0.5, ('DHAPT', 'dhap_c_3', 'dha_c_3'): -1.0, ('SUCD1i', 'fum_c_1_4', 'succ_c_1_4'): -1.0, ('SUCOAS_b', 'succoa_c_2', 'succ_c_2'): 0.5, ('PPC', 'oaa_c_1_2_4', 'co2_c_1pep_c_1_2'): -1.0, ('ASPK_f', '4pasp_c_3_4', 'asp_L_c_3_4'): -1.0, ('ACONT', 'cit_c_2_3_5', 'icit_c_2_3_5'): 1.0, ('TK3_b', 'r5p_c_1_2', 's7p_c_3_4'): 1.0, ('TK2_f', 'TKC2_c_1', 'f6p_c_1'): -1.0, ('SUCOAS_f', 'succ_c_1_2_3', 'succoa_c_1_2_3'): 0.5, ('ADSL2r', 'fum_c_2_3', '25aics_c_10_11'): -0.5, ('EDD', '6pgc_c_4', '2ddg6p_c_4'): 1.0, ('TA1_b', 'TAC3_c_1', 'f6p_c_1'): 1.0, ('FBA_b', 'dhap_c_1_2', 'fdp_c_2_3'): 1.0, ('AGPR_b', 'acg5p_c_2_3', 'acg5sa_c_2_3'): 1.0, ('ARGSL_b', 'argsuc_c_7_9_10', 'fum_c_1_2_4'): -0.5, ('ICL', 'icit_c_3_5', 'succ_c_2_4'): 0.5, ('ARGSL_f', 'argsuc_c_7', 'fum_c_1'): 0.5, ('GAPD', 'g3p_c_1_2', '13dpg_c_1_2'): 1.0, ('PHETA1_b', 'glu_L_c_1', 'akg_c_1'): 1.0, ('GLNS', 'gln_L_c_2_4', 'glu_L_c_2_4'): -1.0, ('ADSL1r', 'fum_c_4', 'dcamp_c_1'): -0.5, ('ALATA_L_f', 'akg_c_2_3_4_5', 'glu_L_c_2_3_4_5'): 1.0, ('FUM', 'mal_L_c_3', 'fum_c_3'): -0.5, ('ARGSL_b', 'argsuc_c_9', 'fum_c_3'): -0.5, ('TK1_f', 'g3p_c_2', 'xu5p_D_c_4'): -1.0, ('AGPR_b', 'acg5p_c_2_4', 'acg5sa_c_2_4'): 1.0, ('ACODA', 'acorn_c_4', 'orn_c_4'): 1.0, ('SUCD1i', 'fum_c_1_2', 'succ_c_3_4'): -0.5, ('L_LACD2_f', 'lac_L_c_2', 'pyr_c_2'): 1.0, ('AGPR_f', 'acg5sa_c_2_3_5', 'acg5p_c_2_3_5'): 1.0, ('EDD', '6pgc_c_5', '2ddg6p_c_5'): 1.0, ('SSALy', 'sucsal_c_3', 'succ_c_3'): 0.5, ('MDH_b', 'mal_L_c_4', 'oaa_c_4'): -1.0, ('ICL', 'succ_c_1_2_3', 'icit_c_3_4_5'): -0.5, ('G6PDH2r', '6pgl_c_2', 'g6p_c_2'): -1.0, ('RPI_b', 'ru5p_D_c_2', 'r5p_c_2'): 1.0, ('PTRCTA', 'akg_c_3_4_5', 'glu_L_c_3_4_5'): 1.0, ('GLUDy_b', 'glu_L_c_3_4_5', 'akg_c_3_4_5'): -1.0, ('ADSL1r', 'dcamp_c_2_3_4', 'fum_c_2_3_4'): 0.5, ('MALS', 'accoa_c_1glx_c_2', 'mal_L_c_2_3'): 1.0, ('VALTA_b', 'glu_L_c_2_4', 'akg_c_2_4'): 1.0, ('ILETA_f', 'glu_L_c_5', 'akg_c_5'): -1.0, ('SUCOAS_f', 'succoa_c_4', 'succ_c_1'): -0.5, ('TK2_f', 'f6p_c_4_5', 'e4p_c_2_3'): 1.0, ('RPE_b', 'xu5p_D_c_4', 'ru5p_D_c_4'): 1.0, ('ACODA', 'acorn_c_2_5', 'orn_c_2_5'): 1.0, ('ALATA_L_f', 'glu_L_c_2_4_5', 'akg_c_2_4_5'): -1.0, ('TYRTA_f', 'glu_L_c_3_5', 'akg_c_3_5'): -1.0, ('ACGS', 'glu_L_c_3', 'acglu_c_3'): 1.0, ('PTRCTA', 'glu_L_c_3_4', 'akg_c_3_4'): -1.0, ('ACONT', 'icit_c_3_6', 'cit_c_3_6'): -1.0, ('ADSL2r', '25aics_c_13', 'fum_c_4'): 0.5, ('FBA_f', 'dhap_c_2_3', 'fdp_c_1_2'): -1.0, ('ARGSL_f', 'argsuc_c_3_4', 'arg_L_c_3_4'): 1.0, ('ARGSL_f', 'argsuc_c_7_8_10', 'fum_c_1_2_4'): 0.5, ('TA1_f', 'TAC3_c_3', 'f6p_c_3'): -1.0, ('SSALy', 'succ_c_1', 'sucsal_c_4'): -0.5, ('F6PA', 'f6p_c_1_2_3', 'dha_c_1_2_3'): 1.0, ('TK1_b', 'g3p_c_1_2_3', 'xu5p_D_c_3_4_5'): 1.0, ('GLNS', 'gln_L_c_2_5', 'glu_L_c_2_5'): -1.0, ('ASPK_f', 'asp_L_c_1_2_3', '4pasp_c_1_2_3'): 1.0, ('L_LACt2r_b', 'lac_L_c_1', 'lac_L_e_1'): 1.0, ('ILETA_f', 'glu_L_c_3_4', 'akg_c_3_4'): -1.0, ('GLUDy_f', 'akg_c_3_4_5', 'glu_L_c_3_4_5'): -1.0, ('PRFGS', 'glu_L_c_2_3_4_5', 'gln_L_c_2_3_4_5'): -1.0, ('ARGSL_b', 'argsuc_c_9_10', 'fum_c_1_2'): -0.5, ('TK3_f', 'TKC2_c_2', 's7p_c_2'): -1.0, ('ME1', 'mal_L_c_2', 'pyr_c_2'): 1.0, ('GLUPRT', 'gln_L_c_2_3_4_5', 'glu_L_c_2_3_4_5'): 1.0, ('ACONT', 'cit_c_3', 'icit_c_3'): 1.0, ('PSCVT', 'pep_c_1', '3psme_c_10'): 1.0, ('ICL', 'succ_c_1_2_3_4', 'icit_c_3_4_5_6'): -1.0, ('PPC', 'oaa_c_1_2', 'pep_c_1_2'): -1.0, ('SDPTA_b', 'glu_L_c_3_4', 'akg_c_3_4'): 1.0, ('ARGSL_f', 'argsuc_c_4', 'arg_L_c_4'): 1.0, ('ARGSL_b', 'fum_c_1_2_4', 'argsuc_c_7_8_10'): 0.5, ('TYRTA_f', 'akg_c_2_3_4_5', 'glu_L_c_2_3_4_5'): 1.0, ('ARGSS', 'argsuc_c_7', 'asp_L_c_1'): -1.0, ('HEX1', 'g6p_c_1_2_3', 'glc_D_c_1_2_3'): -1.0, ('SSALx', 'sucsal_c_2_3_4', 'succ_c_2_3_4'): 0.5, ('VALTA_f', 'glu_L_c_2_3_5', 'akg_c_2_3_5'): -1.0, ('GLUPRT', 'glu_L_c_3_4_5', 'gln_L_c_3_4_5'): -1.0, ('VALTA_f', 'glu_L_c_2_5', 'akg_c_2_5'): -1.0, ('PHETA1_b', 'akg_c_4', 'glu_L_c_4'): -1.0, ('ADSL2r', 'fum_c_2_4', '25aics_c_10_13'): -0.5, ('PGK_b', '3pg_c_3', '13dpg_c_3'): -1.0, ('TK1_f', 'xu5p_D_c_4', 'g3p_c_2'): 1.0, ('TYRTA_f', 'glu_L_c_2_5', 'akg_c_2_5'): -1.0, ('PRPPS_f', 'prpp_c_4', 'r5p_c_4'): -1.0, ('FUM', 'mal_L_c_2_3_4', 'fum_c_2_3_4'): -0.5, ('OCBT_b', 'citr_L_c_2_3', 'orn_c_2_3'): 1.0, ('DHAPT', 'dha_c_1_2_3', 'dhap_c_1_2_3'): 1.0, ('SUCOAS_b', 'succoa_c_1_2', 'succ_c_3_4'): 0.5, ('ABTA', 'glu_L_c_2_3_4', 'akg_c_2_3_4'): -1.0, ('SUCD1i', 'succ_c_2_3_4', 'fum_c_2_3_4'): 0.5, ('ME2', 'pyr_c_1', 'mal_L_c_1'): -1.0, ('LEUTAi', 'glu_L_c_3', 'akg_c_3'): 1.0, ('AGPR_b', 'acg5sa_c_2_3_5', 'acg5p_c_2_3_5'): -1.0, ('ASPTA_b', 'asp_L_c_1_2_4', 'oaa_c_1_2_4'): -1.0, ('TA2_b', 'TAC3_c_1_3', 's7p_c_1_3'): 1.0, ('HSDy_f', 'aspsa_c_2', 'hom_L_c_2'): -1.0, ('TK1_b', 'TKC2_c_1_2', 'xu5p_D_c_1_2'): 1.0, ('FUM', 'fum_c_1_2_4', 'mal_L_c_1_3_4'): 0.5, ('SSALy', 'succ_c_1_2_4', 'sucsal_c_1_2_4'): -0.5, ('HSDy_b', 'aspsa_c_1_2_3', 'hom_L_c_1_2_3'): 1.0, ('ASAD_f', 'aspsa_c_2_3', '4pasp_c_2_3'): 1.0, ('SUCD1i', 'fum_c_3', 'succ_c_3'): -0.5, ('ILETA_b', 'akg_c_3', 'glu_L_c_3'): -1.0, ('PTRCTA', '4abutn_c_1', 'ptrc_c_4'): -0.5, ('ASPTA_f', 'oaa_c_3', 'asp_L_c_3'): -1.0, ('PPC', 'pep_c_2_3', 'oaa_c_2_3'): 1.0, ('OCBT_b', 'citr_L_c_1', 'orn_c_1'): 1.0, ('AKGDH', 'succoa_c_1_2_3_4', 'akg_c_2_3_4_5'): -1.0, ('PRFGS', 'gln_L_c_3_4', 'glu_L_c_3_4'): 1.0, ('ICL', 'icit_c_4_6', 'succ_c_1_3'): 0.5, ('TK1_b', 'g3p_c_1', 'xu5p_D_c_3'): 1.0, ('ACODA', 'acorn_c_2_3_5', 'orn_c_2_3_5'): 1.0, ('GMPS2', 'gln_L_c_2_3', 'glu_L_c_2_3'): 1.0, ('ARGSS', 'asp_L_c_1_2_4', 'argsuc_c_7_8_10'): 1.0, ('TYRTA_b', 'akg_c_3_4', 'glu_L_c_3_4'): -1.0, ('HEX1', 'g6p_c_3', 'glc_D_c_3'): -1.0, ('ADSL2r', '25aics_c_12', 'fum_c_2'): 0.5, ('VALTA_f', 'akg_c_2_4', 'glu_L_c_2_4'): 1.0, ('ILETA_f', 'glu_L_c_3', 'akg_c_3'): -1.0, ('PYK', 'pep_c_1_2_3', 'pyr_c_1_2_3'): 1.0, ('TA1_b', 'g3p_c_1', 'f6p_c_4'): 1.0, ('EDA', 'g3p_c_2', '2ddg6p_c_5'): -1.0, ('DHAPT', 'dhap_c_1_2_3', 'dha_c_1_2_3'): -1.0, ('PPC', 'co2_c_1pep_c_3', 'oaa_c_3_4'): 1.0, ('TA1_f', 'f6p_c_4_5_6', 'g3p_c_1_2_3'): 1.0, ('ICL', 'icit_c_3_4_5_6', 'succ_c_1_2_3_4'): 1.0, ('PRPPS_f', 'prpp_c_1_2_3_4_5', 'r5p_c_1_2_3_4_5'): -1.0, ('SUCOAS_f', 'succ_c_2_4', 'succoa_c_1_3'): 0.5, ('PTRCTA', '4abutn_c_3', 'ptrc_c_3'): -0.5, ('THRS', 'phom_c_3', 'thr_L_c_3'): 1.0, ('TYRTA_f', 'glu_L_c_4_5', 'akg_c_4_5'): -1.0, ('ASPK_f', 'asp_L_c_1_2', '4pasp_c_1_2'): 1.0, ('ASPTA_f', 'glu_L_c_5', 'akg_c_5'): -1.0, ('F6PA', 'dha_c_1_2', 'f6p_c_2_3'): -1.0, ('PGI_b', 'g6p_c_5_6', 'f6p_c_5_6'): -1.0, ('ADSL2r', '25aics_c_10_11_12', 'fum_c_2_3_4'): 0.5, ('CBPS', 'glu_L_c_3_4_5', 'gln_L_c_3_4_5'): -1.0, ('ICL', 'icit_c_5', 'succ_c_1'): 0.5, ('TA2_b', 'e4p_c_3', 's7p_c_6'): 1.0, ('PGL', '6pgc_c_6', '6pgl_c_6'): -1.0, ('TA1_b', 'TAC3_c_2_3', 'f6p_c_2_3'): 1.0, ('THRS', 'phom_c_3_4', 'thr_L_c_3_4'): 1.0, ('ADHEr', 'accoa_c_1_2', 'etoh_c_1_2'): 1.0, ('ARGSS', 'argsuc_c_7_10', 'asp_L_c_1_4'): -1.0, ('SUCD1i', 'succ_c_1_2', 'fum_c_3_4'): 0.5, ('ASPTA_f', 'oaa_c_1_2_4', 'asp_L_c_1_2_4'): -1.0, ('SUCOAS_f', 'succ_c_3_4', 'succoa_c_3_4'): 0.5, ('GLCt2', 'glc_D_e_1_2_3', 'glc_D_c_1_2_3'): 1.0, ('LEUTAi', 'glu_L_c_2', 'akg_c_2'): 1.0, ('GLUDy_f', 'akg_c_1', 'glu_L_c_1'): -1.0, ('SUCOAS_b', 'succoa_c_2_3_4', 'succ_c_1_2_3'): 0.5, ('TA2_b', 's7p_c_1_3', 'TAC3_c_1_3'): -1.0, ('TK2_b', 'e4p_c_2', 'f6p_c_4'): 1.0, ('PTRCTA', 'glu_L_c_2', 'akg_c_2'): -1.0, ('OCBT_b', 'orn_c_3_4', 'citr_L_c_3_4'): -1.0, ('PGI_f', 'g6p_c_4', 'f6p_c_4'): 1.0, ('ADSS', 'asp_L_c_1_2_3', 'dcamp_c_1_2_3'): 1.0, ('ACLS', 'co2_c_1', 'pyr_c_1'): -1.0, ('ASPTA_f', 'asp_L_c_2_3', 'oaa_c_2_3'): 1.0, ('ADSL1r', 'dcamp_c_2_3', 'fum_c_2_3'): 1.0, ('ACGS', 'glu_L_c_2_5', 'acglu_c_2_5'): 1.0, ('GLUDy_f', 'glu_L_c_2', 'akg_c_2'): 1.0, ('RPE_f', 'xu5p_D_c_1_2', 'ru5p_D_c_1_2'): -1.0, ('EDD', '2ddg6p_c_6', '6pgc_c_6'): -1.0, ('PTRCTA', 'akg_c_2', 'glu_L_c_2'): 1.0, ('ICL', 'icit_c_4_5_6', 'succ_c_1_3_4'): 0.5, ('GLCpts', 'glc_D_e_2_3_4_5_6', 'g6p_c_2_3_4_5_6'): 1.0, ('TK3_b', 'r5p_c_1', 's7p_c_3'): 1.0, ('PTRCTA', 'ptrc_c_1_2_4', '4abutn_c_1_3_4'): 0.5, ('ABTA', 'akg_c_5', 'glu_L_c_5'): 1.0, ('ASPTA_f', 'asp_L_c_3_4', 'oaa_c_3_4'): 1.0, ('ABTA', 'akg_c_2_3_4_5', 'glu_L_c_2_3_4_5'): 1.0, ('ARGSS', 'citr_L_c_2_3_4_5', 'argsuc_c_2_3_4_5'): 1.0, ('PRASCS_f', 'asp_L_c_1_3_4', '25aics_c_10_11_13'): 1.0, ('ACODA', 'orn_c_2_4_5', 'acorn_c_2_4_5'): -1.0, ('PHETA1_b', 'glu_L_c_2_3', 'akg_c_2_3'): 1.0, ('EDD', '6pgc_c_4_6', '2ddg6p_c_4_6'): 1.0, ('ASAD_b', '4pasp_c_1_2_3_4', 'aspsa_c_1_2_3_4'): 1.0, ('PGL', '6pgl_c_5_6', '6pgc_c_5_6'): 1.0, ('GLCt2', 'glc_D_c_6', 'glc_D_e_6'): -1.0, ('TK3_f', 'r5p_c_3_4', 's7p_c_5_6'): -1.0, ('TK2_f', 'e4p_c_1', 'f6p_c_3'): -1.0, ('PTRCTA', '4abutn_c_1_2', 'ptrc_c_1_2'): -0.5, ('PFK', 'fdp_c_4_6', 'f6p_c_4_6'): -1.0, ('ACGK', 'acg5p_c_3_4', 'acglu_c_3_4'): -1.0, ('TK3_f', 's7p_c_6_7', 'r5p_c_4_5'): 1.0, ('PGI_f', 'f6p_c_3', 'g6p_c_3'): -1.0, ('GND', '6pgc_c_3', 'ru5p_D_c_2'): 1.0, ('TYRTA_f', 'akg_c_2_4', 'glu_L_c_2_4'): 1.0, ('MALS', 'mal_L_c_4', 'accoa_c_2'): -1.0, ('SUCOAS_b', 'succ_c_2', 'succoa_c_2'): -0.5, ('PDH', 'accoa_c_1_2', 'pyr_c_2_3'): -1.0, ('TK2_f', 'f6p_c_3', 'e4p_c_1'): 1.0, ('TYRTA_b', 'akg_c_2_3_5', 'glu_L_c_2_3_5'): -1.0, ('AGMT', 'agm_c_4', 'ptrc_c_4'): 0.5, ('L_LACD2_b', 'lac_L_c_2_3', 'pyr_c_2_3'): -1.0, ('AGPR_f', 'acg5p_c_2_4_5', 'acg5sa_c_2_4_5'): -1.0, ('MDH_b', 'oaa_c_3', 'mal_L_c_3'): 1.0, ('PGI_b', 'g6p_c_1_2', 'f6p_c_1_2'): -1.0, ('PGI_b', 'f6p_c_4', 'g6p_c_4'): 1.0, ('ACODA', 'orn_c_3_5', 'acorn_c_3_5'): -1.0, ('VALTA_f', 'glu_L_c_4', 'akg_c_4'): -1.0, ('TA2_b', 'TAC3_c_1_2_3', 's7p_c_1_2_3'): 1.0, ('ASAD_b', '4pasp_c_3_4', 'aspsa_c_3_4'): 1.0, ('ADSL2r', 'fum_c_1_3_4', '25aics_c_10_11_13'): -0.5, ('HSDy_f', 'hom_L_c_4', 'aspsa_c_4'): 1.0, ('FBA_b', 'fdp_c_5_6', 'g3p_c_2_3'): -1.0, ('ILETA_b', 'akg_c_2_3_4_5', 'glu_L_c_2_3_4_5'): -1.0, ('PSERT', 'akg_c_3_5', 'glu_L_c_3_5'): -1.0, ('ARGSL_b', 'fum_c_1', 'argsuc_c_10'): 0.5, ('GLUDy_f', 'akg_c_2_3_4', 'glu_L_c_2_3_4'): -1.0, ('L_LACt2r_b', 'lac_L_c_1_2_3', 'lac_L_e_1_2_3'): 1.0, ('ILETA_f', 'glu_L_c_1', 'akg_c_1'): -1.0, ('SUCOAS_b', 'succ_c_3', 'succoa_c_2'): -0.5, ('TK1_f', 'g3p_c_1_2_3', 'xu5p_D_c_3_4_5'): -1.0, ('ILETA_b', 'akg_c_2_3', 'glu_L_c_2_3'): -1.0, ('TYRTA_f', 'akg_c_3_4_5', 'glu_L_c_3_4_5'): 1.0, ('ILETA_b', 'akg_c_3_4', 'glu_L_c_3_4'): -1.0, ('PFK', 'f6p_c_4_5', 'fdp_c_4_5'): 1.0, ('TK3_b', 's7p_c_3_4', 'r5p_c_1_2'): -1.0, ('AGMT', 'ptrc_c_2_3_4', 'agm_c_1_2_3'): -0.5, ('G6PDH2r', '6pgl_c_3_4_5_6', 'g6p_c_3_4_5_6'): -1.0, ('ADSL2r', '25aics_c_11_13', 'fum_c_1_4'): 0.5, ('EDD', '6pgc_c_3', '2ddg6p_c_3'): 1.0, ('CS', 'accoa_c_1oaa_c_1', 'cit_c_5_6'): 1.0, ('TK2_b', 'e4p_c_2_3_4', 'f6p_c_4_5_6'): 1.0, ('G6PDH2r', 'g6p_c_3', '6pgl_c_3'): 1.0, ('MALS', 'mal_L_c_2_3', 'accoa_c_1glx_c_2'): -1.0, ('GMPS2', 'gln_L_c_2_3_4', 'glu_L_c_2_3_4'): 1.0, ('RPI_f', 'r5p_c_3_4_5', 'ru5p_D_c_3_4_5'): 1.0, ('TYRTA_f', 'akg_c_4_5', 'glu_L_c_4_5'): 1.0, ('ASPTA_f', 'glu_L_c_3', 'akg_c_3'): -1.0, ('SDPTA_f', 'glu_L_c_1', 'akg_c_1'): -1.0, ('HSDy_b', 'hom_L_c_2_3', 'aspsa_c_2_3'): -1.0, ('PSERT', 'glu_L_c_4', 'akg_c_4'): 1.0, ('TK2_f', 'e4p_c_4', 'f6p_c_6'): -1.0, ('ABUTD', '4abutn_c_2_4', '4abut_c_2_4'): 1.0, ('RPE_b', 'xu5p_D_c_3_4', 'ru5p_D_c_3_4'): 1.0, ('ARGSL_b', 'argsuc_c_10', 'fum_c_1'): -0.5, ('SDPTA_f', 'glu_L_c_4', 'akg_c_4'): -1.0, ('PPC', 'pep_c_1_2', 'oaa_c_1_2'): 1.0, ('PRPPS_b', 'prpp_c_3', 'r5p_c_3'): 1.0, ('RPI_f', 'ru5p_D_c_4_5', 'r5p_c_4_5'): -1.0, ('LEUTAi', 'akg_c_4_5', 'glu_L_c_4_5'): -1.0, ('PRPPS_b', 'prpp_c_4_5', 'r5p_c_4_5'): 1.0, ('L_LACt2r_f', 'lac_L_e_2', 'lac_L_c_2'): 1.0, ('GMPS2', 'glu_L_c_2_4', 'gln_L_c_2_4'): -1.0, ('TA2_b', 'TAC3_c_3e4p_c_1', 's7p_c_3_4'): 1.0, ('TPI_f', 'g3p_c_1_2_3', 'dhap_c_1_2_3'): -1.0, ('OCBT_b', 'orn_c_1', 'citr_L_c_1'): -1.0, ('MDH_b', 'mal_L_c_3_4', 'oaa_c_3_4'): -1.0, ('TA1_b', 'f6p_c_1_2_3_4_5_6', 'TAC3_c_1_2_3g3p_c_1_2_3'): -1.0, ('ICDHyr', 'icit_c_2_3_4', 'akg_c_2_3_4'): 1.0, ('HSK', 'phom_c_4', 'hom_L_c_4'): -1.0, ('ALATA_L_f', 'akg_c_1', 'glu_L_c_1'): 1.0, ('MDH_b', 'mal_L_c_2', 'oaa_c_2'): -1.0, ('SSALx', 'succ_c_4', 'sucsal_c_1'): -0.5, ('FUM', 'mal_L_c_2_4', 'fum_c_1_3'): -0.5, ('MDH_f', 'oaa_c_2_4', 'mal_L_c_2_4'): -1.0, ('ABUTD', '4abutn_c_2_3', '4abut_c_2_3'): 1.0, ('SSALx', 'succ_c_3', 'sucsal_c_3'): -0.5, ('TK3_f', 'TKC2_c_1', 's7p_c_1'): -1.0, ('ARGDC', 'co2_c_1', 'arg_L_c_1'): -1.0, ('TK3_f', 's7p_c_5_6_7', 'r5p_c_3_4_5'): 1.0, ('FUM', 'mal_L_c_1', 'fum_c_1'): -0.5, ('SDPTA_f', 'glu_L_c_2_4_5', 'akg_c_2_4_5'): -1.0, ('AGPR_f', 'acg5sa_c_2_3', 'acg5p_c_2_3'): 1.0, ('ICDHyr', 'akg_c_2_3_4_5', 'icit_c_2_3_4_5'): -1.0, ('TA1_b', 'TAC3_c_1_2', 'f6p_c_1_2'): 1.0, ('PFK', 'fdp_c_1_3', 'f6p_c_1_3'): -1.0, ('FBA_b', 'fdp_c_6', 'g3p_c_3'): -1.0, ('ACOTA_b', 'glu_L_c_5', 'akg_c_5'): 1.0, ('PGL', '6pgl_c_2_3_4_5_6', '6pgc_c_2_3_4_5_6'): 1.0, ('SSALy', 'succ_c_2_4', 'sucsal_c_1_3'): -0.5, ('PGI_b', 'f6p_c_5_6', 'g6p_c_5_6'): 1.0, ('ARGSL_b', 'fum_c_1_3', 'argsuc_c_8_10'): 0.5, ('SDPTA_f', 'akg_c_2_3', 'glu_L_c_2_3'): 1.0, ('TK3_f', 's7p_c_1_2', 'TKC2_c_1_2'): 1.0, ('SUCOAS_b', 'succ_c_1_2_4', 'succoa_c_1_3_4'): -0.5, ('PSERT', 'pser_L_c_1', '3php_c_1'): -1.0, ('ABUTD', '4abutn_c_3', '4abut_c_3'): 1.0, ('ACOTA_f', 'acg5sa_c_2_3', 'acorn_c_2_3'): -1.0, ('ME2', 'pyr_c_1_2_3', 'mal_L_c_1_2_3'): -1.0, ('SUCOAS_b', 'succoa_c_1_2_4', 'succ_c_1_2_4'): 0.5, ('MDH_f', 'mal_L_c_4', 'oaa_c_4'): 1.0, ('ALATA_L_f', 'glu_L_c_2_3_4_5', 'akg_c_2_3_4_5'): -1.0, ('PGK_b', '3pg_c_1_2_3', '13dpg_c_1_2_3'): -1.0, ('SSALy', 'sucsal_c_1_3', 'succ_c_2_4'): 0.5, ('ASPTA_b', 'glu_L_c_2_3_4_5', 'akg_c_2_3_4_5'): 1.0, ('MALS', 'glx_c_2', 'mal_L_c_2'): 1.0, ('SSALx', 'sucsal_c_1_2', 'succ_c_1_2'): 0.5, ('ASPTA_f', 'oaa_c_2_4', 'asp_L_c_2_4'): -1.0, ('ABTA', 'glu_L_c_2_3_5', 'akg_c_2_3_5'): -1.0, ('PGM_b', '3pg_c_1_3', '2pg_c_1_3'): 1.0, ('GLCt2', 'glc_D_e_2_3_4_5_6', 'glc_D_c_2_3_4_5_6'): 1.0, ('ACOTA_f', 'glu_L_c_2_4_5', 'akg_c_2_4_5'): -1.0, ('PRFGS', 'gln_L_c_2_4', 'glu_L_c_2_4'): 1.0, ('ARGSL_f', 'arg_L_c_2_4_5', 'argsuc_c_2_4_5'): -1.0, ('GMPS2', 'glu_L_c_2_3_4', 'gln_L_c_2_3_4'): -1.0, ('GLNS', 'gln_L_c_2_4_5', 'glu_L_c_2_4_5'): -1.0, ('ME2', 'mal_L_c_1', 'pyr_c_1'): 1.0, ('GND', '6pgc_c_5_6', 'ru5p_D_c_4_5'): 1.0, ('ABTA', '4abut_c_1_3_4', 'sucsal_c_1_3_4'): 1.0, ('ACGS', 'acglu_c_2', 'glu_L_c_2'): -1.0, ('ACGK', 'acglu_c_4_5', 'acg5p_c_4_5'): 1.0, ('PTRCTA', 'ptrc_c_1_2', '4abutn_c_1_2'): 0.5, ('PTRCTA', 'ptrc_c_2', '4abutn_c_3'): 0.5, ('PGM_b', '3pg_c_1', '2pg_c_1'): 1.0, ('ABTA', '4abut_c_1_3', 'sucsal_c_1_3'): 1.0, ('SSALx', 'sucsal_c_3_4', 'succ_c_3_4'): 0.5, ('PHETA1_b', 'akg_c_3_4', 'glu_L_c_3_4'): -1.0, ('PHETA1_f', 'akg_c_3', 'glu_L_c_3'): 1.0, ('TK2_b', 'f6p_c_2_3_4_5_6', 'TKC2_c_2e4p_c_1_2_3_4'): -1.0, ('RPI_b', 'ru5p_D_c_2_3_4_5', 'r5p_c_2_3_4_5'): 1.0, ('AKGDH', 'succoa_c_1_4', 'akg_c_2_5'): -1.0, ('PHETA1_f', 'glu_L_c_2_4', 'akg_c_2_4'): -1.0, ('ABTA', 'glu_L_c_5', 'akg_c_5'): -1.0, ('PRPPS_b', 'r5p_c_3_4_5', 'prpp_c_3_4_5'): -1.0, ('SDPTA_f', 'akg_c_2_3_4_5', 'glu_L_c_2_3_4_5'): 1.0, ('RPE_f', 'xu5p_D_c_3_5', 'ru5p_D_c_3_5'): -1.0, ('ILETA_f', 'akg_c_2_5', 'glu_L_c_2_5'): 1.0, ('ABTA', 'sucsal_c_2_4', '4abut_c_2_4'): -1.0, ('VALTA_f', 'glu_L_c_2_3_4_5', 'akg_c_2_3_4_5'): -1.0, ('F6PA', 'dha_c_1_2_3', 'f6p_c_1_2_3'): -1.0, ('PPCK', 'co2_c_1', 'oaa_c_4'): -1.0, ('ASPTA_f', 'glu_L_c_1', 'akg_c_1'): -1.0, ('SDPTA_b', 'glu_L_c_3_5', 'akg_c_3_5'): 1.0, ('AGPR_f', 'acg5p_c_4', 'acg5sa_c_4'): -1.0, ('PTRCTA', '4abutn_c_1_3_4', 'ptrc_c_1_2_4'): -0.5, ('VALTA_b', 'glu_L_c_2_3_4_5', 'akg_c_2_3_4_5'): 1.0, ('ASPTA_f', 'asp_L_c_1_3_4', 'oaa_c_1_3_4'): 1.0, ('ALATA_L_f', 'glu_L_c_2_3_4', 'akg_c_2_3_4'): -1.0, ('SDPTA_b', 'akg_c_3_5', 'glu_L_c_3_5'): -1.0, ('TA2_b', 'e4p_c_3_4', 's7p_c_6_7'): 1.0, ('PGI_b', 'f6p_c_5', 'g6p_c_5'): 1.0, ('EDA', '2ddg6p_c_5', 'g3p_c_2'): 1.0, ('ARGSL_b', 'argsuc_c_5', 'arg_L_c_5'): -1.0, ('ACONT', 'cit_c_6', 'icit_c_6'): 1.0, ('GLCpts', 'pyr_c_1_2_3', 'pep_c_1_2_3'): -1.0, ('PTRCTA', '4abutn_c_1_3', 'ptrc_c_2_4'): -0.5, ('ACOTA_b', 'acg5sa_c_2_4', 'acorn_c_2_4'): 1.0, ('ARGSL_b', 'fum_c_1_2_3_4', 'argsuc_c_7_8_9_10'): 1.0, ('TK2_f', 'f6p_c_5', 'e4p_c_3'): 1.0, ('PGM_f', '3pg_c_2_3', '2pg_c_2_3'): -1.0, ('GLUPRT', 'glu_L_c_4_5', 'gln_L_c_4_5'): -1.0, ('PPCK', 'pep_c_3', 'oaa_c_3'): -1.0, ('TA2_f', 'TAC3_c_1_2_3', 's7p_c_1_2_3'): -1.0, ('ABUTD', '4abut_c_1_2', '4abutn_c_1_2'): -1.0, ('TA1_b', 'f6p_c_4_5_6', 'g3p_c_1_2_3'): -1.0, ('ARGSL_f', 'argsuc_c_7_8_9_10', 'fum_c_1_2_3_4'): 1.0, ('TYRTA_f', 'glu_L_c_2_4_5', 'akg_c_2_4_5'): -1.0, ('ACOTA_f', 'acorn_c_2', 'acg5sa_c_2'): 1.0, ('ACOTA_b', 'akg_c_3_4', 'glu_L_c_3_4'): -1.0, ('ME1', 'pyr_c_2', 'mal_L_c_2'): -1.0, ('ADSL2r', '25aics_c_10_12_13', 'fum_c_1_2_3'): 0.5, ('TPI_f', 'dhap_c_1_3', 'g3p_c_1_3'): 1.0, ('PTRCTA', 'akg_c_3', 'glu_L_c_3'): 1.0, ('GMPS2', 'gln_L_c_3_5', 'glu_L_c_3_5'): 1.0, ('TA2_f', 's7p_c_3', 'TAC3_c_3'): 1.0, ('SUCD1i', 'fum_c_2_4', 'succ_c_1_3'): -0.5, ('PFK', 'f6p_c_1_3', 'fdp_c_1_3'): 1.0, ('PRFGS', 'glu_L_c_5', 'gln_L_c_5'): -1.0, ('SUCOAS_f', 'succoa_c_2', 'succ_c_3'): -0.5, ('TK3_f', 'r5p_c_1_2_3_4_5', 's7p_c_3_4_5_6_7'): -1.0, ('PRPPS_f', 'r5p_c_3_5', 'prpp_c_3_5'): 1.0, ('ASPK_f', '4pasp_c_1_2', 'asp_L_c_1_2'): -1.0, ('CS', 'accoa_c_2oaa_c_1', 'cit_c_4_6'): 1.0, ('AKGDH', 'akg_c_3_5', 'succoa_c_2_4'): 1.0, ('PDH', 'co2_c_1', 'pyr_c_1'): -1.0, ('TK3_b', 'r5p_c_2_3_4_5', 's7p_c_4_5_6_7'): 1.0, ('ADSL2r', 'fum_c_4', '25aics_c_13'): -0.5, ('ICDHyr', 'akg_c_5', 'icit_c_5'): -1.0, ('CS', 'accoa_c_2oaa_c_2', 'cit_c_3_4'): 1.0, ('PTRCTA', '4abutn_c_1_2_3', 'ptrc_c_1_2_3'): -0.5, ('ALATA_L_b', 'glu_L_c_2_4', 'akg_c_2_4'): 1.0, ('PTRCTA', 'ptrc_c_3_4', '4abutn_c_1_2'): 0.5, ('ABTA', '4abut_c_4', 'sucsal_c_4'): 1.0, ('PTRCTA', '4abutn_c_1_3', 'ptrc_c_1_3'): -0.5, ('L_LACt2r_b', 'lac_L_e_2', 'lac_L_c_2'): -1.0, ('OCBT_f', 'orn_c_3', 'citr_L_c_3'): 1.0, ('TA2_b', 's7p_c_2', 'TAC3_c_2'): -1.0, ('ADSL1r', 'fum_c_2', 'dcamp_c_2'): -0.5, ('PRASCS_b', 'asp_L_c_1', '25aics_c_13'): -1.0, ('AGPR_b', 'acg5p_c_1', 'acg5sa_c_1'): 1.0, ('PHETA1_b', 'glu_L_c_2_3_5', 'akg_c_2_3_5'): 1.0, ('ASAD_b', 'aspsa_c_2_4', '4pasp_c_2_4'): -1.0, ('TA2_b', 'e4p_c_2_3_4', 's7p_c_5_6_7'): 1.0, ('EDA', '2ddg6p_c_4', 'g3p_c_1'): 1.0, ('SUCD1i', 'succ_c_1_2_4', 'fum_c_1_3_4'): 0.5, ('TK2_f', 'e4p_c_2_3', 'f6p_c_4_5'): -1.0, ('CS', 'accoa_c_1oaa_c_2_3', 'cit_c_2_3_5'): 1.0, ('ARGSL_b', 'argsuc_c_10', 'fum_c_4'): -0.5, ('GND', '6pgc_c_4_6', 'ru5p_D_c_3_5'): 1.0, ('SUCOAS_f', 'succoa_c_1_2_3', 'succ_c_1_2_3'): -0.5, ('PHETA1_b', 'glu_L_c_2_3_4_5', 'akg_c_2_3_4_5'): 1.0, ('RPE_b', 'ru5p_D_c_1_2_3_4_5', 'xu5p_D_c_1_2_3_4_5'): -1.0, ('ICDHyr', 'icit_c_3', 'akg_c_3'): 1.0, ('PHETA1_f', 'glu_L_c_4_5', 'akg_c_4_5'): -1.0, ('PGI_f', 'f6p_c_2_3_4_5_6', 'g6p_c_2_3_4_5_6'): -1.0, ('ACOTA_f', 'acorn_c_2_4', 'acg5sa_c_2_4'): 1.0, ('L_LACt2r_b', 'lac_L_c_3', 'lac_L_e_3'): 1.0, ('ARGDC', 'arg_L_c_1', 'co2_c_1'): 1.0, ('HSDy_f', 'hom_L_c_1_2_3_4', 'aspsa_c_1_2_3_4'): 1.0, ('ACONT', 'icit_c_4', 'cit_c_4'): -1.0, ('PRASCS_f', '25aics_c_10_12_13', 'asp_L_c_1_2_3'): -1.0, ('GLUPRT', 'glu_L_c_2_3_5', 'gln_L_c_2_3_5'): -1.0, ('SDPTA_f', 'glu_L_c_5', 'akg_c_5'): -1.0, ('PRPPS_f', 'prpp_c_5', 'r5p_c_5'): -1.0, ('GAPD', '13dpg_c_1', 'g3p_c_1'): -1.0, ('SUCD1i', 'fum_c_3_4', 'succ_c_1_2'): -0.5, ('SUCOAS_b', 'succ_c_3_4', 'succoa_c_1_2'): -0.5, ('PPC', 'oaa_c_3', 'pep_c_3'): -1.0, ('ABTA', 'glu_L_c_4_5', 'akg_c_4_5'): -1.0, ('ADSL2r', '25aics_c_10_13', 'fum_c_1_3'): 0.5, ('MDH_f', 'oaa_c_2_3_4', 'mal_L_c_2_3_4'): -1.0, ('TK3_f', 'r5p_c_1', 's7p_c_3'): -1.0, ('L_LACD3_f', 'lac_L_c_2', 'pyr_c_2'): 1.0, ('GLUPRT', 'glu_L_c_4', 'gln_L_c_4'): -1.0, ('ASPTA_f', 'oaa_c_2_3_4', 'asp_L_c_2_3_4'): -1.0, ('PHETA1_b', 'glu_L_c_3', 'akg_c_3'): 1.0, ('GLCt2', 'glc_D_c_4_6', 'glc_D_e_4_6'): -1.0, ('ARGSL_f', 'fum_c_1_2_3', 'argsuc_c_8_9_10'): -0.5, ('MALS', 'mal_L_c_3', 'accoa_c_1'): -1.0, ('HSDy_b', 'hom_L_c_3_4', 'aspsa_c_3_4'): -1.0, ('ENO_b', '2pg_c_1_3', 'pep_c_1_3'): -1.0, ('PTRCTA', 'glu_L_c_4', 'akg_c_4'): -1.0, ('ACONT', 'icit_c_3', 'cit_c_3'): -1.0, ('ARGSL_b', 'arg_L_c_2_4_5', 'argsuc_c_2_4_5'): 1.0, ('ASPTA_b', 'oaa_c_2_3', 'asp_L_c_2_3'): 1.0, ('ILETA_f', 'glu_L_c_2_3_4_5', 'akg_c_2_3_4_5'): -1.0, ('HSDy_f', 'hom_L_c_2', 'aspsa_c_2'): 1.0, ('TK3_b', 's7p_c_1_2', 'TKC2_c_1_2'): -1.0, ('TA2_b', 'e4p_c_1_2_3_4', 's7p_c_4_5_6_7'): 1.0, ('ABTA', '4abut_c_3_4', 'sucsal_c_3_4'): 1.0, ('ILETA_b', 'akg_c_2_4_5', 'glu_L_c_2_4_5'): -1.0, ('TK2_b', 'TKC2_c_1', 'f6p_c_1'): 1.0, ('TA2_b', 's7p_c_1_2_3_4_5_6_7', 'TAC3_c_1_2_3e4p_c_1_2_3_4'): -1.0, ('L_LACt2r_b', 'lac_L_e_3', 'lac_L_c_3'): -1.0, ('GMPS2', 'gln_L_c_3', 'glu_L_c_3'): 1.0, ('AKGDH', 'succoa_c_1_3_4', 'akg_c_2_4_5'): -1.0, ('TK1_b', 'xu5p_D_c_3_4', 'g3p_c_1_2'): -1.0, ('SSALy', 'sucsal_c_1_3', 'succ_c_1_3'): 0.5, ('GLUPRT', 'glu_L_c_5', 'gln_L_c_5'): -1.0, ('SUCD1i', 'fum_c_1_2_4', 'succ_c_1_2_4'): -0.5, ('ILETA_b', 'akg_c_2_3_4', 'glu_L_c_2_3_4'): -1.0, ('OCBT_f', 'orn_c_2', 'citr_L_c_2'): 1.0, ('L_LACt2r_b', 'lac_L_c_2', 'lac_L_e_2'): 1.0, ('L_LACD3_f', 'lac_L_c_2_3', 'pyr_c_2_3'): 1.0, ('FBA_f', 'fdp_c_1_2_3', 'dhap_c_1_2_3'): 1.0, ('ACOTA_b', 'glu_L_c_1', 'akg_c_1'): 1.0, ('SSALx', 'succ_c_2_4', 'sucsal_c_2_4'): -0.5, ('TA1_b', 'TAC3_c_1_3', 'f6p_c_1_3'): 1.0, ('ADSL2r', 'fum_c_1', '25aics_c_12'): -0.5, ('EDD', '2ddg6p_c_4_6', '6pgc_c_4_6'): -1.0, ('ARGSL_b', 'fum_c_1_4', 'argsuc_c_7_10'): 1.0, ('ASPTA_f', 'glu_L_c_4_5', 'akg_c_4_5'): -1.0, ('ACOTA_f', 'acorn_c_5', 'acg5sa_c_5'): 1.0, ('SUCOAS_b', 'succoa_c_3', 'succ_c_3'): 0.5, ('ASAD_b', '4pasp_c_1_2_4', 'aspsa_c_1_2_4'): 1.0, ('PGI_f', 'f6p_c_5', 'g6p_c_5'): -1.0, ('PTRCTA', '4abutn_c_2_3', 'ptrc_c_2_3'): -1.0, ('ACOTA_f', 'glu_L_c_2_3_4_5', 'akg_c_2_3_4_5'): -1.0, ('PGK_b', '3pg_c_2_3', '13dpg_c_2_3'): -1.0, ('ARGDC', 'arg_L_c_3_4', 'agm_c_2_3'): 1.0, ('GLUDy_b', 'akg_c_2_3', 'glu_L_c_2_3'): 1.0, ('L_LACD2_f', 'pyr_c_2', 'lac_L_c_2'): -1.0, ('ICL', 'succ_c_1_3_4', 'icit_c_3_5_6'): -0.5, ('ICL', 'succ_c_1_2_4', 'icit_c_4_5_6'): -0.5, ('PRASCS_f', '25aics_c_10', 'asp_L_c_3'): -1.0, ('ASPTA_f', 'glu_L_c_3_4', 'akg_c_3_4'): -1.0, ('TK2_f', 'f6p_c_3_4_5_6', 'e4p_c_1_2_3_4'): 1.0, ('ADSL1r', 'dcamp_c_3_4', 'fum_c_1_2'): 0.5, ('VALTA_f', 'glu_L_c_2_3_4', 'akg_c_2_3_4'): -1.0, ('ASAD_b', 'aspsa_c_1_2_4', '4pasp_c_1_2_4'): -1.0, ('GLUDy_b', 'glu_L_c_3', 'akg_c_3'): -1.0, ('TK1_f', 'g3p_c_3', 'xu5p_D_c_5'): -1.0, ('FBA_f', 'dhap_c_1_3', 'fdp_c_1_3'): -1.0, ('ASPTA_b', 'asp_L_c_1_2_3', 'oaa_c_1_2_3'): -1.0, ('HEX1', 'g6p_c_1', 'glc_D_c_1'): -1.0, ('OCBT_f', 'citr_L_c_5', 'orn_c_5'): -1.0, ('TA1_f', 'f6p_c_4_5', 'g3p_c_1_2'): 1.0, ('PSERT', 'glu_L_c_4_5', 'akg_c_4_5'): 1.0, ('PPC', 'oaa_c_2_3_4', 'co2_c_1pep_c_2_3'): -1.0, ('SUCD1i', 'succ_c_1_2', 'fum_c_1_2'): 0.5, ('ADSS', 'asp_L_c_1_2', 'dcamp_c_1_2'): 1.0, ('PGI_f', 'g6p_c_3', 'f6p_c_3'): 1.0, ('TK3_b', 's7p_c_5_6_7', 'r5p_c_3_4_5'): -1.0, ('ASPK_b', 'asp_L_c_2', '4pasp_c_2'): -1.0, ('L_LACD3_b', 'pyr_c_2_3', 'lac_L_c_2_3'): 1.0, ('GLUDy_f', 'akg_c_3', 'glu_L_c_3'): -1.0, ('PRASCS_b', 'asp_L_c_1_2', '25aics_c_12_13'): -1.0, ('ASPK_b', '4pasp_c_1_2_4', 'asp_L_c_1_2_4'): 1.0, ('SSALy', 'sucsal_c_2', 'succ_c_2'): 0.5, ('SUCOAS_f', 'succoa_c_1_2', 'succ_c_3_4'): -0.5, ('ICDHyr', 'akg_c_2_3_4', 'icit_c_2_3_4'): -1.0, ('SSALy', 'succ_c_2_3_4', 'sucsal_c_1_2_3'): -0.5, ('HSDy_f', 'hom_L_c_1_2_3', 'aspsa_c_1_2_3'): 1.0, ('FBA_b', 'fdp_c_5', 'g3p_c_2'): -1.0, ('ENO_b', 'pep_c_1_2', '2pg_c_1_2'): 1.0, ('TYRTA_b', 'akg_c_3_4_5', 'glu_L_c_3_4_5'): -1.0, ('TA2_f', 's7p_c_1_2_3', 'TAC3_c_1_2_3'): 1.0, ('TA2_b', 'e4p_c_2', 's7p_c_5'): 1.0, ('AGPR_b', 'acg5p_c_4', 'acg5sa_c_4'): 1.0, ('ABTA', 'sucsal_c_1_2', '4abut_c_1_2'): -1.0, ('AGMT', 'agm_c_4', 'ptrc_c_1'): 0.5, ('F6PA', 'g3p_c_3', 'f6p_c_6'): -1.0, ('PTRCTA', 'ptrc_c_4', '4abutn_c_4'): 0.5, ('MDH_b', 'mal_L_c_1_2', 'oaa_c_1_2'): -1.0, ('SUCD1i', 'succ_c_1', 'fum_c_4'): 0.5, ('ALATA_L_b', 'ala_L_c_2_3', 'pyr_c_2_3'): -1.0, ('ASPK_f', '4pasp_c_2_3', 'asp_L_c_2_3'): -1.0, ('TK1_b', 'xu5p_D_c_3_5', 'g3p_c_1_3'): -1.0, ('LEUTAi', 'akg_c_3_4', 'glu_L_c_3_4'): -1.0, ('RPE_f', 'ru5p_D_c_3_4_5', 'xu5p_D_c_3_4_5'): 1.0, ('AGPR_b', 'acg5p_c_3_4', 'acg5sa_c_3_4'): 1.0, ('ABTA', 'akg_c_1', 'glu_L_c_1'): 1.0, ('TK3_b', 's7p_c_1', 'TKC2_c_1'): -1.0, ('ASPK_b', '4pasp_c_3', 'asp_L_c_3'): 1.0, ('ADSS', 'dcamp_c_1', 'asp_L_c_1'): -1.0, ('SDPTA_b', 'glu_L_c_3_4_5', 'akg_c_3_4_5'): 1.0, ('RPE_b', 'ru5p_D_c_5', 'xu5p_D_c_5'): -1.0, ('AKGDH', 'akg_c_4_5', 'succoa_c_3_4'): 1.0, ('THRAr_b', 'acald_c_1', 'thr_L_c_3'): 1.0, ('PFK', 'fdp_c_6', 'f6p_c_6'): -1.0, ('ASPK_b', 'asp_L_c_1_2', '4pasp_c_1_2'): -1.0, ('TK1_b', 'xu5p_D_c_1', 'TKC2_c_1'): -1.0, ('ARGSL_b', 'arg_L_c_3_4', 'argsuc_c_3_4'): 1.0, ('PPNDH', 'pphn_c_10', 'co2_c_1'): 1.0, ('ME1', 'pyr_c_1', 'mal_L_c_1'): -1.0, ('MDH_b', 'oaa_c_1_2_3', 'mal_L_c_1_2_3'): 1.0, ('OCBT_b', 'citr_L_c_3', 'orn_c_3'): 1.0, ('SSALy', 'succ_c_1_2', 'sucsal_c_3_4'): -0.5, ('ARGSS', 'citr_L_c_2_3_4', 'argsuc_c_2_3_4'): 1.0, ('ACOTA_f', 'akg_c_3', 'glu_L_c_3'): 1.0, ('ABTA', 'sucsal_c_1_2_4', '4abut_c_1_2_4'): -1.0, ('ACOTA_f', 'akg_c_2_3', 'glu_L_c_2_3'): 1.0, ('PRASCS_f', 'asp_L_c_1_2_3', '25aics_c_10_12_13'): 1.0, ('L_LACt2r_f', 'lac_L_e_1', 'lac_L_c_1'): 1.0, ('PGI_b', 'f6p_c_1_3', 'g6p_c_1_3'): 1.0, ('ADSL1r', 'fum_c_1_3', 'dcamp_c_2_4'): -0.5, ('PRASCS_b', '25aics_c_12', 'asp_L_c_2'): 1.0, ('PTRCTA', 'akg_c_2_4_5', 'glu_L_c_2_4_5'): 1.0, ('MDH_f', 'oaa_c_1_2_4', 'mal_L_c_1_2_4'): -1.0, ('AKGDH', 'akg_c_3_4', 'succoa_c_2_3'): 1.0, ('PGL', '6pgc_c_4', '6pgl_c_4'): -1.0, ('L_LACt2r_b', 'lac_L_e_2_3', 'lac_L_c_2_3'): -1.0, ('RPI_b', 'ru5p_D_c_1', 'r5p_c_1'): 1.0, ('LEUTAi', 'akg_c_2_4_5', 'glu_L_c_2_4_5'): -1.0, ('ILETA_f', 'akg_c_2_4_5', 'glu_L_c_2_4_5'): 1.0, ('PSERT', 'glu_L_c_2_3_4_5', 'akg_c_2_3_4_5'): 1.0, ('PRFGS', 'glu_L_c_3_4_5', 'gln_L_c_3_4_5'): -1.0, ('G6PDH2r', '6pgl_c_2_3_4_5_6', 'g6p_c_2_3_4_5_6'): -1.0, ('ACOTA_f', 'acg5sa_c_2_3_4_5', 'acorn_c_2_3_4_5'): -1.0, ('SUCD1i', 'fum_c_2', 'succ_c_3'): -0.5, ('AGMT', 'ptrc_c_1_3', 'agm_c_1_3'): -0.5, ('POX', 'pyr_c_1', 'co2_c_1'): 1.0, ('ARGSS', 'argsuc_c_9_10', 'asp_L_c_3_4'): -1.0, ('ILETA_b', 'glu_L_c_2_3_5', 'akg_c_2_3_5'): 1.0, ('PGM_f', '2pg_c_1_2_3', '3pg_c_1_2_3'): 1.0, ('CS', 'accoa_c_1_2', 'cit_c_4_5'): 1.0, ('TYRTA_b', 'glu_L_c_3_4', 'akg_c_3_4'): 1.0, ('PHETA1_f', 'akg_c_1', 'glu_L_c_1'): 1.0, ('ABTA', '4abut_c_1_2_4', 'sucsal_c_1_2_4'): 1.0, ('ASAD_b', '4pasp_c_2_3', 'aspsa_c_2_3'): 1.0, ('AKGDH', 'succoa_c_3', 'akg_c_4'): -1.0, ('VALTA_b', 'glu_L_c_3_5', 'akg_c_3_5'): 1.0, ('F6PA', 'dha_c_2_3', 'f6p_c_1_2'): -1.0, ('GLUDy_b', 'glu_L_c_5', 'akg_c_5'): -1.0, ('HSDy_f', 'aspsa_c_1_3_4', 'hom_L_c_1_3_4'): -1.0, ('EDA', 'pyr_c_1', '2ddg6p_c_1'): -1.0, ('ALATA_L_f', 'akg_c_2_5', 'glu_L_c_2_5'): 1.0, ('ARGSS', 'asp_L_c_1', 'argsuc_c_7'): 1.0, ('ILETA_f', 'glu_L_c_2_4', 'akg_c_2_4'): -1.0, ('TK3_f', 's7p_c_3_4_5_6_7', 'r5p_c_1_2_3_4_5'): 1.0, ('AGPR_b', 'acg5p_c_2_3_4', 'acg5sa_c_2_3_4'): 1.0, ('ALATA_L_b', 'ala_L_c_2', 'pyr_c_2'): -1.0, ('L_LACD3_b', 'pyr_c_1_2_3', 'lac_L_c_1_2_3'): 1.0, ('ACHBS', 'pyr_c_1', 'co2_c_1'): 1.0, ('GLUDy_b', 'akg_c_2_3_5', 'glu_L_c_2_3_5'): 1.0, ('ABUTD', '4abutn_c_3_4', '4abut_c_3_4'): 1.0, ('ABTA', 'sucsal_c_2_3_4', '4abut_c_2_3_4'): -1.0, ('MALS', 'mal_L_c_1_2_4', 'accoa_c_2glx_c_1_2'): -1.0, ('TPI_f', 'g3p_c_1', 'dhap_c_1'): -1.0, ('ACOTA_b', 'akg_c_5', 'glu_L_c_5'): -1.0, ('PGI_f', 'f6p_c_4_5_6', 'g6p_c_4_5_6'): -1.0, ('RPI_b', 'r5p_c_1', 'ru5p_D_c_1'): -1.0, ('SSALy', 'succ_c_1_3_4', 'sucsal_c_1_2_4'): -0.5, ('HSDy_f', 'aspsa_c_2_3', 'hom_L_c_2_3'): -1.0, ('PGI_f', 'g6p_c_2_3', 'f6p_c_2_3'): 1.0, ('PPC', 'oaa_c_2_4', 'co2_c_1pep_c_2'): -1.0, ('EDD', '2ddg6p_c_5_6', '6pgc_c_5_6'): -1.0, ('ARGSS', 'argsuc_c_8_9', 'asp_L_c_2_3'): -1.0, ('SSALx', 'succ_c_1_3_4', 'sucsal_c_1_3_4'): -0.5, ('SUCD1i', 'fum_c_2_4', 'succ_c_2_4'): -0.5, ('AGMT', 'agm_c_3', 'ptrc_c_3'): 0.5, ('ADSS', 'asp_L_c_2_3_4', 'dcamp_c_2_3_4'): 1.0, ('THRAr_f', 'acald_c_1', 'thr_L_c_3'): -1.0, ('PHETA1_f', 'akg_c_3_5', 'glu_L_c_3_5'): 1.0, ('AGPR_b', 'acg5p_c_3_4_5', 'acg5sa_c_3_4_5'): 1.0, ('SDPTA_f', 'glu_L_c_4_5', 'akg_c_4_5'): -1.0, ('ARGSS', 'argsuc_c_3_5', 'citr_L_c_3_5'): -1.0, ('PTRCTA', 'ptrc_c_1_3', '4abutn_c_2_4'): 0.5, ('LEUTAi', 'glu_L_c_2_4', 'akg_c_2_4'): 1.0, ('SUCOAS_f', 'succoa_c_2_4', 'succ_c_2_4'): -0.5, ('TA1_b', 'f6p_c_5_6', 'g3p_c_2_3'): -1.0, ('SSALx', 'succ_c_4', 'sucsal_c_4'): -0.5, ('RPI_b', 'r5p_c_4_5', 'ru5p_D_c_4_5'): -1.0, ('PGI_b', 'f6p_c_2_3_4_5_6', 'g6p_c_2_3_4_5_6'): 1.0, ('SDPTA_f', 'akg_c_1', 'glu_L_c_1'): 1.0, ('ME1', 'mal_L_c_2_3', 'pyr_c_2_3'): 1.0, ('SDPTA_f', 'akg_c_2_4', 'glu_L_c_2_4'): 1.0, ('TA2_f', 's7p_c_2_3', 'TAC3_c_2_3'): 1.0, ('ASAD_b', 'aspsa_c_1_2_3', '4pasp_c_1_2_3'): -1.0, ('GLCpts', 'pep_c_3', 'pyr_c_3'): 1.0, ('PHETA1_b', 'akg_c_2_4', 'glu_L_c_2_4'): -1.0, ('ICL', 'succ_c_4', 'icit_c_6'): -0.5, ('PGI_f', 'f6p_c_1_2_3_4_5_6', 'g6p_c_1_2_3_4_5_6'): -1.0, ('ACONT', 'icit_c_4_5_6', 'cit_c_4_5_6'): -1.0, ('GLCpts', 'glc_D_e_4', 'g6p_c_4'): 1.0, ('EDA', 'g3p_c_1_2_3', '2ddg6p_c_4_5_6'): -1.0, ('TA2_b', 'e4p_c_4', 's7p_c_7'): 1.0, ('CS', 'cit_c_3_5', 'accoa_c_1oaa_c_2'): -1.0, ('HSK', 'hom_L_c_3_4', 'phom_c_3_4'): 1.0, ('ADSL2r', 'fum_c_1_4', '25aics_c_12_13'): -0.5, ('MALS', 'glx_c_1_2', 'mal_L_c_1_2'): 1.0, ('PTRCTA', '4abutn_c_1_2', 'ptrc_c_3_4'): -0.5, ('TYRTA_f', 'glu_L_c_2', 'akg_c_2'): -1.0, ('PGI_b', 'f6p_c_3', 'g6p_c_3'): 1.0, ('CS', 'accoa_c_1oaa_c_3', 'cit_c_2_5'): 1.0, ('PTRCTA', '4abutn_c_2_3_4', 'ptrc_c_1_2_3'): -0.5, ('PRASCS_f', 'asp_L_c_1_2_3_4', '25aics_c_10_11_12_13'): 1.0, ('PPC', 'co2_c_1pep_c_1_2_3', 'oaa_c_1_2_3_4'): 1.0, ('EDD', '6pgc_c_2_3', '2ddg6p_c_2_3'): 1.0, ('HCO3E_f', 'hco3_c_1', 'co2_c_1'): -1.0, ('HSDy_f', 'hom_L_c_2_3', 'aspsa_c_2_3'): 1.0, ('ETOHt2r_b', 'etoh_e_1_2', 'etoh_c_1_2'): -1.0, ('ADSL1r', 'dcamp_c_4', 'fum_c_4'): 0.5, ('PRASCS_f', '25aics_c_11_12', 'asp_L_c_2_4'): -1.0, ('HEX1', 'glc_D_c_1_2_3', 'g6p_c_1_2_3'): 1.0, ('PRPPS_f', 'r5p_c_1', 'prpp_c_1'): 1.0, ('FBA_b', 'fdp_c_1_3', 'dhap_c_1_3'): -1.0, ('TA2_b', 's7p_c_2_3', 'TAC3_c_2_3'): -1.0, ('GLUDy_b', 'akg_c_2_4', 'glu_L_c_2_4'): 1.0, ('PHETA1_f', 'akg_c_2_3_4', 'glu_L_c_2_3_4'): 1.0, ('TA2_b', 's7p_c_1_2', 'TAC3_c_1_2'): -1.0, ('PGK_f', '3pg_c_2_3', '13dpg_c_2_3'): 1.0, ('TA2_b', 's7p_c_5_6', 'e4p_c_2_3'): -1.0, ('TYRTA_f', 'glu_L_c_2_4', 'akg_c_2_4'): -1.0, ('RPI_b', 'r5p_c_1_2', 'ru5p_D_c_1_2'): -1.0, ('ACODA', 'acorn_c_2_3', 'orn_c_2_3'): 1.0, ('ILETA_b', 'akg_c_2_3_5', 'glu_L_c_2_3_5'): -1.0, ('GND', 'ru5p_D_c_1_2_3_4_5', '6pgc_c_2_3_4_5_6'): -1.0, ('TK2_b', 'f6p_c_5', 'e4p_c_3'): -1.0, ('SUCD1i', 'succ_c_2_4', 'fum_c_1_3'): 0.5, ('ACOTA_b', 'akg_c_3_5', 'glu_L_c_3_5'): -1.0, ('MALS', 'accoa_c_2glx_c_2', 'mal_L_c_2_4'): 1.0, ('LEUTAi', 'akg_c_2', 'glu_L_c_2'): -1.0, ('PGM_b', '2pg_c_1_2_3', '3pg_c_1_2_3'): -1.0, ('ADSL2r', 'fum_c_1_2_4', '25aics_c_10_12_13'): -0.5, ('VALTA_b', 'glu_L_c_2_3_5', 'akg_c_2_3_5'): 1.0, ('HSDy_f', 'aspsa_c_2_3_4', 'hom_L_c_2_3_4'): -1.0, ('SDPTA_b', 'akg_c_3_4', 'glu_L_c_3_4'): -1.0, ('CHORM', 'pphn_c_10', 'chor_c_10'): -1.0, ('TK1_f', 'xu5p_D_c_4_5', 'g3p_c_2_3'): 1.0, ('ADSS', 'asp_L_c_4', 'dcamp_c_4'): 1.0, ('AGMT', 'ptrc_c_1_2', 'agm_c_3_4'): -0.5, ('TPI_b', 'g3p_c_1_2_3', 'dhap_c_1_2_3'): 1.0, ('ARGSS', 'argsuc_c_2_3_4', 'citr_L_c_2_3_4'): -1.0, ('ILETA_b', 'glu_L_c_2_3', 'akg_c_2_3'): 1.0, ('TYRTA_b', 'akg_c_1', 'glu_L_c_1'): -1.0, ('OCBT_f', 'citr_L_c_4_5', 'orn_c_4_5'): -1.0, ('ARGSL_f', 'fum_c_1_2_3', 'argsuc_c_7_8_9'): -0.5, ('SUCOAS_f', 'succ_c_2_3', 'succoa_c_2_3'): 1.0, ('L_LACD3_b', 'lac_L_c_1_2_3', 'pyr_c_1_2_3'): -1.0, ('FBA_b', 'fdp_c_4_6', 'g3p_c_1_3'): -1.0, ('ACOTA_f', 'acg5sa_c_2_3_4', 'acorn_c_2_3_4'): -1.0, ('ACGK', 'acg5p_c_3', 'acglu_c_3'): -1.0, ('GLCt2', 'glc_D_c_1', 'glc_D_e_1'): -1.0, ('F6PA', 'f6p_c_4', 'g3p_c_1'): 1.0, ('VALTA_f', 'akg_c_3_4_5', 'glu_L_c_3_4_5'): 1.0, ('SSALx', 'sucsal_c_1_2', 'succ_c_3_4'): 0.5, ('RPI_f', 'ru5p_D_c_3_4', 'r5p_c_3_4'): -1.0, ('ICDHyr', 'icit_c_4_5', 'akg_c_4_5'): 1.0, ('PRASCS_b', 'asp_L_c_1_2_3_4', '25aics_c_10_11_12_13'): -1.0, ('FBA_f', 'dhap_c_1', 'fdp_c_3'): -1.0, ('ACOTA_b', 'akg_c_2', 'glu_L_c_2'): -1.0, ('GND', '6pgc_c_6', 'ru5p_D_c_5'): 1.0, ('PPCK', 'oaa_c_1_2_3', 'pep_c_1_2_3'): 1.0, ('ILETA_b', 'akg_c_1', 'glu_L_c_1'): -1.0, ('GLUPRT', 'glu_L_c_3_5', 'gln_L_c_3_5'): -1.0, ('GLYCL_b', 'co2_c_1', 'gly_c_1'): 1.0, ('ENO_f', 'pep_c_1_3', '2pg_c_1_3'): -1.0, ('TYRTA_b', 'akg_c_2_5', 'glu_L_c_2_5'): -1.0, ('TK1_b', 'xu5p_D_c_2_3_4_5', 'TKC2_c_2g3p_c_1_2_3'): -1.0, ('TA2_f', 'e4p_c_2_4', 's7p_c_5_7'): -1.0, ('ACONT', 'cit_c_3_4_5_6', 'icit_c_3_4_5_6'): 1.0, ('ARGSL_f', 'fum_c_1', 'argsuc_c_7'): -0.5, ('GMPS2', 'glu_L_c_2_4_5', 'gln_L_c_2_4_5'): -1.0, ('GLCpts', 'glc_D_e_2_3', 'g6p_c_2_3'): 1.0, ('FBA_b', 'g3p_c_1', 'fdp_c_4'): 1.0, ('SSALy', 'sucsal_c_2_3_4', 'succ_c_1_2_3'): 0.5, ('SSALy', 'sucsal_c_1_2', 'succ_c_1_2'): 0.5, ('PSERT', 'akg_c_2', 'glu_L_c_2'): -1.0, ('MDH_f', 'mal_L_c_1_2', 'oaa_c_1_2'): 1.0, ('SUCOAS_f', 'succ_c_4', 'succoa_c_1'): 0.5, ('ILETA_b', 'glu_L_c_3_4', 'akg_c_3_4'): 1.0, ('GLCpts', 'glc_D_e_2', 'g6p_c_2'): 1.0, ('ACGS', 'acglu_c_4_5', 'glu_L_c_4_5'): -1.0, ('PPCK', 'oaa_c_2', 'pep_c_2'): 1.0, ('PSERT', 'akg_c_2_3_4', 'glu_L_c_2_3_4'): -1.0, ('OCBT_b', 'orn_c_2_3_5', 'citr_L_c_2_3_5'): -1.0, ('MDH_f', 'oaa_c_1_2_3', 'mal_L_c_1_2_3'): -1.0, ('RPI_b', 'ru5p_D_c_3', 'r5p_c_3'): 1.0, ('ACOTA_f', 'acg5sa_c_3_4_5', 'acorn_c_3_4_5'): -1.0, ('RPE_b', 'xu5p_D_c_3', 'ru5p_D_c_3'): 1.0, ('TK1_b', 'TKC2_c_1', 'xu5p_D_c_1'): 1.0, ('ARGSS', 'argsuc_c_8', 'asp_L_c_2'): -1.0, ('PPC', 'oaa_c_1_3', 'pep_c_1_3'): -1.0, ('EDD', '6pgc_c_2', '2ddg6p_c_2'): 1.0, ('SSALy', 'succ_c_3', 'sucsal_c_3'): -0.5, ('ACOTA_f', 'glu_L_c_2', 'akg_c_2'): -1.0, ('TK1_b', 'TKC2_c_1_2g3p_c_1_2_3', 'xu5p_D_c_1_2_3_4_5'): 1.0, ('TK1_f', 'xu5p_D_c_2', 'TKC2_c_2'): 1.0, ('PRASCS_b', '25aics_c_10_11_12_13', 'asp_L_c_1_2_3_4'): 1.0, ('ARGSS', 'citr_L_c_3', 'argsuc_c_3'): 1.0, ('TYRTA_f', 'glu_L_c_4', 'akg_c_4'): -1.0, ('CS', 'cit_c_2_3_4_5', 'accoa_c_1_2oaa_c_2_3'): -1.0, ('PRFGS', 'gln_L_c_2_5', 'glu_L_c_2_5'): 1.0, ('FBA_b', 'dhap_c_1_2_3', 'fdp_c_1_2_3'): 1.0, ('RPI_f', 'ru5p_D_c_1_2_3_4_5', 'r5p_c_1_2_3_4_5'): -1.0, ('PTRCTA', 'akg_c_2_3_5', 'glu_L_c_2_3_5'): 1.0, ('ASPTA_f', 'asp_L_c_1_3', 'oaa_c_1_3'): 1.0, ('PGI_f', 'f6p_c_4_5', 'g6p_c_4_5'): -1.0, ('PGI_b', 'g6p_c_4_5', 'f6p_c_4_5'): -1.0, ('HEX1', 'g6p_c_4_5_6', 'glc_D_c_4_5_6'): -1.0, ('PFK', 'fdp_c_5_6', 'f6p_c_5_6'): -1.0, ('HSK', 'phom_c_1', 'hom_L_c_1'): -1.0, ('HSDy_f', 'hom_L_c_1_2', 'aspsa_c_1_2'): 1.0, ('GLUPRT', 'gln_L_c_3_4_5', 'glu_L_c_3_4_5'): 1.0, ('F6PA', 'dha_c_1_3', 'f6p_c_1_3'): -1.0, ('ARGSL_f', 'argsuc_c_7_9', 'fum_c_1_3'): 0.5, ('HCO3E_b', 'hco3_c_1', 'co2_c_1'): 1.0, ('ASPTA_b', 'akg_c_2', 'glu_L_c_2'): -1.0, ('ARGSL_b', 'argsuc_c_8_10', 'fum_c_2_4'): -0.5, ('TK3_b', 'r5p_c_2', 's7p_c_4'): 1.0, ('PTRCTA', '4abutn_c_2_4', 'ptrc_c_2_4'): -0.5, ('ABUTD', '4abut_c_2_3_4', '4abutn_c_2_3_4'): -1.0, ('ACOTA_b', 'akg_c_2_4_5', 'glu_L_c_2_4_5'): -1.0, ('ADSL2r', '25aics_c_11', 'fum_c_3'): 0.5, ('PGI_f', 'g6p_c_2', 'f6p_c_2'): 1.0, ('ADSL1r', 'dcamp_c_1_2_3', 'fum_c_2_3_4'): 0.5, ('CBPS', 'gln_L_c_2_4_5', 'glu_L_c_2_4_5'): 1.0, ('ICL', 'succ_c_1_4', 'icit_c_5_6'): -1.0, ('PRASCS_f', '25aics_c_13', 'asp_L_c_1'): -1.0, ('TK1_f', 'xu5p_D_c_1_2', 'TKC2_c_1_2'): 1.0, ('ICDHyr', 'icit_c_2_4_5', 'akg_c_2_4_5'): 1.0, ('PFK', 'fdp_c_5', 'f6p_c_5'): -1.0, ('PFK', 'fdp_c_2_3', 'f6p_c_2_3'): -1.0, ('TK3_b', 's7p_c_2_3', 'TKC2_c_2r5p_c_1'): -1.0, ('PRASCS_f', 'asp_L_c_1', '25aics_c_13'): 1.0, ('GLCt2', 'glc_D_e_1_2', 'glc_D_c_1_2'): 1.0, ('SUCD1i', 'fum_c_1_3_4', 'succ_c_1_3_4'): -0.5, ('ACODA', 'acorn_c_3_5', 'orn_c_3_5'): 1.0, ('ABTA', '4abut_c_2_3_4', 'sucsal_c_2_3_4'): 1.0, ('TK3_f', 'r5p_c_5', 's7p_c_7'): -1.0, ('TA2_b', 's7p_c_5_7', 'e4p_c_2_4'): -1.0, ('GLCpts', 'pep_c_1', 'pyr_c_1'): 1.0, ('TK2_f', 'TKC2_c_2', 'f6p_c_2'): -1.0, ('THRS', 'phom_c_4', 'thr_L_c_4'): 1.0, ('AKGDH', 'succoa_c_2_3', 'akg_c_3_4'): -1.0, ('AKGDH', 'akg_c_4', 'succoa_c_3'): 1.0, ('TYRTA_b', 'akg_c_2_3_4_5', 'glu_L_c_2_3_4_5'): -1.0, ('ACOTA_b', 'acorn_c_2_3', 'acg5sa_c_2_3'): -1.0, ('PGI_b', 'f6p_c_2_3', 'g6p_c_2_3'): 1.0, ('PPC', 'co2_c_1pep_c_1_3', 'oaa_c_1_3_4'): 1.0, ('HSDy_f', 'hom_L_c_1_3', 'aspsa_c_1_3'): 1.0, ('RPE_f', 'ru5p_D_c_3_4', 'xu5p_D_c_3_4'): 1.0, ('THRAr_b', 'thr_L_c_1', 'gly_c_1'): -1.0, ('ACGS', 'glu_L_c_3_4', 'acglu_c_3_4'): 1.0, ('RPI_b', 'r5p_c_2_3_4_5', 'ru5p_D_c_2_3_4_5'): -1.0, ('VALTA_f', 'glu_L_c_2_4_5', 'akg_c_2_4_5'): -1.0, ('SSALx', 'sucsal_c_2_4', 'succ_c_2_4'): 0.5, ('CS', 'accoa_c_1oaa_c_2', 'cit_c_3_5'): 1.0, ('SDPTA_b', 'glu_L_c_4_5', 'akg_c_4_5'): 1.0, ('SUCOAS_f', 'succ_c_3', 'succoa_c_2'): 0.5, ('SSALx', 'succ_c_1_2', 'sucsal_c_1_2'): -0.5, ('FUM', 'mal_L_c_1_2_3', 'fum_c_2_3_4'): -0.5, ('FBA_f', 'fdp_c_4_5', 'g3p_c_1_2'): 1.0, ('PGI_f', 'f6p_c_4', 'g6p_c_4'): -1.0, ('PGL', '6pgc_c_4_5', '6pgl_c_4_5'): -1.0, ('ILETA_b', 'glu_L_c_2_5', 'akg_c_2_5'): 1.0, ('HEX1', 'g6p_c_1_3', 'glc_D_c_1_3'): -1.0, ('LEUTAi', 'glu_L_c_3_5', 'akg_c_3_5'): 1.0, ('PGI_b', 'f6p_c_1_2', 'g6p_c_1_2'): 1.0, ('ACONT', 'icit_c_2_4_5', 'cit_c_2_4_5'): -1.0, ('ACGS', 'acglu_c_2_3', 'glu_L_c_2_3'): -1.0, ('ARGSS', 'asp_L_c_1_4', 'argsuc_c_7_10'): 1.0, ('PPND', 'co2_c_1', 'pphn_c_10'): -1.0, ('AGMT', 'ptrc_c_1_3_4', 'agm_c_1_2_4'): -0.5, ('TK2_b', 'f6p_c_1_2', 'TKC2_c_1_2'): -1.0, ('ICDHyr', 'akg_c_3_5', 'icit_c_3_5'): -1.0, ('VALTA_f', 'akg_c_2_4_5', 'glu_L_c_2_4_5'): 1.0, ('SUCOAS_b', 'succ_c_1_3', 'succoa_c_1_3'): -0.5, ('PPC', 'oaa_c_2_3', 'pep_c_2_3'): -1.0, ('GLCpts', 'pep_c_2', 'pyr_c_2'): 1.0, ('PPC', 'pep_c_1_2_3', 'oaa_c_1_2_3'): 1.0, ('ASAD_b', 'aspsa_c_2', '4pasp_c_2'): -1.0, ('SDPTA_f', 'akg_c_4', 'glu_L_c_4'): 1.0, ('PSP_L', 'pser_L_c_1', 'ser_L_c_1'): 1.0, ('PGM_f', '2pg_c_2_3', '3pg_c_2_3'): 1.0, ('TA1_b', 'g3p_c_2', 'f6p_c_5'): 1.0, ('PGI_f', 'g6p_c_4_5_6', 'f6p_c_4_5_6'): 1.0, ('TYRTA_f', 'akg_c_2_4_5', 'glu_L_c_2_4_5'): 1.0, ('ARGDC', 'agm_c_1_3_4', 'arg_L_c_2_4_5'): -1.0, ('RPI_b', 'r5p_c_5', 'ru5p_D_c_5'): -1.0, ('SUCOAS_b', 'succoa_c_1', 'succ_c_1'): 0.5, ('SDPTA_f', 'akg_c_5', 'glu_L_c_5'): 1.0, ('FBA_b', 'fdp_c_1', 'dhap_c_3'): -1.0, ('SUCOAS_b', 'succ_c_3_4', 'succoa_c_3_4'): -0.5, ('TYRTA_b', 'akg_c_2_3', 'glu_L_c_2_3'): -1.0, ('ACONT', 'icit_c_1', 'cit_c_1'): -1.0, ('ASPTA_b', 'asp_L_c_4', 'oaa_c_4'): -1.0, ('PRPPS_f', 'r5p_c_5', 'prpp_c_5'): 1.0, ('FUM', 'mal_L_c_1_4', 'fum_c_1_4'): -1.0, ('CS', 'accoa_c_1_2oaa_c_3', 'cit_c_2_4_5'): 1.0, ('MDH_f', 'oaa_c_4', 'mal_L_c_4'): -1.0, ('PPC', 'co2_c_1pep_c_2', 'oaa_c_2_4'): 1.0, ('ARGDC', 'agm_c_4', 'arg_L_c_5'): -1.0, ('AGMT', 'agm_c_3_4', 'ptrc_c_1_2'): 0.5, ('ARGDC', 'agm_c_3', 'arg_L_c_4'): -1.0, ('ACONT', 'icit_c_1_2', 'cit_c_1_2'): -1.0, ('PRASCS_f', 'asp_L_c_2_4', '25aics_c_11_12'): 1.0, ('TK3_b', 'r5p_c_5', 's7p_c_7'): 1.0, ('ABUTD', '4abutn_c_2_3_4', '4abut_c_2_3_4'): 1.0, ('SUCOAS_b', 'succoa_c_2_4', 'succ_c_2_4'): 0.5, ('ALATA_L_f', 'akg_c_3', 'glu_L_c_3'): 1.0, ('LEUTAi', 'glu_L_c_3_4', 'akg_c_3_4'): 1.0, ('TPI_f', 'g3p_c_2', 'dhap_c_2'): -1.0, ('TA2_f', 's7p_c_4', 'e4p_c_1'): 1.0, ('ICL', 'succ_c_1_3_4', 'icit_c_4_5_6'): -0.5, ('ACGK', 'acg5p_c_2', 'acglu_c_2'): -1.0, ('PTRCTA', 'akg_c_5', 'glu_L_c_5'): 1.0, ('PTRCTA', 'glu_L_c_3_4_5', 'akg_c_3_4_5'): -1.0, ('PGK_f', '3pg_c_1_2', '13dpg_c_1_2'): 1.0, ('RPI_f', 'r5p_c_4', 'ru5p_D_c_4'): 1.0, ('TPI_b', 'g3p_c_1_3', 'dhap_c_1_3'): 1.0, ('VALTA_b', 'akg_c_2_3_5', 'glu_L_c_2_3_5'): -1.0, ('ARGSL_b', 'arg_L_c_3', 'argsuc_c_3'): 1.0, ('ASPTA_b', 'akg_c_2_4_5', 'glu_L_c_2_4_5'): -1.0, ('PHETA1_f', 'akg_c_4_5', 'glu_L_c_4_5'): 1.0, ('RPI_f', 'r5p_c_5', 'ru5p_D_c_5'): 1.0, ('SUCOAS_f', 'succ_c_2_3_4', 'succoa_c_1_2_3'): 0.5, ('ABTA', 'glu_L_c_2_3', 'akg_c_2_3'): -1.0, ('GLUPRT', 'gln_L_c_2_5', 'glu_L_c_2_5'): 1.0, ('ASPK_b', '4pasp_c_1_3_4', 'asp_L_c_1_3_4'): 1.0, ('THRS', 'phom_c_1', 'thr_L_c_1'): 1.0, ('SSALx', 'sucsal_c_1_3', 'succ_c_2_4'): 0.5, ('PRFGS', 'glu_L_c_2_3_5', 'gln_L_c_2_3_5'): -1.0, ('RPI_f', 'r5p_c_3', 'ru5p_D_c_3'): 1.0, ('ACODA', 'orn_c_2_4', 'acorn_c_2_4'): -1.0, ('ALATA_L_f', 'glu_L_c_2_3_5', 'akg_c_2_3_5'): -1.0, ('TPI_f', 'dhap_c_1', 'g3p_c_1'): 1.0, ('ABTA', 'sucsal_c_1', '4abut_c_1'): -1.0, ('ARGDC', 'arg_L_c_2_3_4', 'agm_c_1_2_3'): 1.0, ('SSALx', 'sucsal_c_1_3', 'succ_c_1_3'): 0.5, ('PRPPS_b', 'prpp_c_1_2', 'r5p_c_1_2'): 1.0, ('F6PA', 'g3p_c_1', 'f6p_c_4'): -1.0, ('GLUDy_f', 'akg_c_3_5', 'glu_L_c_3_5'): -1.0, ('ACGS', 'acglu_c_2_4_5', 'glu_L_c_2_4_5'): -1.0, ('PTRCTA', 'glu_L_c_3', 'akg_c_3'): -1.0, ('PPCK', 'pep_c_1_2', 'oaa_c_1_2'): -1.0, ('PTRCTA', 'glu_L_c_2_4', 'akg_c_2_4'): -1.0, ('GMPS2', 'gln_L_c_4', 'glu_L_c_4'): 1.0, ('THRS', 'thr_L_c_3_4', 'phom_c_3_4'): -1.0, ('ARGSL_b', 'argsuc_c_8', 'fum_c_3'): -0.5, ('GLCpts', 'pep_c_2_3', 'pyr_c_2_3'): 1.0, ('FUM', 'fum_c_4', 'mal_L_c_4'): 0.5, ('ASPTA_f', 'akg_c_3_4', 'glu_L_c_3_4'): 1.0, ('L_LACt2r_b', 'lac_L_e_1_2_3', 'lac_L_c_1_2_3'): -1.0, ('GND', '6pgc_c_2', 'ru5p_D_c_1'): 1.0, ('ASPTA_b', 'akg_c_2_3_4', 'glu_L_c_2_3_4'): -1.0, ('PRPPS_b', 'prpp_c_3_5', 'r5p_c_3_5'): 1.0, ('TA2_b', 'TAC3_c_2', 's7p_c_2'): 1.0, ('LEUTAi', 'glu_L_c_2_4_5', 'akg_c_2_4_5'): 1.0, ('ASAD_b', 'aspsa_c_1_2', '4pasp_c_1_2'): -1.0, ('SUCOAS_f', 'succ_c_1_2_4', 'succoa_c_1_2_4'): 0.5, ('SDPTA_b', 'glu_L_c_4', 'akg_c_4'): 1.0, ('SUCD1i', 'succ_c_1_3_4', 'fum_c_1_3_4'): 0.5, ('VALTA_f', 'akg_c_3', 'glu_L_c_3'): 1.0, ('GND', 'ru5p_D_c_1_2', '6pgc_c_2_3'): -1.0, ('ARGSS', 'argsuc_c_9', 'asp_L_c_3'): -1.0, ('GLNS', 'glu_L_c_4_5', 'gln_L_c_4_5'): 1.0, ('CS', 'cit_c_3_4_6', 'accoa_c_2oaa_c_1_2'): -1.0, ('SSALy', 'sucsal_c_3', 'succ_c_2'): 0.5, ('ACOTA_b', 'acorn_c_2_3_4_5', 'acg5sa_c_2_3_4_5'): -1.0, ('MDH_f', 'mal_L_c_2_3', 'oaa_c_2_3'): 1.0, ('MDH_b', 'mal_L_c_2_4', 'oaa_c_2_4'): -1.0, ('OCBT_b', 'citr_L_c_4_5', 'orn_c_4_5'): 1.0, ('ASPTA_f', 'akg_c_2_3_5', 'glu_L_c_2_3_5'): 1.0, ('L_LACD2_b', 'lac_L_c_1', 'pyr_c_1'): -1.0, ('GLCt2', 'glc_D_c_4_5_6', 'glc_D_e_4_5_6'): -1.0, ('ALATA_L_b', 'akg_c_2_3_5', 'glu_L_c_2_3_5'): -1.0, ('PRASCS_f', '25aics_c_11', 'asp_L_c_4'): -1.0, ('PRASCS_b', '25aics_c_10_11_12', 'asp_L_c_2_3_4'): 1.0, ('PHETA1_b', 'akg_c_5', 'glu_L_c_5'): -1.0, ('PRASCS_f', 'asp_L_c_4', '25aics_c_11'): 1.0, ('SSALy', 'sucsal_c_1', 'succ_c_4'): 0.5, ('PRFGS', 'gln_L_c_2_4_5', 'glu_L_c_2_4_5'): 1.0, ('SUCOAS_b', 'succ_c_2_4', 'succoa_c_1_3'): -0.5, ('VALTA_b', 'akg_c_2_5', 'glu_L_c_2_5'): -1.0, ('ALATA_L_b', 'akg_c_2_3_4_5', 'glu_L_c_2_3_4_5'): -1.0, ('ACOTA_f', 'akg_c_2_3_5', 'glu_L_c_2_3_5'): 1.0, ('ASAD_f', 'aspsa_c_1_2_3', '4pasp_c_1_2_3'): 1.0, ('ABTA', 'sucsal_c_2', '4abut_c_2'): -1.0, ('CBPS', 'glu_L_c_2_3', 'gln_L_c_2_3'): -1.0, ('PRAGSr_b', 'gly_c_1', 'gar_c_6'): -1.0, ('TYRTA_f', 'glu_L_c_1', 'akg_c_1'): -1.0, ('ASPTA_b', 'akg_c_2_3_4_5', 'glu_L_c_2_3_4_5'): -1.0, ('SUCD1i', 'succ_c_1_3_4', 'fum_c_1_2_4'): 0.5, ('SSALy', 'succ_c_1_3', 'sucsal_c_2_4'): -0.5, ('ARGSL_f', 'argsuc_c_9', 'fum_c_2'): 0.5, ('HSDy_b', 'aspsa_c_1', 'hom_L_c_1'): 1.0, ('FUM', 'fum_c_2_4', 'mal_L_c_1_3'): 0.5, ('ARGSS', 'argsuc_c_7_8_9_10', 'asp_L_c_1_2_3_4'): -1.0, ('GMPS2', 'glu_L_c_2', 'gln_L_c_2'): -1.0, ('ARGDC', 'arg_L_c_2_5', 'agm_c_1_4'): 1.0, ('GLUPRT', 'gln_L_c_2_3', 'glu_L_c_2_3'): 1.0, ('GLNS', 'glu_L_c_2_3_4', 'gln_L_c_2_3_4'): 1.0, ('OCBT_f', 'orn_c_5', 'citr_L_c_5'): 1.0, ('PRPPS_f', 'prpp_c_3_4', 'r5p_c_3_4'): -1.0, ('TA1_b', 'f6p_c_4_6', 'g3p_c_1_3'): -1.0, ('PGL', '6pgc_c_4_5_6', '6pgl_c_4_5_6'): -1.0, ('L_LACt2r_b', 'lac_L_c_2_3', 'lac_L_e_2_3'): 1.0, ('SDPTA_b', 'glu_L_c_2_3_4_5', 'akg_c_2_3_4_5'): 1.0, ('TYRTA_b', 'glu_L_c_2_3_4', 'akg_c_2_3_4'): 1.0, ('MDH_b', 'oaa_c_1_3', 'mal_L_c_1_3'): 1.0, ('TK3_f', 'r5p_c_4_5', 's7p_c_6_7'): -1.0, ('OCBT_f', 'citr_L_c_3', 'orn_c_3'): -1.0, ('F6PA', 'g3p_c_1_3', 'f6p_c_4_6'): -1.0, ('PRASCS_b', '25aics_c_11_12', 'asp_L_c_2_4'): 1.0, ('TK2_f', 'f6p_c_1_2', 'TKC2_c_1_2'): 1.0, ('RPE_b', 'ru5p_D_c_4', 'xu5p_D_c_4'): -1.0, ('GLUDy_b', 'glu_L_c_1', 'akg_c_1'): -1.0, ('ACOTA_f', 'acorn_c_3_4', 'acg5sa_c_3_4'): 1.0, ('SUCOAS_b', 'succoa_c_1_3_4', 'succ_c_1_3_4'): 0.5, ('RPE_b', 'ru5p_D_c_4_5', 'xu5p_D_c_4_5'): -1.0, ('ACGK', 'acglu_c_2_5', 'acg5p_c_2_5'): 1.0, ('ILETA_b', 'akg_c_4_5', 'glu_L_c_4_5'): -1.0, ('TA1_f', 'f6p_c_2', 'TAC3_c_2'): 1.0, ('AGPR_f', 'acg5sa_c_1', 'acg5p_c_1'): 1.0, ('MDH_b', 'mal_L_c_1', 'oaa_c_1'): -1.0, ('TPI_f', 'dhap_c_2_3', 'g3p_c_2_3'): 1.0, ('ABTA', '4abut_c_1_2_3_4', 'sucsal_c_1_2_3_4'): 1.0, ('ASPTA_f', 'oaa_c_1', 'asp_L_c_1'): -1.0, ('ALATA_L_b', 'glu_L_c_1', 'akg_c_1'): 1.0, ('ENO_f', 'pep_c_1_2', '2pg_c_1_2'): -1.0, ('PRASCS_b', 'asp_L_c_2_3_4', '25aics_c_10_11_12'): -1.0, ('OCBT_b', 'citr_L_c_2_3_4', 'orn_c_2_3_4'): 1.0, ('ARGSL_f', 'fum_c_3_4', 'argsuc_c_7_8'): -0.5, ('CS', 'cit_c_2', 'oaa_c_3'): -1.0, ('ARGSL_b', 'fum_c_4', 'argsuc_c_7'): 0.5, ('PRASCS_b', '25aics_c_10_12', 'asp_L_c_2_3'): 1.0, ('ALATA_L_f', 'ala_L_c_3', 'pyr_c_3'): 1.0, ('PTRCTA', '4abutn_c_2_3_4', 'ptrc_c_2_3_4'): -0.5, ('GLNS', 'glu_L_c_2_4', 'gln_L_c_2_4'): 1.0, ('G6PDH2r', '6pgl_c_1_2_3', 'g6p_c_1_2_3'): -1.0, ('ALATA_L_f', 'glu_L_c_3', 'akg_c_3'): -1.0, ('ACOTA_b', 'akg_c_4', 'glu_L_c_4'): -1.0, ('SDPTA_b', 'akg_c_2_3_4_5', 'glu_L_c_2_3_4_5'): -1.0, ('PTRCTA', 'glu_L_c_2_4_5', 'akg_c_2_4_5'): -1.0, ('ASPTA_f', 'glu_L_c_2_5', 'akg_c_2_5'): -1.0, ('SDPTA_f', 'akg_c_3_4_5', 'glu_L_c_3_4_5'): 1.0, ('TK3_b', 's7p_c_7', 'r5p_c_5'): -1.0, ('L_LACD3_f', 'pyr_c_2_3', 'lac_L_c_2_3'): -1.0, ('TPI_b', 'dhap_c_1', 'g3p_c_1'): -1.0, ('FUM', 'fum_c_2_4', 'mal_L_c_2_4'): 0.5, ('ASPTA_b', 'glu_L_c_2_3_4', 'akg_c_2_3_4'): 1.0, ('SUCD1i', 'fum_c_3', 'succ_c_2'): -0.5, ('HSDy_b', 'hom_L_c_4', 'aspsa_c_4'): -1.0, ('TA2_f', 's7p_c_4_5_6_7', 'e4p_c_1_2_3_4'): 1.0, ('ARGSL_f', 'fum_c_1_3', 'argsuc_c_8_10'): -0.5, ('TK2_b', 'f6p_c_4_6', 'e4p_c_2_4'): -1.0, ('PSERT', 'akg_c_2_4_5', 'glu_L_c_2_4_5'): -1.0, ('PSERT', 'glu_L_c_3_4', 'akg_c_3_4'): 1.0, ('GLUDy_f', 'glu_L_c_3_5', 'akg_c_3_5'): 1.0, ('LEUTAi', 'akg_c_3', 'glu_L_c_3'): -1.0, ('SUCOAS_b', 'succ_c_1_4', 'succoa_c_1_4'): -1.0, ('ALATA_L_b', 'glu_L_c_3_4', 'akg_c_3_4'): 1.0, ('ARGSL_f', 'arg_L_c_2_3_4', 'argsuc_c_2_3_4'): -1.0, ('VALTA_f', 'glu_L_c_4_5', 'akg_c_4_5'): -1.0, ('SDPTA_f', 'akg_c_2_5', 'glu_L_c_2_5'): 1.0, ('ARGSS', 'argsuc_c_3_4_5', 'citr_L_c_3_4_5'): -1.0, ('TK3_f', 'r5p_c_3_5', 's7p_c_5_7'): -1.0, ('VALTA_b', 'glu_L_c_5', 'akg_c_5'): 1.0, ('SUCOAS_b', 'succ_c_2_3_4', 'succoa_c_2_3_4'): -0.5, ('TK3_f', 's7p_c_4_5_6_7', 'r5p_c_2_3_4_5'): 1.0, ('VALTA_b', 'akg_c_2_3', 'glu_L_c_2_3'): -1.0, ('TK1_f', 'xu5p_D_c_3', 'g3p_c_1'): 1.0, ('AGMT', 'agm_c_1_2', 'ptrc_c_3_4'): 0.5, ('SSALx', 'succ_c_1_2_3', 'sucsal_c_1_2_3'): -0.5, ('ACOTA_b', 'acorn_c_1', 'acg5sa_c_1'): -1.0, ('ICL', 'icit_c_3_4_5', 'succ_c_1_2_3'): 0.5, ('GND', 'ru5p_D_c_2', '6pgc_c_3'): -1.0, ('TPI_b', 'dhap_c_1_2_3', 'g3p_c_1_2_3'): -1.0, ('SSALx', 'succ_c_2_3_4', 'sucsal_c_2_3_4'): -0.5, ('TK2_f', 'f6p_c_5_6', 'e4p_c_3_4'): 1.0, ('RPE_f', 'ru5p_D_c_1_2_3_4_5', 'xu5p_D_c_1_2_3_4_5'): 1.0, ('GLUPRT', 'glu_L_c_3_4', 'gln_L_c_3_4'): -1.0, ('SSALy', 'succ_c_2_3', 'sucsal_c_2_3'): -1.0, ('PGL', '6pgl_c_2', '6pgc_c_2'): 1.0, ('PGM_f', '3pg_c_1_2', '2pg_c_1_2'): -1.0, ('PRFGS', 'gln_L_c_2_3_4', 'glu_L_c_2_3_4'): 1.0, ('PRFGS', 'glu_L_c_4_5', 'gln_L_c_4_5'): -1.0, ('FUM', 'fum_c_1_2_4', 'mal_L_c_1_2_4'): 0.5, ('PGI_b', 'f6p_c_3_4_5_6', 'g6p_c_3_4_5_6'): 1.0, ('SUCD1i', 'succ_c_2_3', 'fum_c_2_3'): 1.0, ('RPE_b', 'xu5p_D_c_3_5', 'ru5p_D_c_3_5'): 1.0, ('FBA_f', 'g3p_c_1', 'fdp_c_4'): -1.0, ('TA2_f', 's7p_c_6_7', 'e4p_c_3_4'): 1.0, ('ARGDC', 'agm_c_1', 'arg_L_c_2'): -1.0, ('GLNS', 'gln_L_c_3', 'glu_L_c_3'): -1.0, ('MDH_f', 'mal_L_c_2_4', 'oaa_c_2_4'): 1.0, ('PRASCS_f', '25aics_c_10_11_13', 'asp_L_c_1_3_4'): -1.0, ('PSERT', 'glu_L_c_2', 'akg_c_2'): 1.0, ('VALTA_f', 'glu_L_c_3', 'akg_c_3'): -1.0, ('ASAD_f', '4pasp_c_3_4', 'aspsa_c_3_4'): -1.0, ('ASPTA_f', 'akg_c_2_3', 'glu_L_c_2_3'): 1.0, ('MALS', 'mal_L_c_1_4', 'accoa_c_2glx_c_1'): -1.0, ('TYRTA_f', 'akg_c_4', 'glu_L_c_4'): 1.0, ('L_LACD3_f', 'lac_L_c_3', 'pyr_c_3'): 1.0, ('ADSS', 'asp_L_c_3', 'dcamp_c_3'): 1.0, ('TK1_b', 'xu5p_D_c_5', 'g3p_c_3'): -1.0, ('TK2_b', 'f6p_c_2_3', 'TKC2_c_2e4p_c_1'): -1.0, ('FUM', 'mal_L_c_1_3_4', 'fum_c_1_2_4'): -0.5, ('ADSL1r', 'dcamp_c_2', 'fum_c_3'): 0.5, ('SUCD1i', 'succ_c_1_3', 'fum_c_1_3'): 0.5, ('ACOTA_b', 'acorn_c_3', 'acg5sa_c_3'): -1.0, ('TK3_b', 's7p_c_2', 'TKC2_c_2'): -1.0, ('SSALx', 'sucsal_c_1_2_4', 'succ_c_1_2_4'): 0.5, ('GLUDy_b', 'akg_c_3_4', 'glu_L_c_3_4'): 1.0, ('TK1_b', 'g3p_c_1_3', 'xu5p_D_c_3_5'): 1.0, ('PHETA1_b', 'akg_c_2_5', 'glu_L_c_2_5'): -1.0, ('DHAPT', 'pyr_c_2', 'pep_c_2'): -1.0, ('ARGSL_b', 'argsuc_c_8', 'fum_c_2'): -0.5, ('SUCOAS_b', 'succ_c_4', 'succoa_c_4'): -0.5, ('ASPTA_b', 'akg_c_2_3', 'glu_L_c_2_3'): -1.0, ('ME1', 'pyr_c_2_3', 'mal_L_c_2_3'): -1.0, ('ARGSL_b', 'fum_c_3_4', 'argsuc_c_7_8'): 0.5, ('PSERT', 'akg_c_2_3_4_5', 'glu_L_c_2_3_4_5'): -1.0, ('VALTA_f', 'glu_L_c_3_5', 'akg_c_3_5'): -1.0, ('GLCt2', 'glc_D_c_1_2_3_4_5_6', 'glc_D_e_1_2_3_4_5_6'): -1.0, ('SUCOAS_f', 'succ_c_4', 'succoa_c_4'): 0.5, ('OCBT_b', 'orn_c_4', 'citr_L_c_4'): -1.0, ('GLCt2', 'glc_D_e_6', 'glc_D_c_6'): 1.0, ('TA1_f', 'f6p_c_1_2_3', 'TAC3_c_1_2_3'): 1.0, ('ACGS', 'glu_L_c_4_5', 'acglu_c_4_5'): 1.0, ('PGL', '6pgc_c_5_6', '6pgl_c_5_6'): -1.0, ('TYRTA_b', 'akg_c_3_5', 'glu_L_c_3_5'): -1.0, ('MALS', 'mal_L_c_1_2_3', 'accoa_c_1glx_c_1_2'): -1.0, ('ACOTA_b', 'glu_L_c_3', 'akg_c_3'): 1.0, ('ARGDC', 'agm_c_3_4', 'arg_L_c_4_5'): -1.0, ('TA2_f', 's7p_c_5_7', 'e4p_c_2_4'): 1.0, ('MALS', 'accoa_c_1_2glx_c_2', 'mal_L_c_2_3_4'): 1.0, ('CS', 'oaa_c_2', 'cit_c_3'): 1.0, ('SUCD1i', 'fum_c_4', 'succ_c_4'): -0.5, ('PGL', '6pgl_c_4_6', '6pgc_c_4_6'): 1.0, ('ADSL1r', 'fum_c_2_3', 'dcamp_c_2_3'): -1.0, ('ACGK', 'acglu_c_2_3_5', 'acg5p_c_2_3_5'): 1.0, ('PGI_b', 'f6p_c_1', 'g6p_c_1'): 1.0, ('AGMT', 'agm_c_2', 'ptrc_c_3'): 0.5}\n"
     ]
    }
   ],
   "source": [
    "EMMmat = EMUtransitionListA.getEMMmat()\n",
    "print EMMmat.elements"
   ]
  },
  {
   "cell_type": "code",
   "execution_count": 38,
   "metadata": {
    "collapsed": false
   },
   "outputs": [
    {
     "name": "stdout",
     "output_type": "stream",
     "text": [
      "([\"eqn_condensation_rxn_1at0..f('accoa_c_1oaa_c_1','0') =e= f('accoa_c_1','0')*f('oaa_c_1','0');\\n\", \"eqn_condensation_rxn_1at1..f('accoa_c_1oaa_c_1','1') =e= f('accoa_c_1','0')*f('oaa_c_1','1')+f('accoa_c_1','1')*f('oaa_c_1','0');\\n\", \"eqn_condensation_rxn_1at2..f('accoa_c_1oaa_c_1','2') =e= f('accoa_c_1','1')*f('oaa_c_1','1');\\n\", \"eqn_condensation_rxn_2at0..f('accoa_c_1oaa_c_1_2','0') =e= f('accoa_c_1','0')*f('oaa_c_1_2','0');\\n\", \"eqn_condensation_rxn_2at1..f('accoa_c_1oaa_c_1_2','1') =e= f('accoa_c_1','0')*f('oaa_c_1_2','1')+f('accoa_c_1','1')*f('oaa_c_1_2','0');\\n\", \"eqn_condensation_rxn_2at2..f('accoa_c_1oaa_c_1_2','2') =e= f('accoa_c_1','0')*f('oaa_c_1_2','2')+f('accoa_c_1','1')*f('oaa_c_1_2','1');\\n\", \"eqn_condensation_rxn_2at3..f('accoa_c_1oaa_c_1_2','3') =e= f('accoa_c_1','1')*f('oaa_c_1_2','2');\\n\", \"eqn_condensation_rxn_3at0..f('accoa_c_1oaa_c_2','0') =e= f('accoa_c_1','0')*f('oaa_c_2','0');\\n\", \"eqn_condensation_rxn_3at1..f('accoa_c_1oaa_c_2','1') =e= f('accoa_c_1','0')*f('oaa_c_2','1')+f('accoa_c_1','1')*f('oaa_c_2','0');\\n\", \"eqn_condensation_rxn_3at2..f('accoa_c_1oaa_c_2','2') =e= f('accoa_c_1','1')*f('oaa_c_2','1');\\n\", \"eqn_condensation_rxn_4at0..f('accoa_c_1oaa_c_2_3','0') =e= f('accoa_c_1','0')*f('oaa_c_2_3','0');\\n\", \"eqn_condensation_rxn_4at1..f('accoa_c_1oaa_c_2_3','1') =e= f('accoa_c_1','0')*f('oaa_c_2_3','1')+f('accoa_c_1','1')*f('oaa_c_2_3','0');\\n\", \"eqn_condensation_rxn_4at2..f('accoa_c_1oaa_c_2_3','2') =e= f('accoa_c_1','0')*f('oaa_c_2_3','2')+f('accoa_c_1','1')*f('oaa_c_2_3','1');\\n\", \"eqn_condensation_rxn_4at3..f('accoa_c_1oaa_c_2_3','3') =e= f('accoa_c_1','1')*f('oaa_c_2_3','2');\\n\", \"eqn_condensation_rxn_5at0..f('accoa_c_1oaa_c_3','0') =e= f('accoa_c_1','0')*f('oaa_c_3','0');\\n\", \"eqn_condensation_rxn_5at1..f('accoa_c_1oaa_c_3','1') =e= f('accoa_c_1','0')*f('oaa_c_3','1')+f('accoa_c_1','1')*f('oaa_c_3','0');\\n\", \"eqn_condensation_rxn_5at2..f('accoa_c_1oaa_c_3','2') =e= f('accoa_c_1','1')*f('oaa_c_3','1');\\n\", \"eqn_condensation_rxn_6at0..f('accoa_c_1_2oaa_c_1','0') =e= f('accoa_c_1_2','0')*f('oaa_c_1','0');\\n\", \"eqn_condensation_rxn_6at1..f('accoa_c_1_2oaa_c_1','1') =e= f('accoa_c_1_2','0')*f('oaa_c_1','1')+f('accoa_c_1_2','1')*f('oaa_c_1','0');\\n\", \"eqn_condensation_rxn_6at2..f('accoa_c_1_2oaa_c_1','2') =e= f('accoa_c_1_2','1')*f('oaa_c_1','1')+f('accoa_c_1_2','2')*f('oaa_c_1','0');\\n\", \"eqn_condensation_rxn_6at3..f('accoa_c_1_2oaa_c_1','3') =e= f('accoa_c_1_2','2')*f('oaa_c_1','1');\\n\", \"eqn_condensation_rxn_7at0..f('accoa_c_1_2oaa_c_1_2','0') =e= f('accoa_c_1_2','0')*f('oaa_c_1_2','0');\\n\", \"eqn_condensation_rxn_7at1..f('accoa_c_1_2oaa_c_1_2','1') =e= f('accoa_c_1_2','0')*f('oaa_c_1_2','1')+f('accoa_c_1_2','1')*f('oaa_c_1_2','0');\\n\", \"eqn_condensation_rxn_7at2..f('accoa_c_1_2oaa_c_1_2','2') =e= f('accoa_c_1_2','0')*f('oaa_c_1_2','2')+f('accoa_c_1_2','1')*f('oaa_c_1_2','1')+f('accoa_c_1_2','2')*f('oaa_c_1_2','0');\\n\", \"eqn_condensation_rxn_7at3..f('accoa_c_1_2oaa_c_1_2','3') =e= f('accoa_c_1_2','1')*f('oaa_c_1_2','2')+f('accoa_c_1_2','2')*f('oaa_c_1_2','1');\\n\", \"eqn_condensation_rxn_7at4..f('accoa_c_1_2oaa_c_1_2','4') =e= f('accoa_c_1_2','2')*f('oaa_c_1_2','2');\\n\", \"eqn_condensation_rxn_8at0..f('accoa_c_1_2oaa_c_2','0') =e= f('accoa_c_1_2','0')*f('oaa_c_2','0');\\n\", \"eqn_condensation_rxn_8at1..f('accoa_c_1_2oaa_c_2','1') =e= f('accoa_c_1_2','0')*f('oaa_c_2','1')+f('accoa_c_1_2','1')*f('oaa_c_2','0');\\n\", \"eqn_condensation_rxn_8at2..f('accoa_c_1_2oaa_c_2','2') =e= f('accoa_c_1_2','1')*f('oaa_c_2','1')+f('accoa_c_1_2','2')*f('oaa_c_2','0');\\n\", \"eqn_condensation_rxn_8at3..f('accoa_c_1_2oaa_c_2','3') =e= f('accoa_c_1_2','2')*f('oaa_c_2','1');\\n\", \"eqn_condensation_rxn_9at0..f('accoa_c_1_2oaa_c_2_3','0') =e= f('accoa_c_1_2','0')*f('oaa_c_2_3','0');\\n\", \"eqn_condensation_rxn_9at1..f('accoa_c_1_2oaa_c_2_3','1') =e= f('accoa_c_1_2','0')*f('oaa_c_2_3','1')+f('accoa_c_1_2','1')*f('oaa_c_2_3','0');\\n\", \"eqn_condensation_rxn_9at2..f('accoa_c_1_2oaa_c_2_3','2') =e= f('accoa_c_1_2','0')*f('oaa_c_2_3','2')+f('accoa_c_1_2','1')*f('oaa_c_2_3','1')+f('accoa_c_1_2','2')*f('oaa_c_2_3','0');\\n\", \"eqn_condensation_rxn_9at3..f('accoa_c_1_2oaa_c_2_3','3') =e= f('accoa_c_1_2','1')*f('oaa_c_2_3','2')+f('accoa_c_1_2','2')*f('oaa_c_2_3','1');\\n\", \"eqn_condensation_rxn_9at4..f('accoa_c_1_2oaa_c_2_3','4') =e= f('accoa_c_1_2','2')*f('oaa_c_2_3','2');\\n\", \"eqn_condensation_rxn_10at0..f('accoa_c_1_2oaa_c_3','0') =e= f('accoa_c_1_2','0')*f('oaa_c_3','0');\\n\", \"eqn_condensation_rxn_10at1..f('accoa_c_1_2oaa_c_3','1') =e= f('accoa_c_1_2','0')*f('oaa_c_3','1')+f('accoa_c_1_2','1')*f('oaa_c_3','0');\\n\", \"eqn_condensation_rxn_10at2..f('accoa_c_1_2oaa_c_3','2') =e= f('accoa_c_1_2','1')*f('oaa_c_3','1')+f('accoa_c_1_2','2')*f('oaa_c_3','0');\\n\", \"eqn_condensation_rxn_10at3..f('accoa_c_1_2oaa_c_3','3') =e= f('accoa_c_1_2','2')*f('oaa_c_3','1');\\n\", \"eqn_condensation_rxn_11at0..f('accoa_c_2oaa_c_1','0') =e= f('accoa_c_2','0')*f('oaa_c_1','0');\\n\", \"eqn_condensation_rxn_11at1..f('accoa_c_2oaa_c_1','1') =e= f('accoa_c_2','0')*f('oaa_c_1','1')+f('accoa_c_2','1')*f('oaa_c_1','0');\\n\", \"eqn_condensation_rxn_11at2..f('accoa_c_2oaa_c_1','2') =e= f('accoa_c_2','1')*f('oaa_c_1','1');\\n\", \"eqn_condensation_rxn_12at0..f('accoa_c_2oaa_c_1_2','0') =e= f('accoa_c_2','0')*f('oaa_c_1_2','0');\\n\", \"eqn_condensation_rxn_12at1..f('accoa_c_2oaa_c_1_2','1') =e= f('accoa_c_2','0')*f('oaa_c_1_2','1')+f('accoa_c_2','1')*f('oaa_c_1_2','0');\\n\", \"eqn_condensation_rxn_12at2..f('accoa_c_2oaa_c_1_2','2') =e= f('accoa_c_2','0')*f('oaa_c_1_2','2')+f('accoa_c_2','1')*f('oaa_c_1_2','1');\\n\", \"eqn_condensation_rxn_12at3..f('accoa_c_2oaa_c_1_2','3') =e= f('accoa_c_2','1')*f('oaa_c_1_2','2');\\n\", \"eqn_condensation_rxn_13at0..f('accoa_c_2oaa_c_2','0') =e= f('accoa_c_2','0')*f('oaa_c_2','0');\\n\", \"eqn_condensation_rxn_13at1..f('accoa_c_2oaa_c_2','1') =e= f('accoa_c_2','0')*f('oaa_c_2','1')+f('accoa_c_2','1')*f('oaa_c_2','0');\\n\", \"eqn_condensation_rxn_13at2..f('accoa_c_2oaa_c_2','2') =e= f('accoa_c_2','1')*f('oaa_c_2','1');\\n\", \"eqn_condensation_rxn_14at0..f('accoa_c_2oaa_c_2_3','0') =e= f('accoa_c_2','0')*f('oaa_c_2_3','0');\\n\", \"eqn_condensation_rxn_14at1..f('accoa_c_2oaa_c_2_3','1') =e= f('accoa_c_2','0')*f('oaa_c_2_3','1')+f('accoa_c_2','1')*f('oaa_c_2_3','0');\\n\", \"eqn_condensation_rxn_14at2..f('accoa_c_2oaa_c_2_3','2') =e= f('accoa_c_2','0')*f('oaa_c_2_3','2')+f('accoa_c_2','1')*f('oaa_c_2_3','1');\\n\", \"eqn_condensation_rxn_14at3..f('accoa_c_2oaa_c_2_3','3') =e= f('accoa_c_2','1')*f('oaa_c_2_3','2');\\n\", \"eqn_condensation_rxn_15at0..f('accoa_c_2oaa_c_3','0') =e= f('accoa_c_2','0')*f('oaa_c_3','0');\\n\", \"eqn_condensation_rxn_15at1..f('accoa_c_2oaa_c_3','1') =e= f('accoa_c_2','0')*f('oaa_c_3','1')+f('accoa_c_2','1')*f('oaa_c_3','0');\\n\", \"eqn_condensation_rxn_15at2..f('accoa_c_2oaa_c_3','2') =e= f('accoa_c_2','1')*f('oaa_c_3','1');\\n\", \"eqn_condensation_rxn_16at0..f('dhap_c_1_2_3g3p_c_1_2_3','0') =e= f('dhap_c_1_2_3','0')*f('g3p_c_1_2_3','0');\\n\", \"eqn_condensation_rxn_16at1..f('dhap_c_1_2_3g3p_c_1_2_3','1') =e= f('dhap_c_1_2_3','0')*f('g3p_c_1_2_3','1')+f('dhap_c_1_2_3','1')*f('g3p_c_1_2_3','0');\\n\", \"eqn_condensation_rxn_16at2..f('dhap_c_1_2_3g3p_c_1_2_3','2') =e= f('dhap_c_1_2_3','0')*f('g3p_c_1_2_3','2')+f('dhap_c_1_2_3','1')*f('g3p_c_1_2_3','1')+f('dhap_c_1_2_3','2')*f('g3p_c_1_2_3','0');\\n\", \"eqn_condensation_rxn_16at3..f('dhap_c_1_2_3g3p_c_1_2_3','3') =e= f('dhap_c_1_2_3','0')*f('g3p_c_1_2_3','3')+f('dhap_c_1_2_3','1')*f('g3p_c_1_2_3','2')+f('dhap_c_1_2_3','2')*f('g3p_c_1_2_3','1')+f('dhap_c_1_2_3','3')*f('g3p_c_1_2_3','0');\\n\", \"eqn_condensation_rxn_16at4..f('dhap_c_1_2_3g3p_c_1_2_3','4') =e= f('dhap_c_1_2_3','1')*f('g3p_c_1_2_3','3')+f('dhap_c_1_2_3','2')*f('g3p_c_1_2_3','2')+f('dhap_c_1_2_3','3')*f('g3p_c_1_2_3','1');\\n\", \"eqn_condensation_rxn_16at5..f('dhap_c_1_2_3g3p_c_1_2_3','5') =e= f('dhap_c_1_2_3','2')*f('g3p_c_1_2_3','3')+f('dhap_c_1_2_3','3')*f('g3p_c_1_2_3','2');\\n\", \"eqn_condensation_rxn_16at6..f('dhap_c_1_2_3g3p_c_1_2_3','6') =e= f('dhap_c_1_2_3','3')*f('g3p_c_1_2_3','3');\\n\", \"eqn_condensation_rxn_17at0..f('accoa_c_1glx_c_1','0') =e= f('accoa_c_1','0')*f('glx_c_1','0');\\n\", \"eqn_condensation_rxn_17at1..f('accoa_c_1glx_c_1','1') =e= f('accoa_c_1','0')*f('glx_c_1','1')+f('accoa_c_1','1')*f('glx_c_1','0');\\n\", \"eqn_condensation_rxn_17at2..f('accoa_c_1glx_c_1','2') =e= f('accoa_c_1','1')*f('glx_c_1','1');\\n\", \"eqn_condensation_rxn_18at0..f('accoa_c_1glx_c_1_2','0') =e= f('accoa_c_1','0')*f('glx_c_1_2','0');\\n\", \"eqn_condensation_rxn_18at1..f('accoa_c_1glx_c_1_2','1') =e= f('accoa_c_1','0')*f('glx_c_1_2','1')+f('accoa_c_1','1')*f('glx_c_1_2','0');\\n\", \"eqn_condensation_rxn_18at2..f('accoa_c_1glx_c_1_2','2') =e= f('accoa_c_1','0')*f('glx_c_1_2','2')+f('accoa_c_1','1')*f('glx_c_1_2','1');\\n\", \"eqn_condensation_rxn_18at3..f('accoa_c_1glx_c_1_2','3') =e= f('accoa_c_1','1')*f('glx_c_1_2','2');\\n\", \"eqn_condensation_rxn_19at0..f('accoa_c_1glx_c_2','0') =e= f('accoa_c_1','0')*f('glx_c_2','0');\\n\", \"eqn_condensation_rxn_19at1..f('accoa_c_1glx_c_2','1') =e= f('accoa_c_1','0')*f('glx_c_2','1')+f('accoa_c_1','1')*f('glx_c_2','0');\\n\", \"eqn_condensation_rxn_19at2..f('accoa_c_1glx_c_2','2') =e= f('accoa_c_1','1')*f('glx_c_2','1');\\n\", \"eqn_condensation_rxn_20at0..f('accoa_c_1_2glx_c_1','0') =e= f('accoa_c_1_2','0')*f('glx_c_1','0');\\n\", \"eqn_condensation_rxn_20at1..f('accoa_c_1_2glx_c_1','1') =e= f('accoa_c_1_2','0')*f('glx_c_1','1')+f('accoa_c_1_2','1')*f('glx_c_1','0');\\n\", \"eqn_condensation_rxn_20at2..f('accoa_c_1_2glx_c_1','2') =e= f('accoa_c_1_2','1')*f('glx_c_1','1')+f('accoa_c_1_2','2')*f('glx_c_1','0');\\n\", \"eqn_condensation_rxn_20at3..f('accoa_c_1_2glx_c_1','3') =e= f('accoa_c_1_2','2')*f('glx_c_1','1');\\n\", \"eqn_condensation_rxn_21at0..f('accoa_c_1_2glx_c_1_2','0') =e= f('accoa_c_1_2','0')*f('glx_c_1_2','0');\\n\", \"eqn_condensation_rxn_21at1..f('accoa_c_1_2glx_c_1_2','1') =e= f('accoa_c_1_2','0')*f('glx_c_1_2','1')+f('accoa_c_1_2','1')*f('glx_c_1_2','0');\\n\", \"eqn_condensation_rxn_21at2..f('accoa_c_1_2glx_c_1_2','2') =e= f('accoa_c_1_2','0')*f('glx_c_1_2','2')+f('accoa_c_1_2','1')*f('glx_c_1_2','1')+f('accoa_c_1_2','2')*f('glx_c_1_2','0');\\n\", \"eqn_condensation_rxn_21at3..f('accoa_c_1_2glx_c_1_2','3') =e= f('accoa_c_1_2','1')*f('glx_c_1_2','2')+f('accoa_c_1_2','2')*f('glx_c_1_2','1');\\n\", \"eqn_condensation_rxn_21at4..f('accoa_c_1_2glx_c_1_2','4') =e= f('accoa_c_1_2','2')*f('glx_c_1_2','2');\\n\", \"eqn_condensation_rxn_22at0..f('accoa_c_1_2glx_c_2','0') =e= f('accoa_c_1_2','0')*f('glx_c_2','0');\\n\", \"eqn_condensation_rxn_22at1..f('accoa_c_1_2glx_c_2','1') =e= f('accoa_c_1_2','0')*f('glx_c_2','1')+f('accoa_c_1_2','1')*f('glx_c_2','0');\\n\", \"eqn_condensation_rxn_22at2..f('accoa_c_1_2glx_c_2','2') =e= f('accoa_c_1_2','1')*f('glx_c_2','1')+f('accoa_c_1_2','2')*f('glx_c_2','0');\\n\", \"eqn_condensation_rxn_22at3..f('accoa_c_1_2glx_c_2','3') =e= f('accoa_c_1_2','2')*f('glx_c_2','1');\\n\", \"eqn_condensation_rxn_23at0..f('accoa_c_2glx_c_1','0') =e= f('accoa_c_2','0')*f('glx_c_1','0');\\n\", \"eqn_condensation_rxn_23at1..f('accoa_c_2glx_c_1','1') =e= f('accoa_c_2','0')*f('glx_c_1','1')+f('accoa_c_2','1')*f('glx_c_1','0');\\n\", \"eqn_condensation_rxn_23at2..f('accoa_c_2glx_c_1','2') =e= f('accoa_c_2','1')*f('glx_c_1','1');\\n\", \"eqn_condensation_rxn_24at0..f('accoa_c_2glx_c_1_2','0') =e= f('accoa_c_2','0')*f('glx_c_1_2','0');\\n\", \"eqn_condensation_rxn_24at1..f('accoa_c_2glx_c_1_2','1') =e= f('accoa_c_2','0')*f('glx_c_1_2','1')+f('accoa_c_2','1')*f('glx_c_1_2','0');\\n\", \"eqn_condensation_rxn_24at2..f('accoa_c_2glx_c_1_2','2') =e= f('accoa_c_2','0')*f('glx_c_1_2','2')+f('accoa_c_2','1')*f('glx_c_1_2','1');\\n\", \"eqn_condensation_rxn_24at3..f('accoa_c_2glx_c_1_2','3') =e= f('accoa_c_2','1')*f('glx_c_1_2','2');\\n\", \"eqn_condensation_rxn_25at0..f('accoa_c_2glx_c_2','0') =e= f('accoa_c_2','0')*f('glx_c_2','0');\\n\", \"eqn_condensation_rxn_25at1..f('accoa_c_2glx_c_2','1') =e= f('accoa_c_2','0')*f('glx_c_2','1')+f('accoa_c_2','1')*f('glx_c_2','0');\\n\", \"eqn_condensation_rxn_25at2..f('accoa_c_2glx_c_2','2') =e= f('accoa_c_2','1')*f('glx_c_2','1');\\n\", \"eqn_condensation_rxn_26at0..f('co2_c_1pep_c_1','0') =e= f('co2_c_1','0')*f('pep_c_1','0');\\n\", \"eqn_condensation_rxn_26at1..f('co2_c_1pep_c_1','1') =e= f('co2_c_1','0')*f('pep_c_1','1')+f('co2_c_1','1')*f('pep_c_1','0');\\n\", \"eqn_condensation_rxn_26at2..f('co2_c_1pep_c_1','2') =e= f('co2_c_1','1')*f('pep_c_1','1');\\n\", \"eqn_condensation_rxn_27at0..f('co2_c_1pep_c_1_2','0') =e= f('co2_c_1','0')*f('pep_c_1_2','0');\\n\", \"eqn_condensation_rxn_27at1..f('co2_c_1pep_c_1_2','1') =e= f('co2_c_1','0')*f('pep_c_1_2','1')+f('co2_c_1','1')*f('pep_c_1_2','0');\\n\", \"eqn_condensation_rxn_27at2..f('co2_c_1pep_c_1_2','2') =e= f('co2_c_1','0')*f('pep_c_1_2','2')+f('co2_c_1','1')*f('pep_c_1_2','1');\\n\", \"eqn_condensation_rxn_27at3..f('co2_c_1pep_c_1_2','3') =e= f('co2_c_1','1')*f('pep_c_1_2','2');\\n\", \"eqn_condensation_rxn_28at0..f('co2_c_1pep_c_1_2_3','0') =e= f('co2_c_1','0')*f('pep_c_1_2_3','0');\\n\", \"eqn_condensation_rxn_28at1..f('co2_c_1pep_c_1_2_3','1') =e= f('co2_c_1','0')*f('pep_c_1_2_3','1')+f('co2_c_1','1')*f('pep_c_1_2_3','0');\\n\", \"eqn_condensation_rxn_28at2..f('co2_c_1pep_c_1_2_3','2') =e= f('co2_c_1','0')*f('pep_c_1_2_3','2')+f('co2_c_1','1')*f('pep_c_1_2_3','1');\\n\", \"eqn_condensation_rxn_28at3..f('co2_c_1pep_c_1_2_3','3') =e= f('co2_c_1','0')*f('pep_c_1_2_3','3')+f('co2_c_1','1')*f('pep_c_1_2_3','2');\\n\", \"eqn_condensation_rxn_28at4..f('co2_c_1pep_c_1_2_3','4') =e= f('co2_c_1','1')*f('pep_c_1_2_3','3');\\n\", \"eqn_condensation_rxn_29at0..f('co2_c_1pep_c_1_3','0') =e= f('co2_c_1','0')*f('pep_c_1_3','0');\\n\", \"eqn_condensation_rxn_29at1..f('co2_c_1pep_c_1_3','1') =e= f('co2_c_1','0')*f('pep_c_1_3','1')+f('co2_c_1','1')*f('pep_c_1_3','0');\\n\", \"eqn_condensation_rxn_29at2..f('co2_c_1pep_c_1_3','2') =e= f('co2_c_1','0')*f('pep_c_1_3','2')+f('co2_c_1','1')*f('pep_c_1_3','1');\\n\", \"eqn_condensation_rxn_29at3..f('co2_c_1pep_c_1_3','3') =e= f('co2_c_1','1')*f('pep_c_1_3','2');\\n\", \"eqn_condensation_rxn_30at0..f('co2_c_1pep_c_2','0') =e= f('co2_c_1','0')*f('pep_c_2','0');\\n\", \"eqn_condensation_rxn_30at1..f('co2_c_1pep_c_2','1') =e= f('co2_c_1','0')*f('pep_c_2','1')+f('co2_c_1','1')*f('pep_c_2','0');\\n\", \"eqn_condensation_rxn_30at2..f('co2_c_1pep_c_2','2') =e= f('co2_c_1','1')*f('pep_c_2','1');\\n\", \"eqn_condensation_rxn_31at0..f('co2_c_1pep_c_2_3','0') =e= f('co2_c_1','0')*f('pep_c_2_3','0');\\n\", \"eqn_condensation_rxn_31at1..f('co2_c_1pep_c_2_3','1') =e= f('co2_c_1','0')*f('pep_c_2_3','1')+f('co2_c_1','1')*f('pep_c_2_3','0');\\n\", \"eqn_condensation_rxn_31at2..f('co2_c_1pep_c_2_3','2') =e= f('co2_c_1','0')*f('pep_c_2_3','2')+f('co2_c_1','1')*f('pep_c_2_3','1');\\n\", \"eqn_condensation_rxn_31at3..f('co2_c_1pep_c_2_3','3') =e= f('co2_c_1','1')*f('pep_c_2_3','2');\\n\", \"eqn_condensation_rxn_32at0..f('co2_c_1pep_c_3','0') =e= f('co2_c_1','0')*f('pep_c_3','0');\\n\", \"eqn_condensation_rxn_32at1..f('co2_c_1pep_c_3','1') =e= f('co2_c_1','0')*f('pep_c_3','1')+f('co2_c_1','1')*f('pep_c_3','0');\\n\", \"eqn_condensation_rxn_32at2..f('co2_c_1pep_c_3','2') =e= f('co2_c_1','1')*f('pep_c_3','1');\\n\", \"eqn_condensation_rxn_33at0..f('TAC3_c_1_2_3g3p_c_1_2_3','0') =e= f('TAC3_c_1_2_3','0')*f('g3p_c_1_2_3','0');\\n\", \"eqn_condensation_rxn_33at1..f('TAC3_c_1_2_3g3p_c_1_2_3','1') =e= f('TAC3_c_1_2_3','0')*f('g3p_c_1_2_3','1')+f('TAC3_c_1_2_3','1')*f('g3p_c_1_2_3','0');\\n\", \"eqn_condensation_rxn_33at2..f('TAC3_c_1_2_3g3p_c_1_2_3','2') =e= f('TAC3_c_1_2_3','0')*f('g3p_c_1_2_3','2')+f('TAC3_c_1_2_3','1')*f('g3p_c_1_2_3','1')+f('TAC3_c_1_2_3','2')*f('g3p_c_1_2_3','0');\\n\", \"eqn_condensation_rxn_33at3..f('TAC3_c_1_2_3g3p_c_1_2_3','3') =e= f('TAC3_c_1_2_3','0')*f('g3p_c_1_2_3','3')+f('TAC3_c_1_2_3','1')*f('g3p_c_1_2_3','2')+f('TAC3_c_1_2_3','2')*f('g3p_c_1_2_3','1')+f('TAC3_c_1_2_3','3')*f('g3p_c_1_2_3','0');\\n\", \"eqn_condensation_rxn_33at4..f('TAC3_c_1_2_3g3p_c_1_2_3','4') =e= f('TAC3_c_1_2_3','1')*f('g3p_c_1_2_3','3')+f('TAC3_c_1_2_3','2')*f('g3p_c_1_2_3','2')+f('TAC3_c_1_2_3','3')*f('g3p_c_1_2_3','1');\\n\", \"eqn_condensation_rxn_33at5..f('TAC3_c_1_2_3g3p_c_1_2_3','5') =e= f('TAC3_c_1_2_3','2')*f('g3p_c_1_2_3','3')+f('TAC3_c_1_2_3','3')*f('g3p_c_1_2_3','2');\\n\", \"eqn_condensation_rxn_33at6..f('TAC3_c_1_2_3g3p_c_1_2_3','6') =e= f('TAC3_c_1_2_3','3')*f('g3p_c_1_2_3','3');\\n\", \"eqn_condensation_rxn_34at0..f('TAC3_c_2_3g3p_c_1_2_3','0') =e= f('TAC3_c_2_3','0')*f('g3p_c_1_2_3','0');\\n\", \"eqn_condensation_rxn_34at1..f('TAC3_c_2_3g3p_c_1_2_3','1') =e= f('TAC3_c_2_3','0')*f('g3p_c_1_2_3','1')+f('TAC3_c_2_3','1')*f('g3p_c_1_2_3','0');\\n\", \"eqn_condensation_rxn_34at2..f('TAC3_c_2_3g3p_c_1_2_3','2') =e= f('TAC3_c_2_3','0')*f('g3p_c_1_2_3','2')+f('TAC3_c_2_3','1')*f('g3p_c_1_2_3','1')+f('TAC3_c_2_3','2')*f('g3p_c_1_2_3','0');\\n\", \"eqn_condensation_rxn_34at3..f('TAC3_c_2_3g3p_c_1_2_3','3') =e= f('TAC3_c_2_3','0')*f('g3p_c_1_2_3','3')+f('TAC3_c_2_3','1')*f('g3p_c_1_2_3','2')+f('TAC3_c_2_3','2')*f('g3p_c_1_2_3','1');\\n\", \"eqn_condensation_rxn_34at4..f('TAC3_c_2_3g3p_c_1_2_3','4') =e= f('TAC3_c_2_3','1')*f('g3p_c_1_2_3','3')+f('TAC3_c_2_3','2')*f('g3p_c_1_2_3','2');\\n\", \"eqn_condensation_rxn_34at5..f('TAC3_c_2_3g3p_c_1_2_3','5') =e= f('TAC3_c_2_3','2')*f('g3p_c_1_2_3','3');\\n\", \"eqn_condensation_rxn_35at0..f('TAC3_c_3g3p_c_1_2_3','0') =e= f('TAC3_c_3','0')*f('g3p_c_1_2_3','0');\\n\", \"eqn_condensation_rxn_35at1..f('TAC3_c_3g3p_c_1_2_3','1') =e= f('TAC3_c_3','0')*f('g3p_c_1_2_3','1')+f('TAC3_c_3','1')*f('g3p_c_1_2_3','0');\\n\", \"eqn_condensation_rxn_35at2..f('TAC3_c_3g3p_c_1_2_3','2') =e= f('TAC3_c_3','0')*f('g3p_c_1_2_3','2')+f('TAC3_c_3','1')*f('g3p_c_1_2_3','1');\\n\", \"eqn_condensation_rxn_35at3..f('TAC3_c_3g3p_c_1_2_3','3') =e= f('TAC3_c_3','0')*f('g3p_c_1_2_3','3')+f('TAC3_c_3','1')*f('g3p_c_1_2_3','2');\\n\", \"eqn_condensation_rxn_35at4..f('TAC3_c_3g3p_c_1_2_3','4') =e= f('TAC3_c_3','1')*f('g3p_c_1_2_3','3');\\n\", \"eqn_condensation_rxn_36at0..f('TAC3_c_1_2_3e4p_c_1_2_3_4','0') =e= f('TAC3_c_1_2_3','0')*f('e4p_c_1_2_3_4','0');\\n\", \"eqn_condensation_rxn_36at1..f('TAC3_c_1_2_3e4p_c_1_2_3_4','1') =e= f('TAC3_c_1_2_3','0')*f('e4p_c_1_2_3_4','1')+f('TAC3_c_1_2_3','1')*f('e4p_c_1_2_3_4','0');\\n\", \"eqn_condensation_rxn_36at2..f('TAC3_c_1_2_3e4p_c_1_2_3_4','2') =e= f('TAC3_c_1_2_3','0')*f('e4p_c_1_2_3_4','2')+f('TAC3_c_1_2_3','1')*f('e4p_c_1_2_3_4','1')+f('TAC3_c_1_2_3','2')*f('e4p_c_1_2_3_4','0');\\n\", \"eqn_condensation_rxn_36at3..f('TAC3_c_1_2_3e4p_c_1_2_3_4','3') =e= f('TAC3_c_1_2_3','0')*f('e4p_c_1_2_3_4','3')+f('TAC3_c_1_2_3','1')*f('e4p_c_1_2_3_4','2')+f('TAC3_c_1_2_3','2')*f('e4p_c_1_2_3_4','1')+f('TAC3_c_1_2_3','3')*f('e4p_c_1_2_3_4','0');\\n\", \"eqn_condensation_rxn_36at4..f('TAC3_c_1_2_3e4p_c_1_2_3_4','4') =e= f('TAC3_c_1_2_3','0')*f('e4p_c_1_2_3_4','4')+f('TAC3_c_1_2_3','1')*f('e4p_c_1_2_3_4','3')+f('TAC3_c_1_2_3','2')*f('e4p_c_1_2_3_4','2')+f('TAC3_c_1_2_3','3')*f('e4p_c_1_2_3_4','1');\\n\", \"eqn_condensation_rxn_36at5..f('TAC3_c_1_2_3e4p_c_1_2_3_4','5') =e= f('TAC3_c_1_2_3','1')*f('e4p_c_1_2_3_4','4')+f('TAC3_c_1_2_3','2')*f('e4p_c_1_2_3_4','3')+f('TAC3_c_1_2_3','3')*f('e4p_c_1_2_3_4','2');\\n\", \"eqn_condensation_rxn_36at6..f('TAC3_c_1_2_3e4p_c_1_2_3_4','6') =e= f('TAC3_c_1_2_3','2')*f('e4p_c_1_2_3_4','4')+f('TAC3_c_1_2_3','3')*f('e4p_c_1_2_3_4','3');\\n\", \"eqn_condensation_rxn_36at7..f('TAC3_c_1_2_3e4p_c_1_2_3_4','7') =e= f('TAC3_c_1_2_3','3')*f('e4p_c_1_2_3_4','4');\\n\", \"eqn_condensation_rxn_37at0..f('TAC3_c_3e4p_c_1','0') =e= f('TAC3_c_3','0')*f('e4p_c_1','0');\\n\", \"eqn_condensation_rxn_37at1..f('TAC3_c_3e4p_c_1','1') =e= f('TAC3_c_3','0')*f('e4p_c_1','1')+f('TAC3_c_3','1')*f('e4p_c_1','0');\\n\", \"eqn_condensation_rxn_37at2..f('TAC3_c_3e4p_c_1','2') =e= f('TAC3_c_3','1')*f('e4p_c_1','1');\\n\", \"eqn_condensation_rxn_38at0..f('TAC3_c_3e4p_c_1_2_3_4','0') =e= f('TAC3_c_3','0')*f('e4p_c_1_2_3_4','0');\\n\", \"eqn_condensation_rxn_38at1..f('TAC3_c_3e4p_c_1_2_3_4','1') =e= f('TAC3_c_3','0')*f('e4p_c_1_2_3_4','1')+f('TAC3_c_3','1')*f('e4p_c_1_2_3_4','0');\\n\", \"eqn_condensation_rxn_38at2..f('TAC3_c_3e4p_c_1_2_3_4','2') =e= f('TAC3_c_3','0')*f('e4p_c_1_2_3_4','2')+f('TAC3_c_3','1')*f('e4p_c_1_2_3_4','1');\\n\", \"eqn_condensation_rxn_38at3..f('TAC3_c_3e4p_c_1_2_3_4','3') =e= f('TAC3_c_3','0')*f('e4p_c_1_2_3_4','3')+f('TAC3_c_3','1')*f('e4p_c_1_2_3_4','2');\\n\", \"eqn_condensation_rxn_38at4..f('TAC3_c_3e4p_c_1_2_3_4','4') =e= f('TAC3_c_3','0')*f('e4p_c_1_2_3_4','4')+f('TAC3_c_3','1')*f('e4p_c_1_2_3_4','3');\\n\", \"eqn_condensation_rxn_38at5..f('TAC3_c_3e4p_c_1_2_3_4','5') =e= f('TAC3_c_3','1')*f('e4p_c_1_2_3_4','4');\\n\", \"eqn_condensation_rxn_39at0..f('TKC2_c_1_2g3p_c_1_2_3','0') =e= f('TKC2_c_1_2','0')*f('g3p_c_1_2_3','0');\\n\", \"eqn_condensation_rxn_39at1..f('TKC2_c_1_2g3p_c_1_2_3','1') =e= f('TKC2_c_1_2','0')*f('g3p_c_1_2_3','1')+f('TKC2_c_1_2','1')*f('g3p_c_1_2_3','0');\\n\", \"eqn_condensation_rxn_39at2..f('TKC2_c_1_2g3p_c_1_2_3','2') =e= f('TKC2_c_1_2','0')*f('g3p_c_1_2_3','2')+f('TKC2_c_1_2','1')*f('g3p_c_1_2_3','1')+f('TKC2_c_1_2','2')*f('g3p_c_1_2_3','0');\\n\", \"eqn_condensation_rxn_39at3..f('TKC2_c_1_2g3p_c_1_2_3','3') =e= f('TKC2_c_1_2','0')*f('g3p_c_1_2_3','3')+f('TKC2_c_1_2','1')*f('g3p_c_1_2_3','2')+f('TKC2_c_1_2','2')*f('g3p_c_1_2_3','1');\\n\", \"eqn_condensation_rxn_39at4..f('TKC2_c_1_2g3p_c_1_2_3','4') =e= f('TKC2_c_1_2','1')*f('g3p_c_1_2_3','3')+f('TKC2_c_1_2','2')*f('g3p_c_1_2_3','2');\\n\", \"eqn_condensation_rxn_39at5..f('TKC2_c_1_2g3p_c_1_2_3','5') =e= f('TKC2_c_1_2','2')*f('g3p_c_1_2_3','3');\\n\", \"eqn_condensation_rxn_40at0..f('TKC2_c_2g3p_c_1_2_3','0') =e= f('TKC2_c_2','0')*f('g3p_c_1_2_3','0');\\n\", \"eqn_condensation_rxn_40at1..f('TKC2_c_2g3p_c_1_2_3','1') =e= f('TKC2_c_2','0')*f('g3p_c_1_2_3','1')+f('TKC2_c_2','1')*f('g3p_c_1_2_3','0');\\n\", \"eqn_condensation_rxn_40at2..f('TKC2_c_2g3p_c_1_2_3','2') =e= f('TKC2_c_2','0')*f('g3p_c_1_2_3','2')+f('TKC2_c_2','1')*f('g3p_c_1_2_3','1');\\n\", \"eqn_condensation_rxn_40at3..f('TKC2_c_2g3p_c_1_2_3','3') =e= f('TKC2_c_2','0')*f('g3p_c_1_2_3','3')+f('TKC2_c_2','1')*f('g3p_c_1_2_3','2');\\n\", \"eqn_condensation_rxn_40at4..f('TKC2_c_2g3p_c_1_2_3','4') =e= f('TKC2_c_2','1')*f('g3p_c_1_2_3','3');\\n\", \"eqn_condensation_rxn_41at0..f('TKC2_c_1e4p_c_1','0') =e= f('TKC2_c_1','0')*f('e4p_c_1','0');\\n\", \"eqn_condensation_rxn_41at1..f('TKC2_c_1e4p_c_1','1') =e= f('TKC2_c_1','0')*f('e4p_c_1','1')+f('TKC2_c_1','1')*f('e4p_c_1','0');\\n\", \"eqn_condensation_rxn_41at2..f('TKC2_c_1e4p_c_1','2') =e= f('TKC2_c_1','1')*f('e4p_c_1','1');\\n\", \"eqn_condensation_rxn_42at0..f('TKC2_c_1_2e4p_c_1','0') =e= f('TKC2_c_1_2','0')*f('e4p_c_1','0');\\n\", \"eqn_condensation_rxn_42at1..f('TKC2_c_1_2e4p_c_1','1') =e= f('TKC2_c_1_2','0')*f('e4p_c_1','1')+f('TKC2_c_1_2','1')*f('e4p_c_1','0');\\n\", \"eqn_condensation_rxn_42at2..f('TKC2_c_1_2e4p_c_1','2') =e= f('TKC2_c_1_2','1')*f('e4p_c_1','1')+f('TKC2_c_1_2','2')*f('e4p_c_1','0');\\n\", \"eqn_condensation_rxn_42at3..f('TKC2_c_1_2e4p_c_1','3') =e= f('TKC2_c_1_2','2')*f('e4p_c_1','1');\\n\", \"eqn_condensation_rxn_43at0..f('TKC2_c_1_2e4p_c_1_2_3_4','0') =e= f('TKC2_c_1_2','0')*f('e4p_c_1_2_3_4','0');\\n\", \"eqn_condensation_rxn_43at1..f('TKC2_c_1_2e4p_c_1_2_3_4','1') =e= f('TKC2_c_1_2','0')*f('e4p_c_1_2_3_4','1')+f('TKC2_c_1_2','1')*f('e4p_c_1_2_3_4','0');\\n\", \"eqn_condensation_rxn_43at2..f('TKC2_c_1_2e4p_c_1_2_3_4','2') =e= f('TKC2_c_1_2','0')*f('e4p_c_1_2_3_4','2')+f('TKC2_c_1_2','1')*f('e4p_c_1_2_3_4','1')+f('TKC2_c_1_2','2')*f('e4p_c_1_2_3_4','0');\\n\", \"eqn_condensation_rxn_43at3..f('TKC2_c_1_2e4p_c_1_2_3_4','3') =e= f('TKC2_c_1_2','0')*f('e4p_c_1_2_3_4','3')+f('TKC2_c_1_2','1')*f('e4p_c_1_2_3_4','2')+f('TKC2_c_1_2','2')*f('e4p_c_1_2_3_4','1');\\n\", \"eqn_condensation_rxn_43at4..f('TKC2_c_1_2e4p_c_1_2_3_4','4') =e= f('TKC2_c_1_2','0')*f('e4p_c_1_2_3_4','4')+f('TKC2_c_1_2','1')*f('e4p_c_1_2_3_4','3')+f('TKC2_c_1_2','2')*f('e4p_c_1_2_3_4','2');\\n\", \"eqn_condensation_rxn_43at5..f('TKC2_c_1_2e4p_c_1_2_3_4','5') =e= f('TKC2_c_1_2','1')*f('e4p_c_1_2_3_4','4')+f('TKC2_c_1_2','2')*f('e4p_c_1_2_3_4','3');\\n\", \"eqn_condensation_rxn_43at6..f('TKC2_c_1_2e4p_c_1_2_3_4','6') =e= f('TKC2_c_1_2','2')*f('e4p_c_1_2_3_4','4');\\n\", \"eqn_condensation_rxn_44at0..f('TKC2_c_2e4p_c_1','0') =e= f('TKC2_c_2','0')*f('e4p_c_1','0');\\n\", \"eqn_condensation_rxn_44at1..f('TKC2_c_2e4p_c_1','1') =e= f('TKC2_c_2','0')*f('e4p_c_1','1')+f('TKC2_c_2','1')*f('e4p_c_1','0');\\n\", \"eqn_condensation_rxn_44at2..f('TKC2_c_2e4p_c_1','2') =e= f('TKC2_c_2','1')*f('e4p_c_1','1');\\n\", \"eqn_condensation_rxn_45at0..f('TKC2_c_2e4p_c_1_2_3_4','0') =e= f('TKC2_c_2','0')*f('e4p_c_1_2_3_4','0');\\n\", \"eqn_condensation_rxn_45at1..f('TKC2_c_2e4p_c_1_2_3_4','1') =e= f('TKC2_c_2','0')*f('e4p_c_1_2_3_4','1')+f('TKC2_c_2','1')*f('e4p_c_1_2_3_4','0');\\n\", \"eqn_condensation_rxn_45at2..f('TKC2_c_2e4p_c_1_2_3_4','2') =e= f('TKC2_c_2','0')*f('e4p_c_1_2_3_4','2')+f('TKC2_c_2','1')*f('e4p_c_1_2_3_4','1');\\n\", \"eqn_condensation_rxn_45at3..f('TKC2_c_2e4p_c_1_2_3_4','3') =e= f('TKC2_c_2','0')*f('e4p_c_1_2_3_4','3')+f('TKC2_c_2','1')*f('e4p_c_1_2_3_4','2');\\n\", \"eqn_condensation_rxn_45at4..f('TKC2_c_2e4p_c_1_2_3_4','4') =e= f('TKC2_c_2','0')*f('e4p_c_1_2_3_4','4')+f('TKC2_c_2','1')*f('e4p_c_1_2_3_4','3');\\n\", \"eqn_condensation_rxn_45at5..f('TKC2_c_2e4p_c_1_2_3_4','5') =e= f('TKC2_c_2','1')*f('e4p_c_1_2_3_4','4');\\n\", \"eqn_condensation_rxn_46at0..f('TKC2_c_1r5p_c_1','0') =e= f('TKC2_c_1','0')*f('r5p_c_1','0');\\n\", \"eqn_condensation_rxn_46at1..f('TKC2_c_1r5p_c_1','1') =e= f('TKC2_c_1','0')*f('r5p_c_1','1')+f('TKC2_c_1','1')*f('r5p_c_1','0');\\n\", \"eqn_condensation_rxn_46at2..f('TKC2_c_1r5p_c_1','2') =e= f('TKC2_c_1','1')*f('r5p_c_1','1');\\n\", \"eqn_condensation_rxn_47at0..f('TKC2_c_1_2r5p_c_1','0') =e= f('TKC2_c_1_2','0')*f('r5p_c_1','0');\\n\", \"eqn_condensation_rxn_47at1..f('TKC2_c_1_2r5p_c_1','1') =e= f('TKC2_c_1_2','0')*f('r5p_c_1','1')+f('TKC2_c_1_2','1')*f('r5p_c_1','0');\\n\", \"eqn_condensation_rxn_47at2..f('TKC2_c_1_2r5p_c_1','2') =e= f('TKC2_c_1_2','1')*f('r5p_c_1','1')+f('TKC2_c_1_2','2')*f('r5p_c_1','0');\\n\", \"eqn_condensation_rxn_47at3..f('TKC2_c_1_2r5p_c_1','3') =e= f('TKC2_c_1_2','2')*f('r5p_c_1','1');\\n\", \"eqn_condensation_rxn_48at0..f('TKC2_c_1_2r5p_c_1_2_3_4_5','0') =e= f('TKC2_c_1_2','0')*f('r5p_c_1_2_3_4_5','0');\\n\", \"eqn_condensation_rxn_48at1..f('TKC2_c_1_2r5p_c_1_2_3_4_5','1') =e= f('TKC2_c_1_2','0')*f('r5p_c_1_2_3_4_5','1')+f('TKC2_c_1_2','1')*f('r5p_c_1_2_3_4_5','0');\\n\", \"eqn_condensation_rxn_48at2..f('TKC2_c_1_2r5p_c_1_2_3_4_5','2') =e= f('TKC2_c_1_2','0')*f('r5p_c_1_2_3_4_5','2')+f('TKC2_c_1_2','1')*f('r5p_c_1_2_3_4_5','1')+f('TKC2_c_1_2','2')*f('r5p_c_1_2_3_4_5','0');\\n\", \"eqn_condensation_rxn_48at3..f('TKC2_c_1_2r5p_c_1_2_3_4_5','3') =e= f('TKC2_c_1_2','0')*f('r5p_c_1_2_3_4_5','3')+f('TKC2_c_1_2','1')*f('r5p_c_1_2_3_4_5','2')+f('TKC2_c_1_2','2')*f('r5p_c_1_2_3_4_5','1');\\n\", \"eqn_condensation_rxn_48at4..f('TKC2_c_1_2r5p_c_1_2_3_4_5','4') =e= f('TKC2_c_1_2','0')*f('r5p_c_1_2_3_4_5','4')+f('TKC2_c_1_2','1')*f('r5p_c_1_2_3_4_5','3')+f('TKC2_c_1_2','2')*f('r5p_c_1_2_3_4_5','2');\\n\", \"eqn_condensation_rxn_48at5..f('TKC2_c_1_2r5p_c_1_2_3_4_5','5') =e= f('TKC2_c_1_2','0')*f('r5p_c_1_2_3_4_5','5')+f('TKC2_c_1_2','1')*f('r5p_c_1_2_3_4_5','4')+f('TKC2_c_1_2','2')*f('r5p_c_1_2_3_4_5','3');\\n\", \"eqn_condensation_rxn_48at6..f('TKC2_c_1_2r5p_c_1_2_3_4_5','6') =e= f('TKC2_c_1_2','1')*f('r5p_c_1_2_3_4_5','5')+f('TKC2_c_1_2','2')*f('r5p_c_1_2_3_4_5','4');\\n\", \"eqn_condensation_rxn_48at7..f('TKC2_c_1_2r5p_c_1_2_3_4_5','7') =e= f('TKC2_c_1_2','2')*f('r5p_c_1_2_3_4_5','5');\\n\", \"eqn_condensation_rxn_49at0..f('TKC2_c_2r5p_c_1','0') =e= f('TKC2_c_2','0')*f('r5p_c_1','0');\\n\", \"eqn_condensation_rxn_49at1..f('TKC2_c_2r5p_c_1','1') =e= f('TKC2_c_2','0')*f('r5p_c_1','1')+f('TKC2_c_2','1')*f('r5p_c_1','0');\\n\", \"eqn_condensation_rxn_49at2..f('TKC2_c_2r5p_c_1','2') =e= f('TKC2_c_2','1')*f('r5p_c_1','1');\\n\"], ['eqn_condensation_rxn_1at0\\n', 'eqn_condensation_rxn_1at1\\n', 'eqn_condensation_rxn_1at2\\n', 'eqn_condensation_rxn_2at0\\n', 'eqn_condensation_rxn_2at1\\n', 'eqn_condensation_rxn_2at2\\n', 'eqn_condensation_rxn_2at3\\n', 'eqn_condensation_rxn_3at0\\n', 'eqn_condensation_rxn_3at1\\n', 'eqn_condensation_rxn_3at2\\n', 'eqn_condensation_rxn_4at0\\n', 'eqn_condensation_rxn_4at1\\n', 'eqn_condensation_rxn_4at2\\n', 'eqn_condensation_rxn_4at3\\n', 'eqn_condensation_rxn_5at0\\n', 'eqn_condensation_rxn_5at1\\n', 'eqn_condensation_rxn_5at2\\n', 'eqn_condensation_rxn_6at0\\n', 'eqn_condensation_rxn_6at1\\n', 'eqn_condensation_rxn_6at2\\n', 'eqn_condensation_rxn_6at3\\n', 'eqn_condensation_rxn_7at0\\n', 'eqn_condensation_rxn_7at1\\n', 'eqn_condensation_rxn_7at2\\n', 'eqn_condensation_rxn_7at3\\n', 'eqn_condensation_rxn_7at4\\n', 'eqn_condensation_rxn_8at0\\n', 'eqn_condensation_rxn_8at1\\n', 'eqn_condensation_rxn_8at2\\n', 'eqn_condensation_rxn_8at3\\n', 'eqn_condensation_rxn_9at0\\n', 'eqn_condensation_rxn_9at1\\n', 'eqn_condensation_rxn_9at2\\n', 'eqn_condensation_rxn_9at3\\n', 'eqn_condensation_rxn_9at4\\n', 'eqn_condensation_rxn_10at0\\n', 'eqn_condensation_rxn_10at1\\n', 'eqn_condensation_rxn_10at2\\n', 'eqn_condensation_rxn_10at3\\n', 'eqn_condensation_rxn_11at0\\n', 'eqn_condensation_rxn_11at1\\n', 'eqn_condensation_rxn_11at2\\n', 'eqn_condensation_rxn_12at0\\n', 'eqn_condensation_rxn_12at1\\n', 'eqn_condensation_rxn_12at2\\n', 'eqn_condensation_rxn_12at3\\n', 'eqn_condensation_rxn_13at0\\n', 'eqn_condensation_rxn_13at1\\n', 'eqn_condensation_rxn_13at2\\n', 'eqn_condensation_rxn_14at0\\n', 'eqn_condensation_rxn_14at1\\n', 'eqn_condensation_rxn_14at2\\n', 'eqn_condensation_rxn_14at3\\n', 'eqn_condensation_rxn_15at0\\n', 'eqn_condensation_rxn_15at1\\n', 'eqn_condensation_rxn_15at2\\n', 'eqn_condensation_rxn_16at0\\n', 'eqn_condensation_rxn_16at1\\n', 'eqn_condensation_rxn_16at2\\n', 'eqn_condensation_rxn_16at3\\n', 'eqn_condensation_rxn_16at4\\n', 'eqn_condensation_rxn_16at5\\n', 'eqn_condensation_rxn_16at6\\n', 'eqn_condensation_rxn_17at0\\n', 'eqn_condensation_rxn_17at1\\n', 'eqn_condensation_rxn_17at2\\n', 'eqn_condensation_rxn_18at0\\n', 'eqn_condensation_rxn_18at1\\n', 'eqn_condensation_rxn_18at2\\n', 'eqn_condensation_rxn_18at3\\n', 'eqn_condensation_rxn_19at0\\n', 'eqn_condensation_rxn_19at1\\n', 'eqn_condensation_rxn_19at2\\n', 'eqn_condensation_rxn_20at0\\n', 'eqn_condensation_rxn_20at1\\n', 'eqn_condensation_rxn_20at2\\n', 'eqn_condensation_rxn_20at3\\n', 'eqn_condensation_rxn_21at0\\n', 'eqn_condensation_rxn_21at1\\n', 'eqn_condensation_rxn_21at2\\n', 'eqn_condensation_rxn_21at3\\n', 'eqn_condensation_rxn_21at4\\n', 'eqn_condensation_rxn_22at0\\n', 'eqn_condensation_rxn_22at1\\n', 'eqn_condensation_rxn_22at2\\n', 'eqn_condensation_rxn_22at3\\n', 'eqn_condensation_rxn_23at0\\n', 'eqn_condensation_rxn_23at1\\n', 'eqn_condensation_rxn_23at2\\n', 'eqn_condensation_rxn_24at0\\n', 'eqn_condensation_rxn_24at1\\n', 'eqn_condensation_rxn_24at2\\n', 'eqn_condensation_rxn_24at3\\n', 'eqn_condensation_rxn_25at0\\n', 'eqn_condensation_rxn_25at1\\n', 'eqn_condensation_rxn_25at2\\n', 'eqn_condensation_rxn_26at0\\n', 'eqn_condensation_rxn_26at1\\n', 'eqn_condensation_rxn_26at2\\n', 'eqn_condensation_rxn_27at0\\n', 'eqn_condensation_rxn_27at1\\n', 'eqn_condensation_rxn_27at2\\n', 'eqn_condensation_rxn_27at3\\n', 'eqn_condensation_rxn_28at0\\n', 'eqn_condensation_rxn_28at1\\n', 'eqn_condensation_rxn_28at2\\n', 'eqn_condensation_rxn_28at3\\n', 'eqn_condensation_rxn_28at4\\n', 'eqn_condensation_rxn_29at0\\n', 'eqn_condensation_rxn_29at1\\n', 'eqn_condensation_rxn_29at2\\n', 'eqn_condensation_rxn_29at3\\n', 'eqn_condensation_rxn_30at0\\n', 'eqn_condensation_rxn_30at1\\n', 'eqn_condensation_rxn_30at2\\n', 'eqn_condensation_rxn_31at0\\n', 'eqn_condensation_rxn_31at1\\n', 'eqn_condensation_rxn_31at2\\n', 'eqn_condensation_rxn_31at3\\n', 'eqn_condensation_rxn_32at0\\n', 'eqn_condensation_rxn_32at1\\n', 'eqn_condensation_rxn_32at2\\n', 'eqn_condensation_rxn_33at0\\n', 'eqn_condensation_rxn_33at1\\n', 'eqn_condensation_rxn_33at2\\n', 'eqn_condensation_rxn_33at3\\n', 'eqn_condensation_rxn_33at4\\n', 'eqn_condensation_rxn_33at5\\n', 'eqn_condensation_rxn_33at6\\n', 'eqn_condensation_rxn_34at0\\n', 'eqn_condensation_rxn_34at1\\n', 'eqn_condensation_rxn_34at2\\n', 'eqn_condensation_rxn_34at3\\n', 'eqn_condensation_rxn_34at4\\n', 'eqn_condensation_rxn_34at5\\n', 'eqn_condensation_rxn_35at0\\n', 'eqn_condensation_rxn_35at1\\n', 'eqn_condensation_rxn_35at2\\n', 'eqn_condensation_rxn_35at3\\n', 'eqn_condensation_rxn_35at4\\n', 'eqn_condensation_rxn_36at0\\n', 'eqn_condensation_rxn_36at1\\n', 'eqn_condensation_rxn_36at2\\n', 'eqn_condensation_rxn_36at3\\n', 'eqn_condensation_rxn_36at4\\n', 'eqn_condensation_rxn_36at5\\n', 'eqn_condensation_rxn_36at6\\n', 'eqn_condensation_rxn_36at7\\n', 'eqn_condensation_rxn_37at0\\n', 'eqn_condensation_rxn_37at1\\n', 'eqn_condensation_rxn_37at2\\n', 'eqn_condensation_rxn_38at0\\n', 'eqn_condensation_rxn_38at1\\n', 'eqn_condensation_rxn_38at2\\n', 'eqn_condensation_rxn_38at3\\n', 'eqn_condensation_rxn_38at4\\n', 'eqn_condensation_rxn_38at5\\n', 'eqn_condensation_rxn_39at0\\n', 'eqn_condensation_rxn_39at1\\n', 'eqn_condensation_rxn_39at2\\n', 'eqn_condensation_rxn_39at3\\n', 'eqn_condensation_rxn_39at4\\n', 'eqn_condensation_rxn_39at5\\n', 'eqn_condensation_rxn_40at0\\n', 'eqn_condensation_rxn_40at1\\n', 'eqn_condensation_rxn_40at2\\n', 'eqn_condensation_rxn_40at3\\n', 'eqn_condensation_rxn_40at4\\n', 'eqn_condensation_rxn_41at0\\n', 'eqn_condensation_rxn_41at1\\n', 'eqn_condensation_rxn_41at2\\n', 'eqn_condensation_rxn_42at0\\n', 'eqn_condensation_rxn_42at1\\n', 'eqn_condensation_rxn_42at2\\n', 'eqn_condensation_rxn_42at3\\n', 'eqn_condensation_rxn_43at0\\n', 'eqn_condensation_rxn_43at1\\n', 'eqn_condensation_rxn_43at2\\n', 'eqn_condensation_rxn_43at3\\n', 'eqn_condensation_rxn_43at4\\n', 'eqn_condensation_rxn_43at5\\n', 'eqn_condensation_rxn_43at6\\n', 'eqn_condensation_rxn_44at0\\n', 'eqn_condensation_rxn_44at1\\n', 'eqn_condensation_rxn_44at2\\n', 'eqn_condensation_rxn_45at0\\n', 'eqn_condensation_rxn_45at1\\n', 'eqn_condensation_rxn_45at2\\n', 'eqn_condensation_rxn_45at3\\n', 'eqn_condensation_rxn_45at4\\n', 'eqn_condensation_rxn_45at5\\n', 'eqn_condensation_rxn_46at0\\n', 'eqn_condensation_rxn_46at1\\n', 'eqn_condensation_rxn_46at2\\n', 'eqn_condensation_rxn_47at0\\n', 'eqn_condensation_rxn_47at1\\n', 'eqn_condensation_rxn_47at2\\n', 'eqn_condensation_rxn_47at3\\n', 'eqn_condensation_rxn_48at0\\n', 'eqn_condensation_rxn_48at1\\n', 'eqn_condensation_rxn_48at2\\n', 'eqn_condensation_rxn_48at3\\n', 'eqn_condensation_rxn_48at4\\n', 'eqn_condensation_rxn_48at5\\n', 'eqn_condensation_rxn_48at6\\n', 'eqn_condensation_rxn_48at7\\n', 'eqn_condensation_rxn_49at0\\n', 'eqn_condensation_rxn_49at1\\n', 'eqn_condensation_rxn_49at2\\n'])\n"
     ]
    }
   ],
   "source": [
    "CondGAMSReacs = EMUtransitionListA.getCondGAMSReacs()\n",
    "print CondGAMSReacs"
   ]
  },
  {
   "cell_type": "markdown",
   "metadata": {},
   "source": [
    "## AtomTransitionList"
   ]
  },
  {
   "cell_type": "markdown",
   "metadata": {},
   "source": [
    "The *AtomTransitionList* class stores list of atom (carbon) transitions:"
   ]
  },
  {
   "cell_type": "code",
   "execution_count": 39,
   "metadata": {
    "collapsed": false
   },
   "outputs": [],
   "source": [
    "filename = os.environ[\"QUANTMODELPATH\"]+'/data/tests/TCAtoy/REACTIONStca.txt'\n",
    "\n",
    "Ctransitions      = enhancedLists.AtomTransitionList(filename)"
   ]
  },
  {
   "cell_type": "markdown",
   "metadata": {},
   "source": [
    "One can use the **getReactionNetwork** to automatically obtain the Reaction Networks from the carbon transitions:"
   ]
  },
  {
   "cell_type": "code",
   "execution_count": 40,
   "metadata": {
    "collapsed": false
   },
   "outputs": [],
   "source": [
    "C13ReactionNetwork = ReactionNetworks.C13ReactionNetwork(Ctransitions.getReactionNetwork())"
   ]
  },
  {
   "cell_type": "markdown",
   "metadata": {},
   "source": [
    "and use the **findEMUTransitions2Source** to find all the emu transitions going from a target emu all the way to the source metabolite (decomposition of atom transitions into emu transitions):"
   ]
  },
  {
   "cell_type": "code",
   "execution_count": 41,
   "metadata": {
    "collapsed": false,
    "scrolled": true
   },
   "outputs": [
    {
     "data": {
      "text/plain": [
       "[(1.0, 'r3, akg_c_3_4_5 --> glu_L_c_3_4_5'),\n",
       " (1.0, 'r2, cit_c_3_4_5 --> akg_c_3_4_5'),\n",
       " (1.0, 'r1, accoa_c_1_2 + oac_c_2 --> cit_c_3_4_5'),\n",
       " (0.5, 'r6, fum_c_2 --> oac_c_2'),\n",
       " (0.5, 'r6, fum_c_3 --> oac_c_2'),\n",
       " (0.5, 'r5, suc_c_3 --> fum_c_2'),\n",
       " (0.5, 'r5, suc_c_2 --> fum_c_2'),\n",
       " (0.5, 'r4, akg_c_3 --> suc_c_2'),\n",
       " (0.5, 'r4, akg_c_4 --> suc_c_2'),\n",
       " (1.0, 'r2, cit_c_3 --> akg_c_3'),\n",
       " (1.0, 'r1, oac_c_2 --> cit_c_3'),\n",
       " (1.0, 'r8, asp_c_2 --> oac_c_2'),\n",
       " (1.0, 'r2, cit_c_4 --> akg_c_4'),\n",
       " (1.0, 'r1, accoa_c_2 --> cit_c_4'),\n",
       " (0.5, 'r4, akg_c_3 --> suc_c_3'),\n",
       " (0.5, 'r4, akg_c_4 --> suc_c_3'),\n",
       " (0.5, 'r7, oac_c_3 --> fum_c_2'),\n",
       " (0.5, 'r7, oac_c_2 --> fum_c_2'),\n",
       " (0.5, 'r6, fum_c_3 --> oac_c_3'),\n",
       " (0.5, 'r6, fum_c_2 --> oac_c_3'),\n",
       " (0.5, 'r5, suc_c_2 --> fum_c_3'),\n",
       " (0.5, 'r5, suc_c_3 --> fum_c_3'),\n",
       " (0.5, 'r7, oac_c_2 --> fum_c_3'),\n",
       " (0.5, 'r7, oac_c_3 --> fum_c_3'),\n",
       " (1.0, 'r8, asp_c_3 --> oac_c_3')]"
      ]
     },
     "execution_count": 41,
     "metadata": {},
     "output_type": "execute_result"
    }
   ],
   "source": [
    "emuTarget = core.EMU('glu_L_c_3_4_5')\n",
    "Ctransitions.findEMUTransitions2Source(emuTarget,['accoa_c','asp_c'],cleanCache=True)"
   ]
  },
  {
   "cell_type": "markdown",
   "metadata": {},
   "source": [
    "The function **getTransitionDict** provides a dictionary of atom transitions:"
   ]
  },
  {
   "cell_type": "code",
   "execution_count": 42,
   "metadata": {
    "collapsed": false,
    "scrolled": true
   },
   "outputs": [
    {
     "name": "stdout",
     "output_type": "stream",
     "text": [
      "r1\toac_c + accoa_c --> cit_c\tabcd + ef : dcbfea\n",
      "r3\takg_c --> glu_L_c\tabcde : abcde\n",
      "r5\tsuc_c --> fum_c\tabcd : (abcd;dcba)\n"
     ]
    }
   ],
   "source": [
    "transDict = Ctransitions.getTransitionDict()\n",
    "print transDict['r1']\n",
    "print transDict['r3']\n",
    "print transDict['r5']"
   ]
  },
  {
   "cell_type": "markdown",
   "metadata": {},
   "source": [
    "and the function **getMadeInDictionary** provides a dictionary of which transitions a particular metabolite (e.g. oaa_c) is generarated in:"
   ]
  },
  {
   "cell_type": "code",
   "execution_count": 43,
   "metadata": {
    "collapsed": false
   },
   "outputs": [
    {
     "name": "stdout",
     "output_type": "stream",
     "text": [
      "r5\tsuc_c --> fum_c\tabcd : (abcd;dcba)\n",
      "r7\toac_c --> fum_c\tabcd : (abcd;dcba)\n"
     ]
    }
   ],
   "source": [
    "madeInDict = Ctransitions.getMadeInDictionary()\n",
    "for AtTrans in madeInDict['fum_c']:\n",
    "    print AtTrans"
   ]
  },
  {
   "cell_type": "markdown",
   "metadata": {},
   "source": [
    "You can use the **getCarbonDict** to get a dictionary of the carbons for each metabolite based on the transition information (e.g. abcd --> 4 carbons):"
   ]
  },
  {
   "cell_type": "code",
   "execution_count": 44,
   "metadata": {
    "collapsed": false
   },
   "outputs": [
    {
     "name": "stdout",
     "output_type": "stream",
     "text": [
      "{'akg_c': 5, 'fum_c': 4, 'glu_L_c': 5, 'asp_c': 4, 'co2ext_c': 1, 'cit_c': 6, 'oac_c': 4, 'accoa_c': 2, 'suc_c': 4, 'co2_c': 1}\n"
     ]
    }
   ],
   "source": [
    "print Ctransitions.getCarbonDict()"
   ]
  },
  {
   "cell_type": "markdown",
   "metadata": {},
   "source": [
    "# References"
   ]
  },
  {
   "cell_type": "markdown",
   "metadata": {},
   "source": [
    "Toya, Yoshihiro, et al. \"13C‐metabolic flux analysis for batch culture of Escherichia coli and its pyk and pgi gene knockout mutants based on mass isotopomer distribution of intracellular metabolites.\" Biotechnology progress 26.4 (2010): 975-992."
   ]
  },
  {
   "cell_type": "markdown",
   "metadata": {},
   "source": [
    "Martín, Héctor García, et al. \"A method to constrain genome-scale models with 13 C labeling data.\" PLoS Comput Biol 11.9 (2015): e1004363."
   ]
  }
 ],
 "metadata": {
  "kernelspec": {
   "display_name": "jbeipython2",
   "language": "python",
   "name": "jbeipython2"
  },
  "language_info": {
   "codemirror_mode": {
    "name": "ipython",
    "version": 2
   },
   "file_extension": ".py",
   "mimetype": "text/x-python",
   "name": "python",
   "nbconvert_exporter": "python",
   "pygments_lexer": "ipython2",
   "version": "2.7.9"
  }
 },
 "nbformat": 4,
 "nbformat_minor": 0
}
