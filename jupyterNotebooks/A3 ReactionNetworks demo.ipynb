{
 "cells": [
  {
   "cell_type": "markdown",
   "metadata": {},
   "source": [
    "# A3: ReactionNetworks demo"
   ]
  },
  {
   "cell_type": "markdown",
   "metadata": {},
   "source": [
    "# Introduction"
   ]
  },
  {
   "cell_type": "markdown",
   "metadata": {},
   "source": [
    "This notebook demonstrates the functionality of the ReactionNetworks module. Classes included here are ReactionNetwork, C13ReactionNetwork and 2SReactionNetwork, which hold stochiometric networks, C13 transition networks and mixed stochiometric 13C transitions networks respectively.  "
   ]
  },
  {
   "cell_type": "markdown",
   "metadata": {},
   "source": [
    "# Setup"
   ]
  },
  {
   "cell_type": "markdown",
   "metadata": {},
   "source": [
    "First, we need to set the path and environment variable properly:"
   ]
  },
  {
   "cell_type": "code",
   "execution_count": 1,
   "metadata": {
    "collapsed": true
   },
   "outputs": [],
   "source": [
    "quantmodelDir = '/users/hgmartin/libraries/quantmodel'"
   ]
  },
  {
   "cell_type": "markdown",
   "metadata": {},
   "source": [
    "This is the only place where the jQMM library path needs to be set."
   ]
  },
  {
   "cell_type": "code",
   "execution_count": 2,
   "metadata": {
    "collapsed": true
   },
   "outputs": [],
   "source": [
    "%matplotlib inline\n",
    "\n",
    "import sys, os\n",
    "pythonPath = quantmodelDir+\"/code/core\"\n",
    "if pythonPath not in sys.path:\n",
    "    sys.path.append(pythonPath)\n",
    "os.environ[\"QUANTMODELPATH\"] = quantmodelDir"
   ]
  },
  {
   "cell_type": "markdown",
   "metadata": {},
   "source": [
    "Then import the needed classes:"
   ]
  },
  {
   "cell_type": "code",
   "execution_count": 3,
   "metadata": {
    "collapsed": false
   },
   "outputs": [],
   "source": [
    "import ReactionNetworks as RN\n",
    "import core, enhancedLists\n",
    "import numpy"
   ]
  },
  {
   "cell_type": "markdown",
   "metadata": {},
   "source": [
    "and get into a test directory:"
   ]
  },
  {
   "cell_type": "code",
   "execution_count": 4,
   "metadata": {
    "collapsed": false
   },
   "outputs": [
    {
     "name": "stdout",
     "output_type": "stream",
     "text": [
      "/mnt/nfs.jbei/nfs/users/hgmartin/tests\n"
     ]
    }
   ],
   "source": [
    "cd ~/tests"
   ]
  },
  {
   "cell_type": "markdown",
   "metadata": {},
   "source": [
    "# Classes description"
   ]
  },
  {
   "cell_type": "markdown",
   "metadata": {},
   "source": [
    "## ReactionNetwork class"
   ]
  },
  {
   "cell_type": "markdown",
   "metadata": {},
   "source": [
    "The ReactionNetwork class holds reaction networks with only stochiometric information, such as used for FBA. Let's create a reaction network from scratch by creating a few reactions (see core and enhancedLists module notebook for more details):"
   ]
  },
  {
   "cell_type": "code",
   "execution_count": 5,
   "metadata": {
    "collapsed": false
   },
   "outputs": [],
   "source": [
    "GLCpts = core.Reaction.from_string('GLCpts: glc_dsh_D_e + pep_c --> g6p_c + pyr_c')\n",
    "PGI    = core.Reaction.from_string('PGI: g6p_c <==> f6p_c')\n",
    "PFK    = core.Reaction.from_string('PFK: atp_c + f6p_c --> adp_c + fdp_c + h_c')"
   ]
  },
  {
   "cell_type": "code",
   "execution_count": 6,
   "metadata": {
    "collapsed": false
   },
   "outputs": [
    {
     "name": "stdout",
     "output_type": "stream",
     "text": [
      "GLCpts : glc_dsh_D_e + pep_c --> g6p_c + pyr_c\n",
      "PGI : g6p_c <==> f6p_c\n",
      "PFK : atp_c + f6p_c --> adp_c + fdp_c + h_c\n"
     ]
    }
   ],
   "source": [
    "print GLCpts.stoichLine()\n",
    "print PGI.stoichLine()\n",
    "print PFK.stoichLine()"
   ]
  },
  {
   "cell_type": "markdown",
   "metadata": {},
   "source": [
    "Once we have the reactions, we create a reactionList instance:"
   ]
  },
  {
   "cell_type": "code",
   "execution_count": 7,
   "metadata": {
    "collapsed": false
   },
   "outputs": [],
   "source": [
    "reactionList = enhancedLists.ReactionList([GLCpts,PGI,PFK])"
   ]
  },
  {
   "cell_type": "markdown",
   "metadata": {},
   "source": [
    "And, from there, we create a list of metabolites with getMetList and use test as name of the reaction network and include no notes ({}):"
   ]
  },
  {
   "cell_type": "code",
   "execution_count": 8,
   "metadata": {
    "collapsed": false
   },
   "outputs": [],
   "source": [
    "ReactionNetwork = RN.ReactionNetwork(('test',{},reactionList.getMetList(),reactionList))"
   ]
  },
  {
   "cell_type": "code",
   "execution_count": 9,
   "metadata": {
    "collapsed": false
   },
   "outputs": [
    {
     "name": "stdout",
     "output_type": "stream",
     "text": [
      "GLCpts\n",
      "PFK\n",
      "PGI\n"
     ]
    }
   ],
   "source": [
    "print ReactionNetwork.reactionList"
   ]
  },
  {
   "cell_type": "code",
   "execution_count": 10,
   "metadata": {
    "collapsed": false
   },
   "outputs": [
    {
     "name": "stdout",
     "output_type": "stream",
     "text": [
      "adp_c\n",
      "atp_c\n",
      "f6p_c\n",
      "f6p_c\n",
      "fdp_c\n",
      "g6p_c\n",
      "g6p_c\n",
      "glc_dsh_D_e\n",
      "h_c\n",
      "pep_c\n",
      "pyr_c\n"
     ]
    }
   ],
   "source": [
    "print ReactionNetwork.metList"
   ]
  },
  {
   "cell_type": "markdown",
   "metadata": {},
   "source": [
    "The **addReaction** method adds a reaction to the network:"
   ]
  },
  {
   "cell_type": "code",
   "execution_count": 11,
   "metadata": {
    "collapsed": false
   },
   "outputs": [
    {
     "data": {
      "text/plain": [
       "True"
      ]
     },
     "execution_count": 11,
     "metadata": {},
     "output_type": "execute_result"
    }
   ],
   "source": [
    "ReactionNetwork.addReaction('F6PA: f6p_c <==> dha_c + g3p_c')"
   ]
  },
  {
   "cell_type": "code",
   "execution_count": 12,
   "metadata": {
    "collapsed": false
   },
   "outputs": [
    {
     "name": "stdout",
     "output_type": "stream",
     "text": [
      "F6PA\n",
      "GLCpts\n",
      "PFK\n",
      "PGI\n"
     ]
    }
   ],
   "source": [
    "print ReactionNetwork.reactionList"
   ]
  },
  {
   "cell_type": "code",
   "execution_count": 13,
   "metadata": {
    "collapsed": false
   },
   "outputs": [
    {
     "name": "stdout",
     "output_type": "stream",
     "text": [
      "adp_c\n",
      "atp_c\n",
      "dha_c\n",
      "f6p_c\n",
      "f6p_c\n",
      "fdp_c\n",
      "g3p_c\n",
      "g6p_c\n",
      "g6p_c\n",
      "glc_dsh_D_e\n",
      "h_c\n",
      "pep_c\n",
      "pyr_c\n"
     ]
    }
   ],
   "source": [
    "print ReactionNetwork.metList"
   ]
  },
  {
   "cell_type": "markdown",
   "metadata": {},
   "source": [
    "and **deleteReaction** eliminates a reaction:"
   ]
  },
  {
   "cell_type": "code",
   "execution_count": 14,
   "metadata": {
    "collapsed": false
   },
   "outputs": [],
   "source": [
    "ReactionNetwork.deleteReaction('F6PA')"
   ]
  },
  {
   "cell_type": "code",
   "execution_count": 15,
   "metadata": {
    "collapsed": false
   },
   "outputs": [
    {
     "name": "stdout",
     "output_type": "stream",
     "text": [
      "GLCpts\n",
      "PFK\n",
      "PGI\n"
     ]
    }
   ],
   "source": [
    "print ReactionNetwork.reactionList"
   ]
  },
  {
   "cell_type": "markdown",
   "metadata": {},
   "source": [
    "**changeFluxBounds** changes upper and lower bounds for a desired reaction:"
   ]
  },
  {
   "cell_type": "code",
   "execution_count": 16,
   "metadata": {
    "collapsed": false
   },
   "outputs": [],
   "source": [
    "ReactionNetwork.changeFluxBounds('GLCpts',3)\n",
    "ReactionNetwork.changeFluxBounds('PGI',0)\n",
    "ReactionNetwork.changeFluxBounds('PFK',(0.1,0.5))\n"
   ]
  },
  {
   "cell_type": "code",
   "execution_count": 17,
   "metadata": {
    "collapsed": true
   },
   "outputs": [],
   "source": [
    "rxnDict = ReactionNetwork.reactionList.getReactionDictionary()"
   ]
  },
  {
   "cell_type": "code",
   "execution_count": 18,
   "metadata": {
    "collapsed": false
   },
   "outputs": [
    {
     "name": "stdout",
     "output_type": "stream",
     "text": [
      "[0.1:0.3:0.5]\n"
     ]
    }
   ],
   "source": [
    "print rxnDict['PFK'].fluxBounds.net"
   ]
  },
  {
   "cell_type": "markdown",
   "metadata": {},
   "source": [
    "(First number is lower bound, last number is upper bound)"
   ]
  },
  {
   "cell_type": "markdown",
   "metadata": {},
   "source": [
    "Flux bounds can also be loaded from a file using **loadFluxBounds**:"
   ]
  },
  {
   "cell_type": "code",
   "execution_count": 19,
   "metadata": {
    "collapsed": true
   },
   "outputs": [],
   "source": [
    "lines= [\n",
    "    'GLCpts:  0.3 [==] 0.45',\n",
    "    'PGI:  0.8 [==] 0.95',\n",
    "    'PFK:  0.0 [==] 1000',    \n",
    "]"
   ]
  },
  {
   "cell_type": "code",
   "execution_count": 20,
   "metadata": {
    "collapsed": false
   },
   "outputs": [],
   "source": [
    "ReactionNetwork.loadFluxBounds(('testFile.txt','\\n'.join(lines)))"
   ]
  },
  {
   "cell_type": "code",
   "execution_count": 21,
   "metadata": {
    "collapsed": false
   },
   "outputs": [
    {
     "name": "stdout",
     "output_type": "stream",
     "text": [
      "[0.3:0.3:0.45]\n",
      "[0.8:0.8:0.95]\n"
     ]
    }
   ],
   "source": [
    "print rxnDict['GLCpts'].fluxBounds.net\n",
    "print rxnDict['PGI'].fluxBounds.net"
   ]
  },
  {
   "cell_type": "markdown",
   "metadata": {},
   "source": [
    "**fixFluxes** fixes the value of lower and upper found to the current flux (+/- some wiggle room):"
   ]
  },
  {
   "cell_type": "code",
   "execution_count": 22,
   "metadata": {
    "collapsed": true
   },
   "outputs": [],
   "source": [
    "rxnDict['PGI'].flux = rxnDict['PGI'].fluxBounds"
   ]
  },
  {
   "cell_type": "code",
   "execution_count": 23,
   "metadata": {
    "collapsed": false
   },
   "outputs": [],
   "source": [
    "ReactionNetwork.fixFluxes()"
   ]
  },
  {
   "cell_type": "code",
   "execution_count": 24,
   "metadata": {
    "collapsed": false
   },
   "outputs": [
    {
     "name": "stdout",
     "output_type": "stream",
     "text": [
      "[0.792:0.8:0.808]\n"
     ]
    }
   ],
   "source": [
    "print rxnDict['PGI'].fluxBounds.net"
   ]
  },
  {
   "cell_type": "markdown",
   "metadata": {},
   "source": [
    "This is useful when you want to constrains fluxes to a measured value, e.g. for finding the OF corresponding to that measured value."
   ]
  },
  {
   "cell_type": "markdown",
   "metadata": {},
   "source": [
    "and **capFluxBounds** caps the maximum bounds for each reaction:"
   ]
  },
  {
   "cell_type": "code",
   "execution_count": 25,
   "metadata": {
    "collapsed": true
   },
   "outputs": [],
   "source": [
    "ReactionNetwork.capFluxBounds(10)"
   ]
  },
  {
   "cell_type": "code",
   "execution_count": 26,
   "metadata": {
    "collapsed": false
   },
   "outputs": [
    {
     "name": "stdout",
     "output_type": "stream",
     "text": [
      "Forward: NA\n",
      "Backward: NA\n",
      "Net: [0:0:10]\n",
      "Exchange: NA\n",
      "\n"
     ]
    }
   ],
   "source": [
    "print rxnDict['PFK'].fluxBounds"
   ]
  },
  {
   "cell_type": "markdown",
   "metadata": {},
   "source": [
    "**getStoichMetRxnFBAFiles** produces the GAMS files for running FBA:"
   ]
  },
  {
   "cell_type": "code",
   "execution_count": 27,
   "metadata": {
    "collapsed": false,
    "scrolled": false
   },
   "outputs": [
    {
     "data": {
      "text/plain": [
       "[('Sbig.txt',\n",
       "  \"Sbig('adp_c','PFK')=1;\\nSbig('atp_c','PFK')=-1;\\nSbig('f6p_c','PFK')=-1;\\nSbig('f6p_c','PGI')=1;\\nSbig('fdp_c','PFK')=1;\\nSbig('g6p_c','GLCpts')=1;\\nSbig('g6p_c','PGI')=-1;\\nSbig('glc_dsh_D_e','GLCpts')=-1;\\nSbig('h_c','PFK')=1;\\nSbig('pep_c','GLCpts')=-1;\\nSbig('pyr_c','GLCpts')=1;\\n\"),\n",
       " ('hybridmets.txt',\n",
       "  \"/ \\n'adp_c'\\n'atp_c'\\n'f6p_c'\\n'fdp_c'\\n'g6p_c'\\n'glc_dsh_D_e'\\n'h_c'\\n'pep_c'\\n'pyr_c'\\n/ \\n\"),\n",
       " ('hybridreacs.txt', \"/ \\n'GLCpts'\\n'PFK'\\n'PGI'\\n/ \\n\"),\n",
       " ('jGEMsugg.txt', '/ \\n/ \\n'),\n",
       " ('vFBASUGG.txt', ''),\n",
       " ('ubvec.txt',\n",
       "  \"ubvec('GLCpts')=0.45;\\nubvec('PFK')=10;\\nubvec('PGI')=0.808;\\n\"),\n",
       " ('lbvec.txt',\n",
       "  \"lbvec('GLCpts')=0.3;\\nlbvec('PFK')=0.0;\\nlbvec('PGI')=0.792;\\n\"),\n",
       " ('cvec.txt', ''),\n",
       " ('bvec.txt',\n",
       "  \"bvec('adp_c')=0;\\nbvec('atp_c')=0;\\nbvec('f6p_c')=0;\\nbvec('fdp_c')=0;\\nbvec('g6p_c')=0;\\nbvec('glc_dsh_D_e')=0;\\nbvec('h_c')=0;\\nbvec('pep_c')=0;\\nbvec('pyr_c')=0;\\n\")]"
      ]
     },
     "execution_count": 27,
     "metadata": {},
     "output_type": "execute_result"
    }
   ],
   "source": [
    "ReactionNetwork.getStoichMetRxnFBAFiles()"
   ]
  },
  {
   "cell_type": "markdown",
   "metadata": {},
   "source": [
    "as does **getStoichMetRxnFVAFiles** for Flux Variability Analysis (FVA)."
   ]
  },
  {
   "cell_type": "markdown",
   "metadata": {},
   "source": [
    "The method **write** writes the reaction format in SBML format for the given filename (or to a string if 'toString' is used as arugment):"
   ]
  },
  {
   "cell_type": "code",
   "execution_count": 28,
   "metadata": {
    "collapsed": false,
    "scrolled": true
   },
   "outputs": [
    {
     "name": "stdout",
     "output_type": "stream",
     "text": [
      "<?xml version=\"1.0\" encoding=\"UTF-8\"?>\n",
      "<sbml xmlns=\"http://www.sbml.org/sbml/level2\" xmlns:html=\"http://www.w3.org/1999/xhtml\" level=\"2\" version=\"1\">\n",
      "  <model id=\"test\" name=\"test\">\n",
      "    <notes>\n",
      "      <body xmlns=\"http://www.w3.org/1999/xhtml\"/>\n",
      "    </notes>\n",
      "    <listOfUnitDefinitions>\n",
      "      <unitDefinition id=\"mmol_per_gDW_per_hr\">\n",
      "        <listOfUnits>\n",
      "          <unit kind=\"mole\" scale=\"-3\"/>\n",
      "          <unit kind=\"gram\" exponent=\"-1\"/>\n",
      "          <unit kind=\"second\" exponent=\"-1\" multiplier=\"0.00027777\"/>\n",
      "        </listOfUnits>\n",
      "      </unitDefinition>\n",
      "    </listOfUnitDefinitions>\n",
      "    <listOfCompartments>\n",
      "      <compartment id=\"c\" name=\"cytosol\"/>\n",
      "      <compartment id=\"e\" name=\"extracellular space\"/>\n",
      "    </listOfCompartments>\n",
      "    <listOfSpecies>\n",
      "      <species id=\"M_adp_c\" name=\"M_adp_c\" compartment=\"c\">\n",
      "        <notes>\n",
      "          <body xmlns=\"http://www.w3.org/1999/xhtml\">\n",
      "            <p>CARBON NUMBER: 0</p>\n",
      "          </body>\n",
      "        </notes>\n",
      "      </species>\n",
      "      <species id=\"M_atp_c\" name=\"M_atp_c\" compartment=\"c\">\n",
      "        <notes>\n",
      "          <body xmlns=\"http://www.w3.org/1999/xhtml\">\n",
      "            <p>CARBON NUMBER: 0</p>\n",
      "          </body>\n",
      "        </notes>\n",
      "      </species>\n",
      "      <species id=\"M_f6p_c\" name=\"M_f6p_c\" compartment=\"c\">\n",
      "        <notes>\n",
      "          <body xmlns=\"http://www.w3.org/1999/xhtml\">\n",
      "            <p>CARBON NUMBER: 0</p>\n",
      "          </body>\n",
      "        </notes>\n",
      "      </species>\n",
      "      <species id=\"M_f6p_c\" name=\"M_f6p_c\" compartment=\"c\">\n",
      "        <notes>\n",
      "          <body xmlns=\"http://www.w3.org/1999/xhtml\">\n",
      "            <p>CARBON NUMBER: 0</p>\n",
      "          </body>\n",
      "        </notes>\n",
      "      </species>\n",
      "      <species id=\"M_fdp_c\" name=\"M_fdp_c\" compartment=\"c\">\n",
      "        <notes>\n",
      "          <body xmlns=\"http://www.w3.org/1999/xhtml\">\n",
      "            <p>CARBON NUMBER: 0</p>\n",
      "          </body>\n",
      "        </notes>\n",
      "      </species>\n",
      "      <species id=\"M_g6p_c\" name=\"M_g6p_c\" compartment=\"c\">\n",
      "        <notes>\n",
      "          <body xmlns=\"http://www.w3.org/1999/xhtml\">\n",
      "            <p>CARBON NUMBER: 0</p>\n",
      "          </body>\n",
      "        </notes>\n",
      "      </species>\n",
      "      <species id=\"M_g6p_c\" name=\"M_g6p_c\" compartment=\"c\">\n",
      "        <notes>\n",
      "          <body xmlns=\"http://www.w3.org/1999/xhtml\">\n",
      "            <p>CARBON NUMBER: 0</p>\n",
      "          </body>\n",
      "        </notes>\n",
      "      </species>\n",
      "      <species id=\"M_glc_dsh_D_e\" name=\"M_glc_dsh_D_e\" compartment=\"e\">\n",
      "        <notes>\n",
      "          <body xmlns=\"http://www.w3.org/1999/xhtml\">\n",
      "            <p>CARBON NUMBER: 0</p>\n",
      "          </body>\n",
      "        </notes>\n",
      "      </species>\n",
      "      <species id=\"M_h_c\" name=\"M_h_c\" compartment=\"c\">\n",
      "        <notes>\n",
      "          <body xmlns=\"http://www.w3.org/1999/xhtml\">\n",
      "            <p>CARBON NUMBER: 0</p>\n",
      "          </body>\n",
      "        </notes>\n",
      "      </species>\n",
      "      <species id=\"M_pep_c\" name=\"M_pep_c\" compartment=\"c\">\n",
      "        <notes>\n",
      "          <body xmlns=\"http://www.w3.org/1999/xhtml\">\n",
      "            <p>CARBON NUMBER: 0</p>\n",
      "          </body>\n",
      "        </notes>\n",
      "      </species>\n",
      "      <species id=\"M_pyr_c\" name=\"M_pyr_c\" compartment=\"c\">\n",
      "        <notes>\n",
      "          <body xmlns=\"http://www.w3.org/1999/xhtml\">\n",
      "            <p>CARBON NUMBER: 0</p>\n",
      "          </body>\n",
      "        </notes>\n",
      "      </species>\n",
      "    </listOfSpecies>\n",
      "    <listOfReactions>\n",
      "      <reaction id=\"R_GLCpts\" name=\"R_GLCpts\" reversible=\"false\">\n",
      "        <notes>\n",
      "          <body xmlns=\"http://www.w3.org/1999/xhtml\">\n",
      "            <p>SUBSYSTEM: added</p>\n",
      "          </body>\n",
      "        </notes>\n",
      "        <listOfReactants>\n",
      "          <speciesReference species=\"M_glc_dsh_D_e\" stoichiometry=\"1\"/>\n",
      "          <speciesReference species=\"M_pep_c\" stoichiometry=\"1\"/>\n",
      "        </listOfReactants>\n",
      "        <listOfProducts>\n",
      "          <speciesReference species=\"M_g6p_c\" stoichiometry=\"1\"/>\n",
      "          <speciesReference species=\"M_pyr_c\" stoichiometry=\"1\"/>\n",
      "        </listOfProducts>\n",
      "        <kineticLaw>\n",
      "          <listOfParameters>\n",
      "            <parameter id=\"LOWER_BOUND\" value=\"0.3\" units=\"mmol_per_gdW_per_hr\"/>\n",
      "            <parameter id=\"UPPER_BOUND\" value=\"0.45\" units=\"mmol_per_gdW_per_hr\"/>\n",
      "            <parameter id=\"OBJECTIVE_COEFFICIENT\" value=\"0\"/>\n",
      "          </listOfParameters>\n",
      "        </kineticLaw>\n",
      "      </reaction>\n",
      "      <reaction id=\"R_PFK\" name=\"R_PFK\" reversible=\"false\">\n",
      "        <notes>\n",
      "          <body xmlns=\"http://www.w3.org/1999/xhtml\">\n",
      "            <p>SUBSYSTEM: added</p>\n",
      "          </body>\n",
      "        </notes>\n",
      "        <listOfReactants>\n",
      "          <speciesReference species=\"M_atp_c\" stoichiometry=\"1\"/>\n",
      "          <speciesReference species=\"M_f6p_c\" stoichiometry=\"1\"/>\n",
      "        </listOfReactants>\n",
      "        <listOfProducts>\n",
      "          <speciesReference species=\"M_adp_c\" stoichiometry=\"1\"/>\n",
      "          <speciesReference species=\"M_fdp_c\" stoichiometry=\"1\"/>\n",
      "          <speciesReference species=\"M_h_c\" stoichiometry=\"1\"/>\n",
      "        </listOfProducts>\n",
      "        <kineticLaw>\n",
      "          <listOfParameters>\n",
      "            <parameter id=\"LOWER_BOUND\" value=\"0\" units=\"mmol_per_gdW_per_hr\"/>\n",
      "            <parameter id=\"UPPER_BOUND\" value=\"10\" units=\"mmol_per_gdW_per_hr\"/>\n",
      "            <parameter id=\"OBJECTIVE_COEFFICIENT\" value=\"0\"/>\n",
      "          </listOfParameters>\n",
      "        </kineticLaw>\n",
      "      </reaction>\n",
      "      <reaction id=\"R_PGI\" name=\"R_PGI\" reversible=\"true\">\n",
      "        <notes>\n",
      "          <body xmlns=\"http://www.w3.org/1999/xhtml\">\n",
      "            <p>SUBSYSTEM: added</p>\n",
      "            <p>FLUX VALUE: <flux forward=\"[0:0:0]\" backward=\"[0:0:0]\" net=\"[0.792:0.8:0.808]\" exchange=\"NA\"/></p>\n",
      "        </body>\n",
      "      </notes>\n",
      "      <listOfReactants>\n",
      "        <speciesReference species=\"M_g6p_c\" stoichiometry=\"1\"/>\n",
      "      </listOfReactants>\n",
      "      <listOfProducts>\n",
      "        <speciesReference species=\"M_f6p_c\" stoichiometry=\"1\"/>\n",
      "      </listOfProducts>\n",
      "      <kineticLaw>\n",
      "        <listOfParameters>\n",
      "          <parameter id=\"LOWER_BOUND\" value=\"0.792\" units=\"mmol_per_gdW_per_hr\"/>\n",
      "          <parameter id=\"UPPER_BOUND\" value=\"0.808\" units=\"mmol_per_gdW_per_hr\"/>\n",
      "          <parameter id=\"OBJECTIVE_COEFFICIENT\" value=\"0\"/>\n",
      "        </listOfParameters>\n",
      "      </kineticLaw>\n",
      "    </reaction>\n",
      "  </listOfReactions>\n",
      "</model>\n",
      "</sbml>\n",
      "\n"
     ]
    }
   ],
   "source": [
    "print ReactionNetwork.write('toString')"
   ]
  },
  {
   "cell_type": "markdown",
   "metadata": {},
   "source": [
    "## C13ReactionNetwork class"
   ]
  },
  {
   "cell_type": "markdown",
   "metadata": {},
   "source": [
    "The C13ReactionNetwork class holds reaction networks with only carbon transition information, such as used for 13C MFA. Let's upload a C13ReactionNetwork for a TCA cycle mock-up:"
   ]
  },
  {
   "cell_type": "code",
   "execution_count": 29,
   "metadata": {
    "collapsed": true
   },
   "outputs": [],
   "source": [
    "qmodeldir         = os.environ['QUANTMODELPATH']    \n",
    "dirDATA           = qmodeldir+'/data/tests/TCAtoy/' \n",
    "\n",
    "\n",
    "REACTIONSfilename   = dirDATA+'REACTIONStca.txt' \n",
    "FEEDfilename        = dirDATA+'FEEDtca.txt'\n",
    "CEMSfilename        = dirDATA+'GCMStca.txt'\n",
    "CEMSSTDfilename     = dirDATA+'GCMSerrtca.txt'\n",
    "FLUXESFreefilename  = dirDATA+'FLUXtca.txt'"
   ]
  },
  {
   "cell_type": "markdown",
   "metadata": {},
   "source": [
    "**addLabeling** and **addFeed** are used to load the labeling data and the feed labeling information\"\""
   ]
  },
  {
   "cell_type": "code",
   "execution_count": 30,
   "metadata": {
    "collapsed": false
   },
   "outputs": [],
   "source": [
    "atomTransitions = enhancedLists.AtomTransitionList(REACTIONSfilename)\n",
    "ReacNet = ReactionNetworks.C13ReactionNetwork(atomTransitions.getReactionNetwork('E. coli wt5h 13C MFA'))\n",
    "\n",
    "ReacNet.addLabeling(CEMSfilename,'LCMSLabelData',CEMSSTDfilename,minSTD=0.001)\n",
    "ReacNet.addFeed(FEEDfilename)\n",
    "ReacNet.loadFluxBounds(FLUXESFreefilename)"
   ]
  },
  {
   "cell_type": "markdown",
   "metadata": {},
   "source": [
    "Here is the labeling (Mass Distribution Vector, or MDV) for glutamate:"
   ]
  },
  {
   "cell_type": "code",
   "execution_count": 31,
   "metadata": {
    "collapsed": false
   },
   "outputs": [
    {
     "data": {
      "text/plain": [
       "array([ 0.346,  0.269,  0.27 ,  0.081,  0.028,  0.004])"
      ]
     },
     "execution_count": 31,
     "metadata": {},
     "output_type": "execute_result"
    }
   ],
   "source": [
    "ReacNet.notes['LCMSLabelData']['Glu'].mdv"
   ]
  },
  {
   "cell_type": "code",
   "execution_count": 32,
   "metadata": {
    "collapsed": false
   },
   "outputs": [
    {
     "data": {
      "text/plain": [
       "array([ 0.02,  0.02,  0.02,  0.02,  0.02,  0.02])"
      ]
     },
     "execution_count": 32,
     "metadata": {},
     "output_type": "execute_result"
    }
   ],
   "source": [
    "ReacNet.notes['LCMSLabelData']['Glu'].std"
   ]
  },
  {
   "cell_type": "markdown",
   "metadata": {},
   "source": [
    "One can use **randomizeLabeling** to randomize this labeling within the standard deviations:"
   ]
  },
  {
   "cell_type": "code",
   "execution_count": 33,
   "metadata": {
    "collapsed": false
   },
   "outputs": [
    {
     "name": "stdout",
     "output_type": "stream",
     "text": [
      "[ 0.35771396  0.25660007  0.28460434  0.07200119  0.0238263   0.00042019]\n"
     ]
    }
   ],
   "source": [
    "ReacNet.randomizeLabeling()\n",
    "print ReacNet.notes['LCMSLabelData']['Glu'].mdv"
   ]
  },
  {
   "cell_type": "code",
   "execution_count": 34,
   "metadata": {
    "collapsed": false
   },
   "outputs": [
    {
     "name": "stdout",
     "output_type": "stream",
     "text": [
      "[ 0.35442818  0.27511906  0.28995896  0.06763062  0.01730401  0.00317596]\n"
     ]
    }
   ],
   "source": [
    "ReacNet.randomizeLabeling()\n",
    "print ReacNet.notes['LCMSLabelData']['Glu'].mdv"
   ]
  },
  {
   "cell_type": "markdown",
   "metadata": {},
   "source": [
    "**fragDict** produces a dictionary of fragments to be fit:"
   ]
  },
  {
   "cell_type": "code",
   "execution_count": 35,
   "metadata": {
    "collapsed": true
   },
   "outputs": [],
   "source": [
    "fragDict = ReacNet.fragDict()"
   ]
  },
  {
   "cell_type": "code",
   "execution_count": 36,
   "metadata": {
    "collapsed": false
   },
   "outputs": [
    {
     "name": "stdout",
     "output_type": "stream",
     "text": [
      "{'Glu': <labeling.LCMSfragment instance at 0x7f730324bcf8>}\n"
     ]
    }
   ],
   "source": [
    "print ReacNet.fragDict()"
   ]
  },
  {
   "cell_type": "code",
   "execution_count": 37,
   "metadata": {
    "collapsed": false
   },
   "outputs": [
    {
     "name": "stdout",
     "output_type": "stream",
     "text": [
      "[ 0.35442818  0.27511906  0.28995896  0.06763062  0.01730401  0.00317596]\n",
      "[ 0.02  0.02  0.02  0.02  0.02  0.02]\n"
     ]
    }
   ],
   "source": [
    "print fragDict['Glu'].mdv\n",
    "print fragDict['Glu'].std"
   ]
  },
  {
   "cell_type": "markdown",
   "metadata": {},
   "source": [
    "**getLabelingDataFiles** produces the gams files with the labeling information:"
   ]
  },
  {
   "cell_type": "code",
   "execution_count": 38,
   "metadata": {
    "collapsed": false
   },
   "outputs": [
    {
     "data": {
      "text/plain": [
       "[('GCMSout.txt',\n",
       "  'Table labelexp(frag,n)\\n\\t0\\t1\\t2\\t3\\t4\\t5\\t6\\t7\\t8\\t9\\t10\\t11\\t12\\nGlu\\t0.35443\\t0.27512\\t0.28996\\t0.06763\\t0.01730\\t0.00318\\t0.00000\\t0.00000\\t0.00000\\t0.00000\\t0.00000\\t0.00000\\t0.00000\\n;'),\n",
       " ('GCMSerr.txt',\n",
       "  'Table labelstd(frag,n)\\n\\t0\\t1\\t2\\t3\\t4\\t5\\t6\\t7\\t8\\t9\\t10\\t11\\t12\\nGlu\\t0.02000\\t0.02000\\t0.02000\\t0.02000\\t0.02000\\t0.02000\\t0.00000\\t0.00000\\t0.00000\\t0.00000\\t0.00000\\t0.00000\\t0.00000\\n;'),\n",
       " ('GCMSnorm.txt',\n",
       "  'Table labelnorm(frag,n)\\n\\t0\\t1\\t2\\t3\\t4\\t5\\t6\\t7\\t8\\t9\\t10\\t11\\t12\\nGlu\\t6.00000\\t6.00000\\t6.00000\\t6.00000\\t6.00000\\t6.00000\\t0.00000\\t0.00000\\t0.00000\\t0.00000\\t0.00000\\t0.00000\\t0.00000\\n;')]"
      ]
     },
     "execution_count": 38,
     "metadata": {},
     "output_type": "execute_result"
    }
   ],
   "source": [
    "ReacNet.getLabelingDataFiles()"
   ]
  },
  {
   "cell_type": "markdown",
   "metadata": {},
   "source": [
    "**getFragmentInfoFiles** produces the gams files with the fragment information (raw indicates that no derivatization correction is needed):"
   ]
  },
  {
   "cell_type": "code",
   "execution_count": 39,
   "metadata": {
    "collapsed": false,
    "scrolled": true
   },
   "outputs": [
    {
     "data": {
      "text/plain": [
       "[('aacorr.txt', \"aacorr('Glu','glu_L_c_1_2_3_4_5')=1;\\n\"),\n",
       " ('mset.txt',\n",
       "  \"/ \\n'0'\\n'1'\\n'2'\\n'3'\\n'4'\\n'5'\\n'6'\\n'7'\\n'8'\\n'9'\\n'10'\\n'11'\\n'12'\\n/ \\n\"),\n",
       " ('nset.txt',\n",
       "  \"/ \\n'0'\\n'1'\\n'2'\\n'3'\\n'4'\\n'5'\\n'6'\\n'7'\\n'8'\\n'9'\\n'10'\\n'11'\\n'12'\\n/ \\n\"),\n",
       " ('frag_carbon_numbers.txt', \"ncarbonsf('Glu')=5;\\n\"),\n",
       " ('fragmentsMS.txt', \"/ \\n'Glu'\\n/ \\n\"),\n",
       " ('fitFrags.txt', \"/ \\n'Glu'\\n/ \\n\"),\n",
       " ('gamma_mat.txt',\n",
       "  \"gamma('Glu','0','0')=0.987985018979;\\ngamma('Glu','0','1')=0.0;\\ngamma('Glu','0','10')=0.0;\\ngamma('Glu','0','11')=0.0;\\ngamma('Glu','0','12')=0.0;\\ngamma('Glu','0','2')=0.0;\\ngamma('Glu','0','3')=0.0;\\ngamma('Glu','0','4')=0.0;\\ngamma('Glu','0','5')=0.0;\\ngamma('Glu','0','6')=0.0;\\ngamma('Glu','0','7')=0.0;\\ngamma('Glu','0','8')=0.0;\\ngamma('Glu','0','9')=0.0;\\ngamma('Glu','1','0')=0.00583741423328;\\ngamma('Glu','1','1')=0.987985018979;\\ngamma('Glu','1','10')=0.0;\\ngamma('Glu','1','11')=0.0;\\ngamma('Glu','1','12')=0.0;\\ngamma('Glu','1','2')=0.0;\\ngamma('Glu','1','3')=0.0;\\ngamma('Glu','1','4')=0.0;\\ngamma('Glu','1','5')=0.0;\\ngamma('Glu','1','6')=0.0;\\ngamma('Glu','1','7')=0.0;\\ngamma('Glu','1','8')=0.0;\\ngamma('Glu','1','9')=0.0;\\ngamma('Glu','10','0')=4.42959960449e-21;\\ngamma('Glu','10','1')=1.74985408909e-17;\\ngamma('Glu','10','10')=0.987985018979;\\ngamma('Glu','10','11')=0.0;\\ngamma('Glu','10','12')=0.0;\\ngamma('Glu','10','2')=3.93697535432e-14;\\ngamma('Glu','10','3')=4.15095488572e-11;\\ngamma('Glu','10','4')=8.78044725534e-09;\\ngamma('Glu','10','5')=6.50871022061e-08;\\ngamma('Glu','10','6')=1.2690245909e-05;\\ngamma('Glu','10','7')=3.38411086718e-05;\\ngamma('Glu','10','8')=0.006130961524;\\ngamma('Glu','10','9')=0.00583741423328;\\ngamma('Glu','11','0')=6.79829698521e-25;\\ngamma('Glu','11','1')=4.42959960449e-21;\\ngamma('Glu','11','10')=0.00583741423328;\\ngamma('Glu','11','11')=0.987985018979;\\ngamma('Glu','11','12')=0.0;\\ngamma('Glu','11','2')=1.74985408909e-17;\\ngamma('Glu','11','3')=3.93697535432e-14;\\ngamma('Glu','11','4')=4.15095488572e-11;\\ngamma('Glu','11','5')=8.78044725534e-09;\\ngamma('Glu','11','6')=6.50871022061e-08;\\ngamma('Glu','11','7')=1.2690245909e-05;\\ngamma('Glu','11','8')=3.38411086718e-05;\\ngamma('Glu','11','9')=0.006130961524;\\ngamma('Glu','12','0')=6.29373139124e-29;\\ngamma('Glu','12','1')=6.79829698521e-25;\\ngamma('Glu','12','10')=0.006130961524;\\ngamma('Glu','12','11')=0.00583741423328;\\ngamma('Glu','12','12')=0.987985018979;\\ngamma('Glu','12','2')=4.42959960449e-21;\\ngamma('Glu','12','3')=1.74985408909e-17;\\ngamma('Glu','12','4')=3.93697535432e-14;\\ngamma('Glu','12','5')=4.15095488572e-11;\\ngamma('Glu','12','6')=8.78044725534e-09;\\ngamma('Glu','12','7')=6.50871022061e-08;\\ngamma('Glu','12','8')=1.2690245909e-05;\\ngamma('Glu','12','9')=3.38411086718e-05;\\ngamma('Glu','2','0')=0.006130961524;\\ngamma('Glu','2','1')=0.00583741423328;\\ngamma('Glu','2','10')=0.0;\\ngamma('Glu','2','11')=0.0;\\ngamma('Glu','2','12')=0.0;\\ngamma('Glu','2','2')=0.987985018979;\\ngamma('Glu','2','3')=0.0;\\ngamma('Glu','2','4')=0.0;\\ngamma('Glu','2','5')=0.0;\\ngamma('Glu','2','6')=0.0;\\ngamma('Glu','2','7')=0.0;\\ngamma('Glu','2','8')=0.0;\\ngamma('Glu','2','9')=0.0;\\ngamma('Glu','3','0')=3.38411086718e-05;\\ngamma('Glu','3','1')=0.006130961524;\\ngamma('Glu','3','10')=0.0;\\ngamma('Glu','3','11')=0.0;\\ngamma('Glu','3','12')=0.0;\\ngamma('Glu','3','2')=0.00583741423328;\\ngamma('Glu','3','3')=0.987985018979;\\ngamma('Glu','3','4')=0.0;\\ngamma('Glu','3','5')=0.0;\\ngamma('Glu','3','6')=0.0;\\ngamma('Glu','3','7')=0.0;\\ngamma('Glu','3','8')=0.0;\\ngamma('Glu','3','9')=0.0;\\ngamma('Glu','4','0')=1.2690245909e-05;\\ngamma('Glu','4','1')=3.38411086718e-05;\\ngamma('Glu','4','10')=0.0;\\ngamma('Glu','4','11')=0.0;\\ngamma('Glu','4','12')=0.0;\\ngamma('Glu','4','2')=0.006130961524;\\ngamma('Glu','4','3')=0.00583741423328;\\ngamma('Glu','4','4')=0.987985018979;\\ngamma('Glu','4','5')=0.0;\\ngamma('Glu','4','6')=0.0;\\ngamma('Glu','4','7')=0.0;\\ngamma('Glu','4','8')=0.0;\\ngamma('Glu','4','9')=0.0;\\ngamma('Glu','5','0')=6.50871022061e-08;\\ngamma('Glu','5','1')=1.2690245909e-05;\\ngamma('Glu','5','10')=0.0;\\ngamma('Glu','5','11')=0.0;\\ngamma('Glu','5','12')=0.0;\\ngamma('Glu','5','2')=3.38411086718e-05;\\ngamma('Glu','5','3')=0.006130961524;\\ngamma('Glu','5','4')=0.00583741423328;\\ngamma('Glu','5','5')=0.987985018979;\\ngamma('Glu','5','6')=0.0;\\ngamma('Glu','5','7')=0.0;\\ngamma('Glu','5','8')=0.0;\\ngamma('Glu','5','9')=0.0;\\ngamma('Glu','6','0')=8.78044725534e-09;\\ngamma('Glu','6','1')=6.50871022061e-08;\\ngamma('Glu','6','10')=0.0;\\ngamma('Glu','6','11')=0.0;\\ngamma('Glu','6','12')=0.0;\\ngamma('Glu','6','2')=1.2690245909e-05;\\ngamma('Glu','6','3')=3.38411086718e-05;\\ngamma('Glu','6','4')=0.006130961524;\\ngamma('Glu','6','5')=0.00583741423328;\\ngamma('Glu','6','6')=0.987985018979;\\ngamma('Glu','6','7')=0.0;\\ngamma('Glu','6','8')=0.0;\\ngamma('Glu','6','9')=0.0;\\ngamma('Glu','7','0')=4.15095488572e-11;\\ngamma('Glu','7','1')=8.78044725534e-09;\\ngamma('Glu','7','10')=0.0;\\ngamma('Glu','7','11')=0.0;\\ngamma('Glu','7','12')=0.0;\\ngamma('Glu','7','2')=6.50871022061e-08;\\ngamma('Glu','7','3')=1.2690245909e-05;\\ngamma('Glu','7','4')=3.38411086718e-05;\\ngamma('Glu','7','5')=0.006130961524;\\ngamma('Glu','7','6')=0.00583741423328;\\ngamma('Glu','7','7')=0.987985018979;\\ngamma('Glu','7','8')=0.0;\\ngamma('Glu','7','9')=0.0;\\ngamma('Glu','8','0')=3.93697535432e-14;\\ngamma('Glu','8','1')=4.15095488572e-11;\\ngamma('Glu','8','10')=0.0;\\ngamma('Glu','8','11')=0.0;\\ngamma('Glu','8','12')=0.0;\\ngamma('Glu','8','2')=8.78044725534e-09;\\ngamma('Glu','8','3')=6.50871022061e-08;\\ngamma('Glu','8','4')=1.2690245909e-05;\\ngamma('Glu','8','5')=3.38411086718e-05;\\ngamma('Glu','8','6')=0.006130961524;\\ngamma('Glu','8','7')=0.00583741423328;\\ngamma('Glu','8','8')=0.987985018979;\\ngamma('Glu','8','9')=0.0;\\ngamma('Glu','9','0')=1.74985408909e-17;\\ngamma('Glu','9','1')=3.93697535432e-14;\\ngamma('Glu','9','10')=0.0;\\ngamma('Glu','9','11')=0.0;\\ngamma('Glu','9','12')=0.0;\\ngamma('Glu','9','2')=4.15095488572e-11;\\ngamma('Glu','9','3')=8.78044725534e-09;\\ngamma('Glu','9','4')=6.50871022061e-08;\\ngamma('Glu','9','5')=1.2690245909e-05;\\ngamma('Glu','9','6')=3.38411086718e-05;\\ngamma('Glu','9','7')=0.006130961524;\\ngamma('Glu','9','8')=0.00583741423328;\\ngamma('Glu','9','9')=0.987985018979;\\n\")]"
      ]
     },
     "execution_count": 39,
     "metadata": {},
     "output_type": "execute_result"
    }
   ],
   "source": [
    "ReacNet.getFragmentInfoFiles('raw')"
   ]
  },
  {
   "cell_type": "markdown",
   "metadata": {},
   "source": [
    "**getSourceLabelFile** produces the file with the source labeling information:"
   ]
  },
  {
   "cell_type": "code",
   "execution_count": 40,
   "metadata": {
    "collapsed": false
   },
   "outputs": [
    {
     "data": {
      "text/plain": [
       "[('Source_Labeling.txt',\n",
       "  \"f.fx('accoa_c_1_2','0')=0.5;\\nf.fx('accoa_c_1_2','1')=0.25;\\nf.fx('accoa_c_1_2','2')=0.25;\\n*\\nf.fx('accoa_c_2','0')=0.5;\\nf.fx('accoa_c_2','1')=0.5;\\n*\\nf.fx('asp_c_1_2_3','0')=1.0;\\nf.fx('asp_c_1_2_3','1')=0.0;\\nf.fx('asp_c_1_2_3','2')=0.0;\\nf.fx('asp_c_1_2_3','3')=0.0;\\n*\\nf.fx('asp_c_2','0')=1.0;\\nf.fx('asp_c_2','1')=0.0;\\n*\\nf.fx('asp_c_2_3','0')=1.0;\\nf.fx('asp_c_2_3','1')=0.0;\\nf.fx('asp_c_2_3','2')=0.0;\\n*\\nf.fx('asp_c_2_3_4','0')=1.0;\\nf.fx('asp_c_2_3_4','1')=0.0;\\nf.fx('asp_c_2_3_4','2')=0.0;\\nf.fx('asp_c_2_3_4','3')=0.0;\\n*\\nf.fx('asp_c_3','0')=1.0;\\nf.fx('asp_c_3','1')=0.0;\\n*\\n*\\n\")]"
      ]
     },
     "execution_count": 40,
     "metadata": {},
     "output_type": "execute_result"
    }
   ],
   "source": [
    "ReacNet.getSourceLabelFile()"
   ]
  },
  {
   "cell_type": "markdown",
   "metadata": {},
   "source": [
    "**getStoichMetRxn13CFiles** produces the files with the metabolites, reactions and stoichiometric information for 13C MFA:"
   ]
  },
  {
   "cell_type": "code",
   "execution_count": 41,
   "metadata": {
    "collapsed": false
   },
   "outputs": [
    {
     "data": {
      "text/plain": [
       "[('StoichNetwork.txt',\n",
       "  \"S('accoa_c','r1')=-1;\\nS('akg_c','r2')=1;\\nS('akg_c','r3')=-1;\\nS('akg_c','r4')=-1;\\nS('asp_c','r8')=-1;\\nS('cit_c','r1')=1;\\nS('cit_c','r2')=-1;\\nS('co2_c','co2Out')=-1;\\nS('co2_c','r2')=1;\\nS('co2_c','r4')=1;\\nS('co2ext_c','co2Out')=1;\\nS('fum_c','r5')=1;\\nS('fum_c','r6')=-1;\\nS('fum_c','r7')=1;\\nS('glu_L_c','r3')=1;\\nS('oac_c','r1')=-1;\\nS('oac_c','r6')=1;\\nS('oac_c','r7')=-1;\\nS('oac_c','r8')=1;\\nS('suc_c','r4')=1;\\nS('suc_c','r5')=-1;\\n\"),\n",
       " ('mets.txt',\n",
       "  \"/ \\n'accoa_c'\\n'akg_c'\\n'asp_c'\\n'cit_c'\\n'co2_c'\\n'co2ext_c'\\n'fum_c'\\n'glu_L_c'\\n'oac_c'\\n'suc_c'\\n/ \\n\"),\n",
       " ('rxns.txt',\n",
       "  \"/ \\n'co2Out'\\n'r1'\\n'r2'\\n'r3'\\n'r4'\\n'r5'\\n'r6'\\n'r7'\\n'r8'\\n/ \\n\"),\n",
       " ('ExchaMets.txt', \"/ \\n'accoa_c'\\n'asp_c'\\n'co2ext_c'\\n'glu_L_c'\\n/ \\n\"),\n",
       " ('jmeas.txt', '/ \\n/ \\n'),\n",
       " ('vUPPER.txt', ''),\n",
       " ('vLOWER.txt', ''),\n",
       " ('ExcMets.txt', '/ \\n/ \\n'),\n",
       " ('SourceMets.txt', \"/ \\n'accoa_c'\\n'asp_c'\\n/ \\n\"),\n",
       " ('jsugg.txt', '/ \\n/ \\n'),\n",
       " ('vSUGG.txt', '')]"
      ]
     },
     "execution_count": 41,
     "metadata": {},
     "output_type": "execute_result"
    }
   ],
   "source": [
    "ReacNet.getStoichMetRxn13CFiles()"
   ]
  },
  {
   "cell_type": "markdown",
   "metadata": {},
   "source": [
    "**getEMUfiles** produces the EMU information files:"
   ]
  },
  {
   "cell_type": "code",
   "execution_count": 42,
   "metadata": {
    "collapsed": false,
    "scrolled": true
   },
   "outputs": [
    {
     "data": {
      "text/plain": [
       "[('all_emu.txt',\n",
       "  \"/ \\n'accoa_c_1_2'\\n'accoa_c_1_2oac_c_2'\\n'accoa_c_1_2oac_c_2_3_4'\\n'accoa_c_2'\\n'accoa_c_2oac_c_2'\\n'accoa_c_2oac_c_2_3'\\n'akg_c_1_2_3_4_5'\\n'akg_c_2_3_4'\\n'akg_c_3'\\n'akg_c_3_4'\\n'akg_c_3_4_5'\\n'akg_c_4'\\n'asp_c_1_2_3'\\n'asp_c_2'\\n'asp_c_2_3'\\n'asp_c_2_3_4'\\n'asp_c_3'\\n'cit_c_1_2_3_4_5'\\n'cit_c_2_3_4'\\n'cit_c_3'\\n'cit_c_3_4'\\n'cit_c_3_4_5'\\n'cit_c_4'\\n'fum_c_1_2_3'\\n'fum_c_2'\\n'fum_c_2_3'\\n'fum_c_2_3_4'\\n'fum_c_3'\\n'glu_L_c_1_2_3_4_5'\\n'oac_c_1_2_3'\\n'oac_c_2'\\n'oac_c_2_3'\\n'oac_c_2_3_4'\\n'oac_c_3'\\n'suc_c_1_2_3'\\n'suc_c_2'\\n'suc_c_2_3'\\n'suc_c_2_3_4'\\n'suc_c_3'\\n/ \\n\"),\n",
       " ('met_emu.txt',\n",
       "  \"metemu('accoa_c','accoa_c_1_2')=1.0;\\nmetemu('accoa_c','accoa_c_2')=1.0;\\nmetemu('akg_c','akg_c_1_2_3_4_5')=1.0;\\nmetemu('akg_c','akg_c_2_3_4')=1.0;\\nmetemu('akg_c','akg_c_3')=1.0;\\nmetemu('akg_c','akg_c_3_4')=1.0;\\nmetemu('akg_c','akg_c_3_4_5')=1.0;\\nmetemu('akg_c','akg_c_4')=1.0;\\nmetemu('asp_c','asp_c_1_2_3')=1.0;\\nmetemu('asp_c','asp_c_2')=1.0;\\nmetemu('asp_c','asp_c_2_3')=1.0;\\nmetemu('asp_c','asp_c_2_3_4')=1.0;\\nmetemu('asp_c','asp_c_3')=1.0;\\nmetemu('cit_c','cit_c_1_2_3_4_5')=1.0;\\nmetemu('cit_c','cit_c_2_3_4')=1.0;\\nmetemu('cit_c','cit_c_3')=1.0;\\nmetemu('cit_c','cit_c_3_4')=1.0;\\nmetemu('cit_c','cit_c_3_4_5')=1.0;\\nmetemu('cit_c','cit_c_4')=1.0;\\nmetemu('fum_c','fum_c_1_2_3')=1.0;\\nmetemu('fum_c','fum_c_2')=1.0;\\nmetemu('fum_c','fum_c_2_3')=1.0;\\nmetemu('fum_c','fum_c_2_3_4')=1.0;\\nmetemu('fum_c','fum_c_3')=1.0;\\nmetemu('glu_L_c','glu_L_c_1_2_3_4_5')=1.0;\\nmetemu('oac_c','oac_c_1_2_3')=1.0;\\nmetemu('oac_c','oac_c_2')=1.0;\\nmetemu('oac_c','oac_c_2_3')=1.0;\\nmetemu('oac_c','oac_c_2_3_4')=1.0;\\nmetemu('oac_c','oac_c_3')=1.0;\\nmetemu('suc_c','suc_c_1_2_3')=1.0;\\nmetemu('suc_c','suc_c_2')=1.0;\\nmetemu('suc_c','suc_c_2_3')=1.0;\\nmetemu('suc_c','suc_c_2_3_4')=1.0;\\nmetemu('suc_c','suc_c_3')=1.0;\\n\"),\n",
       " ('emu_carbon_numbers.txt',\n",
       "  \"ncarbons('accoa_c_1_2')=2.0;\\nncarbons('accoa_c_1_2oac_c_2')=3.0;\\nncarbons('accoa_c_1_2oac_c_2_3_4')=5.0;\\nncarbons('accoa_c_2')=1.0;\\nncarbons('accoa_c_2oac_c_2')=2.0;\\nncarbons('accoa_c_2oac_c_2_3')=3.0;\\nncarbons('akg_c_1_2_3_4_5')=5.0;\\nncarbons('akg_c_2_3_4')=3.0;\\nncarbons('akg_c_3')=1.0;\\nncarbons('akg_c_3_4')=2.0;\\nncarbons('akg_c_3_4_5')=3.0;\\nncarbons('akg_c_4')=1.0;\\nncarbons('asp_c_1_2_3')=3.0;\\nncarbons('asp_c_2')=1.0;\\nncarbons('asp_c_2_3')=2.0;\\nncarbons('asp_c_2_3_4')=3.0;\\nncarbons('asp_c_3')=1.0;\\nncarbons('cit_c_1_2_3_4_5')=5.0;\\nncarbons('cit_c_2_3_4')=3.0;\\nncarbons('cit_c_3')=1.0;\\nncarbons('cit_c_3_4')=2.0;\\nncarbons('cit_c_3_4_5')=3.0;\\nncarbons('cit_c_4')=1.0;\\nncarbons('fum_c_1_2_3')=3.0;\\nncarbons('fum_c_2')=1.0;\\nncarbons('fum_c_2_3')=2.0;\\nncarbons('fum_c_2_3_4')=3.0;\\nncarbons('fum_c_3')=1.0;\\nncarbons('glu_L_c_1_2_3_4_5')=5.0;\\nncarbons('oac_c_1_2_3')=3.0;\\nncarbons('oac_c_2')=1.0;\\nncarbons('oac_c_2_3')=2.0;\\nncarbons('oac_c_2_3_4')=3.0;\\nncarbons('oac_c_3')=1.0;\\nncarbons('suc_c_1_2_3')=3.0;\\nncarbons('suc_c_2')=1.0;\\nncarbons('suc_c_2_3')=2.0;\\nncarbons('suc_c_2_3_4')=3.0;\\nncarbons('suc_c_3')=1.0;\\n\"),\n",
       " ('equivalent_emus.txt',\n",
       "  \"eqemu('accoa_c_1_2oac_c_2','cit_c_3_4_5')=1;\\neqemu('accoa_c_1_2oac_c_2_3_4','cit_c_1_2_3_4_5')=1;\\neqemu('accoa_c_2oac_c_2','cit_c_3_4')=1;\\neqemu('accoa_c_2oac_c_2_3','cit_c_2_3_4')=1;\\n\"),\n",
       " ('dummy_emus.txt',\n",
       "  \"/ \\n'accoa_c_1_2oac_c_2'\\n'accoa_c_1_2oac_c_2_3_4'\\n'accoa_c_2oac_c_2'\\n'accoa_c_2oac_c_2_3'\\n/ \\n\"),\n",
       " ('condensation_rxns_eqns.txt',\n",
       "  \"eqn_condensation_rxn_1at0..f('accoa_c_1_2oac_c_2','0') =e= f('accoa_c_1_2','0')*f('oac_c_2','0');\\neqn_condensation_rxn_1at1..f('accoa_c_1_2oac_c_2','1') =e= f('accoa_c_1_2','0')*f('oac_c_2','1')+f('accoa_c_1_2','1')*f('oac_c_2','0');\\neqn_condensation_rxn_1at2..f('accoa_c_1_2oac_c_2','2') =e= f('accoa_c_1_2','1')*f('oac_c_2','1')+f('accoa_c_1_2','2')*f('oac_c_2','0');\\neqn_condensation_rxn_1at3..f('accoa_c_1_2oac_c_2','3') =e= f('accoa_c_1_2','2')*f('oac_c_2','1');\\neqn_condensation_rxn_2at0..f('accoa_c_1_2oac_c_2_3_4','0') =e= f('accoa_c_1_2','0')*f('oac_c_2_3_4','0');\\neqn_condensation_rxn_2at1..f('accoa_c_1_2oac_c_2_3_4','1') =e= f('accoa_c_1_2','0')*f('oac_c_2_3_4','1')+f('accoa_c_1_2','1')*f('oac_c_2_3_4','0');\\neqn_condensation_rxn_2at2..f('accoa_c_1_2oac_c_2_3_4','2') =e= f('accoa_c_1_2','0')*f('oac_c_2_3_4','2')+f('accoa_c_1_2','1')*f('oac_c_2_3_4','1')+f('accoa_c_1_2','2')*f('oac_c_2_3_4','0');\\neqn_condensation_rxn_2at3..f('accoa_c_1_2oac_c_2_3_4','3') =e= f('accoa_c_1_2','0')*f('oac_c_2_3_4','3')+f('accoa_c_1_2','1')*f('oac_c_2_3_4','2')+f('accoa_c_1_2','2')*f('oac_c_2_3_4','1');\\neqn_condensation_rxn_2at4..f('accoa_c_1_2oac_c_2_3_4','4') =e= f('accoa_c_1_2','1')*f('oac_c_2_3_4','3')+f('accoa_c_1_2','2')*f('oac_c_2_3_4','2');\\neqn_condensation_rxn_2at5..f('accoa_c_1_2oac_c_2_3_4','5') =e= f('accoa_c_1_2','2')*f('oac_c_2_3_4','3');\\neqn_condensation_rxn_3at0..f('accoa_c_2oac_c_2','0') =e= f('accoa_c_2','0')*f('oac_c_2','0');\\neqn_condensation_rxn_3at1..f('accoa_c_2oac_c_2','1') =e= f('accoa_c_2','0')*f('oac_c_2','1')+f('accoa_c_2','1')*f('oac_c_2','0');\\neqn_condensation_rxn_3at2..f('accoa_c_2oac_c_2','2') =e= f('accoa_c_2','1')*f('oac_c_2','1');\\neqn_condensation_rxn_4at0..f('accoa_c_2oac_c_2_3','0') =e= f('accoa_c_2','0')*f('oac_c_2_3','0');\\neqn_condensation_rxn_4at1..f('accoa_c_2oac_c_2_3','1') =e= f('accoa_c_2','0')*f('oac_c_2_3','1')+f('accoa_c_2','1')*f('oac_c_2_3','0');\\neqn_condensation_rxn_4at2..f('accoa_c_2oac_c_2_3','2') =e= f('accoa_c_2','0')*f('oac_c_2_3','2')+f('accoa_c_2','1')*f('oac_c_2_3','1');\\neqn_condensation_rxn_4at3..f('accoa_c_2oac_c_2_3','3') =e= f('accoa_c_2','1')*f('oac_c_2_3','2');\\n\"),\n",
       " ('condensation_rxns_names.txt',\n",
       "  'eqn_condensation_rxn_1at0\\neqn_condensation_rxn_1at1\\neqn_condensation_rxn_1at2\\neqn_condensation_rxn_1at3\\neqn_condensation_rxn_2at0\\neqn_condensation_rxn_2at1\\neqn_condensation_rxn_2at2\\neqn_condensation_rxn_2at3\\neqn_condensation_rxn_2at4\\neqn_condensation_rxn_2at5\\neqn_condensation_rxn_3at0\\neqn_condensation_rxn_3at1\\neqn_condensation_rxn_3at2\\neqn_condensation_rxn_4at0\\neqn_condensation_rxn_4at1\\neqn_condensation_rxn_4at2\\neqn_condensation_rxn_4at3\\n'),\n",
       " ('emm_simplified.txt',\n",
       "  \"EMM('r1','accoa_c_1_2oac_c_2','cit_c_3_4_5')=1.0;\\nEMM('r1','accoa_c_1_2oac_c_2_3_4','cit_c_1_2_3_4_5')=1.0;\\nEMM('r1','accoa_c_2','cit_c_4')=1.0;\\nEMM('r1','accoa_c_2oac_c_2','cit_c_3_4')=1.0;\\nEMM('r1','accoa_c_2oac_c_2_3','cit_c_2_3_4')=1.0;\\nEMM('r1','cit_c_1_2_3_4_5','accoa_c_1_2oac_c_2_3_4')=-1.0;\\nEMM('r1','cit_c_2_3_4','accoa_c_2oac_c_2_3')=-1.0;\\nEMM('r1','cit_c_3','oac_c_2')=-1.0;\\nEMM('r1','cit_c_3_4','accoa_c_2oac_c_2')=-1.0;\\nEMM('r1','cit_c_3_4_5','accoa_c_1_2oac_c_2')=-1.0;\\nEMM('r1','cit_c_4','accoa_c_2')=-1.0;\\nEMM('r1','oac_c_2','cit_c_3')=1.0;\\nEMM('r2','akg_c_1_2_3_4_5','cit_c_1_2_3_4_5')=-1.0;\\nEMM('r2','akg_c_2_3_4','cit_c_2_3_4')=-1.0;\\nEMM('r2','akg_c_3','cit_c_3')=-1.0;\\nEMM('r2','akg_c_3_4','cit_c_3_4')=-1.0;\\nEMM('r2','akg_c_3_4_5','cit_c_3_4_5')=-1.0;\\nEMM('r2','akg_c_4','cit_c_4')=-1.0;\\nEMM('r2','cit_c_1_2_3_4_5','akg_c_1_2_3_4_5')=1.0;\\nEMM('r2','cit_c_2_3_4','akg_c_2_3_4')=1.0;\\nEMM('r2','cit_c_3','akg_c_3')=1.0;\\nEMM('r2','cit_c_3_4','akg_c_3_4')=1.0;\\nEMM('r2','cit_c_3_4_5','akg_c_3_4_5')=1.0;\\nEMM('r2','cit_c_4','akg_c_4')=1.0;\\nEMM('r3','akg_c_1_2_3_4_5','glu_L_c_1_2_3_4_5')=1.0;\\nEMM('r3','glu_L_c_1_2_3_4_5','akg_c_1_2_3_4_5')=-1.0;\\nEMM('r4','akg_c_2_3_4','suc_c_1_2_3')=0.5;\\nEMM('r4','akg_c_2_3_4','suc_c_2_3_4')=0.5;\\nEMM('r4','akg_c_3','suc_c_2')=0.5;\\nEMM('r4','akg_c_3','suc_c_3')=0.5;\\nEMM('r4','akg_c_3_4','suc_c_2_3')=1.0;\\nEMM('r4','akg_c_3_4_5','suc_c_1_2_3')=0.5;\\nEMM('r4','akg_c_3_4_5','suc_c_2_3_4')=0.5;\\nEMM('r4','akg_c_4','suc_c_2')=0.5;\\nEMM('r4','akg_c_4','suc_c_3')=0.5;\\nEMM('r4','suc_c_1_2_3','akg_c_2_3_4')=-0.5;\\nEMM('r4','suc_c_1_2_3','akg_c_3_4_5')=-0.5;\\nEMM('r4','suc_c_2','akg_c_3')=-0.5;\\nEMM('r4','suc_c_2','akg_c_4')=-0.5;\\nEMM('r4','suc_c_2_3','akg_c_3_4')=-1.0;\\nEMM('r4','suc_c_2_3_4','akg_c_2_3_4')=-0.5;\\nEMM('r4','suc_c_2_3_4','akg_c_3_4_5')=-0.5;\\nEMM('r4','suc_c_3','akg_c_3')=-0.5;\\nEMM('r4','suc_c_3','akg_c_4')=-0.5;\\nEMM('r5','fum_c_1_2_3','suc_c_1_2_3')=-0.5;\\nEMM('r5','fum_c_1_2_3','suc_c_2_3_4')=-0.5;\\nEMM('r5','fum_c_2','suc_c_2')=-0.5;\\nEMM('r5','fum_c_2','suc_c_3')=-0.5;\\nEMM('r5','fum_c_2_3','suc_c_2_3')=-1.0;\\nEMM('r5','fum_c_2_3_4','suc_c_1_2_3')=-0.5;\\nEMM('r5','fum_c_2_3_4','suc_c_2_3_4')=-0.5;\\nEMM('r5','fum_c_3','suc_c_2')=-0.5;\\nEMM('r5','fum_c_3','suc_c_3')=-0.5;\\nEMM('r5','suc_c_1_2_3','fum_c_1_2_3')=0.5;\\nEMM('r5','suc_c_1_2_3','fum_c_2_3_4')=0.5;\\nEMM('r5','suc_c_2','fum_c_2')=0.5;\\nEMM('r5','suc_c_2','fum_c_3')=0.5;\\nEMM('r5','suc_c_2_3','fum_c_2_3')=1.0;\\nEMM('r5','suc_c_2_3_4','fum_c_1_2_3')=0.5;\\nEMM('r5','suc_c_2_3_4','fum_c_2_3_4')=0.5;\\nEMM('r5','suc_c_3','fum_c_2')=0.5;\\nEMM('r5','suc_c_3','fum_c_3')=0.5;\\nEMM('r6','fum_c_1_2_3','oac_c_1_2_3')=0.5;\\nEMM('r6','fum_c_1_2_3','oac_c_2_3_4')=0.5;\\nEMM('r6','fum_c_2','oac_c_2')=0.5;\\nEMM('r6','fum_c_2','oac_c_3')=0.5;\\nEMM('r6','fum_c_2_3','oac_c_2_3')=1.0;\\nEMM('r6','fum_c_2_3_4','oac_c_1_2_3')=0.5;\\nEMM('r6','fum_c_2_3_4','oac_c_2_3_4')=0.5;\\nEMM('r6','fum_c_3','oac_c_2')=0.5;\\nEMM('r6','fum_c_3','oac_c_3')=0.5;\\nEMM('r6','oac_c_1_2_3','fum_c_1_2_3')=-0.5;\\nEMM('r6','oac_c_1_2_3','fum_c_2_3_4')=-0.5;\\nEMM('r6','oac_c_2','fum_c_2')=-0.5;\\nEMM('r6','oac_c_2','fum_c_3')=-0.5;\\nEMM('r6','oac_c_2_3','fum_c_2_3')=-1.0;\\nEMM('r6','oac_c_2_3_4','fum_c_1_2_3')=-0.5;\\nEMM('r6','oac_c_2_3_4','fum_c_2_3_4')=-0.5;\\nEMM('r6','oac_c_3','fum_c_2')=-0.5;\\nEMM('r6','oac_c_3','fum_c_3')=-0.5;\\nEMM('r7','fum_c_1_2_3','oac_c_1_2_3')=-0.5;\\nEMM('r7','fum_c_1_2_3','oac_c_2_3_4')=-0.5;\\nEMM('r7','fum_c_2','oac_c_2')=-0.5;\\nEMM('r7','fum_c_2','oac_c_3')=-0.5;\\nEMM('r7','fum_c_2_3','oac_c_2_3')=-1.0;\\nEMM('r7','fum_c_2_3_4','oac_c_1_2_3')=-0.5;\\nEMM('r7','fum_c_2_3_4','oac_c_2_3_4')=-0.5;\\nEMM('r7','fum_c_3','oac_c_2')=-0.5;\\nEMM('r7','fum_c_3','oac_c_3')=-0.5;\\nEMM('r7','oac_c_1_2_3','fum_c_1_2_3')=0.5;\\nEMM('r7','oac_c_1_2_3','fum_c_2_3_4')=0.5;\\nEMM('r7','oac_c_2','fum_c_2')=0.5;\\nEMM('r7','oac_c_2','fum_c_3')=0.5;\\nEMM('r7','oac_c_2_3','fum_c_2_3')=1.0;\\nEMM('r7','oac_c_2_3_4','fum_c_1_2_3')=0.5;\\nEMM('r7','oac_c_2_3_4','fum_c_2_3_4')=0.5;\\nEMM('r7','oac_c_3','fum_c_2')=0.5;\\nEMM('r7','oac_c_3','fum_c_3')=0.5;\\nEMM('r8','asp_c_1_2_3','oac_c_1_2_3')=1.0;\\nEMM('r8','asp_c_2','oac_c_2')=1.0;\\nEMM('r8','asp_c_2_3','oac_c_2_3')=1.0;\\nEMM('r8','asp_c_2_3_4','oac_c_2_3_4')=1.0;\\nEMM('r8','asp_c_3','oac_c_3')=1.0;\\nEMM('r8','oac_c_1_2_3','asp_c_1_2_3')=-1.0;\\nEMM('r8','oac_c_2','asp_c_2')=-1.0;\\nEMM('r8','oac_c_2_3','asp_c_2_3')=-1.0;\\nEMM('r8','oac_c_2_3_4','asp_c_2_3_4')=-1.0;\\nEMM('r8','oac_c_3','asp_c_3')=-1.0;\\n\")]"
      ]
     },
     "execution_count": 42,
     "metadata": {},
     "output_type": "execute_result"
    }
   ],
   "source": [
    "ReacNet.getEMUfiles()"
   ]
  },
  {
   "cell_type": "markdown",
   "metadata": {},
   "source": [
    "**getAuxiliaryFiles** provides the auxiliary files (random number seed, etc):"
   ]
  },
  {
   "cell_type": "code",
   "execution_count": 43,
   "metadata": {
    "collapsed": false
   },
   "outputs": [
    {
     "data": {
      "text/plain": [
       "[('randseed.txt', 'randseed = 323334316;'),\n",
       " ('labelCompNormMin.txt', 'labelCompNormMin = 0.99;')]"
      ]
     },
     "execution_count": 43,
     "metadata": {},
     "output_type": "execute_result"
    }
   ],
   "source": [
    "ReacNet.getAuxiliaryFiles()"
   ]
  },
  {
   "cell_type": "markdown",
   "metadata": {},
   "source": [
    "## TSReactionNetwork class"
   ]
  },
  {
   "cell_type": "markdown",
   "metadata": {
    "collapsed": true
   },
   "source": [
    "The TSReactionNetwork class holds reaction networks with stochiometric information and carbon transition information for a defined core, which are typically used for 2S-13C MFA:"
   ]
  },
  {
   "cell_type": "code",
   "execution_count": 44,
   "metadata": {
    "collapsed": false
   },
   "outputs": [],
   "source": [
    "datadir           = os.environ[\"QUANTMODELPATH\"]+'/data/tests/Toya2010/2S/wt5h/'\n",
    "\n",
    "BASEfilename      = datadir + 'EciJR904TKs.xml'\n",
    "FLUXESfilename    = datadir + 'FLUXwt5h.txt'\n",
    "REACTIONSfilename = datadir + 'REACTIONSwt5h.txt'      \n",
    "MSfilename        = datadir + 'GCMSwt5h.txt'\n",
    "FEEDfilename      = datadir + 'FEEDwt5h.txt'\n",
    "MSSTDfilename     = datadir + 'GCMSerrwt5h.txt'\n",
    "\n",
    "# Load initial SBML file\n",
    "ReacNet = RN.TSReactionNetwork(BASEfilename)\n",
    "    \n",
    "# Add Measured fluxes\n",
    "ReacNet.loadFluxBounds(FLUXESfilename)\n",
    "# Add carbon transitions\n",
    "ReacNet.addTransitions(REACTIONSfilename)\n",
    "# Add measured labeling information\n",
    "ReacNet.addLabeling(MSfilename,'LCMSLabelData',MSSTDfilename,minSTD=0.001)\n",
    "# Add feed labeling information\n",
    "ReacNet.addFeed(FEEDfilename)"
   ]
  },
  {
   "cell_type": "markdown",
   "metadata": {},
   "source": [
    "**addTransitions** adds the transition information to a genome-scale model:"
   ]
  },
  {
   "cell_type": "code",
   "execution_count": 45,
   "metadata": {
    "collapsed": false
   },
   "outputs": [
    {
     "name": "stdout",
     "output_type": "stream",
     "text": [
      "PDH : coa_c + nad_c + pyr_c --> accoa_c + co2_c + nadh_c\n"
     ]
    }
   ],
   "source": [
    "rxnDict = ReacNet.reactionList.getReactionDictionary()\n",
    "print rxnDict['PDH'].stoichLine()"
   ]
  },
  {
   "cell_type": "code",
   "execution_count": 46,
   "metadata": {
    "collapsed": false
   },
   "outputs": [],
   "source": [
    "REACTIONSfilename = datadir + 'REACTIONSwt5h.txt' \n",
    "ReacNet.addTransitions(REACTIONSfilename)"
   ]
  },
  {
   "cell_type": "code",
   "execution_count": 47,
   "metadata": {
    "collapsed": false
   },
   "outputs": [
    {
     "name": "stdout",
     "output_type": "stream",
     "text": [
      "PDH : coa_c + nad_c + pyr_c --> accoa_c + co2_c + nadh_c\n",
      "PDH\tpyr_c --> co2_c + accoa_c\tabc : a + bc\n"
     ]
    }
   ],
   "source": [
    "rxnDict = ReacNet.reactionList.getReactionDictionary()\n",
    "print rxnDict['PDH'].stoichLine()\n",
    "print rxnDict['PDH'].transitionLine"
   ]
  },
  {
   "cell_type": "markdown",
   "metadata": {},
   "source": [
    "**getFluxRefScale** provides the flux that is used as reference scale :"
   ]
  },
  {
   "cell_type": "code",
   "execution_count": 48,
   "metadata": {
    "collapsed": false
   },
   "outputs": [
    {
     "data": {
      "text/plain": [
       "11.7"
      ]
     },
     "execution_count": 48,
     "metadata": {},
     "output_type": "execute_result"
    }
   ],
   "source": [
    "ReacNet.getFluxRefScale(inFluxRefs=['EX_glc(e)','EX_glc_e_'])"
   ]
  }
 ],
 "metadata": {
  "kernelspec": {
   "display_name": "jbeipython2",
   "language": "python",
   "name": "jbeipython2"
  },
  "language_info": {
   "codemirror_mode": {
    "name": "ipython",
    "version": 2
   },
   "file_extension": ".py",
   "mimetype": "text/x-python",
   "name": "python",
   "nbconvert_exporter": "python",
   "pygments_lexer": "ipython2",
   "version": "2.7.9"
  }
 },
 "nbformat": 4,
 "nbformat_minor": 0
}
