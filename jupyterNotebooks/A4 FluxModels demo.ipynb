{
 "cells": [
  {
   "cell_type": "markdown",
   "metadata": {},
   "source": [
    "# A4: FluxModels demo"
   ]
  },
  {
   "cell_type": "markdown",
   "metadata": {},
   "source": [
    "# Introduction"
   ]
  },
  {
   "cell_type": "markdown",
   "metadata": {},
   "source": [
    "This notebook contains a description of the FluxModels module. This module contains classes for FBA, $^{13}$C MFA, and 2S-$^{13}$C MFA models, as well as for ELVA models. Each of this models has a corresponding results class: FBAResults, FVAResults, C13FVAResults, TSFVAResults, C13Results, TSResults, ELVAResults."
   ]
  },
  {
   "cell_type": "markdown",
   "metadata": {},
   "source": [
    "# Setup"
   ]
  },
  {
   "cell_type": "markdown",
   "metadata": {},
   "source": [
    "First, we need to set the path and environment variable properly:"
   ]
  },
  {
   "cell_type": "code",
   "execution_count": 1,
   "metadata": {
    "collapsed": true
   },
   "outputs": [],
   "source": [
    "quantmodelDir = '/users/hgmartin/libraries/quantmodel'"
   ]
  },
  {
   "cell_type": "markdown",
   "metadata": {},
   "source": [
    "This is the only place where the jQMM library path needs to be set."
   ]
  },
  {
   "cell_type": "code",
   "execution_count": 2,
   "metadata": {
    "collapsed": true
   },
   "outputs": [],
   "source": [
    "%matplotlib inline\n",
    "\n",
    "import sys, os\n",
    "pythonPath = quantmodelDir+\"/code/core\"\n",
    "if pythonPath not in sys.path:\n",
    "    sys.path.append(pythonPath)\n",
    "os.environ[\"QUANTMODELPATH\"] = quantmodelDir"
   ]
  },
  {
   "cell_type": "markdown",
   "metadata": {},
   "source": [
    "Then import the needed classes:"
   ]
  },
  {
   "cell_type": "code",
   "execution_count": 3,
   "metadata": {
    "collapsed": false
   },
   "outputs": [],
   "source": [
    "import FluxModels as FM\n",
    "import enhancedLists, ReactionNetworks"
   ]
  },
  {
   "cell_type": "markdown",
   "metadata": {},
   "source": [
    "And move to a scratch directory (to make things faster):"
   ]
  },
  {
   "cell_type": "code",
   "execution_count": 4,
   "metadata": {
    "collapsed": false
   },
   "outputs": [
    {
     "name": "stdout",
     "output_type": "stream",
     "text": [
      "/scratch/hgmartin_scratch/tests\n"
     ]
    }
   ],
   "source": [
    "cd /scratch/hgmartin_scratch/tests"
   ]
  },
  {
   "cell_type": "markdown",
   "metadata": {},
   "source": [
    "# Classes description"
   ]
  },
  {
   "cell_type": "markdown",
   "metadata": {},
   "source": [
    "FluxModel represents the base class form which all other model classes are derived, but it is never used by itself. We will, hence, skip its description and demonstrate the classes that are actually used for flux calculations"
   ]
  },
  {
   "cell_type": "markdown",
   "metadata": {},
   "source": [
    "## FBAModel, FBAresults and FVAresults"
   ]
  },
  {
   "cell_type": "markdown",
   "metadata": {},
   "source": [
    "These classes are used for Flux Balance Analysis (FBA) and Flux Variability Analysis (FVA) calculations. For example: "
   ]
  },
  {
   "cell_type": "code",
   "execution_count": 5,
   "metadata": {
    "collapsed": false
   },
   "outputs": [],
   "source": [
    "qmodeldir         = os.environ['QUANTMODELPATH']\n",
    "basedir           = qmodeldir+'/data/tests/Toya2010/2S/'\n",
    "testdir           = basedir + '2SpaperTest/'\n",
    "\n",
    "FBAfileName = testdir+'XML/'+'EciJR904wt5hGrowthPartial.xml'    \n",
    "FBAmodel    = FM.FBAModel(FBAfileName)"
   ]
  },
  {
   "cell_type": "markdown",
   "metadata": {},
   "source": [
    "gets us an FBA model, and we can find fluxes by doing:"
   ]
  },
  {
   "cell_type": "code",
   "execution_count": 6,
   "metadata": {
    "collapsed": false
   },
   "outputs": [],
   "source": [
    "FBAresults  = FBAmodel.findFluxes()\n",
    "fluxDictFBA = FBAresults.reactionNetwork.reactionList.getFluxDictionary()"
   ]
  },
  {
   "cell_type": "code",
   "execution_count": 7,
   "metadata": {
    "collapsed": false
   },
   "outputs": [
    {
     "name": "stdout",
     "output_type": "stream",
     "text": [
      "4.8848561646\n"
     ]
    }
   ],
   "source": [
    "print fluxDictFBA['PGI'].net"
   ]
  },
  {
   "cell_type": "markdown",
   "metadata": {},
   "source": [
    "In the same fashion, we can obtain the FVA results by doing:"
   ]
  },
  {
   "cell_type": "code",
   "execution_count": 8,
   "metadata": {
    "collapsed": false
   },
   "outputs": [],
   "source": [
    "FVAresults   = FBAmodel.FVA(['PDH','PGI','MDH'])\n",
    "fluxDictFVA = FVAresults.reactionNetwork.reactionList.getReactionDictionary()"
   ]
  },
  {
   "cell_type": "code",
   "execution_count": 9,
   "metadata": {
    "collapsed": false
   },
   "outputs": [
    {
     "name": "stdout",
     "output_type": "stream",
     "text": [
      "PDH: [0:10.2006036871:18.6327817768]\n",
      "PGI: [-6.98668484257:4.8848561646:11.5384750666]\n",
      "MDH: [-8.28839116417:2.79597922572:29.2100898247]\n"
     ]
    }
   ],
   "source": [
    "for name in ['PDH','PGI','MDH']:\n",
    "    print name+\": \"+str(fluxDictFVA[name].flux.net)"
   ]
  },
  {
   "cell_type": "markdown",
   "metadata": {},
   "source": [
    "One can use the **changeObjective** function to change the objective:"
   ]
  },
  {
   "cell_type": "code",
   "execution_count": 10,
   "metadata": {
    "collapsed": true
   },
   "outputs": [],
   "source": [
    "FBAmodel.changeObjective('BiomassEcoli',0)\n",
    "FBAmodel.changeObjective('PDH',1)"
   ]
  },
  {
   "cell_type": "code",
   "execution_count": 11,
   "metadata": {
    "collapsed": false
   },
   "outputs": [],
   "source": [
    "FBAresults2 = FBAmodel.findFluxes()\n",
    "fluxDictFBA2 = FBAresults2.reactionNetwork.reactionList.getFluxDictionary()"
   ]
  },
  {
   "cell_type": "code",
   "execution_count": 12,
   "metadata": {
    "collapsed": false
   },
   "outputs": [
    {
     "name": "stdout",
     "output_type": "stream",
     "text": [
      "10.2006036871\n",
      "42.5\n"
     ]
    }
   ],
   "source": [
    "print fluxDictFBA['PDH'].net\n",
    "print fluxDictFBA2['PDH'].net"
   ]
  },
  {
   "cell_type": "markdown",
   "metadata": {},
   "source": [
    "and the **printSuccess** method to print if the run was successful:"
   ]
  },
  {
   "cell_type": "code",
   "execution_count": 13,
   "metadata": {
    "collapsed": false
   },
   "outputs": [
    {
     "name": "stdout",
     "output_type": "stream",
     "text": [
      "lp successful\n"
     ]
    }
   ],
   "source": [
    "FBAresults.printSuccess(onlyFail=False)"
   ]
  },
  {
   "cell_type": "markdown",
   "metadata": {},
   "source": [
    "## C13Model, C13Results, C13FVAResults"
   ]
  },
  {
   "cell_type": "markdown",
   "metadata": {},
   "source": [
    "These classes are used for $^{13}$C Metabolic Flux Analysis ($^{13}$C MFA) and $^{13}$C Flux variability Analysis ($^{13}$C FVA). \n",
    "\n",
    "For example, we can load the toy TCA cycle model:"
   ]
  },
  {
   "cell_type": "code",
   "execution_count": 14,
   "metadata": {
    "collapsed": false
   },
   "outputs": [
    {
     "data": {
      "text/plain": [
       "1"
      ]
     },
     "execution_count": 14,
     "metadata": {},
     "output_type": "execute_result"
    }
   ],
   "source": [
    "qmodeldir         = os.environ['QUANTMODELPATH']    \n",
    "dirDATA           = qmodeldir+'/data/tests/TCAtoy/' \n",
    "\n",
    "REACTIONSfilename   = dirDATA+'REACTIONStca.txt' \n",
    "FEEDfilename        = dirDATA+'FEEDtca.txt'\n",
    "CEMSfilename        = dirDATA+'GCMStca.txt'\n",
    "CEMSSTDfilename     = dirDATA+'GCMSerrtca.txt'\n",
    "FLUXESFreefilename  = dirDATA+'FLUXtca.txt'\n",
    "\n",
    "atomTransitions = enhancedLists.AtomTransitionList(REACTIONSfilename)\n",
    "ReacNet = ReactionNetworks.C13ReactionNetwork(atomTransitions.getReactionNetwork('E. coli wt5h 13C MFA'))\n",
    "\n",
    "ReacNet.addLabeling(CEMSfilename,'LCMSLabelData',CEMSSTDfilename,minSTD=0.001)\n",
    "ReacNet.addFeed(FEEDfilename)\n",
    "ReacNet.loadFluxBounds(FLUXESFreefilename)\n",
    "\n",
    "ReacNet.write('TCA.sbml') "
   ]
  },
  {
   "cell_type": "code",
   "execution_count": 15,
   "metadata": {
    "collapsed": false
   },
   "outputs": [],
   "source": [
    "C13model = FM.C13Model('TCA.sbml')"
   ]
  },
  {
   "cell_type": "markdown",
   "metadata": {},
   "source": [
    "And then calculate fluxes and use **findFluxesStds** to calculate fluxes and standard deviations through the monte carlo approach:"
   ]
  },
  {
   "cell_type": "code",
   "execution_count": 16,
   "metadata": {
    "collapsed": false
   },
   "outputs": [
    {
     "name": "stdout",
     "output_type": "stream",
     "text": [
      "CPU times: user 1.18 s, sys: 2.11 s, total: 3.29 s\n",
      "Wall time: 6.83 s\n"
     ]
    }
   ],
   "source": [
    "%%time\n",
    "results    = C13model.findFluxesStds(Nrep=10, procString='proc', erase=True)"
   ]
  },
  {
   "cell_type": "markdown",
   "metadata": {},
   "source": [
    "**plotExpvsCompLabelFragment** and **plotExpvsCompLabelXvsY** provide alternative ways to see the fits: "
   ]
  },
  {
   "cell_type": "code",
   "execution_count": 17,
   "metadata": {
    "collapsed": false
   },
   "outputs": [
    {
     "data": {
      "image/png": "[encoded data removed]",
      "text/plain": [
       "<matplotlib.figure.Figure at 0x7fcbc1d05a50>"
      ]
     },
     "metadata": {},
     "output_type": "display_data"
    }
   ],
   "source": [
    "results.plotExpvsCompLabelFragment(titleFig='test')"
   ]
  },
  {
   "cell_type": "code",
   "execution_count": 18,
   "metadata": {
    "collapsed": false
   },
   "outputs": [
    {
     "data": {
      "image/png": "[encoded data removed]",
      "text/plain": [
       "<matplotlib.figure.Figure at 0x7fcbc1b7bad0>"
      ]
     },
     "metadata": {},
     "output_type": "display_data"
    }
   ],
   "source": [
    "results.plotExpvsCompLabelXvsY(titleFig='test')"
   ]
  },
  {
   "cell_type": "markdown",
   "metadata": {},
   "source": [
    "Results are stored in a reaction network where all ReactionNetworks methods are available:"
   ]
  },
  {
   "cell_type": "code",
   "execution_count": 19,
   "metadata": {
    "collapsed": false
   },
   "outputs": [
    {
     "name": "stdout",
     "output_type": "stream",
     "text": [
      "co2Out: \t150.0\n",
      "r6: \t125.0\n",
      "r1: \t100.0\n",
      "r2: \t100.0\n",
      "r7: \t75.0\n",
      "r4: \t50.0\n",
      "r5: \t50.0\n",
      "r3: \t50.0\n",
      "r8: \t50.0\n"
     ]
    }
   ],
   "source": [
    "results.reactionNetwork.reactionList.printFluxes(brief=\"False\")"
   ]
  },
  {
   "cell_type": "code",
   "execution_count": 20,
   "metadata": {
    "collapsed": false
   },
   "outputs": [
    {
     "data": {
      "text/plain": [
       "array([ 0.34635,  0.26953,  0.27083,  0.08073,  0.02865,  0.00391])"
      ]
     },
     "execution_count": 20,
     "metadata": {},
     "output_type": "execute_result"
    }
   ],
   "source": [
    "results.EMUlabel['Glu']"
   ]
  },
  {
   "cell_type": "code",
   "execution_count": 21,
   "metadata": {
    "collapsed": false
   },
   "outputs": [
    {
     "data": {
      "text/plain": [
       "array([ 0.346,  0.269,  0.27 ,  0.081,  0.028,  0.004])"
      ]
     },
     "execution_count": 21,
     "metadata": {},
     "output_type": "execute_result"
    }
   ],
   "source": [
    "results.fragDict['Glu'].mdv"
   ]
  },
  {
   "cell_type": "markdown",
   "metadata": {},
   "source": [
    "A more detailed demonstration of these classes can be found in notebooks B2 and B3."
   ]
  },
  {
   "cell_type": "markdown",
   "metadata": {},
   "source": [
    "## TwoSC13Model, TSResults, TSFVAResults"
   ]
  },
  {
   "cell_type": "markdown",
   "metadata": {},
   "source": [
    "These are the classes used for two-scale $^{13}$C Metabolic Flux Analysis (2S-$^{13}$C MFA).\n",
    "\n",
    "Here, we offer a quick demonstration using the data from Toya *et al*. 2007. Notebook B4 offers a more complete demonstrating by regenerating all figures from Garcia Martin *et al*. 2015. Let's start by getting the input data from several files and blend them into a single sbml file:\n"
   ]
  },
  {
   "cell_type": "code",
   "execution_count": 22,
   "metadata": {
    "collapsed": false
   },
   "outputs": [],
   "source": [
    "datadir = os.environ['QUANTMODELPATH']+'/data/tests/Toya2010/2S/wt5h/'\n",
    "strain ='wt5h'\n",
    "\n",
    "BASEfilename      = datadir + 'EciJR904TKs.xml'\n",
    "FLUXESfilename    = datadir + 'FLUX'+strain+'.txt'\n",
    "REACTIONSfilename = datadir + 'REACTIONS'+strain+'.txt'      \n",
    "MSfilename        = datadir + 'GCMS'+strain+'.txt'\n",
    "FEEDfilename      = datadir + 'FEED'+strain+'.txt'\n",
    "MSSTDfilename     = datadir + 'GCMSerr'+strain+'.txt'"
   ]
  },
  {
   "cell_type": "code",
   "execution_count": 23,
   "metadata": {
    "collapsed": false
   },
   "outputs": [],
   "source": [
    "# Load initial SBML file\n",
    "reacNet = ReactionNetworks.TSReactionNetwork(BASEfilename)\n",
    "    \n",
    "# Add Measured fluxes\n",
    "reacNet.loadFluxBounds(FLUXESfilename)\n",
    "# Add carbon transitions\n",
    "reacNet.addTransitions(REACTIONSfilename)\n",
    "# Add measured labeling information\n",
    "reacNet.addLabeling(MSfilename,'LCMSLabelData',MSSTDfilename,minSTD=0.001)\n",
    "# Add feed labeling information\n",
    "reacNet.addFeed(FEEDfilename)\n",
    " \n",
    "\n",
    "# Limit fluxes to 500       \n",
    "reacNet.capFluxBounds(500)\n",
    "\n",
    "# Creates sbml file to create the model. All files in the library can be represented by a file name or\n",
    "#a tuple of the type: (fileName, string of contents)\n",
    "SBMLfile = ('EciJR904TKs'+strain+'TS.xml',reacNet.write('toString'))\n",
    "\n",
    "TSmodel  = FM.TwoSC13Model(('EciJR904TKs'+strain+'TS.xml',reacNet.write('toString'))) "
   ]
  },
  {
   "cell_type": "markdown",
   "metadata": {},
   "source": [
    "and then use the file to create the two-scale model:"
   ]
  },
  {
   "cell_type": "code",
   "execution_count": 24,
   "metadata": {
    "collapsed": false
   },
   "outputs": [],
   "source": [
    "TSmodel  = FM.TwoSC13Model(('EciJR904TKs'+strain+'TS.xml',reacNet.write('toString'))) "
   ]
  },
  {
   "cell_type": "markdown",
   "metadata": {},
   "source": [
    "We can then use the **findFluxesRanges** method to fit fluxes and find the ranges compatible with labeling data:"
   ]
  },
  {
   "cell_type": "code",
   "execution_count": 25,
   "metadata": {
    "collapsed": false
   },
   "outputs": [],
   "source": [
    "fluxNames = TSmodel.reactionNetwork.C13ReacNet.reactionList.getReactionNameList(level=1)\n",
    "TSresult = TSmodel.findFluxesRanges(Nrep=30,fluxNames=fluxNames,procString='proc') "
   ]
  },
  {
   "cell_type": "markdown",
   "metadata": {},
   "source": [
    "And see the fits with the **plotExpvsCompLabelFragment** method:"
   ]
  },
  {
   "cell_type": "code",
   "execution_count": 26,
   "metadata": {
    "collapsed": false
   },
   "outputs": [
    {
     "name": "stdout",
     "output_type": "stream",
     "text": [
      "CPU times: user 824 ms, sys: 12 ms, total: 836 ms\n",
      "Wall time: 829 ms\n"
     ]
    },
    {
     "data": {
      "image/png": "[encoded data removed]",
      "text/plain": [
       "<matplotlib.figure.Figure at 0x7fcbc12c8610>"
      ]
     },
     "metadata": {},
     "output_type": "display_data"
    }
   ],
   "source": [
    "%%time\n",
    "TSresult.plotExpvsCompLabelFragment(titleFig='wt5h')"
   ]
  }
 ],
 "metadata": {
  "kernelspec": {
   "display_name": "jbeipython2",
   "language": "python",
   "name": "jbeipython2"
  },
  "language_info": {
   "codemirror_mode": {
    "name": "ipython",
    "version": 2
   },
   "file_extension": ".py",
   "mimetype": "text/x-python",
   "name": "python",
   "nbconvert_exporter": "python",
   "pygments_lexer": "ipython2",
   "version": "2.7.9"
  }
 },
 "nbformat": 4,
 "nbformat_minor": 0
}
