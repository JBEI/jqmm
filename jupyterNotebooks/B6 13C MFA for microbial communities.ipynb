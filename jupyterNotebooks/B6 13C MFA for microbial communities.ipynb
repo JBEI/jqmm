{
 "cells": [
  {
   "cell_type": "markdown",
   "metadata": {},
   "source": [
    "# B6: $^{13}$C MFA for microbial communities"
   ]
  },
  {
   "cell_type": "markdown",
   "metadata": {},
   "source": [
    "# Introduction"
   ]
  },
  {
   "cell_type": "markdown",
   "metadata": {},
   "source": [
    "This notebook reproduces the results obtained by an excel notebook provided by Paul Djkistra (personal communication) and used to obtain the fits to $CO_2$ labeling and the  Carbon Use Efficiency (CUE) results in Hagerty *et al* 2014. The mathematical framework is explained in Djikstra *et al* 2011."
   ]
  },
  {
   "cell_type": "markdown",
   "metadata": {},
   "source": [
    "# Setup"
   ]
  },
  {
   "cell_type": "markdown",
   "metadata": {},
   "source": [
    "First, we need to set the path and environment variable properly:"
   ]
  },
  {
   "cell_type": "code",
   "execution_count": 1,
   "metadata": {
    "collapsed": true
   },
   "outputs": [],
   "source": [
    "quantmodelDir = '/users/hgmartin/libraries/quantmodel'"
   ]
  },
  {
   "cell_type": "markdown",
   "metadata": {},
   "source": [
    "This is the only place where the jQMM library path needs to be set."
   ]
  },
  {
   "cell_type": "code",
   "execution_count": 2,
   "metadata": {
    "collapsed": true
   },
   "outputs": [],
   "source": [
    "%matplotlib inline\n",
    "\n",
    "import sys, os\n",
    "pythonPath = quantmodelDir+\"/code/core\"\n",
    "if pythonPath not in sys.path:\n",
    "    sys.path.append(pythonPath)\n",
    "os.environ[\"QUANTMODELPATH\"] = quantmodelDir\n",
    "\n",
    "dirFiles = os.environ[\"QUANTMODELPATH\"]+'/data/tests/Hagerty2014/'"
   ]
  },
  {
   "cell_type": "markdown",
   "metadata": {},
   "source": [
    "Then, let's load all needed python packages:"
   ]
  },
  {
   "cell_type": "code",
   "execution_count": 3,
   "metadata": {
    "collapsed": true
   },
   "outputs": [],
   "source": [
    "%matplotlib inline\n",
    "import unittest, os, sys\n",
    "from IPython.display import SVG\n",
    "import ToyaData as TD\n",
    "import shelve\n",
    "import enhancedLists, GAMSclasses, FluxModels"
   ]
  },
  {
   "cell_type": "markdown",
   "metadata": {},
   "source": [
    "And move to a scratch directory (to make things faster):"
   ]
  },
  {
   "cell_type": "code",
   "execution_count": 4,
   "metadata": {
    "collapsed": false
   },
   "outputs": [
    {
     "name": "stdout",
     "output_type": "stream",
     "text": [
      "/scratch/hgmartin_scratch/tests\n"
     ]
    }
   ],
   "source": [
    "cd /scratch/hgmartin_scratch/tests"
   ]
  },
  {
   "cell_type": "markdown",
   "metadata": {},
   "source": [
    "# General functions for input file generation"
   ]
  },
  {
   "cell_type": "markdown",
   "metadata": {},
   "source": [
    "In this section, we define the functions needed to create the input files for the library.\n",
    "\n",
    "This first function creates input files for solving the Djikstra problem, which is not a standard $^{13}$C MFA problem:"
   ]
  },
  {
   "cell_type": "code",
   "execution_count": 5,
   "metadata": {
    "collapsed": true
   },
   "outputs": [],
   "source": [
    "def DijkstraInputFiles2(transitionsFile1,transitionsFile2,feedAFile,feedBFile,feedCFile,feedDFile,fluxLimitsFile,ratios):\n",
    "    # Load carbon transitions \n",
    "    atomTransitionsA = enhancedLists.AtomTransitionList(transitionsFile1)\n",
    "    atomTransitionsB = enhancedLists.AtomTransitionList(transitionsFile1)\n",
    "    atomTransitionsC = enhancedLists.AtomTransitionList(transitionsFile2)\n",
    "    atomTransitionsD = enhancedLists.AtomTransitionList(transitionsFile2)\n",
    "    \n",
    "    # Add both feeds\n",
    "    ReacNetA = ReactionNetworks.C13ReactionNetwork(atomTransitionsA.getReactionNetwork('E. coli wt5h 13C MFA'))\n",
    "    ReacNetA.addFeed(feedAFile)\n",
    "    ReacNetA.loadFluxBounds(fluxLimitsFile,measured=True)\n",
    "    ReacNetB = ReactionNetworks.C13ReactionNetwork(atomTransitionsB.getReactionNetwork('E. coli wt5h 13C MFA'))\n",
    "    ReacNetB.addFeed(feedBFile)\n",
    "    ReacNetC = ReactionNetworks.C13ReactionNetwork(atomTransitionsC.getReactionNetwork('E. coli wt5h 13C MFA'))\n",
    "    ReacNetC.addFeed(feedCFile)\n",
    "    ReacNetD = ReactionNetworks.C13ReactionNetwork(atomTransitionsD.getReactionNetwork('E. coli wt5h 13C MFA'))\n",
    "    ReacNetD.addFeed(feedDFile)\n",
    "    \n",
    "    # Obtain input files from first feed\n",
    "    inputFiles = []\n",
    "    filesA = ReacNetA.getEMUfiles()\n",
    "    filesA.extend(ReacNetA.getStoichMetRxn13CFiles())\n",
    "    filesA.extend(ReacNetA.getSourceLabelFile())\n",
    "    \n",
    "    # Obtain source labeling file for second feed (all others are the same)\n",
    "    filesB = ReacNetB.getSourceLabelFile()\n",
    "    \n",
    "    # Obtain source labeling file for third and fourth feed\n",
    "    filesC = ReacNetC.getSourceLabelFile()\n",
    "    filesD = ReacNetD.getSourceLabelFile()\n",
    "    \n",
    "    # Obtain second emm file and change to EMM2\n",
    "    emm2files = ReacNetC.getEMUfiles()\n",
    "    for name,string in emm2files:\n",
    "        if 'emm_simplified' in name:\n",
    "            name   = name.replace(\"emm_simplified\",\"emm_simplified2\")\n",
    "            string = string.replace(\"EMM\",\"EMM2\")\n",
    "            inputFiles.append((name,string))\n",
    "            \n",
    "    # Obtain second set of metabolites\n",
    "    stoich2files = ReacNetC.getStoichMetRxn13CFiles()\n",
    "    for name,string in stoich2files:\n",
    "        if 'StoichNetwork' in name:\n",
    "            name = name.replace('StoichNetwork','StoichNetwork2')\n",
    "            string = string.replace(\"S(\",\"S2(\")\n",
    "            inputFiles.append((name,string))\n",
    "\n",
    "    # Change source labeling file for first feed \n",
    "    for name,string in filesA:\n",
    "        if 'Source_Labeling' not in name:\n",
    "            inputFiles.append((name,string))\n",
    "        else:\n",
    "            newName = 'Source_LabelingA.txt'\n",
    "            string = string.replace(\"f.fx\",\"fA.fx\")\n",
    "            inputFiles.append((newName,string))\n",
    "    \n",
    "    # Change source labeling file for others feed\n",
    "    \n",
    "    for fileList, tag in zip([filesB,filesC,filesD],['B','C','D']):\n",
    "        for name,string in fileList:\n",
    "            if 'Source_Labeling' in name:\n",
    "                newName = \"Source_Labeling\"+str(tag)+\".txt\"\n",
    "                string = string.replace(\"f.fx\",\"f\"+str(tag)+\".fx\")\n",
    "                inputFiles.append((newName,string))\n",
    "    \n",
    "    # Extra files that are needed \n",
    "    twelveset = ['0','1','2','3','4','5','6','7','8','9','10','11','12']\n",
    "    mset      =  GAMSclasses.GAMSSet('mset',set(twelveset))\n",
    "    nset      =  GAMSclasses.GAMSSet('nset',set(twelveset))\n",
    "\n",
    "    msetfilename = 'mset.txt'\n",
    "    msetSt = mset.write('toString')\n",
    "    nsetfilename = 'nset.txt'\n",
    "    nsetSt = nset.write('toString')\n",
    "\n",
    "    inputFiles.append((msetfilename,msetSt))\n",
    "    inputFiles.append((nsetfilename,nsetSt))\n",
    "    \n",
    "    # Add glucose and pyruvate ratios\n",
    "    ratioFile = 'ratios.txt'\n",
    "    lines = []\n",
    "    ratioGlc = ratios[0]\n",
    "    ratioPyr = ratios[1]\n",
    "    \n",
    "    lines.append('ratioGlu = '+str(ratioGlc)+';')\n",
    "    lines.append('ratioPyr = '+str(ratioPyr)+';')        \n",
    "    \n",
    "    inputFiles.append((ratioFile,'\\n'.join(lines)))\n",
    "    \n",
    "    return inputFiles"
   ]
  },
  {
   "cell_type": "markdown",
   "metadata": {},
   "source": [
    "This function is used to automatically create flux bounds files:"
   ]
  },
  {
   "cell_type": "code",
   "execution_count": 6,
   "metadata": {
    "collapsed": true
   },
   "outputs": [],
   "source": [
    "def createFluxBoundsFile(r10s,r14s):\n",
    "    boundsFile = open('fluxBounds.txt','w')\n",
    "    boundsFile.write('r10:\t'+str(r10s[0])+' [==] '+str(r10s[1])+'\\n')\n",
    "    boundsFile.write('r14:\t'+str(r14s[0])+' [==] '+str(r14s[1])+'\\n')\n",
    "    boundsFile.close()"
   ]
  },
  {
   "cell_type": "markdown",
   "metadata": {},
   "source": [
    "This function finds the CUE (Carbon Use Efficieny) as per equation 12 in Dijkstra *et al* Soil Biology and Biochemistry 2011:"
   ]
  },
  {
   "cell_type": "code",
   "execution_count": 7,
   "metadata": {
    "collapsed": true
   },
   "outputs": [],
   "source": [
    "def findCUE(resultsDict):\n",
    "    CUEfluxes = [5,7,8,10]\n",
    "    co2Flux = 0\n",
    "    for key in sorted(resultsDict['Vout'].elements.keys(),key=lambda rname: int(rname[0].replace('r','')) ):\n",
    "        name = key[0]\n",
    "        fluxNumber = int(name.replace('r',''))\n",
    "        if fluxNumber in CUEfluxes:\n",
    "            co2Flux += resultsDict['Vout'].elements[key]\n",
    "            \n",
    "    CUE = (600 - co2Flux)/600\n",
    "    \n",
    "    return CUE"
   ]
  },
  {
   "cell_type": "markdown",
   "metadata": {},
   "source": [
    "This function takes the labeling ratios and does the full calculation to provide the CUE: "
   ]
  },
  {
   "cell_type": "code",
   "execution_count": 8,
   "metadata": {
    "collapsed": true
   },
   "outputs": [],
   "source": [
    "def ratio2CUE(ratios):\n",
    "    # Get input Files\n",
    "    createFluxBoundsFile([0,100],[0,100])\n",
    "    inputFiles = DijkstraInputFiles2(dirFiles+'REACTIONSDijkstraGlu.txt',dirFiles+'REACTIONSDijkstraPyr.txt',\n",
    "                                     dirFiles+'FEEDgluA.txt',dirFiles+'FEEDgluB.txt',\n",
    "                                     dirFiles+'FEEDpyrA.txt',dirFiles+'FEEDpyrB.txt',dirFiles+'fluxBounds.txt',\n",
    "                                     ratios)    \n",
    "    \n",
    "    # Create GAMS problem\n",
    "    GAMSfileName = dirFiles+'Hagerty.gms'   # The gams files contains all the problem formulation as\n",
    "                                            # per Dijkstra et al 2011\n",
    "    outputFuncs = { 'fAout':(GAMSclasses.GAMSParameterFromResult,['fAout.txt','fAout']),\n",
    "                    'fBout':(GAMSclasses.GAMSParameterFromResult,['fBout.txt','fBout']),\n",
    "                    'fCout':(GAMSclasses.GAMSParameterFromResult,['fCout.txt','fBout']),\n",
    "                    'fDout':(GAMSclasses.GAMSParameterFromResult,['fDout.txt','fBout']),                \n",
    "                    'Vout' :(FluxModels.fluxParOut,['Vout.txt','Vout']),\n",
    "                    'Info' :(FluxModels.infoOut,['OFGenInfo.txt']),                \n",
    "                        }\n",
    "    GAMSInputFiles = inputFiles\n",
    "\n",
    "    GAMSprob       = GAMSclasses.GAMSProblem('Djkistra',GAMSfileName,GAMSInputFiles,outputFuncs,execType='serial')  \n",
    "    GAMSprob.erase = True\n",
    "    \n",
    "    # Solve GAMS problem\n",
    "    with GAMSprob as prob:\n",
    "        # Run problem\n",
    "        prob.run()\n",
    "\n",
    "        # Check if it is done\n",
    "        prob.waitTilDone()\n",
    "\n",
    "        # Collect data\n",
    "        prob.collect()\n",
    "        \n",
    "        # Output data \n",
    "        resultsDict = prob.Results \n",
    "        \n",
    "    # Find CUE and rest of output\n",
    "    CUE = findCUE(resultsDict)\n",
    "    \n",
    "    fitRatioGlu = resultsDict['fAout'].elements[('co2_c_1', '1')]/resultsDict['fBout'].elements[('co2_c_1', '1')]\n",
    "    fitRatioPyr = resultsDict['fCout'].elements[('co2_c_1', '1')]/resultsDict['fDout'].elements[('co2_c_1', '1')]\n",
    "    OF = resultsDict['Info'].OF\n",
    "    solve = resultsDict['Info'].solvestat\n",
    "    model = resultsDict['Info'].modelstat\n",
    "    \n",
    "    return CUE, [fitRatioGlu,fitRatioPyr], [OF, solve, model]"
   ]
  },
  {
   "cell_type": "markdown",
   "metadata": {},
   "source": [
    "# Application to Hagerty *et al* 2014 data"
   ]
  },
  {
   "cell_type": "markdown",
   "metadata": {},
   "source": [
    "## Create input files"
   ]
  },
  {
   "cell_type": "markdown",
   "metadata": {},
   "source": [
    "Creating input files:"
   ]
  },
  {
   "cell_type": "code",
   "execution_count": 9,
   "metadata": {
    "collapsed": false
   },
   "outputs": [],
   "source": [
    "createFluxBoundsFile([0,100],[0,100])\n",
    "ratios = [2.48,2.00]\n",
    "\n",
    "inputFiles = DijkstraInputFiles2(dirFiles+'REACTIONSDijkstraGlu.txt',dirFiles+'REACTIONSDijkstraPyr.txt',\n",
    "                                 dirFiles+'FEEDgluA.txt',dirFiles+'FEEDgluB.txt',\n",
    "                                 dirFiles+'FEEDpyrA.txt',dirFiles+'FEEDpyrB.txt',dirFiles+'fluxBounds.txt',\n",
    "                                 ratios)"
   ]
  },
  {
   "cell_type": "markdown",
   "metadata": {},
   "source": [
    "## Create GAMS problem"
   ]
  },
  {
   "cell_type": "markdown",
   "metadata": {},
   "source": [
    "Producing optimization problem in GAMS mode:"
   ]
  },
  {
   "cell_type": "code",
   "execution_count": 10,
   "metadata": {
    "collapsed": false
   },
   "outputs": [],
   "source": [
    "GAMSfileName = dirFiles+'Hagerty.gms'\n",
    "outputFuncs = { 'fAout':(GAMSclasses.GAMSParameterFromResult,['fAout.txt','fAout']),\n",
    "                'fBout':(GAMSclasses.GAMSParameterFromResult,['fBout.txt','fBout']),\n",
    "                'fCout':(GAMSclasses.GAMSParameterFromResult,['fCout.txt','fBout']),\n",
    "                'fDout':(GAMSclasses.GAMSParameterFromResult,['fDout.txt','fBout']),                \n",
    "                'Vout' :(FluxModels.fluxParOut,['Vout.txt','Vout']),\n",
    "                'Info' :(FluxModels.infoOut,['OFGenInfo.txt']),                \n",
    "                        }\n",
    "GAMSInputFiles = inputFiles"
   ]
  },
  {
   "cell_type": "code",
   "execution_count": 11,
   "metadata": {
    "collapsed": false
   },
   "outputs": [],
   "source": [
    "GAMSprob       = GAMSclasses.GAMSProblem('Djkistra',GAMSfileName,GAMSInputFiles,outputFuncs,execType='serial')  \n",
    "GAMSprob.erase = False"
   ]
  },
  {
   "cell_type": "markdown",
   "metadata": {},
   "source": [
    "## Solve GAMS problem"
   ]
  },
  {
   "cell_type": "code",
   "execution_count": 12,
   "metadata": {
    "collapsed": false
   },
   "outputs": [],
   "source": [
    "with GAMSprob as prob:\n",
    "    # Run problem\n",
    "    prob.run()\n",
    "\n",
    "    # Check if it is done\n",
    "    prob.waitTilDone()\n",
    "\n",
    "    # Collect data\n",
    "    prob.collect()\n",
    "        \n",
    "    # Output data \n",
    "    resultsDict = prob.Results "
   ]
  },
  {
   "cell_type": "code",
   "execution_count": 13,
   "metadata": {
    "collapsed": false
   },
   "outputs": [
    {
     "data": {
      "text/plain": [
       "'/scratch/hgmartin_scratch/tests'"
      ]
     },
     "execution_count": 13,
     "metadata": {},
     "output_type": "execute_result"
    }
   ],
   "source": [
    "os.getcwd()"
   ]
  },
  {
   "cell_type": "markdown",
   "metadata": {},
   "source": [
    "## Print results"
   ]
  },
  {
   "cell_type": "markdown",
   "metadata": {},
   "source": [
    "Printing ratio for $co_2$ labeling for conditions A (fully labeled glucose) and B (glucose labeled in first carbon):"
   ]
  },
  {
   "cell_type": "code",
   "execution_count": 14,
   "metadata": {
    "collapsed": false
   },
   "outputs": [
    {
     "name": "stdout",
     "output_type": "stream",
     "text": [
      "2.47997420827\n"
     ]
    }
   ],
   "source": [
    "print resultsDict['fAout'].elements[('co2_c_1', '1')]/resultsDict['fBout'].elements[('co2_c_1', '1')]"
   ]
  },
  {
   "cell_type": "markdown",
   "metadata": {},
   "source": [
    "This matches quite well the input ratio of 2.48 contained in the excel sheet provided by Prof. Djkistra. "
   ]
  },
  {
   "cell_type": "markdown",
   "metadata": {},
   "source": [
    "Printing ratio for $co_2$ labeling for conditions C (pyruvate labeled in first carbon) and D (pyruvate labeled in second and third carbons):"
   ]
  },
  {
   "cell_type": "code",
   "execution_count": 15,
   "metadata": {
    "collapsed": false
   },
   "outputs": [
    {
     "name": "stdout",
     "output_type": "stream",
     "text": [
      "2.0000300003\n"
     ]
    }
   ],
   "source": [
    "print resultsDict['fCout'].elements[('co2_c_1', '1')]/resultsDict['fDout'].elements[('co2_c_1', '1')]"
   ]
  },
  {
   "cell_type": "markdown",
   "metadata": {},
   "source": [
    "Again matching very well the ratio of 2.00 in the excel sheet solution."
   ]
  },
  {
   "cell_type": "markdown",
   "metadata": {},
   "source": [
    "Values of the objective function (0.0 for perfect fit) and the status of solver (should be 1) and model (should be 2): "
   ]
  },
  {
   "cell_type": "code",
   "execution_count": 16,
   "metadata": {
    "collapsed": false
   },
   "outputs": [
    {
     "name": "stdout",
     "output_type": "stream",
     "text": [
      "0.0\n",
      "1.0\n",
      "2.0\n"
     ]
    }
   ],
   "source": [
    "print resultsDict['Info'].OF\n",
    "print resultsDict['Info'].solvestat\n",
    "print resultsDict['Info'].modelstat"
   ]
  },
  {
   "cell_type": "markdown",
   "metadata": {},
   "source": [
    "The 0.0 value of the objective function is expected given the good fits to the $co_2$ labeling."
   ]
  },
  {
   "cell_type": "markdown",
   "metadata": {},
   "source": [
    "Printing all fluxes for optimal solution:"
   ]
  },
  {
   "cell_type": "code",
   "execution_count": 17,
   "metadata": {
    "collapsed": false
   },
   "outputs": [
    {
     "name": "stdout",
     "output_type": "stream",
     "text": [
      "r1: 100.0\n",
      "r2: 2.85199235331\n",
      "r3: 117.269473384\n",
      "r4: 125.710845553\n",
      "r5: 74.5108455533\n",
      "r6: 46.4108455533\n",
      "r7: 46.4108455533\n",
      "r8: 35.7108455533\n",
      "r9: 26.5\n",
      "r10: 95.124116508\n",
      "r11: 84.724116508\n",
      "r12: 56.4827443387\n",
      "r13: 28.2413721693\n",
      "r14: 2.02389113871\n",
      "r15: 0.7\n",
      "r16: 19.8\n",
      "r17: 24.7\n",
      "r18: 28.1\n",
      "r19: 10.7\n",
      "r20: 15.8\n",
      "r21: 10.4\n"
     ]
    }
   ],
   "source": [
    "for key in sorted(resultsDict['Vout'].elements.keys(),key=lambda rname: int(rname[0].replace('r','')) ):\n",
    "    name = key[0]\n",
    "    print name+': '+ str(resultsDict['Vout'].elements[key])"
   ]
  },
  {
   "cell_type": "markdown",
   "metadata": {},
   "source": [
    "This values are quite close to the fluxes in the excel sheet. There are small differences probably because of the difference in the solver."
   ]
  },
  {
   "cell_type": "markdown",
   "metadata": {},
   "source": [
    "Using findCUE function to get CUE automatically from the results:"
   ]
  },
  {
   "cell_type": "code",
   "execution_count": 18,
   "metadata": {
    "collapsed": false
   },
   "outputs": [
    {
     "name": "stdout",
     "output_type": "stream",
     "text": [
      "0.580405578054\n"
     ]
    }
   ],
   "source": [
    "print findCUE(resultsDict)"
   ]
  },
  {
   "cell_type": "markdown",
   "metadata": {},
   "source": [
    "Again, very close to the value of 0.61 reported in the excel sheet. The difference is due to a few differences in the fluxes probably due to the different solvers used in the excel sheet and GAMS."
   ]
  },
  {
   "cell_type": "markdown",
   "metadata": {},
   "source": [
    "# References"
   ]
  },
  {
   "cell_type": "markdown",
   "metadata": {},
   "source": [
    "Hagerty, Shannon B., et al. \"Accelerated microbial turnover but constant growth efficiency with warming in soil.\" Nature Climate Change 4.10 (2014): 903-906."
   ]
  },
  {
   "cell_type": "markdown",
   "metadata": {},
   "source": [
    "Dijkstra, Paul, et al. \"Modeling soil metabolic processes using isotopologue pairs of position-specific 13 C-labeled glucose and pyruvate.\" Soil Biology and Biochemistry 43.9 (2011): 1848-1857."
   ]
  }
 ],
 "metadata": {
  "kernelspec": {
   "display_name": "jbeipython2",
   "language": "python",
   "name": "jbeipython2"
  },
  "language_info": {
   "codemirror_mode": {
    "name": "ipython",
    "version": 2
   },
   "file_extension": ".py",
   "mimetype": "text/x-python",
   "name": "python",
   "nbconvert_exporter": "python",
   "pygments_lexer": "ipython2",
   "version": "2.7.9"
  }
 },
 "nbformat": 4,
 "nbformat_minor": 0
}
